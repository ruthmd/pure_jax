{
 "cells": [
  {
   "cell_type": "code",
   "execution_count": 1,
   "id": "d4abee46-3f0a-40eb-8f10-7b06fd46a151",
   "metadata": {},
   "outputs": [
    {
     "name": "stdout",
     "output_type": "stream",
     "text": [
      "Looking in links: https://storage.googleapis.com/jax-releases/jax_cuda_releases.html\n",
      "Collecting jax[cuda12]\n",
      "  Using cached jax-0.6.0-py3-none-any.whl.metadata (22 kB)\n",
      "Collecting jaxlib<=0.6.0,>=0.6.0 (from jax[cuda12])\n",
      "  Using cached jaxlib-0.6.0-cp311-cp311-manylinux2014_x86_64.whl.metadata (1.2 kB)\n",
      "Collecting ml_dtypes>=0.5.0 (from jax[cuda12])\n",
      "  Using cached ml_dtypes-0.5.1-cp311-cp311-manylinux_2_17_x86_64.manylinux2014_x86_64.whl.metadata (21 kB)\n",
      "Requirement already satisfied: numpy>=1.25 in /opt/conda/lib/python3.11/site-packages (from jax[cuda12]) (1.26.4)\n",
      "Requirement already satisfied: opt_einsum in /opt/conda/lib/python3.11/site-packages (from jax[cuda12]) (3.3.0)\n",
      "Requirement already satisfied: scipy>=1.11.1 in /opt/conda/lib/python3.11/site-packages (from jax[cuda12]) (1.14.1)\n",
      "Collecting jax-cuda12-plugin<=0.6.0,>=0.6.0 (from jax-cuda12-plugin[with-cuda]<=0.6.0,>=0.6.0; extra == \"cuda12\"->jax[cuda12])\n",
      "  Using cached jax_cuda12_plugin-0.6.0-cp311-cp311-manylinux2014_x86_64.whl.metadata (1.4 kB)\n",
      "Collecting jax-cuda12-pjrt==0.6.0 (from jax-cuda12-plugin<=0.6.0,>=0.6.0->jax-cuda12-plugin[with-cuda]<=0.6.0,>=0.6.0; extra == \"cuda12\"->jax[cuda12])\n",
      "  Using cached jax_cuda12_pjrt-0.6.0-py3-none-manylinux2014_x86_64.whl.metadata (492 bytes)\n",
      "Requirement already satisfied: nvidia-cublas-cu12>=12.1.3.1 in /opt/conda/lib/python3.11/site-packages (from jax-cuda12-plugin[with-cuda]<=0.6.0,>=0.6.0; extra == \"cuda12\"->jax[cuda12]) (12.1.3.1)\n",
      "Requirement already satisfied: nvidia-cuda-cupti-cu12>=12.1.105 in /opt/conda/lib/python3.11/site-packages (from jax-cuda12-plugin[with-cuda]<=0.6.0,>=0.6.0; extra == \"cuda12\"->jax[cuda12]) (12.1.105)\n",
      "Collecting nvidia-cuda-nvcc-cu12>=12.6.85 (from jax-cuda12-plugin[with-cuda]<=0.6.0,>=0.6.0; extra == \"cuda12\"->jax[cuda12])\n",
      "  Using cached nvidia_cuda_nvcc_cu12-12.8.93-py3-none-manylinux2010_x86_64.manylinux_2_12_x86_64.whl.metadata (1.7 kB)\n",
      "Requirement already satisfied: nvidia-cuda-runtime-cu12>=12.1.105 in /opt/conda/lib/python3.11/site-packages (from jax-cuda12-plugin[with-cuda]<=0.6.0,>=0.6.0; extra == \"cuda12\"->jax[cuda12]) (12.1.105)\n",
      "Collecting nvidia-cudnn-cu12<10.0,>=9.8 (from jax-cuda12-plugin[with-cuda]<=0.6.0,>=0.6.0; extra == \"cuda12\"->jax[cuda12])\n",
      "  Using cached nvidia_cudnn_cu12-9.8.0.87-py3-none-manylinux_2_27_x86_64.whl.metadata (1.8 kB)\n",
      "Requirement already satisfied: nvidia-cufft-cu12>=11.0.2.54 in /opt/conda/lib/python3.11/site-packages (from jax-cuda12-plugin[with-cuda]<=0.6.0,>=0.6.0; extra == \"cuda12\"->jax[cuda12]) (11.0.2.54)\n",
      "Requirement already satisfied: nvidia-cusolver-cu12>=11.4.5.107 in /opt/conda/lib/python3.11/site-packages (from jax-cuda12-plugin[with-cuda]<=0.6.0,>=0.6.0; extra == \"cuda12\"->jax[cuda12]) (11.4.5.107)\n",
      "Requirement already satisfied: nvidia-cusparse-cu12>=12.1.0.106 in /opt/conda/lib/python3.11/site-packages (from jax-cuda12-plugin[with-cuda]<=0.6.0,>=0.6.0; extra == \"cuda12\"->jax[cuda12]) (12.1.0.106)\n",
      "Requirement already satisfied: nvidia-nccl-cu12>=2.18.1 in /opt/conda/lib/python3.11/site-packages (from jax-cuda12-plugin[with-cuda]<=0.6.0,>=0.6.0; extra == \"cuda12\"->jax[cuda12]) (2.20.5)\n",
      "Requirement already satisfied: nvidia-nvjitlink-cu12>=12.1.105 in /opt/conda/lib/python3.11/site-packages (from jax-cuda12-plugin[with-cuda]<=0.6.0,>=0.6.0; extra == \"cuda12\"->jax[cuda12]) (12.6.68)\n",
      "Using cached jax_cuda12_plugin-0.6.0-cp311-cp311-manylinux2014_x86_64.whl (15.8 MB)\n",
      "Using cached jax_cuda12_pjrt-0.6.0-py3-none-manylinux2014_x86_64.whl (123.4 MB)\n",
      "Using cached jaxlib-0.6.0-cp311-cp311-manylinux2014_x86_64.whl (87.8 MB)\n",
      "Using cached ml_dtypes-0.5.1-cp311-cp311-manylinux_2_17_x86_64.manylinux2014_x86_64.whl (4.7 MB)\n",
      "Using cached jax-0.6.0-py3-none-any.whl (2.3 MB)\n",
      "Using cached nvidia_cuda_nvcc_cu12-12.8.93-py3-none-manylinux2010_x86_64.manylinux_2_12_x86_64.whl (40.1 MB)\n",
      "Using cached nvidia_cudnn_cu12-9.8.0.87-py3-none-manylinux_2_27_x86_64.whl (698.0 MB)\n",
      "Installing collected packages: jax-cuda12-pjrt, nvidia-cudnn-cu12, nvidia-cuda-nvcc-cu12, ml_dtypes, jax-cuda12-plugin, jaxlib, jax\n",
      "  Attempting uninstall: nvidia-cudnn-cu12\n",
      "    Found existing installation: nvidia-cudnn-cu12 9.1.0.70\n",
      "    Uninstalling nvidia-cudnn-cu12-9.1.0.70:\n",
      "      Successfully uninstalled nvidia-cudnn-cu12-9.1.0.70\n",
      "  Attempting uninstall: ml_dtypes\n",
      "    Found existing installation: ml-dtypes 0.4.0\n",
      "    Uninstalling ml-dtypes-0.4.0:\n",
      "      Successfully uninstalled ml-dtypes-0.4.0\n",
      "\u001b[31mERROR: pip's dependency resolver does not currently take into account all the packages that are installed. This behaviour is the source of the following dependency conflicts.\n",
      "torch 2.4.1 requires nvidia-cudnn-cu12==9.1.0.70; platform_system == \"Linux\" and platform_machine == \"x86_64\", but you have nvidia-cudnn-cu12 9.8.0.87 which is incompatible.\n",
      "tensorflow 2.17.0 requires ml-dtypes<0.5.0,>=0.3.1, but you have ml-dtypes 0.5.1 which is incompatible.\u001b[0m\u001b[31m\n",
      "\u001b[0mSuccessfully installed jax-0.6.0 jax-cuda12-pjrt-0.6.0 jax-cuda12-plugin-0.6.0 jaxlib-0.6.0 ml_dtypes-0.5.1 nvidia-cuda-nvcc-cu12-12.8.93 nvidia-cudnn-cu12-9.8.0.87\n",
      "\n",
      "\u001b[1m[\u001b[0m\u001b[34;49mnotice\u001b[0m\u001b[1;39;49m]\u001b[0m\u001b[39;49m A new release of pip is available: \u001b[0m\u001b[31;49m24.1.2\u001b[0m\u001b[39;49m -> \u001b[0m\u001b[32;49m25.0.1\u001b[0m\n",
      "\u001b[1m[\u001b[0m\u001b[34;49mnotice\u001b[0m\u001b[1;39;49m]\u001b[0m\u001b[39;49m To update, run: \u001b[0m\u001b[32;49mpip install --upgrade pip\u001b[0m\n"
     ]
    }
   ],
   "source": [
    "!pip install \"jax[cuda12]\" -f https://storage.googleapis.com/jax-releases/jax_cuda_releases.html"
   ]
  },
  {
   "cell_type": "code",
   "execution_count": 2,
   "id": "a8e21f31-16fa-4617-a239-b26c1dcd2c72",
   "metadata": {},
   "outputs": [],
   "source": [
    "import jax\n",
    "import jax.numpy as jnp\n",
    "from jax import random, grad, value_and_grad, lax\n",
    "import jax.nn as nn\n",
    "import numpy as np\n",
    "import matplotlib.pyplot as plt\n",
    "import os\n",
    "import pickle\n",
    "import tarfile\n",
    "from urllib import request\n",
    "from tqdm import tqdm\n",
    "from jax.tree_util import tree_map\n",
    "from functools import partial"
   ]
  },
  {
   "cell_type": "code",
   "execution_count": 3,
   "id": "ee1aa4b9-ba45-4c00-907f-0c5656cb7359",
   "metadata": {},
   "outputs": [],
   "source": [
    "# Model Configuration\n",
    "class CNNConfig:\n",
    "    def __init__(self):\n",
    "        self.input_shape = (1, 32, 32, 3)  # (batch_size, height, width, channels) for CIFAR-10\n",
    "        self.conv1_filters = 64\n",
    "        self.conv2_filters = 128\n",
    "        self.conv3_filters = 256\n",
    "        self.kernel_size = 3\n",
    "        self.dense_units = 512\n",
    "        self.output_classes = 10\n",
    "        # Regularization parameters\n",
    "        self.weight_decay = 1e-4\n",
    "        self.dropout_rate = 0.3\n",
    "        self.batch_norm_momentum = 0.9\n",
    "        self.use_batch_norm = True\n",
    "        self.use_dropout = True\n",
    "        self.use_residual = True\n",
    "        self.use_global_pooling = True\n",
    "\n",
    "# Layer implementations\n",
    "def conv2d(x, w, b, stride=1, padding='SAME'):\n",
    "    \"\"\"Convolutional layer implementation\"\"\"\n",
    "    x = jax.lax.conv_general_dilated(\n",
    "        lhs=x,\n",
    "        rhs=w,\n",
    "        window_strides=(stride, stride),\n",
    "        padding=padding,\n",
    "        dimension_numbers=('NHWC', 'OIHW', 'NHWC')\n",
    "    )\n",
    "    return x + b\n",
    "\n",
    "def batch_norm(x, scale, bias, mean, var, is_training, momentum=0.9, epsilon=1e-5):\n",
    "    \"\"\"Batch normalization layer\"\"\"\n",
    "    if is_training:\n",
    "        # Calculate batch statistics\n",
    "        batch_mean = jnp.mean(x, axis=(0, 1, 2), keepdims=True)\n",
    "        batch_var = jnp.var(x, axis=(0, 1, 2), keepdims=True)\n",
    "        \n",
    "        # Update running stats using exponential moving average\n",
    "        new_mean = momentum * mean + (1 - momentum) * batch_mean\n",
    "        new_var = momentum * var + (1 - momentum) * batch_var\n",
    "        \n",
    "        # Normalize using batch statistics\n",
    "        x_normalized = (x - batch_mean) / jnp.sqrt(batch_var + epsilon)\n",
    "        \n",
    "        # Return normalized output and updated statistics\n",
    "        return scale * x_normalized + bias, new_mean, new_var\n",
    "    else:\n",
    "        # Normalize using running statistics for inference\n",
    "        x_normalized = (x - mean) / jnp.sqrt(var + epsilon)\n",
    "        return scale * x_normalized + bias, mean, var\n",
    "\n",
    "def relu(x):\n",
    "    \"\"\"ReLU activation function\"\"\"\n",
    "    return jnp.maximum(x, 0)\n",
    "\n",
    "def max_pool(x, pool_size=2, stride=2, padding='VALID'):\n",
    "    \"\"\"Max pooling layer implementation\"\"\"\n",
    "    return jax.lax.reduce_window(\n",
    "        x,\n",
    "        -jnp.inf,\n",
    "        jax.lax.max,\n",
    "        window_dimensions=(1, pool_size, pool_size, 1),\n",
    "        window_strides=(1, stride, stride, 1),\n",
    "        padding=padding\n",
    "    )\n",
    "\n",
    "def dropout(x, rate, rng):\n",
    "    \"\"\"Dropout regularization\"\"\"\n",
    "    if rate == 0.0:\n",
    "        return x\n",
    "    \n",
    "    keep_prob = 1.0 - rate\n",
    "    mask = random.bernoulli(rng, keep_prob, shape=x.shape)\n",
    "    return x * mask / keep_prob\n",
    "\n",
    "def dense(x, w, b):\n",
    "    \"\"\"Fully connected layer implementation\"\"\"\n",
    "    return jnp.dot(x, w) + b\n",
    "\n",
    "def global_avg_pool(x):\n",
    "    \"\"\"Global average pooling layer\"\"\"\n",
    "    return jnp.mean(x, axis=(1, 2))\n",
    "\n",
    "\n",
    "\n",
    "def residual_block(x, params, bn_stats, is_training, rng, block_idx, config):\n",
    "    \"\"\"Residual block with batch normalization and dropout\"\"\"\n",
    "    # Store input\n",
    "    orig_x = x\n",
    "    input_channels = x.shape[-1]\n",
    "    \n",
    "    # First convolution\n",
    "    x = conv2d(x, params[f'conv{block_idx}a_w'], params[f'conv{block_idx}a_b'])\n",
    "    x, bn_stats[f'bn{block_idx}a_mean'], bn_stats[f'bn{block_idx}a_var'] = batch_norm(\n",
    "        x, params[f'bn{block_idx}a_scale'], params[f'bn{block_idx}a_bias'],\n",
    "        bn_stats[f'bn{block_idx}a_mean'], bn_stats[f'bn{block_idx}a_var'],\n",
    "        is_training, config.batch_norm_momentum\n",
    "    )\n",
    "    x = relu(x)\n",
    "    \n",
    "    # Second convolution\n",
    "    x = conv2d(x, params[f'conv{block_idx}b_w'], params[f'conv{block_idx}b_b'])\n",
    "    x, bn_stats[f'bn{block_idx}b_mean'], bn_stats[f'bn{block_idx}b_var'] = batch_norm(\n",
    "        x, params[f'bn{block_idx}b_scale'], params[f'bn{block_idx}b_bias'],\n",
    "        bn_stats[f'bn{block_idx}b_mean'], bn_stats[f'bn{block_idx}b_var'],\n",
    "        is_training, config.batch_norm_momentum\n",
    "    )\n",
    "    \n",
    "    # Check if projection is needed\n",
    "    if input_channels != x.shape[-1]:\n",
    "        # Always use projection if dimensions don't match\n",
    "        projection_key = f'conv{block_idx}_proj_w'\n",
    "        # Ensure the projection parameters exist\n",
    "        if projection_key in params:\n",
    "            orig_x = conv2d(orig_x, params[projection_key], params[f'conv{block_idx}_proj_b'])\n",
    "            orig_x, bn_stats[f'bn{block_idx}_proj_mean'], bn_stats[f'bn{block_idx}_proj_var'] = batch_norm(\n",
    "                orig_x, params[f'bn{block_idx}_proj_scale'], params[f'bn{block_idx}_proj_bias'],\n",
    "                bn_stats[f'bn{block_idx}_proj_mean'], bn_stats[f'bn{block_idx}_proj_var'],\n",
    "                is_training, config.batch_norm_momentum\n",
    "            )\n",
    "        else:\n",
    "            # If projection parameters don't exist, skip the residual connection\n",
    "            # This is a fallback and shouldn't happen with proper initialization\n",
    "            orig_x = x\n",
    "    \n",
    "    # Add residual connection and apply ReLU\n",
    "    x = x + orig_x\n",
    "    x = relu(x)\n",
    "    \n",
    "    # Apply dropout if training\n",
    "    if is_training and config.use_dropout:\n",
    "        rng, dropout_rng = random.split(rng)\n",
    "        x = dropout(x, rate=config.dropout_rate/2, rng=dropout_rng)  # Less dropout in conv layers\n",
    "    \n",
    "    return x, bn_stats, rng\n",
    "\n",
    "def initialize_improved_cnn_params(rng, config):\n",
    "    \"\"\"Initialize CNN model parameters with He initialization and batch norm params\"\"\"\n",
    "    params = {}\n",
    "    bn_stats = {}  # For tracking running mean and variance\n",
    "    \n",
    "    subkeys = random.split(rng, 15)  # Generate more subkeys for randomness\n",
    "    key_idx = 0\n",
    "    \n",
    "    # --- First Block ---\n",
    "    # First convolution layer (3->64 channels, needs projection)\n",
    "    params['conv1a_w'] = random.normal(subkeys[key_idx], (\n",
    "        config.conv1_filters, config.input_shape[-1], \n",
    "        config.kernel_size, config.kernel_size)\n",
    "    ) * jnp.sqrt(2/(config.kernel_size**2 * config.input_shape[-1]))\n",
    "    params['conv1a_b'] = jnp.zeros((config.conv1_filters,))\n",
    "    key_idx += 1\n",
    "    \n",
    "    # Batch norm for first conv\n",
    "    params['bn1a_scale'] = jnp.ones((config.conv1_filters,))\n",
    "    params['bn1a_bias'] = jnp.zeros((config.conv1_filters,))\n",
    "    bn_stats['bn1a_mean'] = jnp.zeros((1, 1, 1, config.conv1_filters))\n",
    "    bn_stats['bn1a_var'] = jnp.ones((1, 1, 1, config.conv1_filters))\n",
    "    \n",
    "    # Second convolution in block 1\n",
    "    params['conv1b_w'] = random.normal(subkeys[key_idx], (\n",
    "        config.conv1_filters, config.conv1_filters, \n",
    "        config.kernel_size, config.kernel_size)\n",
    "    ) * jnp.sqrt(2/(config.kernel_size**2 * config.conv1_filters))\n",
    "    params['conv1b_b'] = jnp.zeros((config.conv1_filters,))\n",
    "    key_idx += 1\n",
    "    \n",
    "    # Batch norm for second conv\n",
    "    params['bn1b_scale'] = jnp.ones((config.conv1_filters,))\n",
    "    params['bn1b_bias'] = jnp.zeros((config.conv1_filters,))\n",
    "    bn_stats['bn1b_mean'] = jnp.zeros((1, 1, 1, config.conv1_filters))\n",
    "    bn_stats['bn1b_var'] = jnp.ones((1, 1, 1, config.conv1_filters))\n",
    "    \n",
    "    # Projection for first block (3->64 channels)\n",
    "    params['conv1_proj_w'] = random.normal(subkeys[key_idx], (\n",
    "        config.conv1_filters, config.input_shape[-1], 1, 1)\n",
    "    ) * jnp.sqrt(2/(1 * config.input_shape[-1]))\n",
    "    params['conv1_proj_b'] = jnp.zeros((config.conv1_filters,))\n",
    "    key_idx += 1\n",
    "    \n",
    "    # Batch norm for projection\n",
    "    params['bn1_proj_scale'] = jnp.ones((config.conv1_filters,))\n",
    "    params['bn1_proj_bias'] = jnp.zeros((config.conv1_filters,))\n",
    "    bn_stats['bn1_proj_mean'] = jnp.zeros((1, 1, 1, config.conv1_filters))\n",
    "    bn_stats['bn1_proj_var'] = jnp.ones((1, 1, 1, config.conv1_filters))\n",
    "    \n",
    "    # --- Second Block ---\n",
    "    # First convolution (64->128 channels)\n",
    "    params['conv2a_w'] = random.normal(subkeys[key_idx], (\n",
    "        config.conv2_filters, config.conv1_filters, \n",
    "        config.kernel_size, config.kernel_size)\n",
    "    ) * jnp.sqrt(2/(config.kernel_size**2 * config.conv1_filters))\n",
    "    params['conv2a_b'] = jnp.zeros((config.conv2_filters,))\n",
    "    key_idx += 1\n",
    "    \n",
    "    # Batch norm\n",
    "    params['bn2a_scale'] = jnp.ones((config.conv2_filters,))\n",
    "    params['bn2a_bias'] = jnp.zeros((config.conv2_filters,))\n",
    "    bn_stats['bn2a_mean'] = jnp.zeros((1, 1, 1, config.conv2_filters))\n",
    "    bn_stats['bn2a_var'] = jnp.ones((1, 1, 1, config.conv2_filters))\n",
    "    \n",
    "    # Second convolution\n",
    "    params['conv2b_w'] = random.normal(subkeys[key_idx], (\n",
    "        config.conv2_filters, config.conv2_filters, \n",
    "        config.kernel_size, config.kernel_size)\n",
    "    ) * jnp.sqrt(2/(config.kernel_size**2 * config.conv2_filters))\n",
    "    params['conv2b_b'] = jnp.zeros((config.conv2_filters,))\n",
    "    key_idx += 1\n",
    "    \n",
    "    # Batch norm\n",
    "    params['bn2b_scale'] = jnp.ones((config.conv2_filters,))\n",
    "    params['bn2b_bias'] = jnp.zeros((config.conv2_filters,))\n",
    "    bn_stats['bn2b_mean'] = jnp.zeros((1, 1, 1, config.conv2_filters))\n",
    "    bn_stats['bn2b_var'] = jnp.ones((1, 1, 1, config.conv2_filters))\n",
    "    \n",
    "    # Projection for residual connection (64->128)\n",
    "    params['conv2_proj_w'] = random.normal(subkeys[key_idx], (\n",
    "        config.conv2_filters, config.conv1_filters, 1, 1)\n",
    "    ) * jnp.sqrt(2/(1 * config.conv1_filters))\n",
    "    params['conv2_proj_b'] = jnp.zeros((config.conv2_filters,))\n",
    "    key_idx += 1\n",
    "    \n",
    "    # Batch norm for projection\n",
    "    params['bn2_proj_scale'] = jnp.ones((config.conv2_filters,))\n",
    "    params['bn2_proj_bias'] = jnp.zeros((config.conv2_filters,))\n",
    "    bn_stats['bn2_proj_mean'] = jnp.zeros((1, 1, 1, config.conv2_filters))\n",
    "    bn_stats['bn2_proj_var'] = jnp.ones((1, 1, 1, config.conv2_filters))\n",
    "    \n",
    "    # --- Third Block ---\n",
    "    # First convolution (128->256 channels)\n",
    "    params['conv3a_w'] = random.normal(subkeys[key_idx], (\n",
    "        config.conv3_filters, config.conv2_filters, \n",
    "        config.kernel_size, config.kernel_size)\n",
    "    ) * jnp.sqrt(2/(config.kernel_size**2 * config.conv2_filters))\n",
    "    params['conv3a_b'] = jnp.zeros((config.conv3_filters,))\n",
    "    key_idx += 1\n",
    "    \n",
    "    # Batch norm\n",
    "    params['bn3a_scale'] = jnp.ones((config.conv3_filters,))\n",
    "    params['bn3a_bias'] = jnp.zeros((config.conv3_filters,))\n",
    "    bn_stats['bn3a_mean'] = jnp.zeros((1, 1, 1, config.conv3_filters))\n",
    "    bn_stats['bn3a_var'] = jnp.ones((1, 1, 1, config.conv3_filters))\n",
    "    \n",
    "    # Second convolution\n",
    "    params['conv3b_w'] = random.normal(subkeys[key_idx], (\n",
    "        config.conv3_filters, config.conv3_filters, \n",
    "        config.kernel_size, config.kernel_size)\n",
    "    ) * jnp.sqrt(2/(config.kernel_size**2 * config.conv3_filters))\n",
    "    params['conv3b_b'] = jnp.zeros((config.conv3_filters,))\n",
    "    key_idx += 1\n",
    "    \n",
    "    # Batch norm\n",
    "    params['bn3b_scale'] = jnp.ones((config.conv3_filters,))\n",
    "    params['bn3b_bias'] = jnp.zeros((config.conv3_filters,))\n",
    "    bn_stats['bn3b_mean'] = jnp.zeros((1, 1, 1, config.conv3_filters))\n",
    "    bn_stats['bn3b_var'] = jnp.ones((1, 1, 1, config.conv3_filters))\n",
    "    \n",
    "    # Projection for residual connection (128->256)\n",
    "    params['conv3_proj_w'] = random.normal(subkeys[key_idx], (\n",
    "        config.conv3_filters, config.conv2_filters, 1, 1)\n",
    "    ) * jnp.sqrt(2/(1 * config.conv2_filters))\n",
    "    params['conv3_proj_b'] = jnp.zeros((config.conv3_filters,))\n",
    "    key_idx += 1\n",
    "    \n",
    "    # Batch norm for projection\n",
    "    params['bn3_proj_scale'] = jnp.ones((config.conv3_filters,))\n",
    "    params['bn3_proj_bias'] = jnp.zeros((config.conv3_filters,))\n",
    "    bn_stats['bn3_proj_mean'] = jnp.zeros((1, 1, 1, config.conv3_filters))\n",
    "    bn_stats['bn3_proj_var'] = jnp.ones((1, 1, 1, config.conv3_filters))\n",
    "    \n",
    "    # Calculate dense layer input dim based on whether we use global pooling\n",
    "    if config.use_global_pooling:\n",
    "        dense_input_dim = config.conv3_filters\n",
    "    else:\n",
    "        # Each max pool halves the dimensions\n",
    "        h, w = 32, 32\n",
    "        h, w = h // 2, w // 2  # After first block\n",
    "        h, w = h // 2, w // 2  # After second block \n",
    "        h, w = h // 2, w // 2  # After third block\n",
    "        dense_input_dim = h * w * config.conv3_filters\n",
    "    \n",
    "    # Dense layers\n",
    "    params['dense1_w'] = random.normal(subkeys[key_idx], (dense_input_dim, config.dense_units)) * jnp.sqrt(2/dense_input_dim)\n",
    "    params['dense1_b'] = jnp.zeros((config.dense_units,))\n",
    "    key_idx += 1\n",
    "    \n",
    "    params['dense2_w'] = random.normal(subkeys[key_idx], (config.dense_units, config.output_classes)) * jnp.sqrt(2/config.dense_units)\n",
    "    params['dense2_b'] = jnp.zeros((config.output_classes,))\n",
    "    \n",
    "    return params, bn_stats\n",
    "\n",
    "def forward_pass(params, bn_stats, x, is_training, rng, config):\n",
    "    \"\"\"Forward pass through the improved CNN model with regularization techniques\"\"\"\n",
    "    # Residual block 1\n",
    "    x, bn_stats, rng = residual_block(x, params, bn_stats, is_training, rng, 1, config)\n",
    "    x = max_pool(x)\n",
    "    \n",
    "    # Residual block 2\n",
    "    x, bn_stats, rng = residual_block(x, params, bn_stats, is_training, rng, 2, config)\n",
    "    x = max_pool(x)\n",
    "    \n",
    "    # Residual block 3\n",
    "    x, bn_stats, rng = residual_block(x, params, bn_stats, is_training, rng, 3, config)\n",
    "    x = max_pool(x)\n",
    "    \n",
    "    # Feature pooling\n",
    "    if config.use_global_pooling:\n",
    "        x = global_avg_pool(x)\n",
    "    else:\n",
    "        x = x.reshape((x.shape[0], -1))  # Flatten\n",
    "    \n",
    "    # Dense layers\n",
    "    x = dense(x, params['dense1_w'], params['dense1_b'])\n",
    "    x = relu(x)\n",
    "    \n",
    "    # Dropout for fully connected layer\n",
    "    if is_training and config.use_dropout:\n",
    "        rng, dropout_rng = random.split(rng)\n",
    "        x = dropout(x, rate=config.dropout_rate, rng=dropout_rng)\n",
    "    \n",
    "    # Output layer\n",
    "    x = dense(x, params['dense2_w'], params['dense2_b'])\n",
    "    \n",
    "    return x, bn_stats, rng"
   ]
  },
  {
   "cell_type": "code",
   "execution_count": 4,
   "id": "ea3a582a-f518-4617-8860-516378f6a194",
   "metadata": {},
   "outputs": [],
   "source": [
    "# Optimizers with weight decay\n",
    "class AdamWOptimizer:\n",
    "    \"\"\"Adam optimizer with decoupled weight decay (AdamW)\"\"\"\n",
    "    def __init__(self, learning_rate=0.001, beta1=0.9, beta2=0.999, epsilon=1e-8, weight_decay=1e-4):\n",
    "        self.learning_rate = learning_rate\n",
    "        self.beta1 = beta1\n",
    "        self.beta2 = beta2\n",
    "        self.epsilon = epsilon\n",
    "        self.weight_decay = weight_decay\n",
    "    \n",
    "    def init(self, params):\n",
    "        \"\"\"Initialize optimizer state\"\"\"\n",
    "        # Return optimizer state instead of storing it as instance variables\n",
    "        return {\n",
    "            'm': tree_map(jnp.zeros_like, params),\n",
    "            'v': tree_map(jnp.zeros_like, params),\n",
    "            't': 0\n",
    "        }\n",
    "    \n",
    "    def update(self, params, grads, opt_state):\n",
    "        \"\"\"Update parameters using gradients and optimizer state\"\"\"\n",
    "        # Unpack optimizer state\n",
    "        m, v, t = opt_state['m'], opt_state['v'], opt_state['t']\n",
    "        \n",
    "        # Increment timestep\n",
    "        t = t + 1\n",
    "        \n",
    "        # Update biased first moment estimate\n",
    "        m = tree_map(\n",
    "            lambda m_i, g_i: self.beta1 * m_i + (1 - self.beta1) * g_i, \n",
    "            m, grads\n",
    "        )\n",
    "        \n",
    "        # Update biased second raw moment estimate\n",
    "        v = tree_map(\n",
    "            lambda v_i, g_i: self.beta2 * v_i + (1 - self.beta2) * (g_i * g_i), \n",
    "            v, grads\n",
    "        )\n",
    "        \n",
    "        # Compute bias-corrected first moment estimate\n",
    "        m_hat = tree_map(\n",
    "            lambda m_i: m_i / (1 - self.beta1 ** t), \n",
    "            m\n",
    "        )\n",
    "        \n",
    "        # Compute bias-corrected second raw moment estimate\n",
    "        v_hat = tree_map(\n",
    "            lambda v_i: v_i / (1 - self.beta2 ** t), \n",
    "            v\n",
    "        )\n",
    "        \n",
    "        # Update parameters with Adam and weight decay separately\n",
    "        updated_params = tree_map(\n",
    "            lambda p, m_h, v_h: (1 - self.weight_decay * self.learning_rate) * p - \n",
    "                              self.learning_rate * m_h / (jnp.sqrt(v_h) + self.epsilon),\n",
    "            params, m_hat, v_hat\n",
    "        )\n",
    "        \n",
    "        # Return updated parameters and optimizer state\n",
    "        updated_opt_state = {'m': m, 'v': v, 't': t}\n",
    "        return updated_params, updated_opt_state"
   ]
  },
  {
   "cell_type": "code",
   "execution_count": 5,
   "id": "29b43372-aa83-4934-9089-db20e818fae1",
   "metadata": {},
   "outputs": [],
   "source": [
    "# Learning rate schedules\n",
    "def cosine_decay_schedule(initial_lr, epoch, total_epochs, warmup_epochs=5):\n",
    "    \"\"\"Cosine annealing learning rate schedule with warmup\"\"\"\n",
    "    if epoch < warmup_epochs:\n",
    "        # Linear warmup\n",
    "        return initial_lr * (epoch + 1) / warmup_epochs\n",
    "    else:\n",
    "        # Cosine decay\n",
    "        decay_epochs = total_epochs - warmup_epochs\n",
    "        epoch_adj = epoch - warmup_epochs\n",
    "        return initial_lr * 0.5 * (1 + jnp.cos(jnp.pi * epoch_adj / decay_epochs))\n",
    "\n",
    "# Metrics and Loss Function\n",
    "def cross_entropy_loss(params, bn_stats, batch_images, batch_labels, is_training, rng, config):\n",
    "    \"\"\"Compute cross entropy loss with L2 regularization for a batch of images\"\"\"\n",
    "    # Get model predictions\n",
    "    logits, updated_bn_stats, new_rng = forward_pass(params, bn_stats, batch_images, is_training, rng, config)\n",
    "    \n",
    "    # Compute log probabilities\n",
    "    log_probs = nn.log_softmax(logits)\n",
    "    \n",
    "    # Convert labels to one-hot encoding\n",
    "    one_hot = jax.nn.one_hot(batch_labels, config.output_classes)\n",
    "    \n",
    "    # Compute cross entropy loss (negative log likelihood)\n",
    "    ce_loss = -jnp.sum(one_hot * log_probs) / batch_images.shape[0]\n",
    "    \n",
    "    # Note: Weight decay is applied separately in the optimizer, not in the loss\n",
    "    \n",
    "    return ce_loss, updated_bn_stats, new_rng\n",
    "\n",
    "def compute_accuracy(params, bn_stats, batch_images, batch_labels, rng, config):\n",
    "    \"\"\"Compute accuracy for a batch of images\"\"\"\n",
    "    # Get model predictions in inference mode (is_training=False)\n",
    "    logits, _, _ = forward_pass(params, bn_stats, batch_images, False, rng, config)\n",
    "    \n",
    "    # Get predicted class indices\n",
    "    preds = jnp.argmax(logits, axis=-1)\n",
    "    \n",
    "    # Compute accuracy\n",
    "    return jnp.mean(preds == batch_labels)\n",
    "\n",
    "def precision_recall_f1(params, bn_stats, batch_images, batch_labels, rng, config):\n",
    "    \"\"\"Compute precision, recall, and F1 score for a batch of images\"\"\"\n",
    "    # Get model predictions in inference mode\n",
    "    logits, _, _ = forward_pass(params, bn_stats, batch_images, False, rng, config)\n",
    "    preds = jnp.argmax(logits, axis=-1)\n",
    "    \n",
    "    # Number of classes (CIFAR-10 has 10 classes)\n",
    "    num_classes = 10\n",
    "    \n",
    "    # Initialize lists for metrics\n",
    "    precision_list, recall_list, f1_list = [], [], []\n",
    "    \n",
    "    # Compute metrics for each class\n",
    "    for cls in range(num_classes):\n",
    "        # True positives, false positives, false negatives\n",
    "        tp = jnp.sum((preds == cls) & (batch_labels == cls))\n",
    "        fp = jnp.sum((preds == cls) & (batch_labels != cls))\n",
    "        fn = jnp.sum((preds != cls) & (batch_labels == cls))\n",
    "        \n",
    "        # Compute precision, recall, and F1 with small epsilon to avoid division by zero\n",
    "        epsilon = 1e-8\n",
    "        precision = tp / (tp + fp + epsilon)\n",
    "        recall = tp / (tp + fn + epsilon)\n",
    "        f1 = 2 * precision * recall / (precision + recall + epsilon)\n",
    "        \n",
    "        precision_list.append(precision)\n",
    "        recall_list.append(recall)\n",
    "        f1_list.append(f1)\n",
    "    \n",
    "    # Return average metrics across all classes\n",
    "    return jnp.mean(jnp.array(precision_list)), jnp.mean(jnp.array(recall_list)), jnp.mean(jnp.array(f1_list))\n"
   ]
  },
  {
   "cell_type": "code",
   "execution_count": 6,
   "id": "cd3aa57f-4511-4164-93ec-2581cd73fe14",
   "metadata": {},
   "outputs": [],
   "source": [
    "# Data Loading with Augmentation\n",
    "def download_cifar10(data_dir):\n",
    "    \"\"\"Download CIFAR-10 dataset if it doesn't exist\"\"\"\n",
    "    if not os.path.exists(data_dir):\n",
    "        os.makedirs(data_dir)\n",
    "    \n",
    "    # URLs for CIFAR-10 dataset\n",
    "    base_url = \"https://www.cs.toronto.edu/~kriz/\"\n",
    "    train_file = \"cifar-10-python.tar.gz\"\n",
    "    train_url = base_url + train_file\n",
    "    train_path = os.path.join(data_dir, train_file)\n",
    "    \n",
    "    # Download the dataset if not already present\n",
    "    if not os.path.exists(train_path):\n",
    "        print(f\"Downloading CIFAR-10 dataset from {train_url}...\")\n",
    "        request.urlretrieve(train_url, train_path)\n",
    "        print(\"Download complete.\")\n",
    "    else:\n",
    "        print(\"CIFAR-10 dataset already exists.\")\n",
    "    \n",
    "    return train_path\n",
    "\n",
    "def unpickle(file):\n",
    "    \"\"\"Unpickle CIFAR-10 batch files\"\"\"\n",
    "    with open(file, 'rb') as fo:\n",
    "        dict = pickle.load(fo, encoding='bytes')\n",
    "    return dict\n",
    "\n",
    "def load_cifar10_raw(data_dir):\n",
    "    \"\"\"\n",
    "    Load CIFAR-10 dataset from raw files\n",
    "    \n",
    "    Returns:\n",
    "        Tuple of (train_images, train_labels, test_images, test_labels)\n",
    "    \"\"\"\n",
    "    # Download dataset if needed\n",
    "    cifar_path = download_cifar10(data_dir)\n",
    "    \n",
    "    # Extract files if not already extracted\n",
    "    cifar_dir = os.path.join(data_dir, \"cifar-10-batches-py\")\n",
    "    if not os.path.exists(cifar_dir):\n",
    "        print(\"Extracting CIFAR-10 files...\")\n",
    "        with tarfile.open(cifar_path, 'r:gz') as tar:\n",
    "            tar.extractall(path=data_dir)\n",
    "        print(\"Extraction complete.\")\n",
    "    \n",
    "    # Load training data (batches 1-5)\n",
    "    train_images = []\n",
    "    train_labels = []\n",
    "    for i in range(1, 6):\n",
    "        batch_file = os.path.join(cifar_dir, f\"data_batch_{i}\")\n",
    "        batch_data = unpickle(batch_file)\n",
    "        train_images.append(batch_data[b'data'])\n",
    "        train_labels.extend(batch_data[b'labels'])\n",
    "    \n",
    "    # Reshape training data\n",
    "    train_images = np.vstack(train_images).reshape(-1, 3, 32, 32).transpose(0, 2, 3, 1)\n",
    "    train_labels = np.array(train_labels)\n",
    "    \n",
    "    # Load test data\n",
    "    test_batch_file = os.path.join(cifar_dir, \"test_batch\")\n",
    "    test_data = unpickle(test_batch_file)\n",
    "    test_images = test_data[b'data'].reshape(-1, 3, 32, 32).transpose(0, 2, 3, 1)\n",
    "    test_labels = np.array(test_data[b'labels'])\n",
    "    \n",
    "    return train_images, train_labels, test_images, test_labels\n",
    "\n",
    "# Data augmentation functions\n",
    "def random_flip(rng, image):\n",
    "    \"\"\"Randomly flip image horizontally\"\"\"\n",
    "    flip_rng, rng = random.split(rng)\n",
    "    should_flip = random.bernoulli(flip_rng, 0.5)\n",
    "    flipped_image = jnp.fliplr(image)\n",
    "    return jnp.where(should_flip, flipped_image, image), rng\n",
    "\n",
    "def random_crop(rng, image, padding=4):\n",
    "    \"\"\"Randomly crop image with padding\"\"\"\n",
    "    crop_rng, rng = random.split(rng)\n",
    "    \n",
    "    # Pad the image\n",
    "    padded = jnp.pad(image, ((padding, padding), (padding, padding), (0, 0)), mode='constant')\n",
    "    \n",
    "    # Generate random crop coordinates\n",
    "    h_offset = random.randint(crop_rng, shape=(), minval=0, maxval=2*padding)\n",
    "    crop_rng, rng = random.split(rng)\n",
    "    w_offset = random.randint(crop_rng, shape=(), minval=0, maxval=2*padding)\n",
    "    \n",
    "    # Perform crop\n",
    "    cropped = lax.dynamic_slice(padded, (h_offset, w_offset, 0), (32, 32, 3))\n",
    "    \n",
    "    return cropped, rng\n",
    "\n",
    "def random_brightness(rng, image, delta=0.1):\n",
    "    \"\"\"Randomly adjust brightness\"\"\"\n",
    "    bright_rng, rng = random.split(rng)\n",
    "    factor = 1.0 + random.uniform(bright_rng, shape=(), minval=-delta, maxval=delta)\n",
    "    return jnp.clip(image * factor, 0.0, 1.0), rng\n",
    "\n",
    "def cutout(rng, image, size=8):\n",
    "    \"\"\"Apply cutout augmentation\"\"\"\n",
    "    cutout_rng, h_rng, w_rng, rng = random.split(rng, 4)\n",
    "    apply_cutout = random.bernoulli(cutout_rng, 0.5)\n",
    "    \n",
    "    h, w = image.shape[0], image.shape[1]\n",
    "    center_h = random.randint(h_rng, shape=(), minval=0, maxval=h)\n",
    "    center_w = random.randint(w_rng, shape=(), minval=0, maxval=w)\n",
    "    \n",
    "    # Calculate cutout boundaries\n",
    "    lower_h = jnp.maximum(0, center_h - size // 2)\n",
    "    upper_h = jnp.minimum(h, center_h + size // 2)\n",
    "    lower_w = jnp.maximum(0, center_w - size // 2)\n",
    "    upper_w = jnp.minimum(w, center_w + size // 2)\n",
    "    \n",
    "    # Create mask indices\n",
    "    mask_h = jnp.arange(h)[:, jnp.newaxis]\n",
    "    mask_w = jnp.arange(w)\n",
    "    \n",
    "    # Create the mask\n",
    "    mask = ((mask_h >= lower_h) & (mask_h < upper_h) & \n",
    "            (mask_w >= lower_w) & (mask_w < upper_w))\n",
    "    mask = 1.0 - mask[:, :, jnp.newaxis]  # Invert and add channel dimension\n",
    "    \n",
    "    # Apply the mask conditionally\n",
    "    return jnp.where(apply_cutout, image * mask, image), rng\n",
    "\n",
    "def apply_augmentation(rng, image):\n",
    "    \"\"\"Apply a series of augmentations to an image\"\"\"\n",
    "    # Random horizontal flip\n",
    "    image, rng = random_flip(rng, image)\n",
    "    \n",
    "    # Random crop with padding\n",
    "    image, rng = random_crop(rng, image)\n",
    "    \n",
    "    # Random brightness adjustment\n",
    "    image, rng = random_brightness(rng, image)\n",
    "    \n",
    "    # Cutout augmentation\n",
    "    image, rng = cutout(rng, image)\n",
    "    \n",
    "    return image, rng\n",
    "\n",
    "def augment_batch(rng, batch_images):\n",
    "    \"\"\"Apply augmentation to a batch of images\"\"\"\n",
    "    # Create a new rng for each image\n",
    "    rngs = random.split(rng, batch_images.shape[0] + 1)\n",
    "    new_rng = rngs[0]\n",
    "    \n",
    "    # Apply augmentation to each image\n",
    "    augmented_images = []\n",
    "    for i, image in enumerate(batch_images):\n",
    "        aug_image, _ = apply_augmentation(rngs[i+1], image)\n",
    "        augmented_images.append(aug_image)\n",
    "    \n",
    "    return jnp.array(augmented_images), new_rng\n",
    "\n",
    "def create_batches(images, labels, batch_size, shuffle=True):\n",
    "    \"\"\"Create batches of data for training/evaluation\"\"\"\n",
    "    num_examples = len(images)\n",
    "    indices = np.arange(num_examples)\n",
    "    \n",
    "    if shuffle:\n",
    "        np.random.shuffle(indices)\n",
    "    \n",
    "    # Create list of batches\n",
    "    batches = []\n",
    "    for start_idx in range(0, num_examples, batch_size):\n",
    "        end_idx = min(start_idx + batch_size, num_examples)\n",
    "        batch_indices = indices[start_idx:end_idx]\n",
    "        batches.append((images[batch_indices], labels[batch_indices]))\n",
    "    \n",
    "    return batches\n"
   ]
  },
  {
   "cell_type": "code",
   "execution_count": 7,
   "id": "19d4cc44-ad62-4822-b65c-a65596b914a3",
   "metadata": {},
   "outputs": [],
   "source": [
    "def load_cifar10(batch_size=128, seed=0, valid_ratio=0.1):\n",
    "    \"\"\"\n",
    "    Load and preprocess CIFAR-10 dataset with validation split\n",
    "    \n",
    "    Args:\n",
    "        batch_size: Batch size for training/evaluation\n",
    "        seed: Random seed for shuffling\n",
    "        valid_ratio: Ratio of training data to use for validation\n",
    "        \n",
    "    Returns:\n",
    "        Tuple of (train_batches, valid_batches, test_batches)\n",
    "    \"\"\"\n",
    "    # Set random seed for reproducibility\n",
    "    np.random.seed(seed)\n",
    "    \n",
    "    # Check if preprocessed data exists in cache\n",
    "    data_dir = \"cifar10_data\"\n",
    "    cache_file = os.path.join(data_dir, \"cifar10_preprocessed.pkl\")\n",
    "    if os.path.exists(cache_file):\n",
    "        print(\"Loading preprocessed CIFAR-10 data from cache...\")\n",
    "        with open(cache_file, 'rb') as f:\n",
    "            train_images, train_labels, test_images, test_labels = pickle.load(f)\n",
    "    else:\n",
    "        print(\"Loading CIFAR-10 from raw files...\")\n",
    "        # Load raw data\n",
    "        train_images, train_labels, test_images, test_labels = load_cifar10_raw(data_dir)\n",
    "        \n",
    "        # Preprocess images: normalize to [0,1]\n",
    "        train_images = train_images.astype(np.float32) / 255.0\n",
    "        test_images = test_images.astype(np.float32) / 255.0\n",
    "        \n",
    "        # Cache the preprocessed data\n",
    "        os.makedirs(data_dir, exist_ok=True)\n",
    "        with open(cache_file, 'wb') as f:\n",
    "            pickle.dump((train_images, train_labels, test_images, test_labels), f)\n",
    "        print(f\"Saved preprocessed data to {cache_file}\")\n",
    "    \n",
    "    # Create validation split\n",
    "    num_train = len(train_images)\n",
    "    num_valid = int(valid_ratio * num_train)\n",
    "    \n",
    "    # Shuffle before splitting\n",
    "    indices = np.random.permutation(num_train)\n",
    "    valid_indices = indices[:num_valid]\n",
    "    train_indices = indices[num_valid:]\n",
    "    \n",
    "    valid_images, valid_labels = train_images[valid_indices], train_labels[valid_indices]\n",
    "    train_images, train_labels = train_images[train_indices], train_labels[train_indices]\n",
    "    \n",
    "    # Create batches\n",
    "    train_batches = create_batches(train_images, train_labels, batch_size, shuffle=True)\n",
    "    valid_batches = create_batches(valid_images, valid_labels, batch_size, shuffle=False)\n",
    "    test_batches = create_batches(test_images, test_labels, batch_size, shuffle=False)\n",
    "    \n",
    "    print(f\"Created {len(train_batches)} training batches, {len(valid_batches)} validation batches, and {len(test_batches)} test batches\")\n",
    "    return train_batches, valid_batches, test_batches\n",
    "\n",
    "def plot_training_curves(train_losses, valid_losses, train_accuracies, valid_accuracies):\n",
    "    \"\"\"Plot training and validation curves for loss and accuracy\"\"\"\n",
    "    plt.figure(figsize=(15, 6))\n",
    "    \n",
    "    # Loss curve\n",
    "    plt.subplot(1, 2, 1)\n",
    "    plt.plot(train_losses, label='Train Loss')\n",
    "    plt.plot(valid_losses, label='Validation Loss')\n",
    "    plt.xlabel('Epoch')\n",
    "    plt.ylabel('Loss')\n",
    "    plt.legend()\n",
    "    plt.title('Loss Curve')\n",
    "    plt.grid(True, alpha=0.3)\n",
    "    \n",
    "    # Accuracy curve\n",
    "    plt.subplot(1, 2, 2)\n",
    "    plt.plot(train_accuracies, label='Train Accuracy')\n",
    "    plt.plot(valid_accuracies, label='Validation Accuracy')\n",
    "    plt.xlabel('Epoch')\n",
    "    plt.ylabel('Accuracy')\n",
    "    plt.legend()\n",
    "    plt.title('Accuracy Curve')\n",
    "    plt.grid(True, alpha=0.3)\n",
    "    \n",
    "    plt.tight_layout()\n",
    "    plt.savefig('cifar10_improved_training_curves.png')\n",
    "    plt.show()\n",
    "\n",
    "def select_device(device_type=\"auto\"):\n",
    "    \"\"\"\n",
    "    Select appropriate device for training (CPU/GPU/TPU)\n",
    "    \n",
    "    Args:\n",
    "        device_type: 'cpu', 'gpu', or 'auto' to automatically select\n",
    "        \n",
    "    Returns:\n",
    "        Selected JAX device\n",
    "    \"\"\"\n",
    "    if device_type == \"cpu\":\n",
    "        device = jax.devices(\"cpu\")[0]\n",
    "    elif device_type == \"gpu\":\n",
    "        try:\n",
    "            gpus = jax.devices(\"gpu\")\n",
    "            if not gpus:\n",
    "                raise RuntimeError(\"No GPU found, falling back to CPU\")\n",
    "            device = gpus[0]\n",
    "        except RuntimeError:\n",
    "            print(\"Warning: GPU requested but not available. Using CPU instead.\")\n",
    "            device = jax.devices(\"cpu\")[0]\n",
    "    else:  # Auto mode\n",
    "        # Try to use GPU if available, otherwise use CPU\n",
    "        try:\n",
    "            gpus = jax.devices(\"gpu\")\n",
    "            if gpus:\n",
    "                device = gpus[0]\n",
    "                print(\"GPU detected, using GPU for training\")\n",
    "            else:\n",
    "                device = jax.devices(\"cpu\")[0]\n",
    "                print(\"No GPU detected, using CPU for training\")\n",
    "        except:\n",
    "            device = jax.devices(\"cpu\")[0]\n",
    "            print(\"Error detecting GPUs, falling back to CPU\")\n",
    "    \n",
    "    print(f\"✅ Using device: {device}\")\n",
    "    return device"
   ]
  },
  {
   "cell_type": "code",
   "execution_count": 8,
   "id": "3df1f2ed-61f2-498d-9576-11d904615ad6",
   "metadata": {},
   "outputs": [],
   "source": [
    "# Model Checkpointing\n",
    "def save_model(params, bn_stats, path='best_cifar10_model.pkl'):\n",
    "    \"\"\"Save model parameters and batch norm statistics to a file\"\"\"\n",
    "    os.makedirs(os.path.dirname(path) if os.path.dirname(path) else '.', exist_ok=True)\n",
    "    \n",
    "    with open(path, 'wb') as f:\n",
    "        pickle.dump((params, bn_stats), f)\n",
    "    print(f\"✅ Model saved at {path}\")\n",
    "\n",
    "def load_model(path='best_cifar10_model.pkl'):\n",
    "    \"\"\"Load model parameters from a file\"\"\"\n",
    "    if not os.path.exists(path):\n",
    "        raise FileNotFoundError(f\"Model file not found: {path}\")\n",
    "    \n",
    "    with open(path, 'rb') as f:\n",
    "        params, bn_stats = pickle.load(f)\n",
    "    print(f\"✅ Model loaded from {path}\")\n",
    "    return params, bn_stats\n",
    "\n",
    "# Evaluation\n",
    "def evaluate(params, bn_stats, data_batches, rng, config):\n",
    "    \"\"\"\n",
    "    Evaluate model on a set of batches\n",
    "    \n",
    "    Args:\n",
    "        params: Model parameters\n",
    "        bn_stats: Batch normalization statistics\n",
    "        data_batches: List of (images, labels) batches\n",
    "        rng: Random key for deterministic evaluation\n",
    "        config: Model configuration\n",
    "        \n",
    "    Returns:\n",
    "        Dictionary of evaluation metrics\n",
    "    \"\"\"\n",
    "    # Initialize metrics\n",
    "    losses, accs, precs, recs, f1s = [], [], [], [], []\n",
    "    \n",
    "    # Evaluate on each batch\n",
    "    for batch_images, batch_labels in data_batches:\n",
    "        # Convert to JAX arrays\n",
    "        batch_images = jnp.array(batch_images)\n",
    "        batch_labels = jnp.array(batch_labels)\n",
    "        \n",
    "        # No augmentation for evaluation\n",
    "        # Forward pass in evaluation mode (is_training=False)\n",
    "        logits, _, _ = forward_pass(params, bn_stats, batch_images, False, rng, config)\n",
    "        \n",
    "        # Compute metrics\n",
    "        loss = -jnp.mean(jnp.sum(jax.nn.one_hot(batch_labels, config.output_classes) * \n",
    "                                nn.log_softmax(logits), axis=1))\n",
    "        \n",
    "        preds = jnp.argmax(logits, axis=-1)\n",
    "        acc = jnp.mean(preds == batch_labels)\n",
    "        \n",
    "        precision, recall, f1 = precision_recall_f1(params, bn_stats, batch_images, batch_labels, rng, config)\n",
    "        \n",
    "        # Collect results\n",
    "        losses.append(loss)\n",
    "        accs.append(acc)\n",
    "        precs.append(precision)\n",
    "        recs.append(recall)\n",
    "        f1s.append(f1)\n",
    "    \n",
    "    # Calculate average metrics\n",
    "    return {\n",
    "        'loss': jnp.mean(jnp.array(losses)),\n",
    "        'accuracy': jnp.mean(jnp.array(accs)),\n",
    "        'precision': jnp.mean(jnp.array(precs)),\n",
    "        'recall': jnp.mean(jnp.array(recs)),\n",
    "        'f1': jnp.mean(jnp.array(f1s)),\n",
    "    }\n",
    "\n",
    "# Early Stopping\n",
    "class EarlyStopping:\n",
    "    \"\"\"Early stopping to prevent overfitting\"\"\"\n",
    "    def __init__(self, patience=10, min_delta=0.001):\n",
    "        self.patience = patience\n",
    "        self.min_delta = min_delta\n",
    "        self.counter = 0\n",
    "        self.best_loss = float('inf')\n",
    "        self.early_stop = False\n",
    "    \n",
    "    def __call__(self, val_loss):\n",
    "        if val_loss < self.best_loss - self.min_delta:\n",
    "            self.best_loss = val_loss\n",
    "            self.counter = 0\n",
    "        else:\n",
    "            self.counter += 1\n",
    "            if self.counter >= self.patience:\n",
    "                self.early_stop = True\n",
    "        \n",
    "        return self.early_stop\n"
   ]
  },
  {
   "cell_type": "code",
   "execution_count": 9,
   "id": "1105970b-e91c-4f88-b411-0c7994d5846a",
   "metadata": {},
   "outputs": [],
   "source": [
    "def cross_entropy_loss(params, bn_stats, batch_images, batch_labels, is_training, rng, config):\n",
    "    \"\"\"Compute cross entropy loss with L2 regularization for a batch of images\"\"\"\n",
    "    # Get model predictions\n",
    "    logits, updated_bn_stats, new_rng = forward_pass(params, bn_stats, batch_images, is_training, rng, config)\n",
    "    \n",
    "    # Compute log probabilities\n",
    "    log_probs = nn.log_softmax(logits)\n",
    "    \n",
    "    # Convert labels to one-hot encoding\n",
    "    one_hot = jax.nn.one_hot(batch_labels, config.output_classes)\n",
    "    \n",
    "    # Compute cross entropy loss (negative log likelihood)\n",
    "    ce_loss = -jnp.sum(one_hot * log_probs) / batch_images.shape[0]\n",
    "    \n",
    "    # Note: Weight decay is applied separately in the optimizer, not in the loss\n",
    "    \n",
    "    return ce_loss, (updated_bn_stats, new_rng)\n",
    "\n",
    "def train_step(params, bn_stats, batch_images, batch_labels, opt_state, rng, config):\n",
    "    \"\"\"Single training step with data augmentation\"\"\"\n",
    "    # Apply data augmentation to the batch\n",
    "    if config.use_data_augmentation:\n",
    "        aug_images, rng = augment_batch(rng, batch_images)\n",
    "    else:\n",
    "        aug_images = batch_images\n",
    "    \n",
    "    # Define loss function for gradient computation\n",
    "    def loss_fn(p, bn):\n",
    "        loss, (updated_bn, updated_rng) = cross_entropy_loss(\n",
    "            p, bn, aug_images, batch_labels, True, rng, config\n",
    "        )\n",
    "        return loss, (updated_bn, updated_rng)\n",
    "    \n",
    "    # Compute loss and gradients\n",
    "    (loss, (updated_bn_stats, new_rng)), grads = value_and_grad(loss_fn, has_aux=True)(params, bn_stats)\n",
    "    \n",
    "    # Update parameters and optimizer state\n",
    "    optimizer = AdamWOptimizer(\n",
    "        learning_rate=config.current_lr,\n",
    "        weight_decay=config.weight_decay\n",
    "    )\n",
    "    updated_params, updated_opt_state = optimizer.update(params, grads, opt_state)\n",
    "    \n",
    "    return updated_params, updated_bn_stats, updated_opt_state, loss, new_rng"
   ]
  },
  {
   "cell_type": "code",
   "execution_count": 10,
   "id": "a3d0ec28-a7ab-4e0d-b3e7-2c108d5acdf0",
   "metadata": {},
   "outputs": [],
   "source": [
    "def main():\n",
    "    \"\"\"Main training function with improved model and regularization\"\"\"\n",
    "    print(\"\\n=== Improved CNN CIFAR-10 Classifier with Regularization ===\\n\")\n",
    "    \n",
    "    # --- MODEL CONFIGURATION ---\n",
    "    config = CNNConfig()\n",
    "    config.weight_decay = 1e-4  # L2 regularization factor\n",
    "    config.dropout_rate = 0.3   # Dropout rate\n",
    "    config.use_batch_norm = True\n",
    "    config.use_dropout = True\n",
    "    config.use_residual = True\n",
    "    config.use_global_pooling = True\n",
    "    config.use_data_augmentation = True\n",
    "    config.batch_norm_momentum = 0.9\n",
    "    \n",
    "    # --- TRAINING HYPERPARAMETERS ---\n",
    "    num_epochs = 50  # Train longer with early stopping\n",
    "    batch_size = 128\n",
    "    initial_learning_rate = 0.001\n",
    "    config.current_lr = initial_learning_rate  # For tracking during training\n",
    "    patience = 10  # Early stopping patience\n",
    "    checkpoint_path = 'best_cifar10_improved_model.pkl'\n",
    "    seed = 42\n",
    "    \n",
    "    # --- DEVICE SETUP ---\n",
    "    device = select_device(\"auto\")\n",
    "    \n",
    "    # --- DATA LOADING ---\n",
    "    print(\"\\nLoading CIFAR-10 dataset...\")\n",
    "    train_batches, valid_batches, test_batches = load_cifar10(\n",
    "        batch_size=batch_size, \n",
    "        seed=seed,\n",
    "        valid_ratio=0.1\n",
    "    )\n",
    "    \n",
    "    # --- MODEL INITIALIZATION ---\n",
    "    print(\"\\nInitializing model parameters...\")\n",
    "    rng = random.PRNGKey(seed)\n",
    "    rng, init_rng = random.split(rng)\n",
    "    params, bn_stats = initialize_improved_cnn_params(init_rng, config)\n",
    "    \n",
    "    # --- OPTIMIZER SETUP ---\n",
    "    print(\"Setting up AdamW optimizer...\")\n",
    "    optimizer = AdamWOptimizer(\n",
    "        learning_rate=initial_learning_rate,\n",
    "        weight_decay=config.weight_decay\n",
    "    )\n",
    "    opt_state = optimizer.init(params)\n",
    "    \n",
    "    # --- EARLY STOPPING ---\n",
    "    early_stopping = EarlyStopping(patience=patience)\n",
    "    \n",
    "    # --- METRICS TRACKING ---\n",
    "    train_losses, train_accuracies = [], []\n",
    "    valid_losses, valid_accuracies = [], []\n",
    "    best_valid_f1 = 0.0\n",
    "    \n",
    "    # --- TRAINING LOOP ---\n",
    "    print(\"\\nStarting training...\\n\")\n",
    "    \n",
    "    for epoch in range(1, num_epochs + 1):\n",
    "        # Learning rate scheduling (cosine decay)\n",
    "        config.current_lr = cosine_decay_schedule(\n",
    "            initial_learning_rate, \n",
    "            epoch - 1,  # 0-indexed for the scheduler\n",
    "            num_epochs,\n",
    "            warmup_epochs=5\n",
    "        )\n",
    "        \n",
    "        print(f\"Epoch {epoch}/{num_epochs} - Learning Rate: {config.current_lr:.6f}\")\n",
    "        \n",
    "        # Training phase\n",
    "        epoch_losses = []\n",
    "        rng, train_rng = random.split(rng)\n",
    "        \n",
    "        for batch_idx, (batch_images, batch_labels) in enumerate(tqdm(train_batches, desc=\"Training\")):\n",
    "            # Convert to JAX arrays\n",
    "            batch_images = jnp.array(batch_images)\n",
    "            batch_labels = jnp.array(batch_labels)\n",
    "            \n",
    "            # Perform training step\n",
    "            rng, step_rng = random.split(rng)\n",
    "            params, bn_stats, opt_state, loss, rng = train_step(\n",
    "                params, bn_stats, batch_images, batch_labels, opt_state, step_rng, config\n",
    "            )\n",
    "            \n",
    "            epoch_losses.append(loss)\n",
    "            \n",
    "            # Print progress every 50 batches\n",
    "            if (batch_idx + 1) % 50 == 0:\n",
    "                print(f\"  Batch {batch_idx + 1}/{len(train_batches)}, Loss: {loss:.4f}\")\n",
    "        \n",
    "        # Calculate average training loss for the epoch\n",
    "        train_loss = jnp.mean(jnp.array(epoch_losses))\n",
    "        train_losses.append(train_loss)\n",
    "        \n",
    "        # Evaluate on training set (using subset for efficiency)\n",
    "        print(\"Evaluating on training set...\")\n",
    "        train_eval_batches = train_batches[:len(train_batches)//10]  # Use 10% of training data for evaluation\n",
    "        rng, eval_rng = random.split(rng)\n",
    "        train_metrics = evaluate(params, bn_stats, train_eval_batches, eval_rng, config)\n",
    "        train_accuracy = train_metrics['accuracy']\n",
    "        train_accuracies.append(train_accuracy)\n",
    "        \n",
    "        # Evaluate on validation set\n",
    "        print(\"Evaluating on validation set...\")\n",
    "        rng, valid_rng = random.split(rng)\n",
    "        valid_metrics = evaluate(params, bn_stats, valid_batches, valid_rng, config)\n",
    "        valid_losses.append(valid_metrics['loss'])\n",
    "        valid_accuracies.append(valid_metrics['accuracy'])\n",
    "        \n",
    "        # Save model if improved\n",
    "        if valid_metrics['f1'] > best_valid_f1:\n",
    "            best_valid_f1 = valid_metrics['f1']\n",
    "            save_model(params, bn_stats, checkpoint_path)\n",
    "            print(f\"✅ New best model saved (F1: {best_valid_f1:.4f})\")\n",
    "        \n",
    "        # Print epoch summary\n",
    "        print(f\"Epoch {epoch:02d} Summary:\")\n",
    "        print(f\"  Train Loss: {train_loss:.4f}, Train Accuracy: {train_accuracy:.4f}\")\n",
    "        print(f\"  Valid Loss: {valid_metrics['loss']:.4f}, Valid Accuracy: {valid_metrics['accuracy']:.4f}\")\n",
    "        print(f\"  Valid Precision: {valid_metrics['precision']:.4f}, Valid Recall: {valid_metrics['recall']:.4f}, Valid F1: {valid_metrics['f1']:.4f}\")\n",
    "        \n",
    "        # Check for early stopping\n",
    "        if early_stopping(valid_metrics['loss']):\n",
    "            print(f\"Early stopping triggered after {epoch} epochs\")\n",
    "            break\n",
    "        \n",
    "        print()  # Add empty line between epochs\n",
    "    \n",
    "    # --- PLOT TRAINING CURVES ---\n",
    "    print(\"\\nPlotting training curves...\")\n",
    "    plot_training_curves(train_losses, valid_losses, train_accuracies, valid_accuracies)\n",
    "    \n",
    "    # --- FINAL EVALUATION ---\n",
    "    print(\"\\nLoading best model for final evaluation...\")\n",
    "    best_params, best_bn_stats = load_model(checkpoint_path)\n",
    "    \n",
    "    rng, final_rng = random.split(rng)\n",
    "    final_metrics = evaluate(best_params, best_bn_stats, test_batches, final_rng, config)\n",
    "    \n",
    "    print(\"\\n🏆 FINAL EVALUATION (Best Model):\")\n",
    "    print(f\"  Test Loss: {final_metrics['loss']:.4f}\")\n",
    "    print(f\"  Test Accuracy: {final_metrics['accuracy']:.4f}\")\n",
    "    print(f\"  Test Precision: {final_metrics['precision']:.4f}\")\n",
    "    print(f\"  Test Recall: {final_metrics['recall']:.4f}\")\n",
    "    print(f\"  Test F1: {final_metrics['f1']:.4f}\")\n",
    "    \n",
    "    print(\"\\nTraining completed!\")"
   ]
  },
  {
   "cell_type": "code",
   "execution_count": 11,
   "id": "b2e42916-490f-441b-96e4-c36a6d3945c8",
   "metadata": {},
   "outputs": [
    {
     "name": "stdout",
     "output_type": "stream",
     "text": [
      "\n",
      "=== Improved CNN CIFAR-10 Classifier with Regularization ===\n",
      "\n",
      "GPU detected, using GPU for training\n",
      "✅ Using device: cuda:0\n",
      "\n",
      "Loading CIFAR-10 dataset...\n",
      "Loading preprocessed CIFAR-10 data from cache...\n",
      "Created 352 training batches, 40 validation batches, and 79 test batches\n",
      "\n",
      "Initializing model parameters...\n",
      "Setting up AdamW optimizer...\n",
      "\n",
      "Starting training...\n",
      "\n",
      "Epoch 1/50 - Learning Rate: 0.000200\n"
     ]
    },
    {
     "name": "stderr",
     "output_type": "stream",
     "text": [
      "Training:  14%|█▍        | 50/352 [01:21<04:15,  1.18it/s] "
     ]
    },
    {
     "name": "stdout",
     "output_type": "stream",
     "text": [
      "  Batch 50/352, Loss: 1.9237\n"
     ]
    },
    {
     "name": "stderr",
     "output_type": "stream",
     "text": [
      "Training:  28%|██▊       | 100/352 [02:03<03:28,  1.21it/s]"
     ]
    },
    {
     "name": "stdout",
     "output_type": "stream",
     "text": [
      "  Batch 100/352, Loss: 1.9139\n"
     ]
    },
    {
     "name": "stderr",
     "output_type": "stream",
     "text": [
      "Training:  43%|████▎     | 150/352 [02:47<03:13,  1.04it/s]"
     ]
    },
    {
     "name": "stdout",
     "output_type": "stream",
     "text": [
      "  Batch 150/352, Loss: 1.8251\n"
     ]
    },
    {
     "name": "stderr",
     "output_type": "stream",
     "text": [
      "Training:  57%|█████▋    | 200/352 [03:32<02:09,  1.17it/s]"
     ]
    },
    {
     "name": "stdout",
     "output_type": "stream",
     "text": [
      "  Batch 200/352, Loss: 1.5903\n"
     ]
    },
    {
     "name": "stderr",
     "output_type": "stream",
     "text": [
      "Training:  71%|███████   | 250/352 [04:16<01:40,  1.01it/s]"
     ]
    },
    {
     "name": "stdout",
     "output_type": "stream",
     "text": [
      "  Batch 250/352, Loss: 1.5646\n"
     ]
    },
    {
     "name": "stderr",
     "output_type": "stream",
     "text": [
      "Training:  85%|████████▌ | 300/352 [05:00<00:44,  1.16it/s]"
     ]
    },
    {
     "name": "stdout",
     "output_type": "stream",
     "text": [
      "  Batch 300/352, Loss: 1.4121\n"
     ]
    },
    {
     "name": "stderr",
     "output_type": "stream",
     "text": [
      "Training:  99%|█████████▉| 350/352 [05:43<00:01,  1.19it/s]"
     ]
    },
    {
     "name": "stdout",
     "output_type": "stream",
     "text": [
      "  Batch 350/352, Loss: 1.3999\n"
     ]
    },
    {
     "name": "stderr",
     "output_type": "stream",
     "text": [
      "Training: 100%|██████████| 352/352 [06:10<00:00,  1.05s/it]\n"
     ]
    },
    {
     "name": "stdout",
     "output_type": "stream",
     "text": [
      "Evaluating on training set...\n",
      "Evaluating on validation set...\n",
      "✅ Model saved at best_cifar10_improved_model.pkl\n",
      "✅ New best model saved (F1: 0.4032)\n",
      "Epoch 01 Summary:\n",
      "  Train Loss: 1.7215, Train Accuracy: 0.4330\n",
      "  Valid Loss: 1.6222, Valid Accuracy: 0.4363\n",
      "  Valid Precision: 0.4970, Valid Recall: 0.4291, Valid F1: 0.4032\n",
      "\n",
      "Epoch 2/50 - Learning Rate: 0.000400\n"
     ]
    },
    {
     "name": "stderr",
     "output_type": "stream",
     "text": [
      "Training:  14%|█▍        | 50/352 [00:44<04:18,  1.17it/s]"
     ]
    },
    {
     "name": "stdout",
     "output_type": "stream",
     "text": [
      "  Batch 50/352, Loss: 1.3208\n"
     ]
    },
    {
     "name": "stderr",
     "output_type": "stream",
     "text": [
      "Training:  28%|██▊       | 100/352 [01:28<03:42,  1.13it/s]"
     ]
    },
    {
     "name": "stdout",
     "output_type": "stream",
     "text": [
      "  Batch 100/352, Loss: 1.3378\n"
     ]
    },
    {
     "name": "stderr",
     "output_type": "stream",
     "text": [
      "Training:  43%|████▎     | 150/352 [02:12<03:00,  1.12it/s]"
     ]
    },
    {
     "name": "stdout",
     "output_type": "stream",
     "text": [
      "  Batch 150/352, Loss: 1.3045\n"
     ]
    },
    {
     "name": "stderr",
     "output_type": "stream",
     "text": [
      "Training:  57%|█████▋    | 200/352 [02:56<02:16,  1.11it/s]"
     ]
    },
    {
     "name": "stdout",
     "output_type": "stream",
     "text": [
      "  Batch 200/352, Loss: 1.2723\n"
     ]
    },
    {
     "name": "stderr",
     "output_type": "stream",
     "text": [
      "Training:  71%|███████   | 250/352 [03:40<01:28,  1.15it/s]"
     ]
    },
    {
     "name": "stdout",
     "output_type": "stream",
     "text": [
      "  Batch 250/352, Loss: 1.4532\n"
     ]
    },
    {
     "name": "stderr",
     "output_type": "stream",
     "text": [
      "Training:  85%|████████▌ | 300/352 [04:25<00:45,  1.15it/s]"
     ]
    },
    {
     "name": "stdout",
     "output_type": "stream",
     "text": [
      "  Batch 300/352, Loss: 1.2474\n"
     ]
    },
    {
     "name": "stderr",
     "output_type": "stream",
     "text": [
      "Training:  99%|█████████▉| 350/352 [05:10<00:01,  1.11it/s]"
     ]
    },
    {
     "name": "stdout",
     "output_type": "stream",
     "text": [
      "  Batch 350/352, Loss: 1.1812\n"
     ]
    },
    {
     "name": "stderr",
     "output_type": "stream",
     "text": [
      "Training: 100%|██████████| 352/352 [05:11<00:00,  1.13it/s]\n"
     ]
    },
    {
     "name": "stdout",
     "output_type": "stream",
     "text": [
      "Evaluating on training set...\n",
      "Evaluating on validation set...\n",
      "✅ Model saved at best_cifar10_improved_model.pkl\n",
      "✅ New best model saved (F1: 0.5135)\n",
      "Epoch 02 Summary:\n",
      "  Train Loss: 1.3279, Train Accuracy: 0.5254\n",
      "  Valid Loss: 1.3229, Valid Accuracy: 0.5281\n",
      "  Valid Precision: 0.5996, Valid Recall: 0.5193, Valid F1: 0.5135\n",
      "\n",
      "Epoch 3/50 - Learning Rate: 0.000600\n"
     ]
    },
    {
     "name": "stderr",
     "output_type": "stream",
     "text": [
      "Training:  14%|█▍        | 50/352 [00:44<04:28,  1.12it/s]"
     ]
    },
    {
     "name": "stdout",
     "output_type": "stream",
     "text": [
      "  Batch 50/352, Loss: 1.3100\n"
     ]
    },
    {
     "name": "stderr",
     "output_type": "stream",
     "text": [
      "Training:  28%|██▊       | 100/352 [01:28<03:45,  1.12it/s]"
     ]
    },
    {
     "name": "stdout",
     "output_type": "stream",
     "text": [
      "  Batch 100/352, Loss: 1.1067\n"
     ]
    },
    {
     "name": "stderr",
     "output_type": "stream",
     "text": [
      "Training:  43%|████▎     | 150/352 [02:13<03:00,  1.12it/s]"
     ]
    },
    {
     "name": "stdout",
     "output_type": "stream",
     "text": [
      "  Batch 150/352, Loss: 1.0744\n"
     ]
    },
    {
     "name": "stderr",
     "output_type": "stream",
     "text": [
      "Training:  57%|█████▋    | 200/352 [02:58<02:17,  1.11it/s]"
     ]
    },
    {
     "name": "stdout",
     "output_type": "stream",
     "text": [
      "  Batch 200/352, Loss: 1.1404\n"
     ]
    },
    {
     "name": "stderr",
     "output_type": "stream",
     "text": [
      "Training:  71%|███████   | 250/352 [03:45<01:35,  1.06it/s]"
     ]
    },
    {
     "name": "stdout",
     "output_type": "stream",
     "text": [
      "  Batch 250/352, Loss: 1.2821\n"
     ]
    },
    {
     "name": "stderr",
     "output_type": "stream",
     "text": [
      "Training:  85%|████████▌ | 300/352 [04:30<00:46,  1.12it/s]"
     ]
    },
    {
     "name": "stdout",
     "output_type": "stream",
     "text": [
      "  Batch 300/352, Loss: 1.0305\n"
     ]
    },
    {
     "name": "stderr",
     "output_type": "stream",
     "text": [
      "Training:  99%|█████████▉| 350/352 [05:16<00:01,  1.12it/s]"
     ]
    },
    {
     "name": "stdout",
     "output_type": "stream",
     "text": [
      "  Batch 350/352, Loss: 1.0391\n"
     ]
    },
    {
     "name": "stderr",
     "output_type": "stream",
     "text": [
      "Training: 100%|██████████| 352/352 [05:17<00:00,  1.11it/s]\n"
     ]
    },
    {
     "name": "stdout",
     "output_type": "stream",
     "text": [
      "Evaluating on training set...\n",
      "Evaluating on validation set...\n",
      "✅ Model saved at best_cifar10_improved_model.pkl\n",
      "✅ New best model saved (F1: 0.5529)\n",
      "Epoch 03 Summary:\n",
      "  Train Loss: 1.1524, Train Accuracy: 0.5844\n",
      "  Valid Loss: 1.1655, Valid Accuracy: 0.5814\n",
      "  Valid Precision: 0.6523, Valid Recall: 0.5716, Valid F1: 0.5529\n",
      "\n",
      "Epoch 4/50 - Learning Rate: 0.000800\n"
     ]
    },
    {
     "name": "stderr",
     "output_type": "stream",
     "text": [
      "Training:  14%|█▍        | 50/352 [00:44<04:28,  1.12it/s]"
     ]
    },
    {
     "name": "stdout",
     "output_type": "stream",
     "text": [
      "  Batch 50/352, Loss: 1.0757\n"
     ]
    },
    {
     "name": "stderr",
     "output_type": "stream",
     "text": [
      "Training:  28%|██▊       | 100/352 [01:30<03:54,  1.07it/s]"
     ]
    },
    {
     "name": "stdout",
     "output_type": "stream",
     "text": [
      "  Batch 100/352, Loss: 1.0286\n"
     ]
    },
    {
     "name": "stderr",
     "output_type": "stream",
     "text": [
      "Training:  43%|████▎     | 150/352 [02:16<03:05,  1.09it/s]"
     ]
    },
    {
     "name": "stdout",
     "output_type": "stream",
     "text": [
      "  Batch 150/352, Loss: 0.9571\n"
     ]
    },
    {
     "name": "stderr",
     "output_type": "stream",
     "text": [
      "Training:  57%|█████▋    | 200/352 [03:04<02:38,  1.04s/it]"
     ]
    },
    {
     "name": "stdout",
     "output_type": "stream",
     "text": [
      "  Batch 200/352, Loss: 0.8873\n"
     ]
    },
    {
     "name": "stderr",
     "output_type": "stream",
     "text": [
      "Training:  71%|███████   | 250/352 [03:56<01:46,  1.05s/it]"
     ]
    },
    {
     "name": "stdout",
     "output_type": "stream",
     "text": [
      "  Batch 250/352, Loss: 1.0920\n"
     ]
    },
    {
     "name": "stderr",
     "output_type": "stream",
     "text": [
      "Training:  85%|████████▌ | 300/352 [04:46<00:50,  1.03it/s]"
     ]
    },
    {
     "name": "stdout",
     "output_type": "stream",
     "text": [
      "  Batch 300/352, Loss: 0.9857\n"
     ]
    },
    {
     "name": "stderr",
     "output_type": "stream",
     "text": [
      "Training:  99%|█████████▉| 350/352 [05:34<00:01,  1.03it/s]"
     ]
    },
    {
     "name": "stdout",
     "output_type": "stream",
     "text": [
      "  Batch 350/352, Loss: 0.8382\n"
     ]
    },
    {
     "name": "stderr",
     "output_type": "stream",
     "text": [
      "Training: 100%|██████████| 352/352 [05:36<00:00,  1.05it/s]\n"
     ]
    },
    {
     "name": "stdout",
     "output_type": "stream",
     "text": [
      "Evaluating on training set...\n",
      "Evaluating on validation set...\n",
      "✅ Model saved at best_cifar10_improved_model.pkl\n",
      "✅ New best model saved (F1: 0.5809)\n",
      "Epoch 04 Summary:\n",
      "  Train Loss: 1.0200, Train Accuracy: 0.6121\n",
      "  Valid Loss: 1.1009, Valid Accuracy: 0.6086\n",
      "  Valid Precision: 0.6952, Valid Recall: 0.6004, Valid F1: 0.5809\n",
      "\n",
      "Epoch 5/50 - Learning Rate: 0.001000\n"
     ]
    },
    {
     "name": "stderr",
     "output_type": "stream",
     "text": [
      "Training:  14%|█▍        | 50/352 [00:47<04:43,  1.07it/s]"
     ]
    },
    {
     "name": "stdout",
     "output_type": "stream",
     "text": [
      "  Batch 50/352, Loss: 0.9439\n"
     ]
    },
    {
     "name": "stderr",
     "output_type": "stream",
     "text": [
      "Training:  28%|██▊       | 100/352 [01:35<04:04,  1.03it/s]"
     ]
    },
    {
     "name": "stdout",
     "output_type": "stream",
     "text": [
      "  Batch 100/352, Loss: 0.9309\n"
     ]
    },
    {
     "name": "stderr",
     "output_type": "stream",
     "text": [
      "Training:  43%|████▎     | 150/352 [02:23<03:10,  1.06it/s]"
     ]
    },
    {
     "name": "stdout",
     "output_type": "stream",
     "text": [
      "  Batch 150/352, Loss: 0.7848\n"
     ]
    },
    {
     "name": "stderr",
     "output_type": "stream",
     "text": [
      "Training:  57%|█████▋    | 200/352 [03:11<02:29,  1.02it/s]"
     ]
    },
    {
     "name": "stdout",
     "output_type": "stream",
     "text": [
      "  Batch 200/352, Loss: 0.8586\n"
     ]
    },
    {
     "name": "stderr",
     "output_type": "stream",
     "text": [
      "Training:  71%|███████   | 250/352 [03:59<01:37,  1.04it/s]"
     ]
    },
    {
     "name": "stdout",
     "output_type": "stream",
     "text": [
      "  Batch 250/352, Loss: 0.9314\n"
     ]
    },
    {
     "name": "stderr",
     "output_type": "stream",
     "text": [
      "Training:  85%|████████▌ | 300/352 [04:47<00:50,  1.04it/s]"
     ]
    },
    {
     "name": "stdout",
     "output_type": "stream",
     "text": [
      "  Batch 300/352, Loss: 0.8046\n"
     ]
    },
    {
     "name": "stderr",
     "output_type": "stream",
     "text": [
      "Training:  99%|█████████▉| 350/352 [05:35<00:01,  1.02it/s]"
     ]
    },
    {
     "name": "stdout",
     "output_type": "stream",
     "text": [
      "  Batch 350/352, Loss: 0.8123\n"
     ]
    },
    {
     "name": "stderr",
     "output_type": "stream",
     "text": [
      "Training: 100%|██████████| 352/352 [05:37<00:00,  1.04it/s]\n"
     ]
    },
    {
     "name": "stdout",
     "output_type": "stream",
     "text": [
      "Evaluating on training set...\n",
      "Evaluating on validation set...\n",
      "✅ Model saved at best_cifar10_improved_model.pkl\n",
      "✅ New best model saved (F1: 0.6245)\n",
      "Epoch 05 Summary:\n",
      "  Train Loss: 0.9147, Train Accuracy: 0.6424\n",
      "  Valid Loss: 1.0070, Valid Accuracy: 0.6482\n",
      "  Valid Precision: 0.6918, Valid Recall: 0.6393, Valid F1: 0.6245\n",
      "\n",
      "Epoch 6/50 - Learning Rate: 0.001000\n"
     ]
    },
    {
     "name": "stderr",
     "output_type": "stream",
     "text": [
      "Training:  14%|█▍        | 50/352 [00:48<04:46,  1.05it/s]"
     ]
    },
    {
     "name": "stdout",
     "output_type": "stream",
     "text": [
      "  Batch 50/352, Loss: 0.7499\n"
     ]
    },
    {
     "name": "stderr",
     "output_type": "stream",
     "text": [
      "Training:  28%|██▊       | 100/352 [01:36<03:57,  1.06it/s]"
     ]
    },
    {
     "name": "stdout",
     "output_type": "stream",
     "text": [
      "  Batch 100/352, Loss: 0.7284\n"
     ]
    },
    {
     "name": "stderr",
     "output_type": "stream",
     "text": [
      "Training:  43%|████▎     | 150/352 [02:23<03:19,  1.01it/s]"
     ]
    },
    {
     "name": "stdout",
     "output_type": "stream",
     "text": [
      "  Batch 150/352, Loss: 0.7392\n"
     ]
    },
    {
     "name": "stderr",
     "output_type": "stream",
     "text": [
      "Training:  57%|█████▋    | 200/352 [03:14<02:27,  1.03it/s]"
     ]
    },
    {
     "name": "stdout",
     "output_type": "stream",
     "text": [
      "  Batch 200/352, Loss: 0.7882\n"
     ]
    },
    {
     "name": "stderr",
     "output_type": "stream",
     "text": [
      "Training:  71%|███████   | 250/352 [04:01<01:35,  1.07it/s]"
     ]
    },
    {
     "name": "stdout",
     "output_type": "stream",
     "text": [
      "  Batch 250/352, Loss: 0.9093\n"
     ]
    },
    {
     "name": "stderr",
     "output_type": "stream",
     "text": [
      "Training:  85%|████████▌ | 300/352 [04:49<00:49,  1.04it/s]"
     ]
    },
    {
     "name": "stdout",
     "output_type": "stream",
     "text": [
      "  Batch 300/352, Loss: 0.7130\n"
     ]
    },
    {
     "name": "stderr",
     "output_type": "stream",
     "text": [
      "Training:  99%|█████████▉| 350/352 [05:37<00:01,  1.04it/s]"
     ]
    },
    {
     "name": "stdout",
     "output_type": "stream",
     "text": [
      "  Batch 350/352, Loss: 0.6330\n"
     ]
    },
    {
     "name": "stderr",
     "output_type": "stream",
     "text": [
      "Training: 100%|██████████| 352/352 [05:38<00:00,  1.04it/s]\n"
     ]
    },
    {
     "name": "stdout",
     "output_type": "stream",
     "text": [
      "Evaluating on training set...\n",
      "Evaluating on validation set...\n",
      "✅ Model saved at best_cifar10_improved_model.pkl\n",
      "✅ New best model saved (F1: 0.6530)\n",
      "Epoch 06 Summary:\n",
      "  Train Loss: 0.8088, Train Accuracy: 0.6621\n",
      "  Valid Loss: 0.9416, Valid Accuracy: 0.6674\n",
      "  Valid Precision: 0.7446, Valid Recall: 0.6578, Valid F1: 0.6530\n",
      "\n",
      "Epoch 7/50 - Learning Rate: 0.000999\n"
     ]
    },
    {
     "name": "stderr",
     "output_type": "stream",
     "text": [
      "Training:  14%|█▍        | 50/352 [00:48<04:48,  1.05it/s]"
     ]
    },
    {
     "name": "stdout",
     "output_type": "stream",
     "text": [
      "  Batch 50/352, Loss: 0.6201\n"
     ]
    },
    {
     "name": "stderr",
     "output_type": "stream",
     "text": [
      "Training:  28%|██▊       | 100/352 [01:35<03:56,  1.07it/s]"
     ]
    },
    {
     "name": "stdout",
     "output_type": "stream",
     "text": [
      "  Batch 100/352, Loss: 0.6556\n"
     ]
    },
    {
     "name": "stderr",
     "output_type": "stream",
     "text": [
      "Training:  43%|████▎     | 150/352 [02:24<03:16,  1.03it/s]"
     ]
    },
    {
     "name": "stdout",
     "output_type": "stream",
     "text": [
      "  Batch 150/352, Loss: 0.6729\n"
     ]
    },
    {
     "name": "stderr",
     "output_type": "stream",
     "text": [
      "Training:  57%|█████▋    | 200/352 [03:12<02:29,  1.02it/s]"
     ]
    },
    {
     "name": "stdout",
     "output_type": "stream",
     "text": [
      "  Batch 200/352, Loss: 0.6870\n"
     ]
    },
    {
     "name": "stderr",
     "output_type": "stream",
     "text": [
      "Training:  71%|███████   | 250/352 [04:03<01:40,  1.02it/s]"
     ]
    },
    {
     "name": "stdout",
     "output_type": "stream",
     "text": [
      "  Batch 250/352, Loss: 0.8327\n"
     ]
    },
    {
     "name": "stderr",
     "output_type": "stream",
     "text": [
      "Training:  85%|████████▌ | 300/352 [04:51<00:49,  1.06it/s]"
     ]
    },
    {
     "name": "stdout",
     "output_type": "stream",
     "text": [
      "  Batch 300/352, Loss: 0.5880\n"
     ]
    },
    {
     "name": "stderr",
     "output_type": "stream",
     "text": [
      "Training:  99%|█████████▉| 350/352 [05:39<00:01,  1.06it/s]"
     ]
    },
    {
     "name": "stdout",
     "output_type": "stream",
     "text": [
      "  Batch 350/352, Loss: 0.6758\n"
     ]
    },
    {
     "name": "stderr",
     "output_type": "stream",
     "text": [
      "Training: 100%|██████████| 352/352 [05:40<00:00,  1.03it/s]\n"
     ]
    },
    {
     "name": "stdout",
     "output_type": "stream",
     "text": [
      "Evaluating on training set...\n",
      "Evaluating on validation set...\n",
      "✅ Model saved at best_cifar10_improved_model.pkl\n",
      "✅ New best model saved (F1: 0.7199)\n",
      "Epoch 07 Summary:\n",
      "  Train Loss: 0.7311, Train Accuracy: 0.7348\n",
      "  Valid Loss: 0.7467, Valid Accuracy: 0.7334\n",
      "  Valid Precision: 0.7634, Valid Recall: 0.7245, Valid F1: 0.7199\n",
      "\n",
      "Epoch 8/50 - Learning Rate: 0.000995\n"
     ]
    },
    {
     "name": "stderr",
     "output_type": "stream",
     "text": [
      "Training:  14%|█▍        | 50/352 [00:49<04:56,  1.02it/s]"
     ]
    },
    {
     "name": "stdout",
     "output_type": "stream",
     "text": [
      "  Batch 50/352, Loss: 0.5782\n"
     ]
    },
    {
     "name": "stderr",
     "output_type": "stream",
     "text": [
      "Training:  28%|██▊       | 100/352 [01:38<04:14,  1.01s/it]"
     ]
    },
    {
     "name": "stdout",
     "output_type": "stream",
     "text": [
      "  Batch 100/352, Loss: 0.7400\n"
     ]
    },
    {
     "name": "stderr",
     "output_type": "stream",
     "text": [
      "Training:  43%|████▎     | 150/352 [02:26<03:11,  1.05it/s]"
     ]
    },
    {
     "name": "stdout",
     "output_type": "stream",
     "text": [
      "  Batch 150/352, Loss: 0.6245\n"
     ]
    },
    {
     "name": "stderr",
     "output_type": "stream",
     "text": [
      "Training:  57%|█████▋    | 200/352 [03:14<02:24,  1.05it/s]"
     ]
    },
    {
     "name": "stdout",
     "output_type": "stream",
     "text": [
      "  Batch 200/352, Loss: 0.6646\n"
     ]
    },
    {
     "name": "stderr",
     "output_type": "stream",
     "text": [
      "Training:  71%|███████   | 250/352 [04:02<01:39,  1.03it/s]"
     ]
    },
    {
     "name": "stdout",
     "output_type": "stream",
     "text": [
      "  Batch 250/352, Loss: 0.7316\n"
     ]
    },
    {
     "name": "stderr",
     "output_type": "stream",
     "text": [
      "Training:  85%|████████▌ | 300/352 [04:50<00:49,  1.06it/s]"
     ]
    },
    {
     "name": "stdout",
     "output_type": "stream",
     "text": [
      "  Batch 300/352, Loss: 0.6311\n"
     ]
    },
    {
     "name": "stderr",
     "output_type": "stream",
     "text": [
      "Training:  99%|█████████▉| 350/352 [05:38<00:01,  1.04it/s]"
     ]
    },
    {
     "name": "stdout",
     "output_type": "stream",
     "text": [
      "  Batch 350/352, Loss: 0.5503\n"
     ]
    },
    {
     "name": "stderr",
     "output_type": "stream",
     "text": [
      "Training: 100%|██████████| 352/352 [05:40<00:00,  1.03it/s]\n"
     ]
    },
    {
     "name": "stdout",
     "output_type": "stream",
     "text": [
      "Evaluating on training set...\n",
      "Evaluating on validation set...\n",
      "✅ Model saved at best_cifar10_improved_model.pkl\n",
      "✅ New best model saved (F1: 0.7252)\n",
      "Epoch 08 Summary:\n",
      "  Train Loss: 0.6695, Train Accuracy: 0.7373\n",
      "  Valid Loss: 0.7851, Valid Accuracy: 0.7338\n",
      "  Valid Precision: 0.7790, Valid Recall: 0.7248, Valid F1: 0.7252\n",
      "\n",
      "Epoch 9/50 - Learning Rate: 0.000989\n"
     ]
    },
    {
     "name": "stderr",
     "output_type": "stream",
     "text": [
      "Training:  14%|█▍        | 50/352 [00:50<04:57,  1.01it/s]"
     ]
    },
    {
     "name": "stdout",
     "output_type": "stream",
     "text": [
      "  Batch 50/352, Loss: 0.4650\n"
     ]
    },
    {
     "name": "stderr",
     "output_type": "stream",
     "text": [
      "Training:  28%|██▊       | 100/352 [01:39<04:06,  1.02it/s]"
     ]
    },
    {
     "name": "stdout",
     "output_type": "stream",
     "text": [
      "  Batch 100/352, Loss: 0.6009\n"
     ]
    },
    {
     "name": "stderr",
     "output_type": "stream",
     "text": [
      "Training:  43%|████▎     | 150/352 [02:27<03:14,  1.04it/s]"
     ]
    },
    {
     "name": "stdout",
     "output_type": "stream",
     "text": [
      "  Batch 150/352, Loss: 0.4661\n"
     ]
    },
    {
     "name": "stderr",
     "output_type": "stream",
     "text": [
      "Training:  57%|█████▋    | 200/352 [03:16<02:27,  1.03it/s]"
     ]
    },
    {
     "name": "stdout",
     "output_type": "stream",
     "text": [
      "  Batch 200/352, Loss: 0.6128\n"
     ]
    },
    {
     "name": "stderr",
     "output_type": "stream",
     "text": [
      "Training:  71%|███████   | 250/352 [04:04<01:35,  1.07it/s]"
     ]
    },
    {
     "name": "stdout",
     "output_type": "stream",
     "text": [
      "  Batch 250/352, Loss: 0.6090\n"
     ]
    },
    {
     "name": "stderr",
     "output_type": "stream",
     "text": [
      "Training:  85%|████████▌ | 300/352 [04:52<00:49,  1.04it/s]"
     ]
    },
    {
     "name": "stdout",
     "output_type": "stream",
     "text": [
      "  Batch 300/352, Loss: 0.5631\n"
     ]
    },
    {
     "name": "stderr",
     "output_type": "stream",
     "text": [
      "Training:  99%|█████████▉| 350/352 [05:41<00:01,  1.05it/s]"
     ]
    },
    {
     "name": "stdout",
     "output_type": "stream",
     "text": [
      "  Batch 350/352, Loss: 0.5830\n"
     ]
    },
    {
     "name": "stderr",
     "output_type": "stream",
     "text": [
      "Training: 100%|██████████| 352/352 [05:42<00:00,  1.03it/s]\n"
     ]
    },
    {
     "name": "stdout",
     "output_type": "stream",
     "text": [
      "Evaluating on training set...\n",
      "Evaluating on validation set...\n",
      "✅ Model saved at best_cifar10_improved_model.pkl\n",
      "✅ New best model saved (F1: 0.7761)\n",
      "Epoch 09 Summary:\n",
      "  Train Loss: 0.6237, Train Accuracy: 0.7817\n",
      "  Valid Loss: 0.6342, Valid Accuracy: 0.7879\n",
      "  Valid Precision: 0.8119, Valid Recall: 0.7821, Valid F1: 0.7761\n",
      "\n",
      "Epoch 10/50 - Learning Rate: 0.000981\n"
     ]
    },
    {
     "name": "stderr",
     "output_type": "stream",
     "text": [
      "Training:  14%|█▍        | 50/352 [00:46<04:40,  1.08it/s]"
     ]
    },
    {
     "name": "stdout",
     "output_type": "stream",
     "text": [
      "  Batch 50/352, Loss: 0.5093\n"
     ]
    },
    {
     "name": "stderr",
     "output_type": "stream",
     "text": [
      "Training:  28%|██▊       | 100/352 [01:33<03:58,  1.06it/s]"
     ]
    },
    {
     "name": "stdout",
     "output_type": "stream",
     "text": [
      "  Batch 100/352, Loss: 0.5292\n"
     ]
    },
    {
     "name": "stderr",
     "output_type": "stream",
     "text": [
      "Training:  43%|████▎     | 150/352 [02:21<03:11,  1.05it/s]"
     ]
    },
    {
     "name": "stdout",
     "output_type": "stream",
     "text": [
      "  Batch 150/352, Loss: 0.4277\n"
     ]
    },
    {
     "name": "stderr",
     "output_type": "stream",
     "text": [
      "Training:  57%|█████▋    | 200/352 [03:09<02:29,  1.02it/s]"
     ]
    },
    {
     "name": "stdout",
     "output_type": "stream",
     "text": [
      "  Batch 200/352, Loss: 0.5609\n"
     ]
    },
    {
     "name": "stderr",
     "output_type": "stream",
     "text": [
      "Training:  71%|███████   | 250/352 [03:57<01:37,  1.05it/s]"
     ]
    },
    {
     "name": "stdout",
     "output_type": "stream",
     "text": [
      "  Batch 250/352, Loss: 0.5428\n"
     ]
    },
    {
     "name": "stderr",
     "output_type": "stream",
     "text": [
      "Training:  85%|████████▌ | 300/352 [04:45<00:49,  1.04it/s]"
     ]
    },
    {
     "name": "stdout",
     "output_type": "stream",
     "text": [
      "  Batch 300/352, Loss: 0.5856\n"
     ]
    },
    {
     "name": "stderr",
     "output_type": "stream",
     "text": [
      "Training:  99%|█████████▉| 350/352 [05:32<00:01,  1.08it/s]"
     ]
    },
    {
     "name": "stdout",
     "output_type": "stream",
     "text": [
      "  Batch 350/352, Loss: 0.4783\n"
     ]
    },
    {
     "name": "stderr",
     "output_type": "stream",
     "text": [
      "Training: 100%|██████████| 352/352 [05:33<00:00,  1.05it/s]\n"
     ]
    },
    {
     "name": "stdout",
     "output_type": "stream",
     "text": [
      "Evaluating on training set...\n",
      "Evaluating on validation set...\n",
      "✅ Model saved at best_cifar10_improved_model.pkl\n",
      "✅ New best model saved (F1: 0.7881)\n",
      "Epoch 10 Summary:\n",
      "  Train Loss: 0.5817, Train Accuracy: 0.8042\n",
      "  Valid Loss: 0.6100, Valid Accuracy: 0.7994\n",
      "  Valid Precision: 0.8102, Valid Recall: 0.7904, Valid F1: 0.7881\n",
      "\n",
      "Epoch 11/50 - Learning Rate: 0.000970\n"
     ]
    },
    {
     "name": "stderr",
     "output_type": "stream",
     "text": [
      "Training:  14%|█▍        | 50/352 [00:47<04:46,  1.05it/s]"
     ]
    },
    {
     "name": "stdout",
     "output_type": "stream",
     "text": [
      "  Batch 50/352, Loss: 0.4067\n"
     ]
    },
    {
     "name": "stderr",
     "output_type": "stream",
     "text": [
      "Training:  28%|██▊       | 100/352 [01:34<03:57,  1.06it/s]"
     ]
    },
    {
     "name": "stdout",
     "output_type": "stream",
     "text": [
      "  Batch 100/352, Loss: 0.4624\n"
     ]
    },
    {
     "name": "stderr",
     "output_type": "stream",
     "text": [
      "Training:  43%|████▎     | 150/352 [02:22<03:14,  1.04it/s]"
     ]
    },
    {
     "name": "stdout",
     "output_type": "stream",
     "text": [
      "  Batch 150/352, Loss: 0.4090\n"
     ]
    },
    {
     "name": "stderr",
     "output_type": "stream",
     "text": [
      "Training:  57%|█████▋    | 200/352 [03:10<02:25,  1.05it/s]"
     ]
    },
    {
     "name": "stdout",
     "output_type": "stream",
     "text": [
      "  Batch 200/352, Loss: 0.5548\n"
     ]
    },
    {
     "name": "stderr",
     "output_type": "stream",
     "text": [
      "Training:  71%|███████   | 250/352 [03:58<01:38,  1.04it/s]"
     ]
    },
    {
     "name": "stdout",
     "output_type": "stream",
     "text": [
      "  Batch 250/352, Loss: 0.5904\n"
     ]
    },
    {
     "name": "stderr",
     "output_type": "stream",
     "text": [
      "Training:  85%|████████▌ | 300/352 [04:46<00:48,  1.07it/s]"
     ]
    },
    {
     "name": "stdout",
     "output_type": "stream",
     "text": [
      "  Batch 300/352, Loss: 0.5868\n"
     ]
    },
    {
     "name": "stderr",
     "output_type": "stream",
     "text": [
      "Training:  99%|█████████▉| 350/352 [05:34<00:01,  1.01it/s]"
     ]
    },
    {
     "name": "stdout",
     "output_type": "stream",
     "text": [
      "  Batch 350/352, Loss: 0.4923\n"
     ]
    },
    {
     "name": "stderr",
     "output_type": "stream",
     "text": [
      "Training: 100%|██████████| 352/352 [05:35<00:00,  1.05it/s]\n"
     ]
    },
    {
     "name": "stdout",
     "output_type": "stream",
     "text": [
      "Evaluating on training set...\n",
      "Evaluating on validation set...\n",
      "Epoch 11 Summary:\n",
      "  Train Loss: 0.5434, Train Accuracy: 0.8047\n",
      "  Valid Loss: 0.6297, Valid Accuracy: 0.7904\n",
      "  Valid Precision: 0.7991, Valid Recall: 0.7843, Valid F1: 0.7778\n",
      "\n",
      "Epoch 12/50 - Learning Rate: 0.000957\n"
     ]
    },
    {
     "name": "stderr",
     "output_type": "stream",
     "text": [
      "Training:  14%|█▍        | 50/352 [00:48<05:01,  1.00it/s]"
     ]
    },
    {
     "name": "stdout",
     "output_type": "stream",
     "text": [
      "  Batch 50/352, Loss: 0.3448\n"
     ]
    },
    {
     "name": "stderr",
     "output_type": "stream",
     "text": [
      "Training:  28%|██▊       | 100/352 [01:36<04:01,  1.04it/s]"
     ]
    },
    {
     "name": "stdout",
     "output_type": "stream",
     "text": [
      "  Batch 100/352, Loss: 0.4410\n"
     ]
    },
    {
     "name": "stderr",
     "output_type": "stream",
     "text": [
      "Training:  43%|████▎     | 150/352 [02:25<03:13,  1.05it/s]"
     ]
    },
    {
     "name": "stdout",
     "output_type": "stream",
     "text": [
      "  Batch 150/352, Loss: 0.3945\n"
     ]
    },
    {
     "name": "stderr",
     "output_type": "stream",
     "text": [
      "Training:  57%|█████▋    | 200/352 [03:12<02:22,  1.07it/s]"
     ]
    },
    {
     "name": "stdout",
     "output_type": "stream",
     "text": [
      "  Batch 200/352, Loss: 0.5221\n"
     ]
    },
    {
     "name": "stderr",
     "output_type": "stream",
     "text": [
      "Training:  71%|███████   | 250/352 [04:00<01:41,  1.01it/s]"
     ]
    },
    {
     "name": "stdout",
     "output_type": "stream",
     "text": [
      "  Batch 250/352, Loss: 0.4727\n"
     ]
    },
    {
     "name": "stderr",
     "output_type": "stream",
     "text": [
      "Training:  85%|████████▌ | 300/352 [04:48<00:48,  1.07it/s]"
     ]
    },
    {
     "name": "stdout",
     "output_type": "stream",
     "text": [
      "  Batch 300/352, Loss: 0.4266\n"
     ]
    },
    {
     "name": "stderr",
     "output_type": "stream",
     "text": [
      "Training:  99%|█████████▉| 350/352 [05:34<00:01,  1.07it/s]"
     ]
    },
    {
     "name": "stdout",
     "output_type": "stream",
     "text": [
      "  Batch 350/352, Loss: 0.5290\n"
     ]
    },
    {
     "name": "stderr",
     "output_type": "stream",
     "text": [
      "Training: 100%|██████████| 352/352 [05:36<00:00,  1.05it/s]\n"
     ]
    },
    {
     "name": "stdout",
     "output_type": "stream",
     "text": [
      "Evaluating on training set...\n",
      "Evaluating on validation set...\n",
      "Epoch 12 Summary:\n",
      "  Train Loss: 0.5067, Train Accuracy: 0.7783\n",
      "  Valid Loss: 0.6864, Valid Accuracy: 0.7625\n",
      "  Valid Precision: 0.7929, Valid Recall: 0.7538, Valid F1: 0.7462\n",
      "\n",
      "Epoch 13/50 - Learning Rate: 0.000941\n"
     ]
    },
    {
     "name": "stderr",
     "output_type": "stream",
     "text": [
      "Training:  14%|█▍        | 50/352 [00:47<04:45,  1.06it/s]"
     ]
    },
    {
     "name": "stdout",
     "output_type": "stream",
     "text": [
      "  Batch 50/352, Loss: 0.3807\n"
     ]
    },
    {
     "name": "stderr",
     "output_type": "stream",
     "text": [
      "Training:  28%|██▊       | 100/352 [01:38<04:27,  1.06s/it]"
     ]
    },
    {
     "name": "stdout",
     "output_type": "stream",
     "text": [
      "  Batch 100/352, Loss: 0.4391\n"
     ]
    },
    {
     "name": "stderr",
     "output_type": "stream",
     "text": [
      "Training:  43%|████▎     | 150/352 [02:26<03:15,  1.03it/s]"
     ]
    },
    {
     "name": "stdout",
     "output_type": "stream",
     "text": [
      "  Batch 150/352, Loss: 0.4111\n"
     ]
    },
    {
     "name": "stderr",
     "output_type": "stream",
     "text": [
      "Training:  57%|█████▋    | 200/352 [03:15<02:43,  1.08s/it]"
     ]
    },
    {
     "name": "stdout",
     "output_type": "stream",
     "text": [
      "  Batch 200/352, Loss: 0.4798\n"
     ]
    },
    {
     "name": "stderr",
     "output_type": "stream",
     "text": [
      "Training:  71%|███████   | 250/352 [04:07<01:36,  1.06it/s]"
     ]
    },
    {
     "name": "stdout",
     "output_type": "stream",
     "text": [
      "  Batch 250/352, Loss: 0.5092\n"
     ]
    },
    {
     "name": "stderr",
     "output_type": "stream",
     "text": [
      "Training:  85%|████████▌ | 300/352 [04:55<00:50,  1.04it/s]"
     ]
    },
    {
     "name": "stdout",
     "output_type": "stream",
     "text": [
      "  Batch 300/352, Loss: 0.5027\n"
     ]
    },
    {
     "name": "stderr",
     "output_type": "stream",
     "text": [
      "Training:  99%|█████████▉| 350/352 [05:43<00:01,  1.04it/s]"
     ]
    },
    {
     "name": "stdout",
     "output_type": "stream",
     "text": [
      "  Batch 350/352, Loss: 0.4577\n"
     ]
    },
    {
     "name": "stderr",
     "output_type": "stream",
     "text": [
      "Training: 100%|██████████| 352/352 [05:45<00:00,  1.02it/s]\n"
     ]
    },
    {
     "name": "stdout",
     "output_type": "stream",
     "text": [
      "Evaluating on training set...\n",
      "Evaluating on validation set...\n",
      "Epoch 13 Summary:\n",
      "  Train Loss: 0.4842, Train Accuracy: 0.7987\n",
      "  Valid Loss: 0.6288, Valid Accuracy: 0.7908\n",
      "  Valid Precision: 0.8097, Valid Recall: 0.7834, Valid F1: 0.7776\n",
      "\n",
      "Epoch 14/50 - Learning Rate: 0.000924\n"
     ]
    },
    {
     "name": "stderr",
     "output_type": "stream",
     "text": [
      "Training:  14%|█▍        | 50/352 [00:47<04:40,  1.08it/s]"
     ]
    },
    {
     "name": "stdout",
     "output_type": "stream",
     "text": [
      "  Batch 50/352, Loss: 0.3037\n"
     ]
    },
    {
     "name": "stderr",
     "output_type": "stream",
     "text": [
      "Training:  28%|██▊       | 100/352 [01:34<04:00,  1.05it/s]"
     ]
    },
    {
     "name": "stdout",
     "output_type": "stream",
     "text": [
      "  Batch 100/352, Loss: 0.4511\n"
     ]
    },
    {
     "name": "stderr",
     "output_type": "stream",
     "text": [
      "Training:  43%|████▎     | 150/352 [02:23<03:15,  1.03it/s]"
     ]
    },
    {
     "name": "stdout",
     "output_type": "stream",
     "text": [
      "  Batch 150/352, Loss: 0.3789\n"
     ]
    },
    {
     "name": "stderr",
     "output_type": "stream",
     "text": [
      "Training:  57%|█████▋    | 200/352 [03:11<02:22,  1.06it/s]"
     ]
    },
    {
     "name": "stdout",
     "output_type": "stream",
     "text": [
      "  Batch 200/352, Loss: 0.4105\n"
     ]
    },
    {
     "name": "stderr",
     "output_type": "stream",
     "text": [
      "Training:  71%|███████   | 250/352 [04:01<01:39,  1.03it/s]"
     ]
    },
    {
     "name": "stdout",
     "output_type": "stream",
     "text": [
      "  Batch 250/352, Loss: 0.4686\n"
     ]
    },
    {
     "name": "stderr",
     "output_type": "stream",
     "text": [
      "Training:  85%|████████▌ | 300/352 [04:49<00:52,  1.01s/it]"
     ]
    },
    {
     "name": "stdout",
     "output_type": "stream",
     "text": [
      "  Batch 300/352, Loss: 0.4194\n"
     ]
    },
    {
     "name": "stderr",
     "output_type": "stream",
     "text": [
      "Training:  99%|█████████▉| 350/352 [05:36<00:01,  1.02it/s]"
     ]
    },
    {
     "name": "stdout",
     "output_type": "stream",
     "text": [
      "  Batch 350/352, Loss: 0.3998\n"
     ]
    },
    {
     "name": "stderr",
     "output_type": "stream",
     "text": [
      "Training: 100%|██████████| 352/352 [05:38<00:00,  1.04it/s]\n"
     ]
    },
    {
     "name": "stdout",
     "output_type": "stream",
     "text": [
      "Evaluating on training set...\n",
      "Evaluating on validation set...\n",
      "Epoch 14 Summary:\n",
      "  Train Loss: 0.4526, Train Accuracy: 0.8116\n",
      "  Valid Loss: 0.6230, Valid Accuracy: 0.7906\n",
      "  Valid Precision: 0.8086, Valid Recall: 0.7832, Valid F1: 0.7810\n",
      "\n",
      "Epoch 15/50 - Learning Rate: 0.000905\n"
     ]
    },
    {
     "name": "stderr",
     "output_type": "stream",
     "text": [
      "Training:  14%|█▍        | 50/352 [00:48<04:45,  1.06it/s]"
     ]
    },
    {
     "name": "stdout",
     "output_type": "stream",
     "text": [
      "  Batch 50/352, Loss: 0.3728\n"
     ]
    },
    {
     "name": "stderr",
     "output_type": "stream",
     "text": [
      "Training:  28%|██▊       | 100/352 [01:36<04:10,  1.01it/s]"
     ]
    },
    {
     "name": "stdout",
     "output_type": "stream",
     "text": [
      "  Batch 100/352, Loss: 0.3980\n"
     ]
    },
    {
     "name": "stderr",
     "output_type": "stream",
     "text": [
      "Training:  43%|████▎     | 150/352 [02:25<03:17,  1.02it/s]"
     ]
    },
    {
     "name": "stdout",
     "output_type": "stream",
     "text": [
      "  Batch 150/352, Loss: 0.3618\n"
     ]
    },
    {
     "name": "stderr",
     "output_type": "stream",
     "text": [
      "Training:  57%|█████▋    | 200/352 [03:14<02:23,  1.06it/s]"
     ]
    },
    {
     "name": "stdout",
     "output_type": "stream",
     "text": [
      "  Batch 200/352, Loss: 0.4892\n"
     ]
    },
    {
     "name": "stderr",
     "output_type": "stream",
     "text": [
      "Training:  71%|███████   | 250/352 [04:02<01:39,  1.03it/s]"
     ]
    },
    {
     "name": "stdout",
     "output_type": "stream",
     "text": [
      "  Batch 250/352, Loss: 0.4183\n"
     ]
    },
    {
     "name": "stderr",
     "output_type": "stream",
     "text": [
      "Training:  85%|████████▌ | 300/352 [04:49<00:49,  1.05it/s]"
     ]
    },
    {
     "name": "stdout",
     "output_type": "stream",
     "text": [
      "  Batch 300/352, Loss: 0.4022\n"
     ]
    },
    {
     "name": "stderr",
     "output_type": "stream",
     "text": [
      "Training:  99%|█████████▉| 350/352 [05:37<00:01,  1.07it/s]"
     ]
    },
    {
     "name": "stdout",
     "output_type": "stream",
     "text": [
      "  Batch 350/352, Loss: 0.3635\n"
     ]
    },
    {
     "name": "stderr",
     "output_type": "stream",
     "text": [
      "Training: 100%|██████████| 352/352 [05:38<00:00,  1.04it/s]\n"
     ]
    },
    {
     "name": "stdout",
     "output_type": "stream",
     "text": [
      "Evaluating on training set...\n",
      "Evaluating on validation set...\n",
      "✅ Model saved at best_cifar10_improved_model.pkl\n",
      "✅ New best model saved (F1: 0.8364)\n",
      "Epoch 15 Summary:\n",
      "  Train Loss: 0.4346, Train Accuracy: 0.8654\n",
      "  Valid Loss: 0.4412, Valid Accuracy: 0.8480\n",
      "  Valid Precision: 0.8449, Valid Recall: 0.8416, Valid F1: 0.8364\n",
      "\n",
      "Epoch 16/50 - Learning Rate: 0.000883\n"
     ]
    },
    {
     "name": "stderr",
     "output_type": "stream",
     "text": [
      "Training:  14%|█▍        | 50/352 [00:47<04:50,  1.04it/s]"
     ]
    },
    {
     "name": "stdout",
     "output_type": "stream",
     "text": [
      "  Batch 50/352, Loss: 0.3022\n"
     ]
    },
    {
     "name": "stderr",
     "output_type": "stream",
     "text": [
      "Training:  28%|██▊       | 100/352 [01:36<04:19,  1.03s/it]"
     ]
    },
    {
     "name": "stdout",
     "output_type": "stream",
     "text": [
      "  Batch 100/352, Loss: 0.4916\n"
     ]
    },
    {
     "name": "stderr",
     "output_type": "stream",
     "text": [
      "Training:  43%|████▎     | 150/352 [02:25<03:11,  1.05it/s]"
     ]
    },
    {
     "name": "stdout",
     "output_type": "stream",
     "text": [
      "  Batch 150/352, Loss: 0.3619\n"
     ]
    },
    {
     "name": "stderr",
     "output_type": "stream",
     "text": [
      "Training:  57%|█████▋    | 200/352 [03:13<02:24,  1.05it/s]"
     ]
    },
    {
     "name": "stdout",
     "output_type": "stream",
     "text": [
      "  Batch 200/352, Loss: 0.3985\n"
     ]
    },
    {
     "name": "stderr",
     "output_type": "stream",
     "text": [
      "Training:  71%|███████   | 250/352 [04:00<01:36,  1.06it/s]"
     ]
    },
    {
     "name": "stdout",
     "output_type": "stream",
     "text": [
      "  Batch 250/352, Loss: 0.4016\n"
     ]
    },
    {
     "name": "stderr",
     "output_type": "stream",
     "text": [
      "Training:  85%|████████▌ | 300/352 [04:48<00:49,  1.06it/s]"
     ]
    },
    {
     "name": "stdout",
     "output_type": "stream",
     "text": [
      "  Batch 300/352, Loss: 0.4529\n"
     ]
    },
    {
     "name": "stderr",
     "output_type": "stream",
     "text": [
      "Training:  99%|█████████▉| 350/352 [05:36<00:01,  1.06it/s]"
     ]
    },
    {
     "name": "stdout",
     "output_type": "stream",
     "text": [
      "  Batch 350/352, Loss: 0.3494\n"
     ]
    },
    {
     "name": "stderr",
     "output_type": "stream",
     "text": [
      "Training: 100%|██████████| 352/352 [05:37<00:00,  1.04it/s]\n"
     ]
    },
    {
     "name": "stdout",
     "output_type": "stream",
     "text": [
      "Evaluating on training set...\n",
      "Evaluating on validation set...\n",
      "✅ Model saved at best_cifar10_improved_model.pkl\n",
      "✅ New best model saved (F1: 0.8445)\n",
      "Epoch 16 Summary:\n",
      "  Train Loss: 0.4125, Train Accuracy: 0.8717\n",
      "  Valid Loss: 0.4186, Valid Accuracy: 0.8578\n",
      "  Valid Precision: 0.8529, Valid Recall: 0.8513, Valid F1: 0.8445\n",
      "\n",
      "Epoch 17/50 - Learning Rate: 0.000860\n"
     ]
    },
    {
     "name": "stderr",
     "output_type": "stream",
     "text": [
      "Training:  14%|█▍        | 50/352 [00:49<05:20,  1.06s/it]"
     ]
    },
    {
     "name": "stdout",
     "output_type": "stream",
     "text": [
      "  Batch 50/352, Loss: 0.2351\n"
     ]
    },
    {
     "name": "stderr",
     "output_type": "stream",
     "text": [
      "Training:  28%|██▊       | 100/352 [01:42<04:05,  1.03it/s]"
     ]
    },
    {
     "name": "stdout",
     "output_type": "stream",
     "text": [
      "  Batch 100/352, Loss: 0.3689\n"
     ]
    },
    {
     "name": "stderr",
     "output_type": "stream",
     "text": [
      "Training:  43%|████▎     | 150/352 [02:30<03:10,  1.06it/s]"
     ]
    },
    {
     "name": "stdout",
     "output_type": "stream",
     "text": [
      "  Batch 150/352, Loss: 0.2915\n"
     ]
    },
    {
     "name": "stderr",
     "output_type": "stream",
     "text": [
      "Training:  57%|█████▋    | 200/352 [03:17<02:23,  1.06it/s]"
     ]
    },
    {
     "name": "stdout",
     "output_type": "stream",
     "text": [
      "  Batch 200/352, Loss: 0.4102\n"
     ]
    },
    {
     "name": "stderr",
     "output_type": "stream",
     "text": [
      "Training:  71%|███████   | 250/352 [04:04<01:37,  1.05it/s]"
     ]
    },
    {
     "name": "stdout",
     "output_type": "stream",
     "text": [
      "  Batch 250/352, Loss: 0.3036\n"
     ]
    },
    {
     "name": "stderr",
     "output_type": "stream",
     "text": [
      "Training:  85%|████████▌ | 300/352 [04:51<00:48,  1.07it/s]"
     ]
    },
    {
     "name": "stdout",
     "output_type": "stream",
     "text": [
      "  Batch 300/352, Loss: 0.3354\n"
     ]
    },
    {
     "name": "stderr",
     "output_type": "stream",
     "text": [
      "Training:  99%|█████████▉| 350/352 [05:39<00:01,  1.03it/s]"
     ]
    },
    {
     "name": "stdout",
     "output_type": "stream",
     "text": [
      "  Batch 350/352, Loss: 0.3050\n"
     ]
    },
    {
     "name": "stderr",
     "output_type": "stream",
     "text": [
      "Training: 100%|██████████| 352/352 [05:40<00:00,  1.03it/s]\n"
     ]
    },
    {
     "name": "stdout",
     "output_type": "stream",
     "text": [
      "Evaluating on training set...\n",
      "Evaluating on validation set...\n",
      "Epoch 17 Summary:\n",
      "  Train Loss: 0.3863, Train Accuracy: 0.8449\n",
      "  Valid Loss: 0.4950, Valid Accuracy: 0.8326\n",
      "  Valid Precision: 0.8381, Valid Recall: 0.8266, Valid F1: 0.8195\n",
      "\n",
      "Epoch 18/50 - Learning Rate: 0.000835\n"
     ]
    },
    {
     "name": "stderr",
     "output_type": "stream",
     "text": [
      "Training:  14%|█▍        | 50/352 [00:47<04:46,  1.06it/s]"
     ]
    },
    {
     "name": "stdout",
     "output_type": "stream",
     "text": [
      "  Batch 50/352, Loss: 0.1854\n"
     ]
    },
    {
     "name": "stderr",
     "output_type": "stream",
     "text": [
      "Training:  28%|██▊       | 100/352 [01:35<04:01,  1.04it/s]"
     ]
    },
    {
     "name": "stdout",
     "output_type": "stream",
     "text": [
      "  Batch 100/352, Loss: 0.3230\n"
     ]
    },
    {
     "name": "stderr",
     "output_type": "stream",
     "text": [
      "Training:  43%|████▎     | 150/352 [02:22<03:18,  1.02it/s]"
     ]
    },
    {
     "name": "stdout",
     "output_type": "stream",
     "text": [
      "  Batch 150/352, Loss: 0.2780\n"
     ]
    },
    {
     "name": "stderr",
     "output_type": "stream",
     "text": [
      "Training:  57%|█████▋    | 200/352 [03:14<02:42,  1.07s/it]"
     ]
    },
    {
     "name": "stdout",
     "output_type": "stream",
     "text": [
      "  Batch 200/352, Loss: 0.3727\n"
     ]
    },
    {
     "name": "stderr",
     "output_type": "stream",
     "text": [
      "Training:  71%|███████   | 250/352 [04:07<01:37,  1.05it/s]"
     ]
    },
    {
     "name": "stdout",
     "output_type": "stream",
     "text": [
      "  Batch 250/352, Loss: 0.3439\n"
     ]
    },
    {
     "name": "stderr",
     "output_type": "stream",
     "text": [
      "Training:  85%|████████▌ | 300/352 [04:55<00:50,  1.04it/s]"
     ]
    },
    {
     "name": "stdout",
     "output_type": "stream",
     "text": [
      "  Batch 300/352, Loss: 0.3488\n"
     ]
    },
    {
     "name": "stderr",
     "output_type": "stream",
     "text": [
      "Training:  99%|█████████▉| 350/352 [05:42<00:01,  1.08it/s]"
     ]
    },
    {
     "name": "stdout",
     "output_type": "stream",
     "text": [
      "  Batch 350/352, Loss: 0.2220\n"
     ]
    },
    {
     "name": "stderr",
     "output_type": "stream",
     "text": [
      "Training: 100%|██████████| 352/352 [05:43<00:00,  1.02it/s]\n"
     ]
    },
    {
     "name": "stdout",
     "output_type": "stream",
     "text": [
      "Evaluating on training set...\n",
      "Evaluating on validation set...\n",
      "✅ Model saved at best_cifar10_improved_model.pkl\n",
      "✅ New best model saved (F1: 0.8508)\n",
      "Epoch 18 Summary:\n",
      "  Train Loss: 0.3669, Train Accuracy: 0.8743\n",
      "  Valid Loss: 0.4172, Valid Accuracy: 0.8641\n",
      "  Valid Precision: 0.8580, Valid Recall: 0.8551, Valid F1: 0.8508\n",
      "\n",
      "Epoch 19/50 - Learning Rate: 0.000808\n"
     ]
    },
    {
     "name": "stderr",
     "output_type": "stream",
     "text": [
      "Training:  14%|█▍        | 50/352 [00:47<04:41,  1.07it/s]"
     ]
    },
    {
     "name": "stdout",
     "output_type": "stream",
     "text": [
      "  Batch 50/352, Loss: 0.2546\n"
     ]
    },
    {
     "name": "stderr",
     "output_type": "stream",
     "text": [
      "Training:  28%|██▊       | 100/352 [01:34<04:02,  1.04it/s]"
     ]
    },
    {
     "name": "stdout",
     "output_type": "stream",
     "text": [
      "  Batch 100/352, Loss: 0.3671\n"
     ]
    },
    {
     "name": "stderr",
     "output_type": "stream",
     "text": [
      "Training:  43%|████▎     | 150/352 [02:21<03:12,  1.05it/s]"
     ]
    },
    {
     "name": "stdout",
     "output_type": "stream",
     "text": [
      "  Batch 150/352, Loss: 0.2508\n"
     ]
    },
    {
     "name": "stderr",
     "output_type": "stream",
     "text": [
      "Training:  57%|█████▋    | 200/352 [03:09<02:21,  1.07it/s]"
     ]
    },
    {
     "name": "stdout",
     "output_type": "stream",
     "text": [
      "  Batch 200/352, Loss: 0.4016\n"
     ]
    },
    {
     "name": "stderr",
     "output_type": "stream",
     "text": [
      "Training:  71%|███████   | 250/352 [03:56<01:34,  1.08it/s]"
     ]
    },
    {
     "name": "stdout",
     "output_type": "stream",
     "text": [
      "  Batch 250/352, Loss: 0.3058\n"
     ]
    },
    {
     "name": "stderr",
     "output_type": "stream",
     "text": [
      "Training:  85%|████████▌ | 300/352 [04:44<00:49,  1.06it/s]"
     ]
    },
    {
     "name": "stdout",
     "output_type": "stream",
     "text": [
      "  Batch 300/352, Loss: 0.3519\n"
     ]
    },
    {
     "name": "stderr",
     "output_type": "stream",
     "text": [
      "Training:  99%|█████████▉| 350/352 [05:31<00:01,  1.06it/s]"
     ]
    },
    {
     "name": "stdout",
     "output_type": "stream",
     "text": [
      "  Batch 350/352, Loss: 0.2675\n"
     ]
    },
    {
     "name": "stderr",
     "output_type": "stream",
     "text": [
      "Training: 100%|██████████| 352/352 [05:33<00:00,  1.06it/s]\n"
     ]
    },
    {
     "name": "stdout",
     "output_type": "stream",
     "text": [
      "Evaluating on training set...\n",
      "Evaluating on validation set...\n",
      "✅ Model saved at best_cifar10_improved_model.pkl\n",
      "✅ New best model saved (F1: 0.8610)\n",
      "Epoch 19 Summary:\n",
      "  Train Loss: 0.3493, Train Accuracy: 0.8913\n",
      "  Valid Loss: 0.3868, Valid Accuracy: 0.8738\n",
      "  Valid Precision: 0.8698, Valid Recall: 0.8658, Valid F1: 0.8610\n",
      "\n",
      "Epoch 20/50 - Learning Rate: 0.000780\n"
     ]
    },
    {
     "name": "stderr",
     "output_type": "stream",
     "text": [
      "Training:  14%|█▍        | 50/352 [00:47<04:49,  1.04it/s]"
     ]
    },
    {
     "name": "stdout",
     "output_type": "stream",
     "text": [
      "  Batch 50/352, Loss: 0.2445\n"
     ]
    },
    {
     "name": "stderr",
     "output_type": "stream",
     "text": [
      "Training:  28%|██▊       | 100/352 [01:35<04:01,  1.05it/s]"
     ]
    },
    {
     "name": "stdout",
     "output_type": "stream",
     "text": [
      "  Batch 100/352, Loss: 0.3448\n"
     ]
    },
    {
     "name": "stderr",
     "output_type": "stream",
     "text": [
      "Training:  43%|████▎     | 150/352 [02:22<03:10,  1.06it/s]"
     ]
    },
    {
     "name": "stdout",
     "output_type": "stream",
     "text": [
      "  Batch 150/352, Loss: 0.2661\n"
     ]
    },
    {
     "name": "stderr",
     "output_type": "stream",
     "text": [
      "Training:  57%|█████▋    | 200/352 [03:10<02:27,  1.03it/s]"
     ]
    },
    {
     "name": "stdout",
     "output_type": "stream",
     "text": [
      "  Batch 200/352, Loss: 0.3926\n"
     ]
    },
    {
     "name": "stderr",
     "output_type": "stream",
     "text": [
      "Training:  71%|███████   | 250/352 [03:57<01:36,  1.06it/s]"
     ]
    },
    {
     "name": "stdout",
     "output_type": "stream",
     "text": [
      "  Batch 250/352, Loss: 0.2832\n"
     ]
    },
    {
     "name": "stderr",
     "output_type": "stream",
     "text": [
      "Training:  85%|████████▌ | 300/352 [04:46<00:58,  1.12s/it]"
     ]
    },
    {
     "name": "stdout",
     "output_type": "stream",
     "text": [
      "  Batch 300/352, Loss: 0.2776\n"
     ]
    },
    {
     "name": "stderr",
     "output_type": "stream",
     "text": [
      "Training:  99%|█████████▉| 350/352 [05:34<00:01,  1.08it/s]"
     ]
    },
    {
     "name": "stdout",
     "output_type": "stream",
     "text": [
      "  Batch 350/352, Loss: 0.2837\n"
     ]
    },
    {
     "name": "stderr",
     "output_type": "stream",
     "text": [
      "Training: 100%|██████████| 352/352 [05:35<00:00,  1.05it/s]\n"
     ]
    },
    {
     "name": "stdout",
     "output_type": "stream",
     "text": [
      "Evaluating on training set...\n",
      "Evaluating on validation set...\n",
      "Epoch 20 Summary:\n",
      "  Train Loss: 0.3315, Train Accuracy: 0.8683\n",
      "  Valid Loss: 0.4691, Valid Accuracy: 0.8438\n",
      "  Valid Precision: 0.8487, Valid Recall: 0.8368, Valid F1: 0.8304\n",
      "\n",
      "Epoch 21/50 - Learning Rate: 0.000750\n"
     ]
    },
    {
     "name": "stderr",
     "output_type": "stream",
     "text": [
      "Training:  14%|█▍        | 50/352 [00:46<04:40,  1.08it/s]"
     ]
    },
    {
     "name": "stdout",
     "output_type": "stream",
     "text": [
      "  Batch 50/352, Loss: 0.2504\n"
     ]
    },
    {
     "name": "stderr",
     "output_type": "stream",
     "text": [
      "Training:  28%|██▊       | 100/352 [01:33<03:54,  1.08it/s]"
     ]
    },
    {
     "name": "stdout",
     "output_type": "stream",
     "text": [
      "  Batch 100/352, Loss: 0.3315\n"
     ]
    },
    {
     "name": "stderr",
     "output_type": "stream",
     "text": [
      "Training:  43%|████▎     | 150/352 [02:21<03:13,  1.05it/s]"
     ]
    },
    {
     "name": "stdout",
     "output_type": "stream",
     "text": [
      "  Batch 150/352, Loss: 0.2860\n"
     ]
    },
    {
     "name": "stderr",
     "output_type": "stream",
     "text": [
      "Training:  57%|█████▋    | 200/352 [03:14<02:51,  1.13s/it]"
     ]
    },
    {
     "name": "stdout",
     "output_type": "stream",
     "text": [
      "  Batch 200/352, Loss: 0.4623\n"
     ]
    },
    {
     "name": "stderr",
     "output_type": "stream",
     "text": [
      "Training:  71%|███████   | 250/352 [04:03<01:38,  1.04it/s]"
     ]
    },
    {
     "name": "stdout",
     "output_type": "stream",
     "text": [
      "  Batch 250/352, Loss: 0.2695\n"
     ]
    },
    {
     "name": "stderr",
     "output_type": "stream",
     "text": [
      "Training:  85%|████████▌ | 300/352 [04:51<00:49,  1.06it/s]"
     ]
    },
    {
     "name": "stdout",
     "output_type": "stream",
     "text": [
      "  Batch 300/352, Loss: 0.3446\n"
     ]
    },
    {
     "name": "stderr",
     "output_type": "stream",
     "text": [
      "Training:  99%|█████████▉| 350/352 [05:39<00:01,  1.04it/s]"
     ]
    },
    {
     "name": "stdout",
     "output_type": "stream",
     "text": [
      "  Batch 350/352, Loss: 0.2602\n"
     ]
    },
    {
     "name": "stderr",
     "output_type": "stream",
     "text": [
      "Training: 100%|██████████| 352/352 [05:40<00:00,  1.03it/s]\n"
     ]
    },
    {
     "name": "stdout",
     "output_type": "stream",
     "text": [
      "Evaluating on training set...\n",
      "Evaluating on validation set...\n",
      "Epoch 21 Summary:\n",
      "  Train Loss: 0.3149, Train Accuracy: 0.8741\n",
      "  Valid Loss: 0.4793, Valid Accuracy: 0.8447\n",
      "  Valid Precision: 0.8530, Valid Recall: 0.8395, Valid F1: 0.8357\n",
      "\n",
      "Epoch 22/50 - Learning Rate: 0.000719\n"
     ]
    },
    {
     "name": "stderr",
     "output_type": "stream",
     "text": [
      "Training:  14%|█▍        | 50/352 [00:47<04:45,  1.06it/s]"
     ]
    },
    {
     "name": "stdout",
     "output_type": "stream",
     "text": [
      "  Batch 50/352, Loss: 0.1980\n"
     ]
    },
    {
     "name": "stderr",
     "output_type": "stream",
     "text": [
      "Training:  28%|██▊       | 100/352 [01:35<04:03,  1.03it/s]"
     ]
    },
    {
     "name": "stdout",
     "output_type": "stream",
     "text": [
      "  Batch 100/352, Loss: 0.3381\n"
     ]
    },
    {
     "name": "stderr",
     "output_type": "stream",
     "text": [
      "Training:  43%|████▎     | 150/352 [02:25<03:36,  1.07s/it]"
     ]
    },
    {
     "name": "stdout",
     "output_type": "stream",
     "text": [
      "  Batch 150/352, Loss: 0.2581\n"
     ]
    },
    {
     "name": "stderr",
     "output_type": "stream",
     "text": [
      "Training:  57%|█████▋    | 200/352 [03:14<02:22,  1.07it/s]"
     ]
    },
    {
     "name": "stdout",
     "output_type": "stream",
     "text": [
      "  Batch 200/352, Loss: 0.3824\n"
     ]
    },
    {
     "name": "stderr",
     "output_type": "stream",
     "text": [
      "Training:  71%|███████   | 250/352 [04:02<01:39,  1.02it/s]"
     ]
    },
    {
     "name": "stdout",
     "output_type": "stream",
     "text": [
      "  Batch 250/352, Loss: 0.2327\n"
     ]
    },
    {
     "name": "stderr",
     "output_type": "stream",
     "text": [
      "Training:  85%|████████▌ | 300/352 [04:50<00:49,  1.05it/s]"
     ]
    },
    {
     "name": "stdout",
     "output_type": "stream",
     "text": [
      "  Batch 300/352, Loss: 0.2532\n"
     ]
    },
    {
     "name": "stderr",
     "output_type": "stream",
     "text": [
      "Training:  99%|█████████▉| 350/352 [05:37<00:01,  1.05it/s]"
     ]
    },
    {
     "name": "stdout",
     "output_type": "stream",
     "text": [
      "  Batch 350/352, Loss: 0.2730\n"
     ]
    },
    {
     "name": "stderr",
     "output_type": "stream",
     "text": [
      "Training: 100%|██████████| 352/352 [05:39<00:00,  1.04it/s]\n"
     ]
    },
    {
     "name": "stdout",
     "output_type": "stream",
     "text": [
      "Evaluating on training set...\n",
      "Evaluating on validation set...\n",
      "Epoch 22 Summary:\n",
      "  Train Loss: 0.2967, Train Accuracy: 0.8754\n",
      "  Valid Loss: 0.4949, Valid Accuracy: 0.8369\n",
      "  Valid Precision: 0.8435, Valid Recall: 0.8301, Valid F1: 0.8251\n",
      "\n",
      "Epoch 23/50 - Learning Rate: 0.000687\n"
     ]
    },
    {
     "name": "stderr",
     "output_type": "stream",
     "text": [
      "Training:  14%|█▍        | 50/352 [00:47<04:45,  1.06it/s]"
     ]
    },
    {
     "name": "stdout",
     "output_type": "stream",
     "text": [
      "  Batch 50/352, Loss: 0.2576\n"
     ]
    },
    {
     "name": "stderr",
     "output_type": "stream",
     "text": [
      "Training:  28%|██▊       | 100/352 [01:39<04:25,  1.05s/it]"
     ]
    },
    {
     "name": "stdout",
     "output_type": "stream",
     "text": [
      "  Batch 100/352, Loss: 0.2918\n"
     ]
    },
    {
     "name": "stderr",
     "output_type": "stream",
     "text": [
      "Training:  43%|████▎     | 150/352 [02:29<03:10,  1.06it/s]"
     ]
    },
    {
     "name": "stdout",
     "output_type": "stream",
     "text": [
      "  Batch 150/352, Loss: 0.1836\n"
     ]
    },
    {
     "name": "stderr",
     "output_type": "stream",
     "text": [
      "Training:  57%|█████▋    | 200/352 [03:16<02:24,  1.05it/s]"
     ]
    },
    {
     "name": "stdout",
     "output_type": "stream",
     "text": [
      "  Batch 200/352, Loss: 0.2577\n"
     ]
    },
    {
     "name": "stderr",
     "output_type": "stream",
     "text": [
      "Training:  71%|███████   | 250/352 [04:04<01:40,  1.01it/s]"
     ]
    },
    {
     "name": "stdout",
     "output_type": "stream",
     "text": [
      "  Batch 250/352, Loss: 0.1688\n"
     ]
    },
    {
     "name": "stderr",
     "output_type": "stream",
     "text": [
      "Training:  85%|████████▌ | 300/352 [04:51<00:49,  1.06it/s]"
     ]
    },
    {
     "name": "stdout",
     "output_type": "stream",
     "text": [
      "  Batch 300/352, Loss: 0.2492\n"
     ]
    },
    {
     "name": "stderr",
     "output_type": "stream",
     "text": [
      "Training:  99%|█████████▉| 350/352 [05:38<00:01,  1.08it/s]"
     ]
    },
    {
     "name": "stdout",
     "output_type": "stream",
     "text": [
      "  Batch 350/352, Loss: 0.1978\n"
     ]
    },
    {
     "name": "stderr",
     "output_type": "stream",
     "text": [
      "Training: 100%|██████████| 352/352 [05:40<00:00,  1.03it/s]\n"
     ]
    },
    {
     "name": "stdout",
     "output_type": "stream",
     "text": [
      "Evaluating on training set...\n",
      "Evaluating on validation set...\n",
      "Epoch 23 Summary:\n",
      "  Train Loss: 0.2844, Train Accuracy: 0.8850\n",
      "  Valid Loss: 0.4491, Valid Accuracy: 0.8570\n",
      "  Valid Precision: 0.8619, Valid Recall: 0.8512, Valid F1: 0.8451\n",
      "\n",
      "Epoch 24/50 - Learning Rate: 0.000655\n"
     ]
    },
    {
     "name": "stderr",
     "output_type": "stream",
     "text": [
      "Training:  14%|█▍        | 50/352 [00:46<04:39,  1.08it/s]"
     ]
    },
    {
     "name": "stdout",
     "output_type": "stream",
     "text": [
      "  Batch 50/352, Loss: 0.1458\n"
     ]
    },
    {
     "name": "stderr",
     "output_type": "stream",
     "text": [
      "Training:  28%|██▊       | 100/352 [01:34<04:03,  1.04it/s]"
     ]
    },
    {
     "name": "stdout",
     "output_type": "stream",
     "text": [
      "  Batch 100/352, Loss: 0.3385\n"
     ]
    },
    {
     "name": "stderr",
     "output_type": "stream",
     "text": [
      "Training:  43%|████▎     | 150/352 [02:21<03:12,  1.05it/s]"
     ]
    },
    {
     "name": "stdout",
     "output_type": "stream",
     "text": [
      "  Batch 150/352, Loss: 0.2067\n"
     ]
    },
    {
     "name": "stderr",
     "output_type": "stream",
     "text": [
      "Training:  57%|█████▋    | 200/352 [03:09<02:23,  1.06it/s]"
     ]
    },
    {
     "name": "stdout",
     "output_type": "stream",
     "text": [
      "  Batch 200/352, Loss: 0.2435\n"
     ]
    },
    {
     "name": "stderr",
     "output_type": "stream",
     "text": [
      "Training:  71%|███████   | 250/352 [03:56<01:36,  1.06it/s]"
     ]
    },
    {
     "name": "stdout",
     "output_type": "stream",
     "text": [
      "  Batch 250/352, Loss: 0.2624\n"
     ]
    },
    {
     "name": "stderr",
     "output_type": "stream",
     "text": [
      "Training:  85%|████████▌ | 300/352 [04:44<00:48,  1.07it/s]"
     ]
    },
    {
     "name": "stdout",
     "output_type": "stream",
     "text": [
      "  Batch 300/352, Loss: 0.1699\n"
     ]
    },
    {
     "name": "stderr",
     "output_type": "stream",
     "text": [
      "Training:  99%|█████████▉| 350/352 [05:32<00:01,  1.04it/s]"
     ]
    },
    {
     "name": "stdout",
     "output_type": "stream",
     "text": [
      "  Batch 350/352, Loss: 0.1801\n"
     ]
    },
    {
     "name": "stderr",
     "output_type": "stream",
     "text": [
      "Training: 100%|██████████| 352/352 [05:33<00:00,  1.05it/s]\n"
     ]
    },
    {
     "name": "stdout",
     "output_type": "stream",
     "text": [
      "Evaluating on training set...\n",
      "Evaluating on validation set...\n",
      "Epoch 24 Summary:\n",
      "  Train Loss: 0.2695, Train Accuracy: 0.8989\n",
      "  Valid Loss: 0.4250, Valid Accuracy: 0.8652\n",
      "  Valid Precision: 0.8656, Valid Recall: 0.8574, Valid F1: 0.8524\n",
      "\n",
      "Epoch 25/50 - Learning Rate: 0.000621\n"
     ]
    },
    {
     "name": "stderr",
     "output_type": "stream",
     "text": [
      "Training:  14%|█▍        | 50/352 [00:48<04:47,  1.05it/s]"
     ]
    },
    {
     "name": "stdout",
     "output_type": "stream",
     "text": [
      "  Batch 50/352, Loss: 0.1734\n"
     ]
    },
    {
     "name": "stderr",
     "output_type": "stream",
     "text": [
      "Training:  28%|██▊       | 100/352 [01:35<03:57,  1.06it/s]"
     ]
    },
    {
     "name": "stdout",
     "output_type": "stream",
     "text": [
      "  Batch 100/352, Loss: 0.2496\n"
     ]
    },
    {
     "name": "stderr",
     "output_type": "stream",
     "text": [
      "Training:  43%|████▎     | 150/352 [02:23<03:16,  1.03it/s]"
     ]
    },
    {
     "name": "stdout",
     "output_type": "stream",
     "text": [
      "  Batch 150/352, Loss: 0.1805\n"
     ]
    },
    {
     "name": "stderr",
     "output_type": "stream",
     "text": [
      "Training:  57%|█████▋    | 200/352 [03:10<02:24,  1.05it/s]"
     ]
    },
    {
     "name": "stdout",
     "output_type": "stream",
     "text": [
      "  Batch 200/352, Loss: 0.3347\n"
     ]
    },
    {
     "name": "stderr",
     "output_type": "stream",
     "text": [
      "Training:  71%|███████   | 250/352 [03:58<01:36,  1.05it/s]"
     ]
    },
    {
     "name": "stdout",
     "output_type": "stream",
     "text": [
      "  Batch 250/352, Loss: 0.2622\n"
     ]
    },
    {
     "name": "stderr",
     "output_type": "stream",
     "text": [
      "Training:  85%|████████▌ | 300/352 [04:45<00:49,  1.06it/s]"
     ]
    },
    {
     "name": "stdout",
     "output_type": "stream",
     "text": [
      "  Batch 300/352, Loss: 0.3122\n"
     ]
    },
    {
     "name": "stderr",
     "output_type": "stream",
     "text": [
      "Training:  99%|█████████▉| 350/352 [05:32<00:01,  1.06it/s]"
     ]
    },
    {
     "name": "stdout",
     "output_type": "stream",
     "text": [
      "  Batch 350/352, Loss: 0.1796\n"
     ]
    },
    {
     "name": "stderr",
     "output_type": "stream",
     "text": [
      "Training: 100%|██████████| 352/352 [05:34<00:00,  1.05it/s]\n"
     ]
    },
    {
     "name": "stdout",
     "output_type": "stream",
     "text": [
      "Evaluating on training set...\n",
      "Evaluating on validation set...\n",
      "Epoch 25 Summary:\n",
      "  Train Loss: 0.2520, Train Accuracy: 0.9069\n",
      "  Valid Loss: 0.3976, Valid Accuracy: 0.8729\n",
      "  Valid Precision: 0.8731, Valid Recall: 0.8661, Valid F1: 0.8608\n",
      "\n",
      "Epoch 26/50 - Learning Rate: 0.000587\n"
     ]
    },
    {
     "name": "stderr",
     "output_type": "stream",
     "text": [
      "Training:  14%|█▍        | 50/352 [00:47<04:46,  1.06it/s]"
     ]
    },
    {
     "name": "stdout",
     "output_type": "stream",
     "text": [
      "  Batch 50/352, Loss: 0.1514\n"
     ]
    },
    {
     "name": "stderr",
     "output_type": "stream",
     "text": [
      "Training:  28%|██▊       | 100/352 [01:35<04:01,  1.04it/s]"
     ]
    },
    {
     "name": "stdout",
     "output_type": "stream",
     "text": [
      "  Batch 100/352, Loss: 0.2861\n"
     ]
    },
    {
     "name": "stderr",
     "output_type": "stream",
     "text": [
      "Training:  43%|████▎     | 150/352 [02:22<03:11,  1.06it/s]"
     ]
    },
    {
     "name": "stdout",
     "output_type": "stream",
     "text": [
      "  Batch 150/352, Loss: 0.1641\n"
     ]
    },
    {
     "name": "stderr",
     "output_type": "stream",
     "text": [
      "Training:  57%|█████▋    | 200/352 [03:10<02:26,  1.04it/s]"
     ]
    },
    {
     "name": "stdout",
     "output_type": "stream",
     "text": [
      "  Batch 200/352, Loss: 0.2303\n"
     ]
    },
    {
     "name": "stderr",
     "output_type": "stream",
     "text": [
      "Training:  71%|███████   | 250/352 [03:58<01:37,  1.05it/s]"
     ]
    },
    {
     "name": "stdout",
     "output_type": "stream",
     "text": [
      "  Batch 250/352, Loss: 0.1499\n"
     ]
    },
    {
     "name": "stderr",
     "output_type": "stream",
     "text": [
      "Training:  85%|████████▌ | 300/352 [04:46<00:49,  1.05it/s]"
     ]
    },
    {
     "name": "stdout",
     "output_type": "stream",
     "text": [
      "  Batch 300/352, Loss: 0.2720\n"
     ]
    },
    {
     "name": "stderr",
     "output_type": "stream",
     "text": [
      "Training:  99%|█████████▉| 350/352 [05:37<00:02,  1.07s/it]"
     ]
    },
    {
     "name": "stdout",
     "output_type": "stream",
     "text": [
      "  Batch 350/352, Loss: 0.1782\n"
     ]
    },
    {
     "name": "stderr",
     "output_type": "stream",
     "text": [
      "Training: 100%|██████████| 352/352 [05:39<00:00,  1.04it/s]\n"
     ]
    },
    {
     "name": "stdout",
     "output_type": "stream",
     "text": [
      "Evaluating on training set...\n",
      "Evaluating on validation set...\n",
      "Epoch 26 Summary:\n",
      "  Train Loss: 0.2419, Train Accuracy: 0.9150\n",
      "  Valid Loss: 0.4006, Valid Accuracy: 0.8695\n",
      "  Valid Precision: 0.8709, Valid Recall: 0.8633, Valid F1: 0.8590\n",
      "\n",
      "Epoch 27/50 - Learning Rate: 0.000552\n"
     ]
    },
    {
     "name": "stderr",
     "output_type": "stream",
     "text": [
      "Training:  14%|█▍        | 50/352 [00:49<04:43,  1.07it/s]"
     ]
    },
    {
     "name": "stdout",
     "output_type": "stream",
     "text": [
      "  Batch 50/352, Loss: 0.1022\n"
     ]
    },
    {
     "name": "stderr",
     "output_type": "stream",
     "text": [
      "Training:  28%|██▊       | 100/352 [01:37<03:56,  1.07it/s]"
     ]
    },
    {
     "name": "stdout",
     "output_type": "stream",
     "text": [
      "  Batch 100/352, Loss: 0.2928\n"
     ]
    },
    {
     "name": "stderr",
     "output_type": "stream",
     "text": [
      "Training:  43%|████▎     | 150/352 [02:24<03:15,  1.03it/s]"
     ]
    },
    {
     "name": "stdout",
     "output_type": "stream",
     "text": [
      "  Batch 150/352, Loss: 0.2108\n"
     ]
    },
    {
     "name": "stderr",
     "output_type": "stream",
     "text": [
      "Training:  57%|█████▋    | 200/352 [03:13<02:25,  1.05it/s]"
     ]
    },
    {
     "name": "stdout",
     "output_type": "stream",
     "text": [
      "  Batch 200/352, Loss: 0.2541\n"
     ]
    },
    {
     "name": "stderr",
     "output_type": "stream",
     "text": [
      "Training:  71%|███████   | 250/352 [04:04<01:51,  1.09s/it]"
     ]
    },
    {
     "name": "stdout",
     "output_type": "stream",
     "text": [
      "  Batch 250/352, Loss: 0.1810\n"
     ]
    },
    {
     "name": "stderr",
     "output_type": "stream",
     "text": [
      "Training:  85%|████████▌ | 300/352 [04:56<00:48,  1.06it/s]"
     ]
    },
    {
     "name": "stdout",
     "output_type": "stream",
     "text": [
      "  Batch 300/352, Loss: 0.2274\n"
     ]
    },
    {
     "name": "stderr",
     "output_type": "stream",
     "text": [
      "Training:  99%|█████████▉| 350/352 [05:43<00:01,  1.04it/s]"
     ]
    },
    {
     "name": "stdout",
     "output_type": "stream",
     "text": [
      "  Batch 350/352, Loss: 0.1418\n"
     ]
    },
    {
     "name": "stderr",
     "output_type": "stream",
     "text": [
      "Training: 100%|██████████| 352/352 [05:45<00:00,  1.02it/s]\n"
     ]
    },
    {
     "name": "stdout",
     "output_type": "stream",
     "text": [
      "Evaluating on training set...\n",
      "Evaluating on validation set...\n",
      "✅ Model saved at best_cifar10_improved_model.pkl\n",
      "✅ New best model saved (F1: 0.8763)\n",
      "Epoch 27 Summary:\n",
      "  Train Loss: 0.2272, Train Accuracy: 0.9337\n",
      "  Valid Loss: 0.3329, Valid Accuracy: 0.8906\n",
      "  Valid Precision: 0.8810, Valid Recall: 0.8821, Valid F1: 0.8763\n",
      "\n",
      "Epoch 28/50 - Learning Rate: 0.000517\n"
     ]
    },
    {
     "name": "stderr",
     "output_type": "stream",
     "text": [
      "Training:  14%|█▍        | 50/352 [00:47<04:47,  1.05it/s]"
     ]
    },
    {
     "name": "stdout",
     "output_type": "stream",
     "text": [
      "  Batch 50/352, Loss: 0.1922\n"
     ]
    },
    {
     "name": "stderr",
     "output_type": "stream",
     "text": [
      "Training:  28%|██▊       | 100/352 [01:34<03:58,  1.06it/s]"
     ]
    },
    {
     "name": "stdout",
     "output_type": "stream",
     "text": [
      "  Batch 100/352, Loss: 0.1590\n"
     ]
    },
    {
     "name": "stderr",
     "output_type": "stream",
     "text": [
      "Training:  43%|████▎     | 150/352 [02:22<03:14,  1.04it/s]"
     ]
    },
    {
     "name": "stdout",
     "output_type": "stream",
     "text": [
      "  Batch 150/352, Loss: 0.1902\n"
     ]
    },
    {
     "name": "stderr",
     "output_type": "stream",
     "text": [
      "Training:  57%|█████▋    | 200/352 [03:10<02:26,  1.04it/s]"
     ]
    },
    {
     "name": "stdout",
     "output_type": "stream",
     "text": [
      "  Batch 200/352, Loss: 0.2642\n"
     ]
    },
    {
     "name": "stderr",
     "output_type": "stream",
     "text": [
      "Training:  71%|███████   | 250/352 [03:59<01:39,  1.03it/s]"
     ]
    },
    {
     "name": "stdout",
     "output_type": "stream",
     "text": [
      "  Batch 250/352, Loss: 0.1206\n"
     ]
    },
    {
     "name": "stderr",
     "output_type": "stream",
     "text": [
      "Training:  85%|████████▌ | 300/352 [04:47<00:51,  1.01it/s]"
     ]
    },
    {
     "name": "stdout",
     "output_type": "stream",
     "text": [
      "  Batch 300/352, Loss: 0.2471\n"
     ]
    },
    {
     "name": "stderr",
     "output_type": "stream",
     "text": [
      "Training:  99%|█████████▉| 350/352 [05:35<00:01,  1.06it/s]"
     ]
    },
    {
     "name": "stdout",
     "output_type": "stream",
     "text": [
      "  Batch 350/352, Loss: 0.1199\n"
     ]
    },
    {
     "name": "stderr",
     "output_type": "stream",
     "text": [
      "Training: 100%|██████████| 352/352 [05:37<00:00,  1.04it/s]\n"
     ]
    },
    {
     "name": "stdout",
     "output_type": "stream",
     "text": [
      "Evaluating on training set...\n",
      "Evaluating on validation set...\n",
      "Epoch 28 Summary:\n",
      "  Train Loss: 0.2154, Train Accuracy: 0.9328\n",
      "  Valid Loss: 0.3403, Valid Accuracy: 0.8906\n",
      "  Valid Precision: 0.8804, Valid Recall: 0.8804, Valid F1: 0.8744\n",
      "\n",
      "Epoch 29/50 - Learning Rate: 0.000483\n"
     ]
    },
    {
     "name": "stderr",
     "output_type": "stream",
     "text": [
      "Training:  14%|█▍        | 50/352 [00:47<04:45,  1.06it/s]"
     ]
    },
    {
     "name": "stdout",
     "output_type": "stream",
     "text": [
      "  Batch 50/352, Loss: 0.1467\n"
     ]
    },
    {
     "name": "stderr",
     "output_type": "stream",
     "text": [
      "Training:  28%|██▊       | 100/352 [01:35<03:58,  1.06it/s]"
     ]
    },
    {
     "name": "stdout",
     "output_type": "stream",
     "text": [
      "  Batch 100/352, Loss: 0.1544\n"
     ]
    },
    {
     "name": "stderr",
     "output_type": "stream",
     "text": [
      "Training:  43%|████▎     | 150/352 [02:24<03:33,  1.06s/it]"
     ]
    },
    {
     "name": "stdout",
     "output_type": "stream",
     "text": [
      "  Batch 150/352, Loss: 0.2091\n"
     ]
    },
    {
     "name": "stderr",
     "output_type": "stream",
     "text": [
      "Training:  57%|█████▋    | 200/352 [03:12<02:25,  1.04it/s]"
     ]
    },
    {
     "name": "stdout",
     "output_type": "stream",
     "text": [
      "  Batch 200/352, Loss: 0.2105\n"
     ]
    },
    {
     "name": "stderr",
     "output_type": "stream",
     "text": [
      "Training:  71%|███████   | 250/352 [04:02<01:41,  1.01it/s]"
     ]
    },
    {
     "name": "stdout",
     "output_type": "stream",
     "text": [
      "  Batch 250/352, Loss: 0.1835\n"
     ]
    },
    {
     "name": "stderr",
     "output_type": "stream",
     "text": [
      "Training:  85%|████████▌ | 300/352 [04:52<00:50,  1.02it/s]"
     ]
    },
    {
     "name": "stdout",
     "output_type": "stream",
     "text": [
      "  Batch 300/352, Loss: 0.1968\n"
     ]
    },
    {
     "name": "stderr",
     "output_type": "stream",
     "text": [
      "Training:  99%|█████████▉| 350/352 [05:42<00:01,  1.04it/s]"
     ]
    },
    {
     "name": "stdout",
     "output_type": "stream",
     "text": [
      "  Batch 350/352, Loss: 0.2147\n"
     ]
    },
    {
     "name": "stderr",
     "output_type": "stream",
     "text": [
      "Training: 100%|██████████| 352/352 [05:43<00:00,  1.02it/s]\n"
     ]
    },
    {
     "name": "stdout",
     "output_type": "stream",
     "text": [
      "Evaluating on training set...\n",
      "Evaluating on validation set...\n",
      "Epoch 29 Summary:\n",
      "  Train Loss: 0.2037, Train Accuracy: 0.9174\n",
      "  Valid Loss: 0.3759, Valid Accuracy: 0.8797\n",
      "  Valid Precision: 0.8751, Valid Recall: 0.8710, Valid F1: 0.8662\n",
      "\n",
      "Epoch 30/50 - Learning Rate: 0.000448\n"
     ]
    },
    {
     "name": "stderr",
     "output_type": "stream",
     "text": [
      "Training:  14%|█▍        | 50/352 [00:49<04:55,  1.02it/s]"
     ]
    },
    {
     "name": "stdout",
     "output_type": "stream",
     "text": [
      "  Batch 50/352, Loss: 0.1520\n"
     ]
    },
    {
     "name": "stderr",
     "output_type": "stream",
     "text": [
      "Training:  28%|██▊       | 100/352 [01:38<04:07,  1.02it/s]"
     ]
    },
    {
     "name": "stdout",
     "output_type": "stream",
     "text": [
      "  Batch 100/352, Loss: 0.1803\n"
     ]
    },
    {
     "name": "stderr",
     "output_type": "stream",
     "text": [
      "Training:  43%|████▎     | 150/352 [02:27<03:17,  1.03it/s]"
     ]
    },
    {
     "name": "stdout",
     "output_type": "stream",
     "text": [
      "  Batch 150/352, Loss: 0.1984\n"
     ]
    },
    {
     "name": "stderr",
     "output_type": "stream",
     "text": [
      "Training:  57%|█████▋    | 200/352 [03:17<02:33,  1.01s/it]"
     ]
    },
    {
     "name": "stdout",
     "output_type": "stream",
     "text": [
      "  Batch 200/352, Loss: 0.2501\n"
     ]
    },
    {
     "name": "stderr",
     "output_type": "stream",
     "text": [
      "Training:  71%|███████   | 250/352 [04:07<01:38,  1.03it/s]"
     ]
    },
    {
     "name": "stdout",
     "output_type": "stream",
     "text": [
      "  Batch 250/352, Loss: 0.1574\n"
     ]
    },
    {
     "name": "stderr",
     "output_type": "stream",
     "text": [
      "Training:  85%|████████▌ | 300/352 [04:57<00:51,  1.01it/s]"
     ]
    },
    {
     "name": "stdout",
     "output_type": "stream",
     "text": [
      "  Batch 300/352, Loss: 0.2645\n"
     ]
    },
    {
     "name": "stderr",
     "output_type": "stream",
     "text": [
      "Training:  99%|█████████▉| 350/352 [05:47<00:02,  1.05s/it]"
     ]
    },
    {
     "name": "stdout",
     "output_type": "stream",
     "text": [
      "  Batch 350/352, Loss: 0.1488\n"
     ]
    },
    {
     "name": "stderr",
     "output_type": "stream",
     "text": [
      "Training: 100%|██████████| 352/352 [05:49<00:00,  1.01it/s]\n"
     ]
    },
    {
     "name": "stdout",
     "output_type": "stream",
     "text": [
      "Evaluating on training set...\n",
      "Evaluating on validation set...\n",
      "Epoch 30 Summary:\n",
      "  Train Loss: 0.1894, Train Accuracy: 0.9290\n",
      "  Valid Loss: 0.3872, Valid Accuracy: 0.8791\n",
      "  Valid Precision: 0.8752, Valid Recall: 0.8721, Valid F1: 0.8653\n",
      "\n",
      "Epoch 31/50 - Learning Rate: 0.000413\n"
     ]
    },
    {
     "name": "stderr",
     "output_type": "stream",
     "text": [
      "Training:  14%|█▍        | 50/352 [00:49<04:50,  1.04it/s]"
     ]
    },
    {
     "name": "stdout",
     "output_type": "stream",
     "text": [
      "  Batch 50/352, Loss: 0.2123\n"
     ]
    },
    {
     "name": "stderr",
     "output_type": "stream",
     "text": [
      "Training:  28%|██▊       | 100/352 [01:37<04:05,  1.03it/s]"
     ]
    },
    {
     "name": "stdout",
     "output_type": "stream",
     "text": [
      "  Batch 100/352, Loss: 0.1858\n"
     ]
    },
    {
     "name": "stderr",
     "output_type": "stream",
     "text": [
      "Training:  43%|████▎     | 150/352 [02:25<03:09,  1.07it/s]"
     ]
    },
    {
     "name": "stdout",
     "output_type": "stream",
     "text": [
      "  Batch 150/352, Loss: 0.1669\n"
     ]
    },
    {
     "name": "stderr",
     "output_type": "stream",
     "text": [
      "Training:  57%|█████▋    | 200/352 [03:13<02:28,  1.03it/s]"
     ]
    },
    {
     "name": "stdout",
     "output_type": "stream",
     "text": [
      "  Batch 200/352, Loss: 0.2076\n"
     ]
    },
    {
     "name": "stderr",
     "output_type": "stream",
     "text": [
      "Training:  71%|███████   | 250/352 [04:02<01:47,  1.05s/it]"
     ]
    },
    {
     "name": "stdout",
     "output_type": "stream",
     "text": [
      "  Batch 250/352, Loss: 0.1549\n"
     ]
    },
    {
     "name": "stderr",
     "output_type": "stream",
     "text": [
      "Training:  85%|████████▌ | 300/352 [04:50<00:50,  1.04it/s]"
     ]
    },
    {
     "name": "stdout",
     "output_type": "stream",
     "text": [
      "  Batch 300/352, Loss: 0.1906\n"
     ]
    },
    {
     "name": "stderr",
     "output_type": "stream",
     "text": [
      "Training:  99%|█████████▉| 350/352 [05:38<00:01,  1.06it/s]"
     ]
    },
    {
     "name": "stdout",
     "output_type": "stream",
     "text": [
      "  Batch 350/352, Loss: 0.1128\n"
     ]
    },
    {
     "name": "stderr",
     "output_type": "stream",
     "text": [
      "Training: 100%|██████████| 352/352 [05:39<00:00,  1.04it/s]\n"
     ]
    },
    {
     "name": "stdout",
     "output_type": "stream",
     "text": [
      "Evaluating on training set...\n",
      "Evaluating on validation set...\n",
      "Epoch 31 Summary:\n",
      "  Train Loss: 0.1839, Train Accuracy: 0.9366\n",
      "  Valid Loss: 0.3476, Valid Accuracy: 0.8879\n",
      "  Valid Precision: 0.8800, Valid Recall: 0.8796, Valid F1: 0.8735\n",
      "\n",
      "Epoch 32/50 - Learning Rate: 0.000379\n"
     ]
    },
    {
     "name": "stderr",
     "output_type": "stream",
     "text": [
      "Training:  14%|█▍        | 50/352 [00:47<04:50,  1.04it/s]"
     ]
    },
    {
     "name": "stdout",
     "output_type": "stream",
     "text": [
      "  Batch 50/352, Loss: 0.1159\n"
     ]
    },
    {
     "name": "stderr",
     "output_type": "stream",
     "text": [
      "Training:  28%|██▊       | 100/352 [01:35<04:05,  1.03it/s]"
     ]
    },
    {
     "name": "stdout",
     "output_type": "stream",
     "text": [
      "  Batch 100/352, Loss: 0.1928\n"
     ]
    },
    {
     "name": "stderr",
     "output_type": "stream",
     "text": [
      "Training:  43%|████▎     | 150/352 [02:23<03:10,  1.06it/s]"
     ]
    },
    {
     "name": "stdout",
     "output_type": "stream",
     "text": [
      "  Batch 150/352, Loss: 0.1731\n"
     ]
    },
    {
     "name": "stderr",
     "output_type": "stream",
     "text": [
      "Training:  57%|█████▋    | 200/352 [03:11<02:24,  1.05it/s]"
     ]
    },
    {
     "name": "stdout",
     "output_type": "stream",
     "text": [
      "  Batch 200/352, Loss: 0.3092\n"
     ]
    },
    {
     "name": "stderr",
     "output_type": "stream",
     "text": [
      "Training:  71%|███████   | 250/352 [03:58<01:37,  1.05it/s]"
     ]
    },
    {
     "name": "stdout",
     "output_type": "stream",
     "text": [
      "  Batch 250/352, Loss: 0.1453\n"
     ]
    },
    {
     "name": "stderr",
     "output_type": "stream",
     "text": [
      "Training:  85%|████████▌ | 300/352 [04:46<00:50,  1.04it/s]"
     ]
    },
    {
     "name": "stdout",
     "output_type": "stream",
     "text": [
      "  Batch 300/352, Loss: 0.1887\n"
     ]
    },
    {
     "name": "stderr",
     "output_type": "stream",
     "text": [
      "Training:  99%|█████████▉| 350/352 [05:34<00:01,  1.06it/s]"
     ]
    },
    {
     "name": "stdout",
     "output_type": "stream",
     "text": [
      "  Batch 350/352, Loss: 0.1067\n"
     ]
    },
    {
     "name": "stderr",
     "output_type": "stream",
     "text": [
      "Training: 100%|██████████| 352/352 [05:36<00:00,  1.05it/s]\n"
     ]
    },
    {
     "name": "stdout",
     "output_type": "stream",
     "text": [
      "Evaluating on training set...\n",
      "Evaluating on validation set...\n",
      "Epoch 32 Summary:\n",
      "  Train Loss: 0.1708, Train Accuracy: 0.9355\n",
      "  Valid Loss: 0.3944, Valid Accuracy: 0.8803\n",
      "  Valid Precision: 0.8782, Valid Recall: 0.8720, Valid F1: 0.8671\n",
      "\n",
      "Epoch 33/50 - Learning Rate: 0.000345\n"
     ]
    },
    {
     "name": "stderr",
     "output_type": "stream",
     "text": [
      "Training:  14%|█▍        | 50/352 [00:46<04:39,  1.08it/s]"
     ]
    },
    {
     "name": "stdout",
     "output_type": "stream",
     "text": [
      "  Batch 50/352, Loss: 0.1073\n"
     ]
    },
    {
     "name": "stderr",
     "output_type": "stream",
     "text": [
      "Training:  28%|██▊       | 100/352 [01:33<03:56,  1.07it/s]"
     ]
    },
    {
     "name": "stdout",
     "output_type": "stream",
     "text": [
      "  Batch 100/352, Loss: 0.1533\n"
     ]
    },
    {
     "name": "stderr",
     "output_type": "stream",
     "text": [
      "Training:  43%|████▎     | 150/352 [02:21<03:13,  1.05it/s]"
     ]
    },
    {
     "name": "stdout",
     "output_type": "stream",
     "text": [
      "  Batch 150/352, Loss: 0.0890\n"
     ]
    },
    {
     "name": "stderr",
     "output_type": "stream",
     "text": [
      "Training:  57%|█████▋    | 200/352 [03:09<02:22,  1.07it/s]"
     ]
    },
    {
     "name": "stdout",
     "output_type": "stream",
     "text": [
      "  Batch 200/352, Loss: 0.2060\n"
     ]
    },
    {
     "name": "stderr",
     "output_type": "stream",
     "text": [
      "Training:  71%|███████   | 250/352 [03:56<01:36,  1.05it/s]"
     ]
    },
    {
     "name": "stdout",
     "output_type": "stream",
     "text": [
      "  Batch 250/352, Loss: 0.1896\n"
     ]
    },
    {
     "name": "stderr",
     "output_type": "stream",
     "text": [
      "Training:  85%|████████▌ | 300/352 [04:43<00:51,  1.02it/s]"
     ]
    },
    {
     "name": "stdout",
     "output_type": "stream",
     "text": [
      "  Batch 300/352, Loss: 0.1375\n"
     ]
    },
    {
     "name": "stderr",
     "output_type": "stream",
     "text": [
      "Training:  99%|█████████▉| 350/352 [05:35<00:02,  1.06s/it]"
     ]
    },
    {
     "name": "stdout",
     "output_type": "stream",
     "text": [
      "  Batch 350/352, Loss: 0.1110\n"
     ]
    },
    {
     "name": "stderr",
     "output_type": "stream",
     "text": [
      "Training: 100%|██████████| 352/352 [05:37<00:00,  1.04it/s]\n"
     ]
    },
    {
     "name": "stdout",
     "output_type": "stream",
     "text": [
      "Evaluating on training set...\n",
      "Evaluating on validation set...\n",
      "✅ Model saved at best_cifar10_improved_model.pkl\n",
      "✅ New best model saved (F1: 0.8771)\n",
      "Epoch 33 Summary:\n",
      "  Train Loss: 0.1636, Train Accuracy: 0.9453\n",
      "  Valid Loss: 0.3618, Valid Accuracy: 0.8906\n",
      "  Valid Precision: 0.8842, Valid Recall: 0.8832, Valid F1: 0.8771\n",
      "\n",
      "Epoch 34/50 - Learning Rate: 0.000313\n"
     ]
    },
    {
     "name": "stderr",
     "output_type": "stream",
     "text": [
      "Training:  14%|█▍        | 50/352 [00:48<05:15,  1.04s/it]"
     ]
    },
    {
     "name": "stdout",
     "output_type": "stream",
     "text": [
      "  Batch 50/352, Loss: 0.0803\n"
     ]
    },
    {
     "name": "stderr",
     "output_type": "stream",
     "text": [
      "Training:  28%|██▊       | 100/352 [01:38<04:04,  1.03it/s]"
     ]
    },
    {
     "name": "stdout",
     "output_type": "stream",
     "text": [
      "  Batch 100/352, Loss: 0.1333\n"
     ]
    },
    {
     "name": "stderr",
     "output_type": "stream",
     "text": [
      "Training:  43%|████▎     | 150/352 [02:27<03:32,  1.05s/it]"
     ]
    },
    {
     "name": "stdout",
     "output_type": "stream",
     "text": [
      "  Batch 150/352, Loss: 0.1098\n"
     ]
    },
    {
     "name": "stderr",
     "output_type": "stream",
     "text": [
      "Training:  57%|█████▋    | 200/352 [03:18<02:23,  1.06it/s]"
     ]
    },
    {
     "name": "stdout",
     "output_type": "stream",
     "text": [
      "  Batch 200/352, Loss: 0.2057\n"
     ]
    },
    {
     "name": "stderr",
     "output_type": "stream",
     "text": [
      "Training:  71%|███████   | 250/352 [04:05<01:35,  1.07it/s]"
     ]
    },
    {
     "name": "stdout",
     "output_type": "stream",
     "text": [
      "  Batch 250/352, Loss: 0.1141\n"
     ]
    },
    {
     "name": "stderr",
     "output_type": "stream",
     "text": [
      "Training:  85%|████████▌ | 300/352 [04:52<00:49,  1.05it/s]"
     ]
    },
    {
     "name": "stdout",
     "output_type": "stream",
     "text": [
      "  Batch 300/352, Loss: 0.2015\n"
     ]
    },
    {
     "name": "stderr",
     "output_type": "stream",
     "text": [
      "Training:  99%|█████████▉| 350/352 [05:41<00:01,  1.06it/s]"
     ]
    },
    {
     "name": "stdout",
     "output_type": "stream",
     "text": [
      "  Batch 350/352, Loss: 0.0904\n"
     ]
    },
    {
     "name": "stderr",
     "output_type": "stream",
     "text": [
      "Training: 100%|██████████| 352/352 [05:42<00:00,  1.03it/s]\n"
     ]
    },
    {
     "name": "stdout",
     "output_type": "stream",
     "text": [
      "Evaluating on training set...\n",
      "Evaluating on validation set...\n",
      "✅ Model saved at best_cifar10_improved_model.pkl\n",
      "✅ New best model saved (F1: 0.8814)\n",
      "Epoch 34 Summary:\n",
      "  Train Loss: 0.1577, Train Accuracy: 0.9484\n",
      "  Valid Loss: 0.3353, Valid Accuracy: 0.8949\n",
      "  Valid Precision: 0.8879, Valid Recall: 0.8868, Valid F1: 0.8814\n",
      "\n",
      "Epoch 35/50 - Learning Rate: 0.000281\n"
     ]
    },
    {
     "name": "stderr",
     "output_type": "stream",
     "text": [
      "Training:  14%|█▍        | 50/352 [00:47<04:41,  1.07it/s]"
     ]
    },
    {
     "name": "stdout",
     "output_type": "stream",
     "text": [
      "  Batch 50/352, Loss: 0.1222\n"
     ]
    },
    {
     "name": "stderr",
     "output_type": "stream",
     "text": [
      "Training:  28%|██▊       | 100/352 [01:34<03:56,  1.07it/s]"
     ]
    },
    {
     "name": "stdout",
     "output_type": "stream",
     "text": [
      "  Batch 100/352, Loss: 0.1281\n"
     ]
    },
    {
     "name": "stderr",
     "output_type": "stream",
     "text": [
      "Training:  43%|████▎     | 150/352 [02:21<03:10,  1.06it/s]"
     ]
    },
    {
     "name": "stdout",
     "output_type": "stream",
     "text": [
      "  Batch 150/352, Loss: 0.2321\n"
     ]
    },
    {
     "name": "stderr",
     "output_type": "stream",
     "text": [
      "Training:  57%|█████▋    | 200/352 [03:10<02:40,  1.06s/it]"
     ]
    },
    {
     "name": "stdout",
     "output_type": "stream",
     "text": [
      "  Batch 200/352, Loss: 0.1951\n"
     ]
    },
    {
     "name": "stderr",
     "output_type": "stream",
     "text": [
      "Training:  71%|███████   | 250/352 [04:00<01:37,  1.05it/s]"
     ]
    },
    {
     "name": "stdout",
     "output_type": "stream",
     "text": [
      "  Batch 250/352, Loss: 0.1552\n"
     ]
    },
    {
     "name": "stderr",
     "output_type": "stream",
     "text": [
      "Training:  85%|████████▌ | 300/352 [04:47<00:48,  1.07it/s]"
     ]
    },
    {
     "name": "stdout",
     "output_type": "stream",
     "text": [
      "  Batch 300/352, Loss: 0.1888\n"
     ]
    },
    {
     "name": "stderr",
     "output_type": "stream",
     "text": [
      "Training:  99%|█████████▉| 350/352 [05:34<00:01,  1.08it/s]"
     ]
    },
    {
     "name": "stdout",
     "output_type": "stream",
     "text": [
      "  Batch 350/352, Loss: 0.0999\n"
     ]
    },
    {
     "name": "stderr",
     "output_type": "stream",
     "text": [
      "Training: 100%|██████████| 352/352 [05:36<00:00,  1.05it/s]\n"
     ]
    },
    {
     "name": "stdout",
     "output_type": "stream",
     "text": [
      "Evaluating on training set...\n",
      "Evaluating on validation set...\n",
      "✅ Model saved at best_cifar10_improved_model.pkl\n",
      "✅ New best model saved (F1: 0.8885)\n",
      "Epoch 35 Summary:\n",
      "  Train Loss: 0.1440, Train Accuracy: 0.9627\n",
      "  Valid Loss: 0.3159, Valid Accuracy: 0.9012\n",
      "  Valid Precision: 0.8948, Valid Recall: 0.8919, Valid F1: 0.8885\n",
      "\n",
      "Epoch 36/50 - Learning Rate: 0.000250\n"
     ]
    },
    {
     "name": "stderr",
     "output_type": "stream",
     "text": [
      "Training:  14%|█▍        | 50/352 [00:49<04:46,  1.05it/s]"
     ]
    },
    {
     "name": "stdout",
     "output_type": "stream",
     "text": [
      "  Batch 50/352, Loss: 0.1023\n"
     ]
    },
    {
     "name": "stderr",
     "output_type": "stream",
     "text": [
      "Training:  28%|██▊       | 100/352 [01:37<04:00,  1.05it/s]"
     ]
    },
    {
     "name": "stdout",
     "output_type": "stream",
     "text": [
      "  Batch 100/352, Loss: 0.1176\n"
     ]
    },
    {
     "name": "stderr",
     "output_type": "stream",
     "text": [
      "Training:  43%|████▎     | 150/352 [02:23<03:09,  1.07it/s]"
     ]
    },
    {
     "name": "stdout",
     "output_type": "stream",
     "text": [
      "  Batch 150/352, Loss: 0.1492\n"
     ]
    },
    {
     "name": "stderr",
     "output_type": "stream",
     "text": [
      "Training:  57%|█████▋    | 200/352 [03:10<02:21,  1.07it/s]"
     ]
    },
    {
     "name": "stdout",
     "output_type": "stream",
     "text": [
      "  Batch 200/352, Loss: 0.2571\n"
     ]
    },
    {
     "name": "stderr",
     "output_type": "stream",
     "text": [
      "Training:  71%|███████   | 250/352 [03:58<01:37,  1.05it/s]"
     ]
    },
    {
     "name": "stdout",
     "output_type": "stream",
     "text": [
      "  Batch 250/352, Loss: 0.0912\n"
     ]
    },
    {
     "name": "stderr",
     "output_type": "stream",
     "text": [
      "Training:  85%|████████▌ | 300/352 [04:46<00:49,  1.05it/s]"
     ]
    },
    {
     "name": "stdout",
     "output_type": "stream",
     "text": [
      "  Batch 300/352, Loss: 0.1365\n"
     ]
    },
    {
     "name": "stderr",
     "output_type": "stream",
     "text": [
      "Training:  99%|█████████▉| 350/352 [05:33<00:01,  1.07it/s]"
     ]
    },
    {
     "name": "stdout",
     "output_type": "stream",
     "text": [
      "  Batch 350/352, Loss: 0.1025\n"
     ]
    },
    {
     "name": "stderr",
     "output_type": "stream",
     "text": [
      "Training: 100%|██████████| 352/352 [05:35<00:00,  1.05it/s]\n"
     ]
    },
    {
     "name": "stdout",
     "output_type": "stream",
     "text": [
      "Evaluating on training set...\n",
      "Evaluating on validation set...\n",
      "✅ Model saved at best_cifar10_improved_model.pkl\n",
      "✅ New best model saved (F1: 0.8887)\n",
      "Epoch 36 Summary:\n",
      "  Train Loss: 0.1357, Train Accuracy: 0.9609\n",
      "  Valid Loss: 0.3200, Valid Accuracy: 0.9020\n",
      "  Valid Precision: 0.8942, Valid Recall: 0.8933, Valid F1: 0.8887\n",
      "\n",
      "Epoch 37/50 - Learning Rate: 0.000220\n"
     ]
    },
    {
     "name": "stderr",
     "output_type": "stream",
     "text": [
      "Training:  14%|█▍        | 50/352 [00:46<04:39,  1.08it/s]"
     ]
    },
    {
     "name": "stdout",
     "output_type": "stream",
     "text": [
      "  Batch 50/352, Loss: 0.0982\n"
     ]
    },
    {
     "name": "stderr",
     "output_type": "stream",
     "text": [
      "Training:  28%|██▊       | 100/352 [01:37<04:16,  1.02s/it]"
     ]
    },
    {
     "name": "stdout",
     "output_type": "stream",
     "text": [
      "  Batch 100/352, Loss: 0.0665\n"
     ]
    },
    {
     "name": "stderr",
     "output_type": "stream",
     "text": [
      "Training:  43%|████▎     | 150/352 [02:29<03:16,  1.03it/s]"
     ]
    },
    {
     "name": "stdout",
     "output_type": "stream",
     "text": [
      "  Batch 150/352, Loss: 0.0712\n"
     ]
    },
    {
     "name": "stderr",
     "output_type": "stream",
     "text": [
      "Training:  57%|█████▋    | 200/352 [03:17<02:24,  1.05it/s]"
     ]
    },
    {
     "name": "stdout",
     "output_type": "stream",
     "text": [
      "  Batch 200/352, Loss: 0.1608\n"
     ]
    },
    {
     "name": "stderr",
     "output_type": "stream",
     "text": [
      "Training:  71%|███████   | 250/352 [04:05<01:37,  1.05it/s]"
     ]
    },
    {
     "name": "stdout",
     "output_type": "stream",
     "text": [
      "  Batch 250/352, Loss: 0.1064\n"
     ]
    },
    {
     "name": "stderr",
     "output_type": "stream",
     "text": [
      "Training:  85%|████████▌ | 300/352 [04:53<00:50,  1.03it/s]"
     ]
    },
    {
     "name": "stdout",
     "output_type": "stream",
     "text": [
      "  Batch 300/352, Loss: 0.1091\n"
     ]
    },
    {
     "name": "stderr",
     "output_type": "stream",
     "text": [
      "Training:  99%|█████████▉| 350/352 [05:40<00:02,  1.01s/it]"
     ]
    },
    {
     "name": "stdout",
     "output_type": "stream",
     "text": [
      "  Batch 350/352, Loss: 0.0996\n"
     ]
    },
    {
     "name": "stderr",
     "output_type": "stream",
     "text": [
      "Training: 100%|██████████| 352/352 [05:42<00:00,  1.03it/s]\n"
     ]
    },
    {
     "name": "stdout",
     "output_type": "stream",
     "text": [
      "Evaluating on training set...\n",
      "Evaluating on validation set...\n",
      "✅ Model saved at best_cifar10_improved_model.pkl\n",
      "✅ New best model saved (F1: 0.8917)\n",
      "Epoch 37 Summary:\n",
      "  Train Loss: 0.1314, Train Accuracy: 0.9667\n",
      "  Valid Loss: 0.3123, Valid Accuracy: 0.9047\n",
      "  Valid Precision: 0.8960, Valid Recall: 0.8964, Valid F1: 0.8917\n",
      "\n",
      "Epoch 38/50 - Learning Rate: 0.000192\n"
     ]
    },
    {
     "name": "stderr",
     "output_type": "stream",
     "text": [
      "Training:  14%|█▍        | 50/352 [01:02<06:21,  1.26s/it]"
     ]
    },
    {
     "name": "stdout",
     "output_type": "stream",
     "text": [
      "  Batch 50/352, Loss: 0.0547\n"
     ]
    },
    {
     "name": "stderr",
     "output_type": "stream",
     "text": [
      "Training:  28%|██▊       | 100/352 [01:52<03:55,  1.07it/s]"
     ]
    },
    {
     "name": "stdout",
     "output_type": "stream",
     "text": [
      "  Batch 100/352, Loss: 0.1432\n"
     ]
    },
    {
     "name": "stderr",
     "output_type": "stream",
     "text": [
      "Training:  43%|████▎     | 150/352 [02:39<03:10,  1.06it/s]"
     ]
    },
    {
     "name": "stdout",
     "output_type": "stream",
     "text": [
      "  Batch 150/352, Loss: 0.0631\n"
     ]
    },
    {
     "name": "stderr",
     "output_type": "stream",
     "text": [
      "Training:  57%|█████▋    | 200/352 [03:27<02:29,  1.02it/s]"
     ]
    },
    {
     "name": "stdout",
     "output_type": "stream",
     "text": [
      "  Batch 200/352, Loss: 0.1705\n"
     ]
    },
    {
     "name": "stderr",
     "output_type": "stream",
     "text": [
      "Training:  71%|███████   | 250/352 [04:19<01:53,  1.11s/it]"
     ]
    },
    {
     "name": "stdout",
     "output_type": "stream",
     "text": [
      "  Batch 250/352, Loss: 0.0699\n"
     ]
    },
    {
     "name": "stderr",
     "output_type": "stream",
     "text": [
      "Training:  85%|████████▌ | 300/352 [05:12<00:49,  1.05it/s]"
     ]
    },
    {
     "name": "stdout",
     "output_type": "stream",
     "text": [
      "  Batch 300/352, Loss: 0.1514\n"
     ]
    },
    {
     "name": "stderr",
     "output_type": "stream",
     "text": [
      "Training:  99%|█████████▉| 350/352 [05:59<00:01,  1.06it/s]"
     ]
    },
    {
     "name": "stdout",
     "output_type": "stream",
     "text": [
      "  Batch 350/352, Loss: 0.0810\n"
     ]
    },
    {
     "name": "stderr",
     "output_type": "stream",
     "text": [
      "Training: 100%|██████████| 352/352 [06:01<00:00,  1.03s/it]\n"
     ]
    },
    {
     "name": "stdout",
     "output_type": "stream",
     "text": [
      "Evaluating on training set...\n",
      "Evaluating on validation set...\n",
      "Epoch 38 Summary:\n",
      "  Train Loss: 0.1220, Train Accuracy: 0.9587\n",
      "  Valid Loss: 0.3411, Valid Accuracy: 0.9035\n",
      "  Valid Precision: 0.8972, Valid Recall: 0.8959, Valid F1: 0.8911\n",
      "\n",
      "Epoch 39/50 - Learning Rate: 0.000165\n"
     ]
    },
    {
     "name": "stderr",
     "output_type": "stream",
     "text": [
      "Training:  14%|█▍        | 50/352 [00:47<04:45,  1.06it/s]"
     ]
    },
    {
     "name": "stdout",
     "output_type": "stream",
     "text": [
      "  Batch 50/352, Loss: 0.1174\n"
     ]
    },
    {
     "name": "stderr",
     "output_type": "stream",
     "text": [
      "Training:  28%|██▊       | 100/352 [01:35<03:58,  1.06it/s]"
     ]
    },
    {
     "name": "stdout",
     "output_type": "stream",
     "text": [
      "  Batch 100/352, Loss: 0.1787\n"
     ]
    },
    {
     "name": "stderr",
     "output_type": "stream",
     "text": [
      "Training:  43%|████▎     | 150/352 [02:23<03:14,  1.04it/s]"
     ]
    },
    {
     "name": "stdout",
     "output_type": "stream",
     "text": [
      "  Batch 150/352, Loss: 0.1077\n"
     ]
    },
    {
     "name": "stderr",
     "output_type": "stream",
     "text": [
      "Training:  57%|█████▋    | 200/352 [03:10<02:23,  1.06it/s]"
     ]
    },
    {
     "name": "stdout",
     "output_type": "stream",
     "text": [
      "  Batch 200/352, Loss: 0.0819\n"
     ]
    },
    {
     "name": "stderr",
     "output_type": "stream",
     "text": [
      "Training:  71%|███████   | 250/352 [03:58<01:36,  1.05it/s]"
     ]
    },
    {
     "name": "stdout",
     "output_type": "stream",
     "text": [
      "  Batch 250/352, Loss: 0.1612\n"
     ]
    },
    {
     "name": "stderr",
     "output_type": "stream",
     "text": [
      "Training:  85%|████████▌ | 300/352 [04:45<00:49,  1.05it/s]"
     ]
    },
    {
     "name": "stdout",
     "output_type": "stream",
     "text": [
      "  Batch 300/352, Loss: 0.1837\n"
     ]
    },
    {
     "name": "stderr",
     "output_type": "stream",
     "text": [
      "Training:  99%|█████████▉| 350/352 [05:33<00:01,  1.03it/s]"
     ]
    },
    {
     "name": "stdout",
     "output_type": "stream",
     "text": [
      "  Batch 350/352, Loss: 0.0769\n"
     ]
    },
    {
     "name": "stderr",
     "output_type": "stream",
     "text": [
      "Training: 100%|██████████| 352/352 [05:35<00:00,  1.05it/s]\n"
     ]
    },
    {
     "name": "stdout",
     "output_type": "stream",
     "text": [
      "Evaluating on training set...\n",
      "Evaluating on validation set...\n",
      "Epoch 39 Summary:\n",
      "  Train Loss: 0.1188, Train Accuracy: 0.9683\n",
      "  Valid Loss: 0.3196, Valid Accuracy: 0.9033\n",
      "  Valid Precision: 0.8964, Valid Recall: 0.8939, Valid F1: 0.8906\n",
      "\n",
      "Epoch 40/50 - Learning Rate: 0.000140\n"
     ]
    },
    {
     "name": "stderr",
     "output_type": "stream",
     "text": [
      "Training:  14%|█▍        | 50/352 [00:48<04:53,  1.03it/s]"
     ]
    },
    {
     "name": "stdout",
     "output_type": "stream",
     "text": [
      "  Batch 50/352, Loss: 0.1671\n"
     ]
    },
    {
     "name": "stderr",
     "output_type": "stream",
     "text": [
      "Training:  28%|██▊       | 100/352 [01:36<04:00,  1.05it/s]"
     ]
    },
    {
     "name": "stdout",
     "output_type": "stream",
     "text": [
      "  Batch 100/352, Loss: 0.0768\n"
     ]
    },
    {
     "name": "stderr",
     "output_type": "stream",
     "text": [
      "Training:  43%|████▎     | 150/352 [02:24<03:14,  1.04it/s]"
     ]
    },
    {
     "name": "stdout",
     "output_type": "stream",
     "text": [
      "  Batch 150/352, Loss: 0.0984\n"
     ]
    },
    {
     "name": "stderr",
     "output_type": "stream",
     "text": [
      "Training:  57%|█████▋    | 200/352 [03:13<02:30,  1.01it/s]"
     ]
    },
    {
     "name": "stdout",
     "output_type": "stream",
     "text": [
      "  Batch 200/352, Loss: 0.1353\n"
     ]
    },
    {
     "name": "stderr",
     "output_type": "stream",
     "text": [
      "Training:  71%|███████   | 250/352 [04:02<01:37,  1.04it/s]"
     ]
    },
    {
     "name": "stdout",
     "output_type": "stream",
     "text": [
      "  Batch 250/352, Loss: 0.1160\n"
     ]
    },
    {
     "name": "stderr",
     "output_type": "stream",
     "text": [
      "Training:  85%|████████▌ | 300/352 [04:50<00:49,  1.04it/s]"
     ]
    },
    {
     "name": "stdout",
     "output_type": "stream",
     "text": [
      "  Batch 300/352, Loss: 0.0678\n"
     ]
    },
    {
     "name": "stderr",
     "output_type": "stream",
     "text": [
      "Training:  99%|█████████▉| 350/352 [05:39<00:01,  1.04it/s]"
     ]
    },
    {
     "name": "stdout",
     "output_type": "stream",
     "text": [
      "  Batch 350/352, Loss: 0.0502\n"
     ]
    },
    {
     "name": "stderr",
     "output_type": "stream",
     "text": [
      "Training: 100%|██████████| 352/352 [05:40<00:00,  1.03it/s]\n"
     ]
    },
    {
     "name": "stdout",
     "output_type": "stream",
     "text": [
      "Evaluating on training set...\n",
      "Evaluating on validation set...\n",
      "Epoch 40 Summary:\n",
      "  Train Loss: 0.1114, Train Accuracy: 0.9661\n",
      "  Valid Loss: 0.3250, Valid Accuracy: 0.9035\n",
      "  Valid Precision: 0.8964, Valid Recall: 0.8937, Valid F1: 0.8899\n",
      "\n",
      "Epoch 41/50 - Learning Rate: 0.000117\n"
     ]
    },
    {
     "name": "stderr",
     "output_type": "stream",
     "text": [
      "Training:  14%|█▍        | 50/352 [00:49<04:50,  1.04it/s]"
     ]
    },
    {
     "name": "stdout",
     "output_type": "stream",
     "text": [
      "  Batch 50/352, Loss: 0.1232\n"
     ]
    },
    {
     "name": "stderr",
     "output_type": "stream",
     "text": [
      "Training:  28%|██▊       | 100/352 [01:38<04:08,  1.01it/s]"
     ]
    },
    {
     "name": "stdout",
     "output_type": "stream",
     "text": [
      "  Batch 100/352, Loss: 0.0994\n"
     ]
    },
    {
     "name": "stderr",
     "output_type": "stream",
     "text": [
      "Training:  43%|████▎     | 150/352 [02:25<03:12,  1.05it/s]"
     ]
    },
    {
     "name": "stdout",
     "output_type": "stream",
     "text": [
      "  Batch 150/352, Loss: 0.0342\n"
     ]
    },
    {
     "name": "stderr",
     "output_type": "stream",
     "text": [
      "Training:  57%|█████▋    | 200/352 [03:14<02:25,  1.04it/s]"
     ]
    },
    {
     "name": "stdout",
     "output_type": "stream",
     "text": [
      "  Batch 200/352, Loss: 0.1929\n"
     ]
    },
    {
     "name": "stderr",
     "output_type": "stream",
     "text": [
      "Training:  71%|███████   | 250/352 [04:02<01:36,  1.05it/s]"
     ]
    },
    {
     "name": "stdout",
     "output_type": "stream",
     "text": [
      "  Batch 250/352, Loss: 0.0884\n"
     ]
    },
    {
     "name": "stderr",
     "output_type": "stream",
     "text": [
      "Training:  85%|████████▌ | 300/352 [04:50<00:50,  1.03it/s]"
     ]
    },
    {
     "name": "stdout",
     "output_type": "stream",
     "text": [
      "  Batch 300/352, Loss: 0.1258\n"
     ]
    },
    {
     "name": "stderr",
     "output_type": "stream",
     "text": [
      "Training:  99%|█████████▉| 350/352 [05:39<00:01,  1.03it/s]"
     ]
    },
    {
     "name": "stdout",
     "output_type": "stream",
     "text": [
      "  Batch 350/352, Loss: 0.0380\n"
     ]
    },
    {
     "name": "stderr",
     "output_type": "stream",
     "text": [
      "Training: 100%|██████████| 352/352 [05:40<00:00,  1.03it/s]\n"
     ]
    },
    {
     "name": "stdout",
     "output_type": "stream",
     "text": [
      "Evaluating on training set...\n",
      "Evaluating on validation set...\n",
      "Epoch 41 Summary:\n",
      "  Train Loss: 0.1074, Train Accuracy: 0.9708\n",
      "  Valid Loss: 0.3212, Valid Accuracy: 0.9029\n",
      "  Valid Precision: 0.8957, Valid Recall: 0.8933, Valid F1: 0.8892\n",
      "\n",
      "Epoch 42/50 - Learning Rate: 0.000095\n"
     ]
    },
    {
     "name": "stderr",
     "output_type": "stream",
     "text": [
      "Training:  14%|█▍        | 50/352 [00:49<04:59,  1.01it/s]"
     ]
    },
    {
     "name": "stdout",
     "output_type": "stream",
     "text": [
      "  Batch 50/352, Loss: 0.1322\n"
     ]
    },
    {
     "name": "stderr",
     "output_type": "stream",
     "text": [
      "Training:  28%|██▊       | 100/352 [01:40<04:00,  1.05it/s]"
     ]
    },
    {
     "name": "stdout",
     "output_type": "stream",
     "text": [
      "  Batch 100/352, Loss: 0.0825\n"
     ]
    },
    {
     "name": "stderr",
     "output_type": "stream",
     "text": [
      "Training:  43%|████▎     | 150/352 [02:31<03:31,  1.05s/it]"
     ]
    },
    {
     "name": "stdout",
     "output_type": "stream",
     "text": [
      "  Batch 150/352, Loss: 0.0683\n"
     ]
    },
    {
     "name": "stderr",
     "output_type": "stream",
     "text": [
      "Training:  57%|█████▋    | 200/352 [03:20<02:26,  1.03it/s]"
     ]
    },
    {
     "name": "stdout",
     "output_type": "stream",
     "text": [
      "  Batch 200/352, Loss: 0.1261\n"
     ]
    },
    {
     "name": "stderr",
     "output_type": "stream",
     "text": [
      "Training:  71%|███████   | 250/352 [04:09<01:40,  1.01it/s]"
     ]
    },
    {
     "name": "stdout",
     "output_type": "stream",
     "text": [
      "  Batch 250/352, Loss: 0.0578\n"
     ]
    },
    {
     "name": "stderr",
     "output_type": "stream",
     "text": [
      "Training:  85%|████████▌ | 300/352 [04:58<00:50,  1.03it/s]"
     ]
    },
    {
     "name": "stdout",
     "output_type": "stream",
     "text": [
      "  Batch 300/352, Loss: 0.0959\n"
     ]
    },
    {
     "name": "stderr",
     "output_type": "stream",
     "text": [
      "Training:  99%|█████████▉| 350/352 [05:47<00:01,  1.04it/s]"
     ]
    },
    {
     "name": "stdout",
     "output_type": "stream",
     "text": [
      "  Batch 350/352, Loss: 0.0553\n"
     ]
    },
    {
     "name": "stderr",
     "output_type": "stream",
     "text": [
      "Training: 100%|██████████| 352/352 [05:48<00:00,  1.01it/s]\n"
     ]
    },
    {
     "name": "stdout",
     "output_type": "stream",
     "text": [
      "Evaluating on training set...\n",
      "Evaluating on validation set...\n",
      "✅ Model saved at best_cifar10_improved_model.pkl\n",
      "✅ New best model saved (F1: 0.8918)\n",
      "Epoch 42 Summary:\n",
      "  Train Loss: 0.0988, Train Accuracy: 0.9712\n",
      "  Valid Loss: 0.3192, Valid Accuracy: 0.9055\n",
      "  Valid Precision: 0.8982, Valid Recall: 0.8954, Valid F1: 0.8918\n",
      "\n",
      "Epoch 43/50 - Learning Rate: 0.000076\n"
     ]
    },
    {
     "name": "stderr",
     "output_type": "stream",
     "text": [
      "Training:  14%|█▍        | 50/352 [00:48<05:03,  1.00s/it]"
     ]
    },
    {
     "name": "stdout",
     "output_type": "stream",
     "text": [
      "  Batch 50/352, Loss: 0.0880\n"
     ]
    },
    {
     "name": "stderr",
     "output_type": "stream",
     "text": [
      "Training:  28%|██▊       | 100/352 [01:37<04:10,  1.01it/s]"
     ]
    },
    {
     "name": "stdout",
     "output_type": "stream",
     "text": [
      "  Batch 100/352, Loss: 0.0945\n"
     ]
    },
    {
     "name": "stderr",
     "output_type": "stream",
     "text": [
      "Training:  43%|████▎     | 150/352 [02:28<03:22,  1.00s/it]"
     ]
    },
    {
     "name": "stdout",
     "output_type": "stream",
     "text": [
      "  Batch 150/352, Loss: 0.0421\n"
     ]
    },
    {
     "name": "stderr",
     "output_type": "stream",
     "text": [
      "Training:  57%|█████▋    | 200/352 [03:20<02:46,  1.10s/it]"
     ]
    },
    {
     "name": "stdout",
     "output_type": "stream",
     "text": [
      "  Batch 200/352, Loss: 0.0509\n"
     ]
    },
    {
     "name": "stderr",
     "output_type": "stream",
     "text": [
      "Training:  71%|███████   | 250/352 [04:13<01:39,  1.02it/s]"
     ]
    },
    {
     "name": "stdout",
     "output_type": "stream",
     "text": [
      "  Batch 250/352, Loss: 0.0609\n"
     ]
    },
    {
     "name": "stderr",
     "output_type": "stream",
     "text": [
      "Training:  85%|████████▌ | 300/352 [05:03<00:51,  1.01it/s]"
     ]
    },
    {
     "name": "stdout",
     "output_type": "stream",
     "text": [
      "  Batch 300/352, Loss: 0.1389\n"
     ]
    },
    {
     "name": "stderr",
     "output_type": "stream",
     "text": [
      "Training:  99%|█████████▉| 350/352 [05:52<00:02,  1.01s/it]"
     ]
    },
    {
     "name": "stdout",
     "output_type": "stream",
     "text": [
      "  Batch 350/352, Loss: 0.0655\n"
     ]
    },
    {
     "name": "stderr",
     "output_type": "stream",
     "text": [
      "Training: 100%|██████████| 352/352 [05:54<00:00,  1.01s/it]\n"
     ]
    },
    {
     "name": "stdout",
     "output_type": "stream",
     "text": [
      "Evaluating on training set...\n",
      "Evaluating on validation set...\n",
      "✅ Model saved at best_cifar10_improved_model.pkl\n",
      "✅ New best model saved (F1: 0.8959)\n",
      "Epoch 43 Summary:\n",
      "  Train Loss: 0.0979, Train Accuracy: 0.9752\n",
      "  Valid Loss: 0.3091, Valid Accuracy: 0.9088\n",
      "  Valid Precision: 0.9018, Valid Recall: 0.8994, Valid F1: 0.8959\n",
      "\n",
      "Epoch 44/50 - Learning Rate: 0.000059\n"
     ]
    },
    {
     "name": "stderr",
     "output_type": "stream",
     "text": [
      "Training:  14%|█▍        | 50/352 [00:49<04:55,  1.02it/s]"
     ]
    },
    {
     "name": "stdout",
     "output_type": "stream",
     "text": [
      "  Batch 50/352, Loss: 0.0687\n"
     ]
    },
    {
     "name": "stderr",
     "output_type": "stream",
     "text": [
      "Training:  28%|██▊       | 100/352 [01:39<04:16,  1.02s/it]"
     ]
    },
    {
     "name": "stdout",
     "output_type": "stream",
     "text": [
      "  Batch 100/352, Loss: 0.0748\n"
     ]
    },
    {
     "name": "stderr",
     "output_type": "stream",
     "text": [
      "Training:  43%|████▎     | 150/352 [02:27<03:15,  1.04it/s]"
     ]
    },
    {
     "name": "stdout",
     "output_type": "stream",
     "text": [
      "  Batch 150/352, Loss: 0.1298\n"
     ]
    },
    {
     "name": "stderr",
     "output_type": "stream",
     "text": [
      "Training:  57%|█████▋    | 200/352 [03:17<02:31,  1.00it/s]"
     ]
    },
    {
     "name": "stdout",
     "output_type": "stream",
     "text": [
      "  Batch 200/352, Loss: 0.0687\n"
     ]
    },
    {
     "name": "stderr",
     "output_type": "stream",
     "text": [
      "Training:  71%|███████   | 250/352 [04:06<01:38,  1.03it/s]"
     ]
    },
    {
     "name": "stdout",
     "output_type": "stream",
     "text": [
      "  Batch 250/352, Loss: 0.0609\n"
     ]
    },
    {
     "name": "stderr",
     "output_type": "stream",
     "text": [
      "Training:  85%|████████▌ | 300/352 [04:55<00:58,  1.13s/it]"
     ]
    },
    {
     "name": "stdout",
     "output_type": "stream",
     "text": [
      "  Batch 300/352, Loss: 0.1080\n"
     ]
    },
    {
     "name": "stderr",
     "output_type": "stream",
     "text": [
      "Training:  99%|█████████▉| 350/352 [05:45<00:01,  1.04it/s]"
     ]
    },
    {
     "name": "stdout",
     "output_type": "stream",
     "text": [
      "  Batch 350/352, Loss: 0.0600\n"
     ]
    },
    {
     "name": "stderr",
     "output_type": "stream",
     "text": [
      "Training: 100%|██████████| 352/352 [05:47<00:00,  1.01it/s]\n"
     ]
    },
    {
     "name": "stdout",
     "output_type": "stream",
     "text": [
      "Evaluating on training set...\n",
      "Evaluating on validation set...\n",
      "Epoch 44 Summary:\n",
      "  Train Loss: 0.0928, Train Accuracy: 0.9768\n",
      "  Valid Loss: 0.3089, Valid Accuracy: 0.9092\n",
      "  Valid Precision: 0.9011, Valid Recall: 0.8992, Valid F1: 0.8959\n",
      "\n",
      "Epoch 45/50 - Learning Rate: 0.000043\n"
     ]
    },
    {
     "name": "stderr",
     "output_type": "stream",
     "text": [
      "Training:  14%|█▍        | 50/352 [00:49<04:56,  1.02it/s]"
     ]
    },
    {
     "name": "stdout",
     "output_type": "stream",
     "text": [
      "  Batch 50/352, Loss: 0.0616\n"
     ]
    },
    {
     "name": "stderr",
     "output_type": "stream",
     "text": [
      "Training:  28%|██▊       | 100/352 [01:38<04:02,  1.04it/s]"
     ]
    },
    {
     "name": "stdout",
     "output_type": "stream",
     "text": [
      "  Batch 100/352, Loss: 0.1041\n"
     ]
    },
    {
     "name": "stderr",
     "output_type": "stream",
     "text": [
      "Training:  43%|████▎     | 150/352 [02:29<03:20,  1.01it/s]"
     ]
    },
    {
     "name": "stdout",
     "output_type": "stream",
     "text": [
      "  Batch 150/352, Loss: 0.0663\n"
     ]
    },
    {
     "name": "stderr",
     "output_type": "stream",
     "text": [
      "Training:  57%|█████▋    | 200/352 [03:18<02:25,  1.05it/s]"
     ]
    },
    {
     "name": "stdout",
     "output_type": "stream",
     "text": [
      "  Batch 200/352, Loss: 0.1511\n"
     ]
    },
    {
     "name": "stderr",
     "output_type": "stream",
     "text": [
      "Training:  71%|███████   | 250/352 [04:06<01:37,  1.05it/s]"
     ]
    },
    {
     "name": "stdout",
     "output_type": "stream",
     "text": [
      "  Batch 250/352, Loss: 0.0792\n"
     ]
    },
    {
     "name": "stderr",
     "output_type": "stream",
     "text": [
      "Training:  85%|████████▌ | 300/352 [04:56<00:53,  1.02s/it]"
     ]
    },
    {
     "name": "stdout",
     "output_type": "stream",
     "text": [
      "  Batch 300/352, Loss: 0.0726\n"
     ]
    },
    {
     "name": "stderr",
     "output_type": "stream",
     "text": [
      "Training:  99%|█████████▉| 350/352 [05:45<00:01,  1.02it/s]"
     ]
    },
    {
     "name": "stdout",
     "output_type": "stream",
     "text": [
      "  Batch 350/352, Loss: 0.1271\n"
     ]
    },
    {
     "name": "stderr",
     "output_type": "stream",
     "text": [
      "Training: 100%|██████████| 352/352 [05:47<00:00,  1.01it/s]\n"
     ]
    },
    {
     "name": "stdout",
     "output_type": "stream",
     "text": [
      "Evaluating on training set...\n",
      "Evaluating on validation set...\n",
      "✅ Model saved at best_cifar10_improved_model.pkl\n",
      "✅ New best model saved (F1: 0.8999)\n",
      "Epoch 45 Summary:\n",
      "  Train Loss: 0.0898, Train Accuracy: 0.9801\n",
      "  Valid Loss: 0.2994, Valid Accuracy: 0.9131\n",
      "  Valid Precision: 0.9045, Valid Recall: 0.9033, Valid F1: 0.8999\n",
      "\n",
      "Epoch 46/50 - Learning Rate: 0.000030\n"
     ]
    },
    {
     "name": "stderr",
     "output_type": "stream",
     "text": [
      "Training:  14%|█▍        | 50/352 [00:51<05:24,  1.08s/it]"
     ]
    },
    {
     "name": "stdout",
     "output_type": "stream",
     "text": [
      "  Batch 50/352, Loss: 0.0932\n"
     ]
    },
    {
     "name": "stderr",
     "output_type": "stream",
     "text": [
      "Training:  28%|██▊       | 100/352 [01:41<04:14,  1.01s/it]"
     ]
    },
    {
     "name": "stdout",
     "output_type": "stream",
     "text": [
      "  Batch 100/352, Loss: 0.1282\n"
     ]
    },
    {
     "name": "stderr",
     "output_type": "stream",
     "text": [
      "Training:  43%|████▎     | 150/352 [02:34<03:55,  1.17s/it]"
     ]
    },
    {
     "name": "stdout",
     "output_type": "stream",
     "text": [
      "  Batch 150/352, Loss: 0.0399\n"
     ]
    },
    {
     "name": "stderr",
     "output_type": "stream",
     "text": [
      "Training:  57%|█████▋    | 200/352 [03:27<02:43,  1.08s/it]"
     ]
    },
    {
     "name": "stdout",
     "output_type": "stream",
     "text": [
      "  Batch 200/352, Loss: 0.1177\n"
     ]
    },
    {
     "name": "stderr",
     "output_type": "stream",
     "text": [
      "Training:  71%|███████   | 250/352 [04:19<01:45,  1.03s/it]"
     ]
    },
    {
     "name": "stdout",
     "output_type": "stream",
     "text": [
      "  Batch 250/352, Loss: 0.0879\n"
     ]
    },
    {
     "name": "stderr",
     "output_type": "stream",
     "text": [
      "Training:  85%|████████▌ | 300/352 [05:10<00:51,  1.00it/s]"
     ]
    },
    {
     "name": "stdout",
     "output_type": "stream",
     "text": [
      "  Batch 300/352, Loss: 0.1321\n"
     ]
    },
    {
     "name": "stderr",
     "output_type": "stream",
     "text": [
      "Training:  99%|█████████▉| 350/352 [06:02<00:02,  1.02s/it]"
     ]
    },
    {
     "name": "stdout",
     "output_type": "stream",
     "text": [
      "  Batch 350/352, Loss: 0.0770\n"
     ]
    },
    {
     "name": "stderr",
     "output_type": "stream",
     "text": [
      "Training: 100%|██████████| 352/352 [06:03<00:00,  1.03s/it]\n"
     ]
    },
    {
     "name": "stdout",
     "output_type": "stream",
     "text": [
      "Evaluating on training set...\n",
      "Evaluating on validation set...\n",
      "Epoch 46 Summary:\n",
      "  Train Loss: 0.0859, Train Accuracy: 0.9797\n",
      "  Valid Loss: 0.3026, Valid Accuracy: 0.9131\n",
      "  Valid Precision: 0.9044, Valid Recall: 0.9029, Valid F1: 0.8996\n",
      "\n",
      "Epoch 47/50 - Learning Rate: 0.000019\n"
     ]
    },
    {
     "name": "stderr",
     "output_type": "stream",
     "text": [
      "Training:  14%|█▍        | 50/352 [00:51<05:16,  1.05s/it]"
     ]
    },
    {
     "name": "stdout",
     "output_type": "stream",
     "text": [
      "  Batch 50/352, Loss: 0.0973\n"
     ]
    },
    {
     "name": "stderr",
     "output_type": "stream",
     "text": [
      "Training:  28%|██▊       | 100/352 [01:43<04:21,  1.04s/it]"
     ]
    },
    {
     "name": "stdout",
     "output_type": "stream",
     "text": [
      "  Batch 100/352, Loss: 0.0483\n"
     ]
    },
    {
     "name": "stderr",
     "output_type": "stream",
     "text": [
      "Training:  43%|████▎     | 150/352 [02:35<03:20,  1.01it/s]"
     ]
    },
    {
     "name": "stdout",
     "output_type": "stream",
     "text": [
      "  Batch 150/352, Loss: 0.0542\n"
     ]
    },
    {
     "name": "stderr",
     "output_type": "stream",
     "text": [
      "Training:  57%|█████▋    | 200/352 [03:28<02:38,  1.05s/it]"
     ]
    },
    {
     "name": "stdout",
     "output_type": "stream",
     "text": [
      "  Batch 200/352, Loss: 0.0984\n"
     ]
    },
    {
     "name": "stderr",
     "output_type": "stream",
     "text": [
      "Training:  71%|███████   | 250/352 [04:19<01:44,  1.03s/it]"
     ]
    },
    {
     "name": "stdout",
     "output_type": "stream",
     "text": [
      "  Batch 250/352, Loss: 0.1170\n"
     ]
    },
    {
     "name": "stderr",
     "output_type": "stream",
     "text": [
      "Training:  85%|████████▌ | 300/352 [05:10<00:54,  1.04s/it]"
     ]
    },
    {
     "name": "stdout",
     "output_type": "stream",
     "text": [
      "  Batch 300/352, Loss: 0.0855\n"
     ]
    },
    {
     "name": "stderr",
     "output_type": "stream",
     "text": [
      "Training:  99%|█████████▉| 350/352 [06:02<00:02,  1.12s/it]"
     ]
    },
    {
     "name": "stdout",
     "output_type": "stream",
     "text": [
      "  Batch 350/352, Loss: 0.0723\n"
     ]
    },
    {
     "name": "stderr",
     "output_type": "stream",
     "text": [
      "Training: 100%|██████████| 352/352 [06:04<00:00,  1.04s/it]\n"
     ]
    },
    {
     "name": "stdout",
     "output_type": "stream",
     "text": [
      "Evaluating on training set...\n",
      "Evaluating on validation set...\n",
      "Epoch 47 Summary:\n",
      "  Train Loss: 0.0873, Train Accuracy: 0.9810\n",
      "  Valid Loss: 0.2993, Valid Accuracy: 0.9117\n",
      "  Valid Precision: 0.9030, Valid Recall: 0.9016, Valid F1: 0.8983\n",
      "\n",
      "Epoch 48/50 - Learning Rate: 0.000011\n"
     ]
    },
    {
     "name": "stderr",
     "output_type": "stream",
     "text": [
      "Training:  14%|█▍        | 50/352 [00:53<05:08,  1.02s/it]"
     ]
    },
    {
     "name": "stdout",
     "output_type": "stream",
     "text": [
      "  Batch 50/352, Loss: 0.0665\n"
     ]
    },
    {
     "name": "stderr",
     "output_type": "stream",
     "text": [
      "Training:  28%|██▊       | 100/352 [01:43<04:17,  1.02s/it]"
     ]
    },
    {
     "name": "stdout",
     "output_type": "stream",
     "text": [
      "  Batch 100/352, Loss: 0.0625\n"
     ]
    },
    {
     "name": "stderr",
     "output_type": "stream",
     "text": [
      "Training:  43%|████▎     | 150/352 [02:34<03:27,  1.03s/it]"
     ]
    },
    {
     "name": "stdout",
     "output_type": "stream",
     "text": [
      "  Batch 150/352, Loss: 0.0879\n"
     ]
    },
    {
     "name": "stderr",
     "output_type": "stream",
     "text": [
      "Training:  57%|█████▋    | 200/352 [03:24<02:27,  1.03it/s]"
     ]
    },
    {
     "name": "stdout",
     "output_type": "stream",
     "text": [
      "  Batch 200/352, Loss: 0.1010\n"
     ]
    },
    {
     "name": "stderr",
     "output_type": "stream",
     "text": [
      "Training:  71%|███████   | 250/352 [04:14<01:41,  1.01it/s]"
     ]
    },
    {
     "name": "stdout",
     "output_type": "stream",
     "text": [
      "  Batch 250/352, Loss: 0.0658\n"
     ]
    },
    {
     "name": "stderr",
     "output_type": "stream",
     "text": [
      "Training:  85%|████████▌ | 300/352 [05:04<00:52,  1.01s/it]"
     ]
    },
    {
     "name": "stdout",
     "output_type": "stream",
     "text": [
      "  Batch 300/352, Loss: 0.0692\n"
     ]
    },
    {
     "name": "stderr",
     "output_type": "stream",
     "text": [
      "Training:  99%|█████████▉| 350/352 [05:56<00:01,  1.03it/s]"
     ]
    },
    {
     "name": "stdout",
     "output_type": "stream",
     "text": [
      "  Batch 350/352, Loss: 0.0662\n"
     ]
    },
    {
     "name": "stderr",
     "output_type": "stream",
     "text": [
      "Training: 100%|██████████| 352/352 [05:57<00:00,  1.02s/it]\n"
     ]
    },
    {
     "name": "stdout",
     "output_type": "stream",
     "text": [
      "Evaluating on training set...\n",
      "Evaluating on validation set...\n",
      "Epoch 48 Summary:\n",
      "  Train Loss: 0.0868, Train Accuracy: 0.9810\n",
      "  Valid Loss: 0.2992, Valid Accuracy: 0.9119\n",
      "  Valid Precision: 0.9033, Valid Recall: 0.9021, Valid F1: 0.8987\n",
      "\n",
      "Epoch 49/50 - Learning Rate: 0.000005\n"
     ]
    },
    {
     "name": "stderr",
     "output_type": "stream",
     "text": [
      "Training:  14%|█▍        | 50/352 [00:50<05:01,  1.00it/s]"
     ]
    },
    {
     "name": "stdout",
     "output_type": "stream",
     "text": [
      "  Batch 50/352, Loss: 0.0678\n"
     ]
    },
    {
     "name": "stderr",
     "output_type": "stream",
     "text": [
      "Training:  28%|██▊       | 100/352 [01:40<04:18,  1.03s/it]"
     ]
    },
    {
     "name": "stdout",
     "output_type": "stream",
     "text": [
      "  Batch 100/352, Loss: 0.0964\n"
     ]
    },
    {
     "name": "stderr",
     "output_type": "stream",
     "text": [
      "Training:  43%|████▎     | 150/352 [02:30<03:29,  1.04s/it]"
     ]
    },
    {
     "name": "stdout",
     "output_type": "stream",
     "text": [
      "  Batch 150/352, Loss: 0.0552\n"
     ]
    },
    {
     "name": "stderr",
     "output_type": "stream",
     "text": [
      "Training:  57%|█████▋    | 200/352 [03:20<02:28,  1.03it/s]"
     ]
    },
    {
     "name": "stdout",
     "output_type": "stream",
     "text": [
      "  Batch 200/352, Loss: 0.1205\n"
     ]
    },
    {
     "name": "stderr",
     "output_type": "stream",
     "text": [
      "Training:  71%|███████   | 250/352 [04:10<01:41,  1.01it/s]"
     ]
    },
    {
     "name": "stdout",
     "output_type": "stream",
     "text": [
      "  Batch 250/352, Loss: 0.0540\n"
     ]
    },
    {
     "name": "stderr",
     "output_type": "stream",
     "text": [
      "Training:  85%|████████▌ | 300/352 [05:01<00:52,  1.00s/it]"
     ]
    },
    {
     "name": "stdout",
     "output_type": "stream",
     "text": [
      "  Batch 300/352, Loss: 0.0775\n"
     ]
    },
    {
     "name": "stderr",
     "output_type": "stream",
     "text": [
      "Training:  99%|█████████▉| 350/352 [05:53<00:02,  1.03s/it]"
     ]
    },
    {
     "name": "stdout",
     "output_type": "stream",
     "text": [
      "  Batch 350/352, Loss: 0.0363\n"
     ]
    },
    {
     "name": "stderr",
     "output_type": "stream",
     "text": [
      "Training: 100%|██████████| 352/352 [05:54<00:00,  1.01s/it]\n"
     ]
    },
    {
     "name": "stdout",
     "output_type": "stream",
     "text": [
      "Evaluating on training set...\n",
      "Evaluating on validation set...\n",
      "Epoch 49 Summary:\n",
      "  Train Loss: 0.0860, Train Accuracy: 0.9821\n",
      "  Valid Loss: 0.2983, Valid Accuracy: 0.9123\n",
      "  Valid Precision: 0.9033, Valid Recall: 0.9025, Valid F1: 0.8992\n",
      "\n",
      "Epoch 50/50 - Learning Rate: 0.000001\n"
     ]
    },
    {
     "name": "stderr",
     "output_type": "stream",
     "text": [
      "Training:  14%|█▍        | 50/352 [00:51<05:03,  1.01s/it]"
     ]
    },
    {
     "name": "stdout",
     "output_type": "stream",
     "text": [
      "  Batch 50/352, Loss: 0.1291\n"
     ]
    },
    {
     "name": "stderr",
     "output_type": "stream",
     "text": [
      "Training:  28%|██▊       | 100/352 [01:42<04:11,  1.00it/s]"
     ]
    },
    {
     "name": "stdout",
     "output_type": "stream",
     "text": [
      "  Batch 100/352, Loss: 0.1043\n"
     ]
    },
    {
     "name": "stderr",
     "output_type": "stream",
     "text": [
      "Training:  43%|████▎     | 150/352 [02:33<03:26,  1.02s/it]"
     ]
    },
    {
     "name": "stdout",
     "output_type": "stream",
     "text": [
      "  Batch 150/352, Loss: 0.0931\n"
     ]
    },
    {
     "name": "stderr",
     "output_type": "stream",
     "text": [
      "Training:  57%|█████▋    | 200/352 [03:23<02:40,  1.06s/it]"
     ]
    },
    {
     "name": "stdout",
     "output_type": "stream",
     "text": [
      "  Batch 200/352, Loss: 0.1112\n"
     ]
    },
    {
     "name": "stderr",
     "output_type": "stream",
     "text": [
      "Training:  71%|███████   | 250/352 [04:14<01:46,  1.05s/it]"
     ]
    },
    {
     "name": "stdout",
     "output_type": "stream",
     "text": [
      "  Batch 250/352, Loss: 0.0407\n"
     ]
    },
    {
     "name": "stderr",
     "output_type": "stream",
     "text": [
      "Training:  85%|████████▌ | 300/352 [05:04<00:52,  1.02s/it]"
     ]
    },
    {
     "name": "stdout",
     "output_type": "stream",
     "text": [
      "  Batch 300/352, Loss: 0.0840\n"
     ]
    },
    {
     "name": "stderr",
     "output_type": "stream",
     "text": [
      "Training:  99%|█████████▉| 350/352 [05:55<00:01,  1.01it/s]"
     ]
    },
    {
     "name": "stdout",
     "output_type": "stream",
     "text": [
      "  Batch 350/352, Loss: 0.1006\n"
     ]
    },
    {
     "name": "stderr",
     "output_type": "stream",
     "text": [
      "Training: 100%|██████████| 352/352 [05:56<00:00,  1.01s/it]\n"
     ]
    },
    {
     "name": "stdout",
     "output_type": "stream",
     "text": [
      "Evaluating on training set...\n",
      "Evaluating on validation set...\n",
      "Epoch 50 Summary:\n",
      "  Train Loss: 0.0844, Train Accuracy: 0.9812\n",
      "  Valid Loss: 0.2998, Valid Accuracy: 0.9111\n",
      "  Valid Precision: 0.9023, Valid Recall: 0.9016, Valid F1: 0.8980\n",
      "\n",
      "\n",
      "Plotting training curves...\n"
     ]
    },
    {
     "data": {
      "image/png": "[encoded data removed]",
      "text/plain": [
       "<Figure size 1500x600 with 2 Axes>"
      ]
     },
     "metadata": {},
     "output_type": "display_data"
    },
    {
     "name": "stdout",
     "output_type": "stream",
     "text": [
      "\n",
      "Loading best model for final evaluation...\n",
      "✅ Model loaded from best_cifar10_improved_model.pkl\n",
      "\n",
      "🏆 FINAL EVALUATION (Best Model):\n",
      "  Test Loss: 0.3370\n",
      "  Test Accuracy: 0.9026\n",
      "  Test Precision: 0.8985\n",
      "  Test Recall: 0.8976\n",
      "  Test F1: 0.8941\n",
      "\n",
      "Training completed!\n"
     ]
    }
   ],
   "source": [
    "main()"
   ]
  },
  {
   "cell_type": "code",
   "execution_count": null,
   "id": "0ae1dc86-6282-4fd8-bf22-a5bdd0103341",
   "metadata": {},
   "outputs": [],
   "source": []
  },
  {
   "cell_type": "code",
   "execution_count": null,
   "id": "707c4dce-c250-4983-8d99-59b043e8b2d7",
   "metadata": {},
   "outputs": [],
   "source": []
  }
 ],
 "metadata": {
  "kernelspec": {
   "display_name": "Python 3 (ipykernel)",
   "language": "python",
   "name": "python3"
  },
  "language_info": {
   "codemirror_mode": {
    "name": "ipython",
    "version": 3
   },
   "file_extension": ".py",
   "mimetype": "text/x-python",
   "name": "python",
   "nbconvert_exporter": "python",
   "pygments_lexer": "ipython3",
   "version": "3.11.9"
  }
 },
 "nbformat": 4,
 "nbformat_minor": 5
}
