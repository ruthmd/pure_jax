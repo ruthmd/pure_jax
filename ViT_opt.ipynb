{
 "cells": [
  {
   "cell_type": "code",
   "execution_count": 2,
   "id": "9ed5bf79-6c42-4a2d-b331-4e20fd6922da",
   "metadata": {},
   "outputs": [
    {
     "name": "stdout",
     "output_type": "stream",
     "text": [
      "\u001b[31mERROR: pip's dependency resolver does not currently take into account all the packages that are installed. This behaviour is the source of the following dependency conflicts.\n",
      "torch 2.4.1 requires nvidia-cudnn-cu12==9.1.0.70; platform_system == \"Linux\" and platform_machine == \"x86_64\", but you have nvidia-cudnn-cu12 9.9.0.52 which is incompatible.\n",
      "tensorflow 2.17.0 requires ml-dtypes<0.5.0,>=0.3.1, but you have ml-dtypes 0.5.1 which is incompatible.\n",
      "tensorflow 2.17.0 requires numpy<2.0.0,>=1.23.5; python_version <= \"3.11\", but you have numpy 2.0.2 which is incompatible.\u001b[0m\u001b[31m\n",
      "\u001b[0m\n",
      "\u001b[1m[\u001b[0m\u001b[34;49mnotice\u001b[0m\u001b[1;39;49m]\u001b[0m\u001b[39;49m A new release of pip is available: \u001b[0m\u001b[31;49m24.1.2\u001b[0m\u001b[39;49m -> \u001b[0m\u001b[32;49m25.1\u001b[0m\n",
      "\u001b[1m[\u001b[0m\u001b[34;49mnotice\u001b[0m\u001b[1;39;49m]\u001b[0m\u001b[39;49m To update, run: \u001b[0m\u001b[32;49mpip install --upgrade pip\u001b[0m\n"
     ]
    }
   ],
   "source": [
    "!pip install -q tensorflow_datasets umap-learn \"jax[cuda12]\" -f https://storage.googleapis.com/jax-releases/jax_cuda_releases.htmlimport jax"
   ]
  },
  {
   "cell_type": "code",
   "execution_count": 12,
   "id": "8cd18f8d-55d5-406d-ac79-7f4ab8305e76",
   "metadata": {},
   "outputs": [
    {
     "name": "stdout",
     "output_type": "stream",
     "text": [
      "\n",
      "================================================================================\n",
      "ENHANCED VISION TRANSFORMER WITH ADVANCED REGULARIZATION\n",
      "================================================================================\n",
      "Configuration:\n",
      "  Architecture: 3 layers × 384 dim\n",
      "  Regularization Techniques:\n",
      "    - Dropout: 0.2 (attention: 0.3)\n",
      "    - DropPath: 0.2\n",
      "    - Batch Normalization: True\n",
      "    - Data Augmentation: True\n",
      "    - Label Smoothing: 0.1\n",
      "    - EMA: True (decay: 0.9999)\n",
      "    - Weight Decay: 0.05\n",
      "  Training: 100 epochs × 256 batch size\n",
      "  Learning rate: 0.0003 (warmup: 1000 steps)\n",
      "  Device: cuda:0\n",
      "  Results: enhanced_vit_results/run_20250507_053823\n",
      "================================================================================\n",
      "\n",
      "Loading CIFAR-10 dataset...\n",
      "Loaded 50000 training samples and 10000 test samples\n",
      "Creating initial visualizations...\n",
      "\n",
      "Starting enhanced training with regularization...\n",
      "Starting enhanced training on cuda:0\n",
      "Total steps: 19500\n",
      "Regularization: Dropout=0.2, BatchNorm=True\n",
      "Data Augmentation: Enabled=True\n",
      "Label Smoothing: 0.1\n"
     ]
    },
    {
     "data": {
      "application/vnd.jupyter.widget-view+json": {
       "model_id": "cfe35eefd0254d1786d9285c6f4aec8e",
       "version_major": 2,
       "version_minor": 0
      },
      "text/plain": [
       "Epoch 1/100 [Train]:   0%|          | 0/195 [00:00<?, ?it/s]"
      ]
     },
     "metadata": {},
     "output_type": "display_data"
    },
    {
     "data": {
      "application/vnd.jupyter.widget-view+json": {
       "model_id": "7f9830b6061a476086a8b76a6f4155b5",
       "version_major": 2,
       "version_minor": 0
      },
      "text/plain": [
       "Epoch 1/100 [Eval]:   0%|          | 0/40 [00:00<?, ?it/s]"
      ]
     },
     "metadata": {},
     "output_type": "display_data"
    },
    {
     "data": {
      "application/vnd.jupyter.widget-view+json": {
       "model_id": "4bc70f4054b441b3b3208c93d4e246a2",
       "version_major": 2,
       "version_minor": 0
      },
      "text/plain": [
       "Epoch 1/100 [Eval]:   0%|          | 0/40 [00:00<?, ?it/s]"
      ]
     },
     "metadata": {},
     "output_type": "display_data"
    },
    {
     "name": "stdout",
     "output_type": "stream",
     "text": [
      "EMA Eval Accuracy: 0.1604\n",
      "Epoch 1/100 completed in 273.65s\n",
      "  Train Loss: 2.2110, Train Accuracy: 0.1749\n",
      "  Eval Loss: 2.0424, Eval Accuracy: 0.2616\n",
      "  Best Accuracy: 0.2616 at epoch 1\n"
     ]
    },
    {
     "data": {
      "application/vnd.jupyter.widget-view+json": {
       "model_id": "9d41cfdd97564740b39940f5ab3d348b",
       "version_major": 2,
       "version_minor": 0
      },
      "text/plain": [
       "Epoch 2/100 [Train]:   0%|          | 0/195 [00:00<?, ?it/s]"
      ]
     },
     "metadata": {},
     "output_type": "display_data"
    },
    {
     "data": {
      "application/vnd.jupyter.widget-view+json": {
       "model_id": "de236f5dbd8543f6ba200661cbb1e1c9",
       "version_major": 2,
       "version_minor": 0
      },
      "text/plain": [
       "Epoch 2/100 [Eval]:   0%|          | 0/40 [00:00<?, ?it/s]"
      ]
     },
     "metadata": {},
     "output_type": "display_data"
    },
    {
     "data": {
      "application/vnd.jupyter.widget-view+json": {
       "model_id": "d890201e5b96448999765cba1e374bc4",
       "version_major": 2,
       "version_minor": 0
      },
      "text/plain": [
       "Epoch 2/100 [Eval]:   0%|          | 0/40 [00:00<?, ?it/s]"
      ]
     },
     "metadata": {},
     "output_type": "display_data"
    },
    {
     "name": "stdout",
     "output_type": "stream",
     "text": [
      "EMA Eval Accuracy: 0.1895\n",
      "Epoch 2/100 completed in 6.92s\n",
      "  Train Loss: 2.0734, Train Accuracy: 0.2567\n",
      "  Eval Loss: 1.8708, Eval Accuracy: 0.3621\n",
      "  Best Accuracy: 0.3621 at epoch 2\n"
     ]
    },
    {
     "data": {
      "application/vnd.jupyter.widget-view+json": {
       "model_id": "08abfcd200f549559773350adb0f5d51",
       "version_major": 2,
       "version_minor": 0
      },
      "text/plain": [
       "Epoch 3/100 [Train]:   0%|          | 0/195 [00:00<?, ?it/s]"
      ]
     },
     "metadata": {},
     "output_type": "display_data"
    },
    {
     "data": {
      "application/vnd.jupyter.widget-view+json": {
       "model_id": "fa3e4a6f4ef14948a34686e4dc4da83b",
       "version_major": 2,
       "version_minor": 0
      },
      "text/plain": [
       "Epoch 3/100 [Eval]:   0%|          | 0/40 [00:00<?, ?it/s]"
      ]
     },
     "metadata": {},
     "output_type": "display_data"
    },
    {
     "data": {
      "application/vnd.jupyter.widget-view+json": {
       "model_id": "4fd7abd9226049c5969355fa08a03ace",
       "version_major": 2,
       "version_minor": 0
      },
      "text/plain": [
       "Epoch 3/100 [Eval]:   0%|          | 0/40 [00:00<?, ?it/s]"
      ]
     },
     "metadata": {},
     "output_type": "display_data"
    },
    {
     "name": "stdout",
     "output_type": "stream",
     "text": [
      "EMA Eval Accuracy: 0.2040\n",
      "Epoch 3/100 completed in 6.94s\n",
      "  Train Loss: 1.9507, Train Accuracy: 0.3294\n",
      "  Eval Loss: 1.7209, Eval Accuracy: 0.4476\n",
      "  Best Accuracy: 0.4476 at epoch 3\n"
     ]
    },
    {
     "data": {
      "application/vnd.jupyter.widget-view+json": {
       "model_id": "8c807e34c644468a8b0dc218257a2302",
       "version_major": 2,
       "version_minor": 0
      },
      "text/plain": [
       "Epoch 4/100 [Train]:   0%|          | 0/195 [00:00<?, ?it/s]"
      ]
     },
     "metadata": {},
     "output_type": "display_data"
    },
    {
     "data": {
      "application/vnd.jupyter.widget-view+json": {
       "model_id": "78f94f8462654c7f9bd5d0f5da5c1f6c",
       "version_major": 2,
       "version_minor": 0
      },
      "text/plain": [
       "Epoch 4/100 [Eval]:   0%|          | 0/40 [00:00<?, ?it/s]"
      ]
     },
     "metadata": {},
     "output_type": "display_data"
    },
    {
     "data": {
      "application/vnd.jupyter.widget-view+json": {
       "model_id": "b43a50a321cf487cb149d607fc7961fd",
       "version_major": 2,
       "version_minor": 0
      },
      "text/plain": [
       "Epoch 4/100 [Eval]:   0%|          | 0/40 [00:00<?, ?it/s]"
      ]
     },
     "metadata": {},
     "output_type": "display_data"
    },
    {
     "name": "stdout",
     "output_type": "stream",
     "text": [
      "EMA Eval Accuracy: 0.2118\n",
      "Epoch 4/100 completed in 6.95s\n",
      "  Train Loss: 1.9091, Train Accuracy: 0.3592\n",
      "  Eval Loss: 1.6695, Eval Accuracy: 0.4646\n",
      "  Best Accuracy: 0.4646 at epoch 4\n"
     ]
    },
    {
     "data": {
      "application/vnd.jupyter.widget-view+json": {
       "model_id": "762a7539e5d94bb3a4f07f6b12f7244f",
       "version_major": 2,
       "version_minor": 0
      },
      "text/plain": [
       "Epoch 5/100 [Train]:   0%|          | 0/195 [00:00<?, ?it/s]"
      ]
     },
     "metadata": {},
     "output_type": "display_data"
    },
    {
     "data": {
      "application/vnd.jupyter.widget-view+json": {
       "model_id": "0e1b5bb9873d48f1969b5b58bcf02e32",
       "version_major": 2,
       "version_minor": 0
      },
      "text/plain": [
       "Epoch 5/100 [Eval]:   0%|          | 0/40 [00:00<?, ?it/s]"
      ]
     },
     "metadata": {},
     "output_type": "display_data"
    },
    {
     "data": {
      "application/vnd.jupyter.widget-view+json": {
       "model_id": "07f09ce19e7c41f3bcc30b91ae722569",
       "version_major": 2,
       "version_minor": 0
      },
      "text/plain": [
       "Epoch 5/100 [Eval]:   0%|          | 0/40 [00:00<?, ?it/s]"
      ]
     },
     "metadata": {},
     "output_type": "display_data"
    },
    {
     "name": "stdout",
     "output_type": "stream",
     "text": [
      "EMA Eval Accuracy: 0.2181\n",
      "Epoch 5/100 completed in 6.93s\n",
      "  Train Loss: 1.8854, Train Accuracy: 0.3737\n",
      "  Eval Loss: 1.6557, Eval Accuracy: 0.4691\n",
      "  Best Accuracy: 0.4691 at epoch 5\n"
     ]
    },
    {
     "data": {
      "application/vnd.jupyter.widget-view+json": {
       "model_id": "985a4700709046b99e901ef3fecbc75e",
       "version_major": 2,
       "version_minor": 0
      },
      "text/plain": [
       "Epoch 6/100 [Train]:   0%|          | 0/195 [00:00<?, ?it/s]"
      ]
     },
     "metadata": {},
     "output_type": "display_data"
    },
    {
     "data": {
      "application/vnd.jupyter.widget-view+json": {
       "model_id": "f2b5d391fa41452ca4ed4c0f142ae905",
       "version_major": 2,
       "version_minor": 0
      },
      "text/plain": [
       "Epoch 6/100 [Eval]:   0%|          | 0/40 [00:00<?, ?it/s]"
      ]
     },
     "metadata": {},
     "output_type": "display_data"
    },
    {
     "data": {
      "application/vnd.jupyter.widget-view+json": {
       "model_id": "8a8a1fd056a7496d8b7e87fd338a2257",
       "version_major": 2,
       "version_minor": 0
      },
      "text/plain": [
       "Epoch 6/100 [Eval]:   0%|          | 0/40 [00:00<?, ?it/s]"
      ]
     },
     "metadata": {},
     "output_type": "display_data"
    },
    {
     "name": "stdout",
     "output_type": "stream",
     "text": [
      "EMA Eval Accuracy: 0.2222\n",
      "Epoch 6/100 completed in 6.93s\n",
      "  Train Loss: 1.8783, Train Accuracy: 0.3741\n",
      "  Eval Loss: 1.6333, Eval Accuracy: 0.4764\n",
      "  Best Accuracy: 0.4764 at epoch 6\n"
     ]
    },
    {
     "data": {
      "application/vnd.jupyter.widget-view+json": {
       "model_id": "61046c9c0a524f78b20136cf74791e50",
       "version_major": 2,
       "version_minor": 0
      },
      "text/plain": [
       "Epoch 7/100 [Train]:   0%|          | 0/195 [00:00<?, ?it/s]"
      ]
     },
     "metadata": {},
     "output_type": "display_data"
    },
    {
     "data": {
      "application/vnd.jupyter.widget-view+json": {
       "model_id": "39c76ef6e84f4bfa93f7031e1df809fd",
       "version_major": 2,
       "version_minor": 0
      },
      "text/plain": [
       "Epoch 7/100 [Eval]:   0%|          | 0/40 [00:00<?, ?it/s]"
      ]
     },
     "metadata": {},
     "output_type": "display_data"
    },
    {
     "data": {
      "application/vnd.jupyter.widget-view+json": {
       "model_id": "d7263a306b264f0f91431d82337203cf",
       "version_major": 2,
       "version_minor": 0
      },
      "text/plain": [
       "Epoch 7/100 [Eval]:   0%|          | 0/40 [00:00<?, ?it/s]"
      ]
     },
     "metadata": {},
     "output_type": "display_data"
    },
    {
     "name": "stdout",
     "output_type": "stream",
     "text": [
      "EMA Eval Accuracy: 0.2276\n",
      "Epoch 7/100 completed in 6.82s\n",
      "  Train Loss: 1.8262, Train Accuracy: 0.4027\n",
      "  Eval Loss: 1.6017, Eval Accuracy: 0.4934\n",
      "  Best Accuracy: 0.4934 at epoch 7\n"
     ]
    },
    {
     "data": {
      "application/vnd.jupyter.widget-view+json": {
       "model_id": "d25c576eb29e45e3800d617820fffd4a",
       "version_major": 2,
       "version_minor": 0
      },
      "text/plain": [
       "Epoch 8/100 [Train]:   0%|          | 0/195 [00:00<?, ?it/s]"
      ]
     },
     "metadata": {},
     "output_type": "display_data"
    },
    {
     "data": {
      "application/vnd.jupyter.widget-view+json": {
       "model_id": "fd858b99d4b54720987da8a60735c9df",
       "version_major": 2,
       "version_minor": 0
      },
      "text/plain": [
       "Epoch 8/100 [Eval]:   0%|          | 0/40 [00:00<?, ?it/s]"
      ]
     },
     "metadata": {},
     "output_type": "display_data"
    },
    {
     "data": {
      "application/vnd.jupyter.widget-view+json": {
       "model_id": "3be0458ee8f84c9981a4b444a0ef99dc",
       "version_major": 2,
       "version_minor": 0
      },
      "text/plain": [
       "Epoch 8/100 [Eval]:   0%|          | 0/40 [00:00<?, ?it/s]"
      ]
     },
     "metadata": {},
     "output_type": "display_data"
    },
    {
     "name": "stdout",
     "output_type": "stream",
     "text": [
      "EMA Eval Accuracy: 0.2334\n",
      "Epoch 8/100 completed in 6.91s\n",
      "  Train Loss: 1.8208, Train Accuracy: 0.4049\n",
      "  Eval Loss: 1.5812, Eval Accuracy: 0.5000\n",
      "  Best Accuracy: 0.5000 at epoch 8\n"
     ]
    },
    {
     "data": {
      "application/vnd.jupyter.widget-view+json": {
       "model_id": "4a9606cc93254c84805ab52402a42c21",
       "version_major": 2,
       "version_minor": 0
      },
      "text/plain": [
       "Epoch 9/100 [Train]:   0%|          | 0/195 [00:00<?, ?it/s]"
      ]
     },
     "metadata": {},
     "output_type": "display_data"
    },
    {
     "data": {
      "application/vnd.jupyter.widget-view+json": {
       "model_id": "00b34b343ff04ae29441694537ab215e",
       "version_major": 2,
       "version_minor": 0
      },
      "text/plain": [
       "Epoch 9/100 [Eval]:   0%|          | 0/40 [00:00<?, ?it/s]"
      ]
     },
     "metadata": {},
     "output_type": "display_data"
    },
    {
     "data": {
      "application/vnd.jupyter.widget-view+json": {
       "model_id": "c916f4ea8c42404ea2da4025127578b0",
       "version_major": 2,
       "version_minor": 0
      },
      "text/plain": [
       "Epoch 9/100 [Eval]:   0%|          | 0/40 [00:00<?, ?it/s]"
      ]
     },
     "metadata": {},
     "output_type": "display_data"
    },
    {
     "name": "stdout",
     "output_type": "stream",
     "text": [
      "EMA Eval Accuracy: 0.2354\n",
      "Epoch 9/100 completed in 6.86s\n",
      "  Train Loss: 1.8078, Train Accuracy: 0.4123\n",
      "  Eval Loss: 1.5566, Eval Accuracy: 0.5128\n",
      "  Best Accuracy: 0.5128 at epoch 9\n"
     ]
    },
    {
     "data": {
      "application/vnd.jupyter.widget-view+json": {
       "model_id": "974a7648bd2d41d69ccc3ae25199011c",
       "version_major": 2,
       "version_minor": 0
      },
      "text/plain": [
       "Epoch 10/100 [Train]:   0%|          | 0/195 [00:00<?, ?it/s]"
      ]
     },
     "metadata": {},
     "output_type": "display_data"
    },
    {
     "data": {
      "application/vnd.jupyter.widget-view+json": {
       "model_id": "3bdcda454f114bff93ee375e14f522de",
       "version_major": 2,
       "version_minor": 0
      },
      "text/plain": [
       "Epoch 10/100 [Eval]:   0%|          | 0/40 [00:00<?, ?it/s]"
      ]
     },
     "metadata": {},
     "output_type": "display_data"
    },
    {
     "data": {
      "application/vnd.jupyter.widget-view+json": {
       "model_id": "1b40779e085d4a8191411d65d05d60bc",
       "version_major": 2,
       "version_minor": 0
      },
      "text/plain": [
       "Epoch 10/100 [Eval]:   0%|          | 0/40 [00:00<?, ?it/s]"
      ]
     },
     "metadata": {},
     "output_type": "display_data"
    },
    {
     "name": "stdout",
     "output_type": "stream",
     "text": [
      "EMA Eval Accuracy: 0.2377\n",
      "Epoch 10/100 completed in 6.74s\n",
      "  Train Loss: 1.7842, Train Accuracy: 0.4232\n",
      "  Eval Loss: 1.5434, Eval Accuracy: 0.5168\n",
      "  Best Accuracy: 0.5168 at epoch 10\n"
     ]
    },
    {
     "data": {
      "application/vnd.jupyter.widget-view+json": {
       "model_id": "a6890960668145778e52c35b88907699",
       "version_major": 2,
       "version_minor": 0
      },
      "text/plain": [
       "Epoch 11/100 [Train]:   0%|          | 0/195 [00:00<?, ?it/s]"
      ]
     },
     "metadata": {},
     "output_type": "display_data"
    },
    {
     "data": {
      "application/vnd.jupyter.widget-view+json": {
       "model_id": "dd3eeaae97b94a2a85b328984aaf071f",
       "version_major": 2,
       "version_minor": 0
      },
      "text/plain": [
       "Epoch 11/100 [Eval]:   0%|          | 0/40 [00:00<?, ?it/s]"
      ]
     },
     "metadata": {},
     "output_type": "display_data"
    },
    {
     "data": {
      "application/vnd.jupyter.widget-view+json": {
       "model_id": "c0ef393fdfb146e19d92359d077cc951",
       "version_major": 2,
       "version_minor": 0
      },
      "text/plain": [
       "Epoch 11/100 [Eval]:   0%|          | 0/40 [00:00<?, ?it/s]"
      ]
     },
     "metadata": {},
     "output_type": "display_data"
    },
    {
     "name": "stdout",
     "output_type": "stream",
     "text": [
      "EMA Eval Accuracy: 0.2408\n",
      "Epoch 11/100 completed in 7.00s\n",
      "  Train Loss: 1.7930, Train Accuracy: 0.4226\n",
      "  Eval Loss: 1.5231, Eval Accuracy: 0.5230\n",
      "  Best Accuracy: 0.5230 at epoch 11\n"
     ]
    },
    {
     "data": {
      "application/vnd.jupyter.widget-view+json": {
       "model_id": "87e8c823b7884b6cb6e151e885dff660",
       "version_major": 2,
       "version_minor": 0
      },
      "text/plain": [
       "Epoch 12/100 [Train]:   0%|          | 0/195 [00:00<?, ?it/s]"
      ]
     },
     "metadata": {},
     "output_type": "display_data"
    },
    {
     "data": {
      "application/vnd.jupyter.widget-view+json": {
       "model_id": "d8f36e1b2f1747babe4a46353c94a95a",
       "version_major": 2,
       "version_minor": 0
      },
      "text/plain": [
       "Epoch 12/100 [Eval]:   0%|          | 0/40 [00:00<?, ?it/s]"
      ]
     },
     "metadata": {},
     "output_type": "display_data"
    },
    {
     "data": {
      "application/vnd.jupyter.widget-view+json": {
       "model_id": "f36edafd0a3c431caf99c5f37b79e839",
       "version_major": 2,
       "version_minor": 0
      },
      "text/plain": [
       "Epoch 12/100 [Eval]:   0%|          | 0/40 [00:00<?, ?it/s]"
      ]
     },
     "metadata": {},
     "output_type": "display_data"
    },
    {
     "name": "stdout",
     "output_type": "stream",
     "text": [
      "EMA Eval Accuracy: 0.2466\n",
      "Epoch 12/100 completed in 6.92s\n",
      "  Train Loss: 1.7554, Train Accuracy: 0.4421\n",
      "  Eval Loss: 1.5116, Eval Accuracy: 0.5342\n",
      "  Best Accuracy: 0.5342 at epoch 12\n"
     ]
    },
    {
     "data": {
      "application/vnd.jupyter.widget-view+json": {
       "model_id": "0d2fa77f03f14fa88dcc1d2d598a8bb7",
       "version_major": 2,
       "version_minor": 0
      },
      "text/plain": [
       "Epoch 13/100 [Train]:   0%|          | 0/195 [00:00<?, ?it/s]"
      ]
     },
     "metadata": {},
     "output_type": "display_data"
    },
    {
     "data": {
      "application/vnd.jupyter.widget-view+json": {
       "model_id": "1792ce9fda44487d8d33cda0151d2744",
       "version_major": 2,
       "version_minor": 0
      },
      "text/plain": [
       "Epoch 13/100 [Eval]:   0%|          | 0/40 [00:00<?, ?it/s]"
      ]
     },
     "metadata": {},
     "output_type": "display_data"
    },
    {
     "data": {
      "application/vnd.jupyter.widget-view+json": {
       "model_id": "60827df543da41f6aa921ebc9d4163a8",
       "version_major": 2,
       "version_minor": 0
      },
      "text/plain": [
       "Epoch 13/100 [Eval]:   0%|          | 0/40 [00:00<?, ?it/s]"
      ]
     },
     "metadata": {},
     "output_type": "display_data"
    },
    {
     "name": "stdout",
     "output_type": "stream",
     "text": [
      "EMA Eval Accuracy: 0.2503\n",
      "Epoch 13/100 completed in 6.89s\n",
      "  Train Loss: 1.7472, Train Accuracy: 0.4456\n",
      "  Eval Loss: 1.5001, Eval Accuracy: 0.5393\n",
      "  Best Accuracy: 0.5393 at epoch 13\n"
     ]
    },
    {
     "data": {
      "application/vnd.jupyter.widget-view+json": {
       "model_id": "5247c89f0986429db67775a072d5fe8a",
       "version_major": 2,
       "version_minor": 0
      },
      "text/plain": [
       "Epoch 14/100 [Train]:   0%|          | 0/195 [00:00<?, ?it/s]"
      ]
     },
     "metadata": {},
     "output_type": "display_data"
    },
    {
     "data": {
      "application/vnd.jupyter.widget-view+json": {
       "model_id": "e45eb39f242c48d4b2567c7143c9a981",
       "version_major": 2,
       "version_minor": 0
      },
      "text/plain": [
       "Epoch 14/100 [Eval]:   0%|          | 0/40 [00:00<?, ?it/s]"
      ]
     },
     "metadata": {},
     "output_type": "display_data"
    },
    {
     "data": {
      "application/vnd.jupyter.widget-view+json": {
       "model_id": "977af255903e4525812b7c9a1805fae6",
       "version_major": 2,
       "version_minor": 0
      },
      "text/plain": [
       "Epoch 14/100 [Eval]:   0%|          | 0/40 [00:00<?, ?it/s]"
      ]
     },
     "metadata": {},
     "output_type": "display_data"
    },
    {
     "name": "stdout",
     "output_type": "stream",
     "text": [
      "EMA Eval Accuracy: 0.2526\n",
      "Epoch 14/100 completed in 6.88s\n",
      "  Train Loss: 1.7591, Train Accuracy: 0.4411\n",
      "  Eval Loss: 1.4963, Eval Accuracy: 0.5422\n",
      "  Best Accuracy: 0.5422 at epoch 14\n"
     ]
    },
    {
     "data": {
      "application/vnd.jupyter.widget-view+json": {
       "model_id": "3f48f30bfd314fb6a764c7e3bb098d64",
       "version_major": 2,
       "version_minor": 0
      },
      "text/plain": [
       "Epoch 15/100 [Train]:   0%|          | 0/195 [00:00<?, ?it/s]"
      ]
     },
     "metadata": {},
     "output_type": "display_data"
    },
    {
     "data": {
      "application/vnd.jupyter.widget-view+json": {
       "model_id": "ecd0dac1a4e44c218584c87f792c3a1e",
       "version_major": 2,
       "version_minor": 0
      },
      "text/plain": [
       "Epoch 15/100 [Eval]:   0%|          | 0/40 [00:00<?, ?it/s]"
      ]
     },
     "metadata": {},
     "output_type": "display_data"
    },
    {
     "data": {
      "application/vnd.jupyter.widget-view+json": {
       "model_id": "33edc88584ee4f2f97e1b20fd9c0c499",
       "version_major": 2,
       "version_minor": 0
      },
      "text/plain": [
       "Epoch 15/100 [Eval]:   0%|          | 0/40 [00:00<?, ?it/s]"
      ]
     },
     "metadata": {},
     "output_type": "display_data"
    },
    {
     "name": "stdout",
     "output_type": "stream",
     "text": [
      "EMA Eval Accuracy: 0.2549\n",
      "Epoch 15/100 completed in 6.89s\n",
      "  Train Loss: 1.7350, Train Accuracy: 0.4523\n",
      "  Eval Loss: 1.4953, Eval Accuracy: 0.5343\n",
      "  Best Accuracy: 0.5422 at epoch 14\n"
     ]
    },
    {
     "data": {
      "application/vnd.jupyter.widget-view+json": {
       "model_id": "8b2a2d3488fa4d979d37f4927bedb844",
       "version_major": 2,
       "version_minor": 0
      },
      "text/plain": [
       "Epoch 16/100 [Train]:   0%|          | 0/195 [00:00<?, ?it/s]"
      ]
     },
     "metadata": {},
     "output_type": "display_data"
    },
    {
     "data": {
      "application/vnd.jupyter.widget-view+json": {
       "model_id": "8dfe9204347d46e48c0b70be44174fbe",
       "version_major": 2,
       "version_minor": 0
      },
      "text/plain": [
       "Epoch 16/100 [Eval]:   0%|          | 0/40 [00:00<?, ?it/s]"
      ]
     },
     "metadata": {},
     "output_type": "display_data"
    },
    {
     "data": {
      "application/vnd.jupyter.widget-view+json": {
       "model_id": "4bbb2979463247988d3a92ca61302549",
       "version_major": 2,
       "version_minor": 0
      },
      "text/plain": [
       "Epoch 16/100 [Eval]:   0%|          | 0/40 [00:00<?, ?it/s]"
      ]
     },
     "metadata": {},
     "output_type": "display_data"
    },
    {
     "name": "stdout",
     "output_type": "stream",
     "text": [
      "EMA Eval Accuracy: 0.2572\n",
      "Epoch 16/100 completed in 6.99s\n",
      "  Train Loss: 1.7351, Train Accuracy: 0.4548\n",
      "  Eval Loss: 1.4746, Eval Accuracy: 0.5519\n",
      "  Best Accuracy: 0.5519 at epoch 16\n"
     ]
    },
    {
     "data": {
      "application/vnd.jupyter.widget-view+json": {
       "model_id": "10d55e6520534e959009db12181b08b1",
       "version_major": 2,
       "version_minor": 0
      },
      "text/plain": [
       "Epoch 17/100 [Train]:   0%|          | 0/195 [00:00<?, ?it/s]"
      ]
     },
     "metadata": {},
     "output_type": "display_data"
    },
    {
     "data": {
      "application/vnd.jupyter.widget-view+json": {
       "model_id": "75526fd9c87e4f9ca176ab85dd47119b",
       "version_major": 2,
       "version_minor": 0
      },
      "text/plain": [
       "Epoch 17/100 [Eval]:   0%|          | 0/40 [00:00<?, ?it/s]"
      ]
     },
     "metadata": {},
     "output_type": "display_data"
    },
    {
     "data": {
      "application/vnd.jupyter.widget-view+json": {
       "model_id": "c2101cf2915f41d48d905389d3952bfc",
       "version_major": 2,
       "version_minor": 0
      },
      "text/plain": [
       "Epoch 17/100 [Eval]:   0%|          | 0/40 [00:00<?, ?it/s]"
      ]
     },
     "metadata": {},
     "output_type": "display_data"
    },
    {
     "name": "stdout",
     "output_type": "stream",
     "text": [
      "EMA Eval Accuracy: 0.2633\n",
      "Epoch 17/100 completed in 6.80s\n",
      "  Train Loss: 1.7404, Train Accuracy: 0.4575\n",
      "  Eval Loss: 1.4619, Eval Accuracy: 0.5556\n",
      "  Best Accuracy: 0.5556 at epoch 17\n"
     ]
    },
    {
     "data": {
      "application/vnd.jupyter.widget-view+json": {
       "model_id": "bdc814e2354b46368caaa4dafe88c9cc",
       "version_major": 2,
       "version_minor": 0
      },
      "text/plain": [
       "Epoch 18/100 [Train]:   0%|          | 0/195 [00:00<?, ?it/s]"
      ]
     },
     "metadata": {},
     "output_type": "display_data"
    },
    {
     "data": {
      "application/vnd.jupyter.widget-view+json": {
       "model_id": "2e3606a0373a4da1a980e509052b6dc1",
       "version_major": 2,
       "version_minor": 0
      },
      "text/plain": [
       "Epoch 18/100 [Eval]:   0%|          | 0/40 [00:00<?, ?it/s]"
      ]
     },
     "metadata": {},
     "output_type": "display_data"
    },
    {
     "data": {
      "application/vnd.jupyter.widget-view+json": {
       "model_id": "7f953d35434c43c88883a55cde0ba707",
       "version_major": 2,
       "version_minor": 0
      },
      "text/plain": [
       "Epoch 18/100 [Eval]:   0%|          | 0/40 [00:00<?, ?it/s]"
      ]
     },
     "metadata": {},
     "output_type": "display_data"
    },
    {
     "name": "stdout",
     "output_type": "stream",
     "text": [
      "EMA Eval Accuracy: 0.2676\n",
      "Epoch 18/100 completed in 6.99s\n",
      "  Train Loss: 1.7325, Train Accuracy: 0.4606\n",
      "  Eval Loss: 1.4589, Eval Accuracy: 0.5583\n",
      "  Best Accuracy: 0.5583 at epoch 18\n"
     ]
    },
    {
     "data": {
      "application/vnd.jupyter.widget-view+json": {
       "model_id": "3f8c5793b3614598bc7449776c6e4fe1",
       "version_major": 2,
       "version_minor": 0
      },
      "text/plain": [
       "Epoch 19/100 [Train]:   0%|          | 0/195 [00:00<?, ?it/s]"
      ]
     },
     "metadata": {},
     "output_type": "display_data"
    },
    {
     "data": {
      "application/vnd.jupyter.widget-view+json": {
       "model_id": "d7f6fb452c894837a60efc69f05650b0",
       "version_major": 2,
       "version_minor": 0
      },
      "text/plain": [
       "Epoch 19/100 [Eval]:   0%|          | 0/40 [00:00<?, ?it/s]"
      ]
     },
     "metadata": {},
     "output_type": "display_data"
    },
    {
     "data": {
      "application/vnd.jupyter.widget-view+json": {
       "model_id": "57e34312b98e410e91fea0ff98d77cb8",
       "version_major": 2,
       "version_minor": 0
      },
      "text/plain": [
       "Epoch 19/100 [Eval]:   0%|          | 0/40 [00:00<?, ?it/s]"
      ]
     },
     "metadata": {},
     "output_type": "display_data"
    },
    {
     "name": "stdout",
     "output_type": "stream",
     "text": [
      "EMA Eval Accuracy: 0.2738\n",
      "Epoch 19/100 completed in 7.11s\n",
      "  Train Loss: 1.7153, Train Accuracy: 0.4662\n",
      "  Eval Loss: 1.4376, Eval Accuracy: 0.5661\n",
      "  Best Accuracy: 0.5661 at epoch 19\n"
     ]
    },
    {
     "data": {
      "application/vnd.jupyter.widget-view+json": {
       "model_id": "6cc3b19ebb8c43769765de7134655829",
       "version_major": 2,
       "version_minor": 0
      },
      "text/plain": [
       "Epoch 20/100 [Train]:   0%|          | 0/195 [00:00<?, ?it/s]"
      ]
     },
     "metadata": {},
     "output_type": "display_data"
    },
    {
     "data": {
      "application/vnd.jupyter.widget-view+json": {
       "model_id": "1ba9b4d450a94c4ab1a0fca84e5fd071",
       "version_major": 2,
       "version_minor": 0
      },
      "text/plain": [
       "Epoch 20/100 [Eval]:   0%|          | 0/40 [00:00<?, ?it/s]"
      ]
     },
     "metadata": {},
     "output_type": "display_data"
    },
    {
     "data": {
      "application/vnd.jupyter.widget-view+json": {
       "model_id": "7c8fc94413c5443a898b8fe07bab7cd9",
       "version_major": 2,
       "version_minor": 0
      },
      "text/plain": [
       "Epoch 20/100 [Eval]:   0%|          | 0/40 [00:00<?, ?it/s]"
      ]
     },
     "metadata": {},
     "output_type": "display_data"
    },
    {
     "name": "stdout",
     "output_type": "stream",
     "text": [
      "EMA Eval Accuracy: 0.2783\n",
      "Epoch 20/100 completed in 6.68s\n",
      "  Train Loss: 1.7118, Train Accuracy: 0.4688\n",
      "  Eval Loss: 1.4436, Eval Accuracy: 0.5590\n",
      "  Best Accuracy: 0.5661 at epoch 19\n"
     ]
    },
    {
     "data": {
      "application/vnd.jupyter.widget-view+json": {
       "model_id": "ec32bccf745c409abcffd001fd5d2df1",
       "version_major": 2,
       "version_minor": 0
      },
      "text/plain": [
       "Epoch 21/100 [Train]:   0%|          | 0/195 [00:00<?, ?it/s]"
      ]
     },
     "metadata": {},
     "output_type": "display_data"
    },
    {
     "data": {
      "application/vnd.jupyter.widget-view+json": {
       "model_id": "f37abf91f5a74875a819731f05963236",
       "version_major": 2,
       "version_minor": 0
      },
      "text/plain": [
       "Epoch 21/100 [Eval]:   0%|          | 0/40 [00:00<?, ?it/s]"
      ]
     },
     "metadata": {},
     "output_type": "display_data"
    },
    {
     "data": {
      "application/vnd.jupyter.widget-view+json": {
       "model_id": "6426147e35ff43e9aae0153b7822b096",
       "version_major": 2,
       "version_minor": 0
      },
      "text/plain": [
       "Epoch 21/100 [Eval]:   0%|          | 0/40 [00:00<?, ?it/s]"
      ]
     },
     "metadata": {},
     "output_type": "display_data"
    },
    {
     "name": "stdout",
     "output_type": "stream",
     "text": [
      "EMA Eval Accuracy: 0.2849\n",
      "Epoch 21/100 completed in 6.87s\n",
      "  Train Loss: 1.6853, Train Accuracy: 0.4816\n",
      "  Eval Loss: 1.4234, Eval Accuracy: 0.5749\n",
      "  Best Accuracy: 0.5749 at epoch 21\n"
     ]
    },
    {
     "data": {
      "application/vnd.jupyter.widget-view+json": {
       "model_id": "42cb38f00b634c90b85ddebe5d1f569e",
       "version_major": 2,
       "version_minor": 0
      },
      "text/plain": [
       "Epoch 22/100 [Train]:   0%|          | 0/195 [00:00<?, ?it/s]"
      ]
     },
     "metadata": {},
     "output_type": "display_data"
    },
    {
     "data": {
      "application/vnd.jupyter.widget-view+json": {
       "model_id": "a67c7fd32cad4e8e9cd1e5e92fe4b2c6",
       "version_major": 2,
       "version_minor": 0
      },
      "text/plain": [
       "Epoch 22/100 [Eval]:   0%|          | 0/40 [00:00<?, ?it/s]"
      ]
     },
     "metadata": {},
     "output_type": "display_data"
    },
    {
     "data": {
      "application/vnd.jupyter.widget-view+json": {
       "model_id": "4ea799f7baf54a349f7ed4a56c7d3394",
       "version_major": 2,
       "version_minor": 0
      },
      "text/plain": [
       "Epoch 22/100 [Eval]:   0%|          | 0/40 [00:00<?, ?it/s]"
      ]
     },
     "metadata": {},
     "output_type": "display_data"
    },
    {
     "name": "stdout",
     "output_type": "stream",
     "text": [
      "EMA Eval Accuracy: 0.2920\n",
      "Epoch 22/100 completed in 6.69s\n",
      "  Train Loss: 1.6942, Train Accuracy: 0.4775\n",
      "  Eval Loss: 1.4249, Eval Accuracy: 0.5729\n",
      "  Best Accuracy: 0.5749 at epoch 21\n"
     ]
    },
    {
     "data": {
      "application/vnd.jupyter.widget-view+json": {
       "model_id": "3bb32ce3b746418e8a75d6c3481da3c3",
       "version_major": 2,
       "version_minor": 0
      },
      "text/plain": [
       "Epoch 23/100 [Train]:   0%|          | 0/195 [00:00<?, ?it/s]"
      ]
     },
     "metadata": {},
     "output_type": "display_data"
    },
    {
     "data": {
      "application/vnd.jupyter.widget-view+json": {
       "model_id": "2eebb5d5e96f4b34989bda6c2db02623",
       "version_major": 2,
       "version_minor": 0
      },
      "text/plain": [
       "Epoch 23/100 [Eval]:   0%|          | 0/40 [00:00<?, ?it/s]"
      ]
     },
     "metadata": {},
     "output_type": "display_data"
    },
    {
     "data": {
      "application/vnd.jupyter.widget-view+json": {
       "model_id": "ddf81426d9834427885a0957b5daecd8",
       "version_major": 2,
       "version_minor": 0
      },
      "text/plain": [
       "Epoch 23/100 [Eval]:   0%|          | 0/40 [00:00<?, ?it/s]"
      ]
     },
     "metadata": {},
     "output_type": "display_data"
    },
    {
     "name": "stdout",
     "output_type": "stream",
     "text": [
      "EMA Eval Accuracy: 0.3007\n",
      "Epoch 23/100 completed in 6.64s\n",
      "  Train Loss: 1.6845, Train Accuracy: 0.4805\n",
      "  Eval Loss: 1.4214, Eval Accuracy: 0.5731\n",
      "  Best Accuracy: 0.5749 at epoch 21\n"
     ]
    },
    {
     "data": {
      "application/vnd.jupyter.widget-view+json": {
       "model_id": "dff0e81fb8644363bb08d84e2aa902a8",
       "version_major": 2,
       "version_minor": 0
      },
      "text/plain": [
       "Epoch 24/100 [Train]:   0%|          | 0/195 [00:00<?, ?it/s]"
      ]
     },
     "metadata": {},
     "output_type": "display_data"
    },
    {
     "data": {
      "application/vnd.jupyter.widget-view+json": {
       "model_id": "cb2092f9816e417eaf038121eddac158",
       "version_major": 2,
       "version_minor": 0
      },
      "text/plain": [
       "Epoch 24/100 [Eval]:   0%|          | 0/40 [00:00<?, ?it/s]"
      ]
     },
     "metadata": {},
     "output_type": "display_data"
    },
    {
     "data": {
      "application/vnd.jupyter.widget-view+json": {
       "model_id": "bf9e0a12a7e24b9c8c3be2a810718a09",
       "version_major": 2,
       "version_minor": 0
      },
      "text/plain": [
       "Epoch 24/100 [Eval]:   0%|          | 0/40 [00:00<?, ?it/s]"
      ]
     },
     "metadata": {},
     "output_type": "display_data"
    },
    {
     "name": "stdout",
     "output_type": "stream",
     "text": [
      "EMA Eval Accuracy: 0.3086\n",
      "Epoch 24/100 completed in 6.81s\n",
      "  Train Loss: 1.7049, Train Accuracy: 0.4784\n",
      "  Eval Loss: 1.4020, Eval Accuracy: 0.5819\n",
      "  Best Accuracy: 0.5819 at epoch 24\n"
     ]
    },
    {
     "data": {
      "application/vnd.jupyter.widget-view+json": {
       "model_id": "1f2aad72d3894801a131c13b51cbce4f",
       "version_major": 2,
       "version_minor": 0
      },
      "text/plain": [
       "Epoch 25/100 [Train]:   0%|          | 0/195 [00:00<?, ?it/s]"
      ]
     },
     "metadata": {},
     "output_type": "display_data"
    },
    {
     "data": {
      "application/vnd.jupyter.widget-view+json": {
       "model_id": "0a5e7dc157744e568923ff94004817cb",
       "version_major": 2,
       "version_minor": 0
      },
      "text/plain": [
       "Epoch 25/100 [Eval]:   0%|          | 0/40 [00:00<?, ?it/s]"
      ]
     },
     "metadata": {},
     "output_type": "display_data"
    },
    {
     "data": {
      "application/vnd.jupyter.widget-view+json": {
       "model_id": "a20c7a7e5870449a9333c5819069bd70",
       "version_major": 2,
       "version_minor": 0
      },
      "text/plain": [
       "Epoch 25/100 [Eval]:   0%|          | 0/40 [00:00<?, ?it/s]"
      ]
     },
     "metadata": {},
     "output_type": "display_data"
    },
    {
     "name": "stdout",
     "output_type": "stream",
     "text": [
      "EMA Eval Accuracy: 0.3182\n",
      "Epoch 25/100 completed in 6.92s\n",
      "  Train Loss: 1.7065, Train Accuracy: 0.4842\n",
      "  Eval Loss: 1.3978, Eval Accuracy: 0.5847\n",
      "  Best Accuracy: 0.5847 at epoch 25\n"
     ]
    },
    {
     "data": {
      "application/vnd.jupyter.widget-view+json": {
       "model_id": "3571dd59434f49288f1221790537600d",
       "version_major": 2,
       "version_minor": 0
      },
      "text/plain": [
       "Epoch 26/100 [Train]:   0%|          | 0/195 [00:00<?, ?it/s]"
      ]
     },
     "metadata": {},
     "output_type": "display_data"
    },
    {
     "data": {
      "application/vnd.jupyter.widget-view+json": {
       "model_id": "c7773a6a1c6c480fb0e1f850d502fcd7",
       "version_major": 2,
       "version_minor": 0
      },
      "text/plain": [
       "Epoch 26/100 [Eval]:   0%|          | 0/40 [00:00<?, ?it/s]"
      ]
     },
     "metadata": {},
     "output_type": "display_data"
    },
    {
     "data": {
      "application/vnd.jupyter.widget-view+json": {
       "model_id": "3ea4393efce64d82ae4cb146f65e4483",
       "version_major": 2,
       "version_minor": 0
      },
      "text/plain": [
       "Epoch 26/100 [Eval]:   0%|          | 0/40 [00:00<?, ?it/s]"
      ]
     },
     "metadata": {},
     "output_type": "display_data"
    },
    {
     "name": "stdout",
     "output_type": "stream",
     "text": [
      "EMA Eval Accuracy: 0.3266\n",
      "Epoch 26/100 completed in 6.92s\n",
      "  Train Loss: 1.6969, Train Accuracy: 0.4889\n",
      "  Eval Loss: 1.3984, Eval Accuracy: 0.5880\n",
      "  Best Accuracy: 0.5880 at epoch 26\n"
     ]
    },
    {
     "data": {
      "application/vnd.jupyter.widget-view+json": {
       "model_id": "92c6bf4ad1584dfbb3d8510bbb411134",
       "version_major": 2,
       "version_minor": 0
      },
      "text/plain": [
       "Epoch 27/100 [Train]:   0%|          | 0/195 [00:00<?, ?it/s]"
      ]
     },
     "metadata": {},
     "output_type": "display_data"
    },
    {
     "data": {
      "application/vnd.jupyter.widget-view+json": {
       "model_id": "d7b8417c483240ada320726b7c8b6b10",
       "version_major": 2,
       "version_minor": 0
      },
      "text/plain": [
       "Epoch 27/100 [Eval]:   0%|          | 0/40 [00:00<?, ?it/s]"
      ]
     },
     "metadata": {},
     "output_type": "display_data"
    },
    {
     "data": {
      "application/vnd.jupyter.widget-view+json": {
       "model_id": "70013de54cf14312a2690c0f8b5b9597",
       "version_major": 2,
       "version_minor": 0
      },
      "text/plain": [
       "Epoch 27/100 [Eval]:   0%|          | 0/40 [00:00<?, ?it/s]"
      ]
     },
     "metadata": {},
     "output_type": "display_data"
    },
    {
     "name": "stdout",
     "output_type": "stream",
     "text": [
      "EMA Eval Accuracy: 0.3364\n",
      "Epoch 27/100 completed in 6.90s\n",
      "  Train Loss: 1.6662, Train Accuracy: 0.4942\n",
      "  Eval Loss: 1.3829, Eval Accuracy: 0.5955\n",
      "  Best Accuracy: 0.5955 at epoch 27\n"
     ]
    },
    {
     "data": {
      "application/vnd.jupyter.widget-view+json": {
       "model_id": "9b45d69b24fb43d391cfc9fc3773dd64",
       "version_major": 2,
       "version_minor": 0
      },
      "text/plain": [
       "Epoch 28/100 [Train]:   0%|          | 0/195 [00:00<?, ?it/s]"
      ]
     },
     "metadata": {},
     "output_type": "display_data"
    },
    {
     "data": {
      "application/vnd.jupyter.widget-view+json": {
       "model_id": "a60b7104a51f49aea71d645e0df65f80",
       "version_major": 2,
       "version_minor": 0
      },
      "text/plain": [
       "Epoch 28/100 [Eval]:   0%|          | 0/40 [00:00<?, ?it/s]"
      ]
     },
     "metadata": {},
     "output_type": "display_data"
    },
    {
     "data": {
      "application/vnd.jupyter.widget-view+json": {
       "model_id": "ef9c84898c254ba8a21830ed26d9dba7",
       "version_major": 2,
       "version_minor": 0
      },
      "text/plain": [
       "Epoch 28/100 [Eval]:   0%|          | 0/40 [00:00<?, ?it/s]"
      ]
     },
     "metadata": {},
     "output_type": "display_data"
    },
    {
     "name": "stdout",
     "output_type": "stream",
     "text": [
      "EMA Eval Accuracy: 0.3435\n",
      "Epoch 28/100 completed in 6.73s\n",
      "  Train Loss: 1.6593, Train Accuracy: 0.4923\n",
      "  Eval Loss: 1.3867, Eval Accuracy: 0.5843\n",
      "  Best Accuracy: 0.5955 at epoch 27\n"
     ]
    },
    {
     "data": {
      "application/vnd.jupyter.widget-view+json": {
       "model_id": "eeba254ac5d6457280da3272f1ba6b54",
       "version_major": 2,
       "version_minor": 0
      },
      "text/plain": [
       "Epoch 29/100 [Train]:   0%|          | 0/195 [00:00<?, ?it/s]"
      ]
     },
     "metadata": {},
     "output_type": "display_data"
    },
    {
     "data": {
      "application/vnd.jupyter.widget-view+json": {
       "model_id": "f1e110e58fdd417dbe16c3434603b0ee",
       "version_major": 2,
       "version_minor": 0
      },
      "text/plain": [
       "Epoch 29/100 [Eval]:   0%|          | 0/40 [00:00<?, ?it/s]"
      ]
     },
     "metadata": {},
     "output_type": "display_data"
    },
    {
     "data": {
      "application/vnd.jupyter.widget-view+json": {
       "model_id": "0e8284cd37f643a690c5a3fe9e9bb779",
       "version_major": 2,
       "version_minor": 0
      },
      "text/plain": [
       "Epoch 29/100 [Eval]:   0%|          | 0/40 [00:00<?, ?it/s]"
      ]
     },
     "metadata": {},
     "output_type": "display_data"
    },
    {
     "name": "stdout",
     "output_type": "stream",
     "text": [
      "EMA Eval Accuracy: 0.3530\n",
      "Epoch 29/100 completed in 6.75s\n",
      "  Train Loss: 1.6594, Train Accuracy: 0.5005\n",
      "  Eval Loss: 1.3916, Eval Accuracy: 0.5850\n",
      "  Best Accuracy: 0.5955 at epoch 27\n"
     ]
    },
    {
     "data": {
      "application/vnd.jupyter.widget-view+json": {
       "model_id": "b7fcf907b9094e789092f1912cf8b4bc",
       "version_major": 2,
       "version_minor": 0
      },
      "text/plain": [
       "Epoch 30/100 [Train]:   0%|          | 0/195 [00:00<?, ?it/s]"
      ]
     },
     "metadata": {},
     "output_type": "display_data"
    },
    {
     "data": {
      "application/vnd.jupyter.widget-view+json": {
       "model_id": "bbaf1054be1b40078412ba407a9e66c3",
       "version_major": 2,
       "version_minor": 0
      },
      "text/plain": [
       "Epoch 30/100 [Eval]:   0%|          | 0/40 [00:00<?, ?it/s]"
      ]
     },
     "metadata": {},
     "output_type": "display_data"
    },
    {
     "data": {
      "application/vnd.jupyter.widget-view+json": {
       "model_id": "941b08915af84f42a414a014815fb77d",
       "version_major": 2,
       "version_minor": 0
      },
      "text/plain": [
       "Epoch 30/100 [Eval]:   0%|          | 0/40 [00:00<?, ?it/s]"
      ]
     },
     "metadata": {},
     "output_type": "display_data"
    },
    {
     "name": "stdout",
     "output_type": "stream",
     "text": [
      "EMA Eval Accuracy: 0.3632\n",
      "Epoch 30/100 completed in 6.93s\n",
      "  Train Loss: 1.6421, Train Accuracy: 0.5057\n",
      "  Eval Loss: 1.3659, Eval Accuracy: 0.5970\n",
      "  Best Accuracy: 0.5970 at epoch 30\n"
     ]
    },
    {
     "data": {
      "application/vnd.jupyter.widget-view+json": {
       "model_id": "dae63c08a823467dbc1d8cd65f51ca0f",
       "version_major": 2,
       "version_minor": 0
      },
      "text/plain": [
       "Epoch 31/100 [Train]:   0%|          | 0/195 [00:00<?, ?it/s]"
      ]
     },
     "metadata": {},
     "output_type": "display_data"
    },
    {
     "data": {
      "application/vnd.jupyter.widget-view+json": {
       "model_id": "3138fba0f43447319f8323b946dd90b0",
       "version_major": 2,
       "version_minor": 0
      },
      "text/plain": [
       "Epoch 31/100 [Eval]:   0%|          | 0/40 [00:00<?, ?it/s]"
      ]
     },
     "metadata": {},
     "output_type": "display_data"
    },
    {
     "data": {
      "application/vnd.jupyter.widget-view+json": {
       "model_id": "77628cec54974daa90377ecad0b14fda",
       "version_major": 2,
       "version_minor": 0
      },
      "text/plain": [
       "Epoch 31/100 [Eval]:   0%|          | 0/40 [00:00<?, ?it/s]"
      ]
     },
     "metadata": {},
     "output_type": "display_data"
    },
    {
     "name": "stdout",
     "output_type": "stream",
     "text": [
      "EMA Eval Accuracy: 0.3745\n",
      "Epoch 31/100 completed in 6.87s\n",
      "  Train Loss: 1.6527, Train Accuracy: 0.5007\n",
      "  Eval Loss: 1.3685, Eval Accuracy: 0.6048\n",
      "  Best Accuracy: 0.6048 at epoch 31\n"
     ]
    },
    {
     "data": {
      "application/vnd.jupyter.widget-view+json": {
       "model_id": "93333a5b398f401fa5768029346dfbd5",
       "version_major": 2,
       "version_minor": 0
      },
      "text/plain": [
       "Epoch 32/100 [Train]:   0%|          | 0/195 [00:00<?, ?it/s]"
      ]
     },
     "metadata": {},
     "output_type": "display_data"
    },
    {
     "data": {
      "application/vnd.jupyter.widget-view+json": {
       "model_id": "8d32dec9524c4f4d89115b41d6db366a",
       "version_major": 2,
       "version_minor": 0
      },
      "text/plain": [
       "Epoch 32/100 [Eval]:   0%|          | 0/40 [00:00<?, ?it/s]"
      ]
     },
     "metadata": {},
     "output_type": "display_data"
    },
    {
     "data": {
      "application/vnd.jupyter.widget-view+json": {
       "model_id": "c353bde9fb8d494092c180263dffa40d",
       "version_major": 2,
       "version_minor": 0
      },
      "text/plain": [
       "Epoch 32/100 [Eval]:   0%|          | 0/40 [00:00<?, ?it/s]"
      ]
     },
     "metadata": {},
     "output_type": "display_data"
    },
    {
     "name": "stdout",
     "output_type": "stream",
     "text": [
      "EMA Eval Accuracy: 0.3835\n",
      "Epoch 32/100 completed in 6.91s\n",
      "  Train Loss: 1.6411, Train Accuracy: 0.5025\n",
      "  Eval Loss: 1.3463, Eval Accuracy: 0.6065\n",
      "  Best Accuracy: 0.6065 at epoch 32\n"
     ]
    },
    {
     "data": {
      "application/vnd.jupyter.widget-view+json": {
       "model_id": "579d211e3b5b44acb8d850779cda5445",
       "version_major": 2,
       "version_minor": 0
      },
      "text/plain": [
       "Epoch 33/100 [Train]:   0%|          | 0/195 [00:00<?, ?it/s]"
      ]
     },
     "metadata": {},
     "output_type": "display_data"
    },
    {
     "data": {
      "application/vnd.jupyter.widget-view+json": {
       "model_id": "e2c9ff76a8e74cb5a16aacf9e615507d",
       "version_major": 2,
       "version_minor": 0
      },
      "text/plain": [
       "Epoch 33/100 [Eval]:   0%|          | 0/40 [00:00<?, ?it/s]"
      ]
     },
     "metadata": {},
     "output_type": "display_data"
    },
    {
     "data": {
      "application/vnd.jupyter.widget-view+json": {
       "model_id": "417604717f88498d888902ee3ff28886",
       "version_major": 2,
       "version_minor": 0
      },
      "text/plain": [
       "Epoch 33/100 [Eval]:   0%|          | 0/40 [00:00<?, ?it/s]"
      ]
     },
     "metadata": {},
     "output_type": "display_data"
    },
    {
     "name": "stdout",
     "output_type": "stream",
     "text": [
      "EMA Eval Accuracy: 0.3917\n",
      "Epoch 33/100 completed in 6.61s\n",
      "  Train Loss: 1.6217, Train Accuracy: 0.5156\n",
      "  Eval Loss: 1.3501, Eval Accuracy: 0.6063\n",
      "  Best Accuracy: 0.6065 at epoch 32\n"
     ]
    },
    {
     "data": {
      "application/vnd.jupyter.widget-view+json": {
       "model_id": "2224323d99ed40eea82fc90a2e00794a",
       "version_major": 2,
       "version_minor": 0
      },
      "text/plain": [
       "Epoch 34/100 [Train]:   0%|          | 0/195 [00:00<?, ?it/s]"
      ]
     },
     "metadata": {},
     "output_type": "display_data"
    },
    {
     "data": {
      "application/vnd.jupyter.widget-view+json": {
       "model_id": "0eae6854fbef426b95a34dbaa9ad800f",
       "version_major": 2,
       "version_minor": 0
      },
      "text/plain": [
       "Epoch 34/100 [Eval]:   0%|          | 0/40 [00:00<?, ?it/s]"
      ]
     },
     "metadata": {},
     "output_type": "display_data"
    },
    {
     "data": {
      "application/vnd.jupyter.widget-view+json": {
       "model_id": "213dc448d0dd4a289167b74c0959862a",
       "version_major": 2,
       "version_minor": 0
      },
      "text/plain": [
       "Epoch 34/100 [Eval]:   0%|          | 0/40 [00:00<?, ?it/s]"
      ]
     },
     "metadata": {},
     "output_type": "display_data"
    },
    {
     "name": "stdout",
     "output_type": "stream",
     "text": [
      "EMA Eval Accuracy: 0.3997\n",
      "Epoch 34/100 completed in 6.84s\n",
      "  Train Loss: 1.6278, Train Accuracy: 0.5116\n",
      "  Eval Loss: 1.3461, Eval Accuracy: 0.6066\n",
      "  Best Accuracy: 0.6066 at epoch 34\n"
     ]
    },
    {
     "data": {
      "application/vnd.jupyter.widget-view+json": {
       "model_id": "00053433d5474449bb184a2805bc921c",
       "version_major": 2,
       "version_minor": 0
      },
      "text/plain": [
       "Epoch 35/100 [Train]:   0%|          | 0/195 [00:00<?, ?it/s]"
      ]
     },
     "metadata": {},
     "output_type": "display_data"
    },
    {
     "data": {
      "application/vnd.jupyter.widget-view+json": {
       "model_id": "3ef405600c9d41a58a4500ebdfe79eb3",
       "version_major": 2,
       "version_minor": 0
      },
      "text/plain": [
       "Epoch 35/100 [Eval]:   0%|          | 0/40 [00:00<?, ?it/s]"
      ]
     },
     "metadata": {},
     "output_type": "display_data"
    },
    {
     "data": {
      "application/vnd.jupyter.widget-view+json": {
       "model_id": "6b9f5d935dd44761aaf67e571450cf80",
       "version_major": 2,
       "version_minor": 0
      },
      "text/plain": [
       "Epoch 35/100 [Eval]:   0%|          | 0/40 [00:00<?, ?it/s]"
      ]
     },
     "metadata": {},
     "output_type": "display_data"
    },
    {
     "name": "stdout",
     "output_type": "stream",
     "text": [
      "EMA Eval Accuracy: 0.4102\n",
      "Epoch 35/100 completed in 6.69s\n",
      "  Train Loss: 1.6423, Train Accuracy: 0.5060\n",
      "  Eval Loss: 1.3496, Eval Accuracy: 0.6064\n",
      "  Best Accuracy: 0.6066 at epoch 34\n"
     ]
    },
    {
     "data": {
      "application/vnd.jupyter.widget-view+json": {
       "model_id": "8fdc63fc89ec4312b146c65359e281c8",
       "version_major": 2,
       "version_minor": 0
      },
      "text/plain": [
       "Epoch 36/100 [Train]:   0%|          | 0/195 [00:00<?, ?it/s]"
      ]
     },
     "metadata": {},
     "output_type": "display_data"
    },
    {
     "data": {
      "application/vnd.jupyter.widget-view+json": {
       "model_id": "8f504366b7d74b109631673c8c8d1b1c",
       "version_major": 2,
       "version_minor": 0
      },
      "text/plain": [
       "Epoch 36/100 [Eval]:   0%|          | 0/40 [00:00<?, ?it/s]"
      ]
     },
     "metadata": {},
     "output_type": "display_data"
    },
    {
     "data": {
      "application/vnd.jupyter.widget-view+json": {
       "model_id": "8f44aca185cb41feab2f727671ea34ca",
       "version_major": 2,
       "version_minor": 0
      },
      "text/plain": [
       "Epoch 36/100 [Eval]:   0%|          | 0/40 [00:00<?, ?it/s]"
      ]
     },
     "metadata": {},
     "output_type": "display_data"
    },
    {
     "name": "stdout",
     "output_type": "stream",
     "text": [
      "EMA Eval Accuracy: 0.4189\n",
      "Epoch 36/100 completed in 7.01s\n",
      "  Train Loss: 1.5929, Train Accuracy: 0.5308\n",
      "  Eval Loss: 1.3385, Eval Accuracy: 0.6163\n",
      "  Best Accuracy: 0.6163 at epoch 36\n"
     ]
    },
    {
     "data": {
      "application/vnd.jupyter.widget-view+json": {
       "model_id": "716a4396468b41a28be3c2e60235b2cf",
       "version_major": 2,
       "version_minor": 0
      },
      "text/plain": [
       "Epoch 37/100 [Train]:   0%|          | 0/195 [00:00<?, ?it/s]"
      ]
     },
     "metadata": {},
     "output_type": "display_data"
    },
    {
     "data": {
      "application/vnd.jupyter.widget-view+json": {
       "model_id": "4732e0a285d3473aa538190e595166f5",
       "version_major": 2,
       "version_minor": 0
      },
      "text/plain": [
       "Epoch 37/100 [Eval]:   0%|          | 0/40 [00:00<?, ?it/s]"
      ]
     },
     "metadata": {},
     "output_type": "display_data"
    },
    {
     "data": {
      "application/vnd.jupyter.widget-view+json": {
       "model_id": "ae6d55428475419a9e4b89021ef4cb3e",
       "version_major": 2,
       "version_minor": 0
      },
      "text/plain": [
       "Epoch 37/100 [Eval]:   0%|          | 0/40 [00:00<?, ?it/s]"
      ]
     },
     "metadata": {},
     "output_type": "display_data"
    },
    {
     "name": "stdout",
     "output_type": "stream",
     "text": [
      "EMA Eval Accuracy: 0.4274\n",
      "Epoch 37/100 completed in 6.71s\n",
      "  Train Loss: 1.6317, Train Accuracy: 0.5135\n",
      "  Eval Loss: 1.3389, Eval Accuracy: 0.6132\n",
      "  Best Accuracy: 0.6163 at epoch 36\n"
     ]
    },
    {
     "data": {
      "application/vnd.jupyter.widget-view+json": {
       "model_id": "4d4d7a38fc7d4c9a8b01ba3efa0ae504",
       "version_major": 2,
       "version_minor": 0
      },
      "text/plain": [
       "Epoch 38/100 [Train]:   0%|          | 0/195 [00:00<?, ?it/s]"
      ]
     },
     "metadata": {},
     "output_type": "display_data"
    },
    {
     "data": {
      "application/vnd.jupyter.widget-view+json": {
       "model_id": "0b3d852341634295900ef4cd6b20e42e",
       "version_major": 2,
       "version_minor": 0
      },
      "text/plain": [
       "Epoch 38/100 [Eval]:   0%|          | 0/40 [00:00<?, ?it/s]"
      ]
     },
     "metadata": {},
     "output_type": "display_data"
    },
    {
     "data": {
      "application/vnd.jupyter.widget-view+json": {
       "model_id": "19fa16649cd14c508d07419aa67a3b6d",
       "version_major": 2,
       "version_minor": 0
      },
      "text/plain": [
       "Epoch 38/100 [Eval]:   0%|          | 0/40 [00:00<?, ?it/s]"
      ]
     },
     "metadata": {},
     "output_type": "display_data"
    },
    {
     "name": "stdout",
     "output_type": "stream",
     "text": [
      "EMA Eval Accuracy: 0.4347\n",
      "Epoch 38/100 completed in 7.01s\n",
      "  Train Loss: 1.6132, Train Accuracy: 0.5248\n",
      "  Eval Loss: 1.3282, Eval Accuracy: 0.6164\n",
      "  Best Accuracy: 0.6164 at epoch 38\n"
     ]
    },
    {
     "data": {
      "application/vnd.jupyter.widget-view+json": {
       "model_id": "d2f5ce2bdde641938e36c823ca75c640",
       "version_major": 2,
       "version_minor": 0
      },
      "text/plain": [
       "Epoch 39/100 [Train]:   0%|          | 0/195 [00:00<?, ?it/s]"
      ]
     },
     "metadata": {},
     "output_type": "display_data"
    },
    {
     "data": {
      "application/vnd.jupyter.widget-view+json": {
       "model_id": "6e1b69b1f64344c2a8a5c2a20da56bb5",
       "version_major": 2,
       "version_minor": 0
      },
      "text/plain": [
       "Epoch 39/100 [Eval]:   0%|          | 0/40 [00:00<?, ?it/s]"
      ]
     },
     "metadata": {},
     "output_type": "display_data"
    },
    {
     "data": {
      "application/vnd.jupyter.widget-view+json": {
       "model_id": "d5cb8010e08e4219952eb4250b6a4014",
       "version_major": 2,
       "version_minor": 0
      },
      "text/plain": [
       "Epoch 39/100 [Eval]:   0%|          | 0/40 [00:00<?, ?it/s]"
      ]
     },
     "metadata": {},
     "output_type": "display_data"
    },
    {
     "name": "stdout",
     "output_type": "stream",
     "text": [
      "EMA Eval Accuracy: 0.4420\n",
      "Epoch 39/100 completed in 6.85s\n",
      "  Train Loss: 1.6200, Train Accuracy: 0.5163\n",
      "  Eval Loss: 1.3313, Eval Accuracy: 0.6171\n",
      "  Best Accuracy: 0.6171 at epoch 39\n"
     ]
    },
    {
     "data": {
      "application/vnd.jupyter.widget-view+json": {
       "model_id": "f8c1aff14537446bb81297288469e008",
       "version_major": 2,
       "version_minor": 0
      },
      "text/plain": [
       "Epoch 40/100 [Train]:   0%|          | 0/195 [00:00<?, ?it/s]"
      ]
     },
     "metadata": {},
     "output_type": "display_data"
    },
    {
     "data": {
      "application/vnd.jupyter.widget-view+json": {
       "model_id": "9cb1365939d54f96898452d72782445a",
       "version_major": 2,
       "version_minor": 0
      },
      "text/plain": [
       "Epoch 40/100 [Eval]:   0%|          | 0/40 [00:00<?, ?it/s]"
      ]
     },
     "metadata": {},
     "output_type": "display_data"
    },
    {
     "data": {
      "application/vnd.jupyter.widget-view+json": {
       "model_id": "bbccf5c48d834ad499fabf526aedc219",
       "version_major": 2,
       "version_minor": 0
      },
      "text/plain": [
       "Epoch 40/100 [Eval]:   0%|          | 0/40 [00:00<?, ?it/s]"
      ]
     },
     "metadata": {},
     "output_type": "display_data"
    },
    {
     "name": "stdout",
     "output_type": "stream",
     "text": [
      "EMA Eval Accuracy: 0.4503\n",
      "Epoch 40/100 completed in 6.83s\n",
      "  Train Loss: 1.6017, Train Accuracy: 0.5268\n",
      "  Eval Loss: 1.3159, Eval Accuracy: 0.6214\n",
      "  Best Accuracy: 0.6214 at epoch 40\n"
     ]
    },
    {
     "data": {
      "application/vnd.jupyter.widget-view+json": {
       "model_id": "c2d618da1396402197a3b8633dc841bf",
       "version_major": 2,
       "version_minor": 0
      },
      "text/plain": [
       "Epoch 41/100 [Train]:   0%|          | 0/195 [00:00<?, ?it/s]"
      ]
     },
     "metadata": {},
     "output_type": "display_data"
    },
    {
     "data": {
      "application/vnd.jupyter.widget-view+json": {
       "model_id": "d496c8a0de7248a685249d7dbe84cee7",
       "version_major": 2,
       "version_minor": 0
      },
      "text/plain": [
       "Epoch 41/100 [Eval]:   0%|          | 0/40 [00:00<?, ?it/s]"
      ]
     },
     "metadata": {},
     "output_type": "display_data"
    },
    {
     "data": {
      "application/vnd.jupyter.widget-view+json": {
       "model_id": "92d04cd7cef7487cb9e3cd89f6fac6f3",
       "version_major": 2,
       "version_minor": 0
      },
      "text/plain": [
       "Epoch 41/100 [Eval]:   0%|          | 0/40 [00:00<?, ?it/s]"
      ]
     },
     "metadata": {},
     "output_type": "display_data"
    },
    {
     "name": "stdout",
     "output_type": "stream",
     "text": [
      "EMA Eval Accuracy: 0.4568\n",
      "Epoch 41/100 completed in 6.87s\n",
      "  Train Loss: 1.6312, Train Accuracy: 0.5195\n",
      "  Eval Loss: 1.3125, Eval Accuracy: 0.6286\n",
      "  Best Accuracy: 0.6286 at epoch 41\n"
     ]
    },
    {
     "data": {
      "application/vnd.jupyter.widget-view+json": {
       "model_id": "20c74a9311374a2e87f3cd5fbacdd675",
       "version_major": 2,
       "version_minor": 0
      },
      "text/plain": [
       "Epoch 42/100 [Train]:   0%|          | 0/195 [00:00<?, ?it/s]"
      ]
     },
     "metadata": {},
     "output_type": "display_data"
    },
    {
     "data": {
      "application/vnd.jupyter.widget-view+json": {
       "model_id": "f3b13f5721ce4577823d81c1a0f94b70",
       "version_major": 2,
       "version_minor": 0
      },
      "text/plain": [
       "Epoch 42/100 [Eval]:   0%|          | 0/40 [00:00<?, ?it/s]"
      ]
     },
     "metadata": {},
     "output_type": "display_data"
    },
    {
     "data": {
      "application/vnd.jupyter.widget-view+json": {
       "model_id": "0820879a9e6b4df1b547813d91b6bfaf",
       "version_major": 2,
       "version_minor": 0
      },
      "text/plain": [
       "Epoch 42/100 [Eval]:   0%|          | 0/40 [00:00<?, ?it/s]"
      ]
     },
     "metadata": {},
     "output_type": "display_data"
    },
    {
     "name": "stdout",
     "output_type": "stream",
     "text": [
      "EMA Eval Accuracy: 0.4633\n",
      "Epoch 42/100 completed in 6.86s\n",
      "  Train Loss: 1.6180, Train Accuracy: 0.5275\n",
      "  Eval Loss: 1.3123, Eval Accuracy: 0.6294\n",
      "  Best Accuracy: 0.6294 at epoch 42\n"
     ]
    },
    {
     "data": {
      "application/vnd.jupyter.widget-view+json": {
       "model_id": "83aa2641ff1e4786be761947b0e43d32",
       "version_major": 2,
       "version_minor": 0
      },
      "text/plain": [
       "Epoch 43/100 [Train]:   0%|          | 0/195 [00:00<?, ?it/s]"
      ]
     },
     "metadata": {},
     "output_type": "display_data"
    },
    {
     "data": {
      "application/vnd.jupyter.widget-view+json": {
       "model_id": "22c12482472540228c55f1f4d414ecd5",
       "version_major": 2,
       "version_minor": 0
      },
      "text/plain": [
       "Epoch 43/100 [Eval]:   0%|          | 0/40 [00:00<?, ?it/s]"
      ]
     },
     "metadata": {},
     "output_type": "display_data"
    },
    {
     "data": {
      "application/vnd.jupyter.widget-view+json": {
       "model_id": "d195337b7c0b44b8976b8857466abaf3",
       "version_major": 2,
       "version_minor": 0
      },
      "text/plain": [
       "Epoch 43/100 [Eval]:   0%|          | 0/40 [00:00<?, ?it/s]"
      ]
     },
     "metadata": {},
     "output_type": "display_data"
    },
    {
     "name": "stdout",
     "output_type": "stream",
     "text": [
      "EMA Eval Accuracy: 0.4707\n",
      "Epoch 43/100 completed in 6.79s\n",
      "  Train Loss: 1.6006, Train Accuracy: 0.5296\n",
      "  Eval Loss: 1.3160, Eval Accuracy: 0.6269\n",
      "  Best Accuracy: 0.6294 at epoch 42\n"
     ]
    },
    {
     "data": {
      "application/vnd.jupyter.widget-view+json": {
       "model_id": "8f36f7c224344c909ffa317d08d5b98f",
       "version_major": 2,
       "version_minor": 0
      },
      "text/plain": [
       "Epoch 44/100 [Train]:   0%|          | 0/195 [00:00<?, ?it/s]"
      ]
     },
     "metadata": {},
     "output_type": "display_data"
    },
    {
     "data": {
      "application/vnd.jupyter.widget-view+json": {
       "model_id": "91559e1bfcc74ad29746870dbc81ad40",
       "version_major": 2,
       "version_minor": 0
      },
      "text/plain": [
       "Epoch 44/100 [Eval]:   0%|          | 0/40 [00:00<?, ?it/s]"
      ]
     },
     "metadata": {},
     "output_type": "display_data"
    },
    {
     "data": {
      "application/vnd.jupyter.widget-view+json": {
       "model_id": "88212c08f3104976841d8864ffc06dff",
       "version_major": 2,
       "version_minor": 0
      },
      "text/plain": [
       "Epoch 44/100 [Eval]:   0%|          | 0/40 [00:00<?, ?it/s]"
      ]
     },
     "metadata": {},
     "output_type": "display_data"
    },
    {
     "name": "stdout",
     "output_type": "stream",
     "text": [
      "EMA Eval Accuracy: 0.4796\n",
      "Epoch 44/100 completed in 6.63s\n",
      "  Train Loss: 1.6190, Train Accuracy: 0.5221\n",
      "  Eval Loss: 1.3068, Eval Accuracy: 0.6284\n",
      "  Best Accuracy: 0.6294 at epoch 42\n"
     ]
    },
    {
     "data": {
      "application/vnd.jupyter.widget-view+json": {
       "model_id": "27ee295810a342179bf93142c65037dd",
       "version_major": 2,
       "version_minor": 0
      },
      "text/plain": [
       "Epoch 45/100 [Train]:   0%|          | 0/195 [00:00<?, ?it/s]"
      ]
     },
     "metadata": {},
     "output_type": "display_data"
    },
    {
     "data": {
      "application/vnd.jupyter.widget-view+json": {
       "model_id": "2abd7ff6c452443f9fde771f78d8be47",
       "version_major": 2,
       "version_minor": 0
      },
      "text/plain": [
       "Epoch 45/100 [Eval]:   0%|          | 0/40 [00:00<?, ?it/s]"
      ]
     },
     "metadata": {},
     "output_type": "display_data"
    },
    {
     "data": {
      "application/vnd.jupyter.widget-view+json": {
       "model_id": "fa275ed26916427f93b664934286f8d9",
       "version_major": 2,
       "version_minor": 0
      },
      "text/plain": [
       "Epoch 45/100 [Eval]:   0%|          | 0/40 [00:00<?, ?it/s]"
      ]
     },
     "metadata": {},
     "output_type": "display_data"
    },
    {
     "name": "stdout",
     "output_type": "stream",
     "text": [
      "EMA Eval Accuracy: 0.4859\n",
      "Epoch 45/100 completed in 6.73s\n",
      "  Train Loss: 1.6038, Train Accuracy: 0.5333\n",
      "  Eval Loss: 1.3102, Eval Accuracy: 0.6250\n",
      "  Best Accuracy: 0.6294 at epoch 42\n"
     ]
    },
    {
     "data": {
      "application/vnd.jupyter.widget-view+json": {
       "model_id": "e69d1c4fe49f4e02981697ad962c4547",
       "version_major": 2,
       "version_minor": 0
      },
      "text/plain": [
       "Epoch 46/100 [Train]:   0%|          | 0/195 [00:00<?, ?it/s]"
      ]
     },
     "metadata": {},
     "output_type": "display_data"
    },
    {
     "data": {
      "application/vnd.jupyter.widget-view+json": {
       "model_id": "a3c7c45cc22845feb70ac0f3ccbb0dff",
       "version_major": 2,
       "version_minor": 0
      },
      "text/plain": [
       "Epoch 46/100 [Eval]:   0%|          | 0/40 [00:00<?, ?it/s]"
      ]
     },
     "metadata": {},
     "output_type": "display_data"
    },
    {
     "data": {
      "application/vnd.jupyter.widget-view+json": {
       "model_id": "20e741a04f5e49dca5f652495749d3be",
       "version_major": 2,
       "version_minor": 0
      },
      "text/plain": [
       "Epoch 46/100 [Eval]:   0%|          | 0/40 [00:00<?, ?it/s]"
      ]
     },
     "metadata": {},
     "output_type": "display_data"
    },
    {
     "name": "stdout",
     "output_type": "stream",
     "text": [
      "EMA Eval Accuracy: 0.4913\n",
      "Epoch 46/100 completed in 6.97s\n",
      "  Train Loss: 1.5659, Train Accuracy: 0.5448\n",
      "  Eval Loss: 1.2943, Eval Accuracy: 0.6376\n",
      "  Best Accuracy: 0.6376 at epoch 46\n"
     ]
    },
    {
     "data": {
      "application/vnd.jupyter.widget-view+json": {
       "model_id": "c8f594598ba8433b9900d44b15472c9b",
       "version_major": 2,
       "version_minor": 0
      },
      "text/plain": [
       "Epoch 47/100 [Train]:   0%|          | 0/195 [00:00<?, ?it/s]"
      ]
     },
     "metadata": {},
     "output_type": "display_data"
    },
    {
     "data": {
      "application/vnd.jupyter.widget-view+json": {
       "model_id": "5416e42880394ea0b99757e94dfb97fb",
       "version_major": 2,
       "version_minor": 0
      },
      "text/plain": [
       "Epoch 47/100 [Eval]:   0%|          | 0/40 [00:00<?, ?it/s]"
      ]
     },
     "metadata": {},
     "output_type": "display_data"
    },
    {
     "data": {
      "application/vnd.jupyter.widget-view+json": {
       "model_id": "2567ae437dc240e3beb8c351e522251e",
       "version_major": 2,
       "version_minor": 0
      },
      "text/plain": [
       "Epoch 47/100 [Eval]:   0%|          | 0/40 [00:00<?, ?it/s]"
      ]
     },
     "metadata": {},
     "output_type": "display_data"
    },
    {
     "name": "stdout",
     "output_type": "stream",
     "text": [
      "EMA Eval Accuracy: 0.4979\n",
      "Epoch 47/100 completed in 6.67s\n",
      "  Train Loss: 1.5765, Train Accuracy: 0.5412\n",
      "  Eval Loss: 1.2984, Eval Accuracy: 0.6347\n",
      "  Best Accuracy: 0.6376 at epoch 46\n"
     ]
    },
    {
     "data": {
      "application/vnd.jupyter.widget-view+json": {
       "model_id": "5c4ac3d9c468413082ea2b462436ebd4",
       "version_major": 2,
       "version_minor": 0
      },
      "text/plain": [
       "Epoch 48/100 [Train]:   0%|          | 0/195 [00:00<?, ?it/s]"
      ]
     },
     "metadata": {},
     "output_type": "display_data"
    },
    {
     "data": {
      "application/vnd.jupyter.widget-view+json": {
       "model_id": "aa12ce9ba6cc42b0810952af8f8c301a",
       "version_major": 2,
       "version_minor": 0
      },
      "text/plain": [
       "Epoch 48/100 [Eval]:   0%|          | 0/40 [00:00<?, ?it/s]"
      ]
     },
     "metadata": {},
     "output_type": "display_data"
    },
    {
     "data": {
      "application/vnd.jupyter.widget-view+json": {
       "model_id": "0ac7530c6c8a4265b923ec5a2a804fc7",
       "version_major": 2,
       "version_minor": 0
      },
      "text/plain": [
       "Epoch 48/100 [Eval]:   0%|          | 0/40 [00:00<?, ?it/s]"
      ]
     },
     "metadata": {},
     "output_type": "display_data"
    },
    {
     "name": "stdout",
     "output_type": "stream",
     "text": [
      "EMA Eval Accuracy: 0.5035\n",
      "Epoch 48/100 completed in 6.73s\n",
      "  Train Loss: 1.6077, Train Accuracy: 0.5358\n",
      "  Eval Loss: 1.2968, Eval Accuracy: 0.6363\n",
      "  Best Accuracy: 0.6376 at epoch 46\n"
     ]
    },
    {
     "data": {
      "application/vnd.jupyter.widget-view+json": {
       "model_id": "5daa914b62004cfb99cac5914ad8b6ad",
       "version_major": 2,
       "version_minor": 0
      },
      "text/plain": [
       "Epoch 49/100 [Train]:   0%|          | 0/195 [00:00<?, ?it/s]"
      ]
     },
     "metadata": {},
     "output_type": "display_data"
    },
    {
     "data": {
      "application/vnd.jupyter.widget-view+json": {
       "model_id": "de362833e41a4cceae621087477e40bd",
       "version_major": 2,
       "version_minor": 0
      },
      "text/plain": [
       "Epoch 49/100 [Eval]:   0%|          | 0/40 [00:00<?, ?it/s]"
      ]
     },
     "metadata": {},
     "output_type": "display_data"
    },
    {
     "data": {
      "application/vnd.jupyter.widget-view+json": {
       "model_id": "ea963806dcbe437ea971a74d54c730d0",
       "version_major": 2,
       "version_minor": 0
      },
      "text/plain": [
       "Epoch 49/100 [Eval]:   0%|          | 0/40 [00:00<?, ?it/s]"
      ]
     },
     "metadata": {},
     "output_type": "display_data"
    },
    {
     "name": "stdout",
     "output_type": "stream",
     "text": [
      "EMA Eval Accuracy: 0.5090\n",
      "Epoch 49/100 completed in 6.78s\n",
      "  Train Loss: 1.5769, Train Accuracy: 0.5394\n",
      "  Eval Loss: 1.3036, Eval Accuracy: 0.6324\n",
      "  Best Accuracy: 0.6376 at epoch 46\n"
     ]
    },
    {
     "data": {
      "application/vnd.jupyter.widget-view+json": {
       "model_id": "b0995ba947604862bb2e7b2d06797f1c",
       "version_major": 2,
       "version_minor": 0
      },
      "text/plain": [
       "Epoch 50/100 [Train]:   0%|          | 0/195 [00:00<?, ?it/s]"
      ]
     },
     "metadata": {},
     "output_type": "display_data"
    },
    {
     "data": {
      "application/vnd.jupyter.widget-view+json": {
       "model_id": "07232cc78f2c4af28186b8e1848f82f1",
       "version_major": 2,
       "version_minor": 0
      },
      "text/plain": [
       "Epoch 50/100 [Eval]:   0%|          | 0/40 [00:00<?, ?it/s]"
      ]
     },
     "metadata": {},
     "output_type": "display_data"
    },
    {
     "data": {
      "application/vnd.jupyter.widget-view+json": {
       "model_id": "7ada609523904a8181b65eb916c8e844",
       "version_major": 2,
       "version_minor": 0
      },
      "text/plain": [
       "Epoch 50/100 [Eval]:   0%|          | 0/40 [00:00<?, ?it/s]"
      ]
     },
     "metadata": {},
     "output_type": "display_data"
    },
    {
     "name": "stdout",
     "output_type": "stream",
     "text": [
      "EMA Eval Accuracy: 0.5127\n",
      "Epoch 50/100 completed in 6.81s\n",
      "  Train Loss: 1.5709, Train Accuracy: 0.5465\n",
      "  Eval Loss: 1.2882, Eval Accuracy: 0.6401\n",
      "  Best Accuracy: 0.6401 at epoch 50\n"
     ]
    },
    {
     "data": {
      "application/vnd.jupyter.widget-view+json": {
       "model_id": "ae6df5b55c634c3ca686a6c262444545",
       "version_major": 2,
       "version_minor": 0
      },
      "text/plain": [
       "Epoch 51/100 [Train]:   0%|          | 0/195 [00:00<?, ?it/s]"
      ]
     },
     "metadata": {},
     "output_type": "display_data"
    },
    {
     "data": {
      "application/vnd.jupyter.widget-view+json": {
       "model_id": "31f21a9ba90a467786df14fedbf59c47",
       "version_major": 2,
       "version_minor": 0
      },
      "text/plain": [
       "Epoch 51/100 [Eval]:   0%|          | 0/40 [00:00<?, ?it/s]"
      ]
     },
     "metadata": {},
     "output_type": "display_data"
    },
    {
     "data": {
      "application/vnd.jupyter.widget-view+json": {
       "model_id": "6c2bafb9bf0c4ff781cfef548cce728e",
       "version_major": 2,
       "version_minor": 0
      },
      "text/plain": [
       "Epoch 51/100 [Eval]:   0%|          | 0/40 [00:00<?, ?it/s]"
      ]
     },
     "metadata": {},
     "output_type": "display_data"
    },
    {
     "name": "stdout",
     "output_type": "stream",
     "text": [
      "EMA Eval Accuracy: 0.5174\n",
      "Epoch 51/100 completed in 6.65s\n",
      "  Train Loss: 1.5490, Train Accuracy: 0.5519\n",
      "  Eval Loss: 1.2897, Eval Accuracy: 0.6363\n",
      "  Best Accuracy: 0.6401 at epoch 50\n"
     ]
    },
    {
     "data": {
      "application/vnd.jupyter.widget-view+json": {
       "model_id": "af3574cc8f3b49f9ba6e6724ea9e53ea",
       "version_major": 2,
       "version_minor": 0
      },
      "text/plain": [
       "Epoch 52/100 [Train]:   0%|          | 0/195 [00:00<?, ?it/s]"
      ]
     },
     "metadata": {},
     "output_type": "display_data"
    },
    {
     "data": {
      "application/vnd.jupyter.widget-view+json": {
       "model_id": "b613926a25b149618cb9e083aa9cadbf",
       "version_major": 2,
       "version_minor": 0
      },
      "text/plain": [
       "Epoch 52/100 [Eval]:   0%|          | 0/40 [00:00<?, ?it/s]"
      ]
     },
     "metadata": {},
     "output_type": "display_data"
    },
    {
     "data": {
      "application/vnd.jupyter.widget-view+json": {
       "model_id": "3e5fee552f8e4d1d9fa8a95a9437da99",
       "version_major": 2,
       "version_minor": 0
      },
      "text/plain": [
       "Epoch 52/100 [Eval]:   0%|          | 0/40 [00:00<?, ?it/s]"
      ]
     },
     "metadata": {},
     "output_type": "display_data"
    },
    {
     "name": "stdout",
     "output_type": "stream",
     "text": [
      "EMA Eval Accuracy: 0.5206\n",
      "Epoch 52/100 completed in 6.89s\n",
      "  Train Loss: 1.5219, Train Accuracy: 0.5631\n",
      "  Eval Loss: 1.2974, Eval Accuracy: 0.6402\n",
      "  Best Accuracy: 0.6402 at epoch 52\n"
     ]
    },
    {
     "data": {
      "application/vnd.jupyter.widget-view+json": {
       "model_id": "e8e3fd0caf6a400aa9bd6cd5b5b368d6",
       "version_major": 2,
       "version_minor": 0
      },
      "text/plain": [
       "Epoch 53/100 [Train]:   0%|          | 0/195 [00:00<?, ?it/s]"
      ]
     },
     "metadata": {},
     "output_type": "display_data"
    },
    {
     "data": {
      "application/vnd.jupyter.widget-view+json": {
       "model_id": "dccb0d76f7334c1db3d20e4467af9af9",
       "version_major": 2,
       "version_minor": 0
      },
      "text/plain": [
       "Epoch 53/100 [Eval]:   0%|          | 0/40 [00:00<?, ?it/s]"
      ]
     },
     "metadata": {},
     "output_type": "display_data"
    },
    {
     "data": {
      "application/vnd.jupyter.widget-view+json": {
       "model_id": "2158988ea87d40a78bb90875fa4af1be",
       "version_major": 2,
       "version_minor": 0
      },
      "text/plain": [
       "Epoch 53/100 [Eval]:   0%|          | 0/40 [00:00<?, ?it/s]"
      ]
     },
     "metadata": {},
     "output_type": "display_data"
    },
    {
     "name": "stdout",
     "output_type": "stream",
     "text": [
      "EMA Eval Accuracy: 0.5281\n",
      "Epoch 53/100 completed in 6.90s\n",
      "  Train Loss: 1.5333, Train Accuracy: 0.5582\n",
      "  Eval Loss: 1.2796, Eval Accuracy: 0.6478\n",
      "  Best Accuracy: 0.6478 at epoch 53\n"
     ]
    },
    {
     "data": {
      "application/vnd.jupyter.widget-view+json": {
       "model_id": "70797334b03a48908164442f5e9649ec",
       "version_major": 2,
       "version_minor": 0
      },
      "text/plain": [
       "Epoch 54/100 [Train]:   0%|          | 0/195 [00:00<?, ?it/s]"
      ]
     },
     "metadata": {},
     "output_type": "display_data"
    },
    {
     "data": {
      "application/vnd.jupyter.widget-view+json": {
       "model_id": "45ef2f900be94340aa5d96a0948e7f3d",
       "version_major": 2,
       "version_minor": 0
      },
      "text/plain": [
       "Epoch 54/100 [Eval]:   0%|          | 0/40 [00:00<?, ?it/s]"
      ]
     },
     "metadata": {},
     "output_type": "display_data"
    },
    {
     "data": {
      "application/vnd.jupyter.widget-view+json": {
       "model_id": "280f9cd427b74f7397a552bda3f0ea5a",
       "version_major": 2,
       "version_minor": 0
      },
      "text/plain": [
       "Epoch 54/100 [Eval]:   0%|          | 0/40 [00:00<?, ?it/s]"
      ]
     },
     "metadata": {},
     "output_type": "display_data"
    },
    {
     "name": "stdout",
     "output_type": "stream",
     "text": [
      "EMA Eval Accuracy: 0.5354\n",
      "Epoch 54/100 completed in 6.62s\n",
      "  Train Loss: 1.5229, Train Accuracy: 0.5605\n",
      "  Eval Loss: 1.2787, Eval Accuracy: 0.6442\n",
      "  Best Accuracy: 0.6478 at epoch 53\n"
     ]
    },
    {
     "data": {
      "application/vnd.jupyter.widget-view+json": {
       "model_id": "9bb09bef07ec4882a644fcfe9e02eac2",
       "version_major": 2,
       "version_minor": 0
      },
      "text/plain": [
       "Epoch 55/100 [Train]:   0%|          | 0/195 [00:00<?, ?it/s]"
      ]
     },
     "metadata": {},
     "output_type": "display_data"
    },
    {
     "data": {
      "application/vnd.jupyter.widget-view+json": {
       "model_id": "1de20c3d95ed47e38babb3ebbd696d1c",
       "version_major": 2,
       "version_minor": 0
      },
      "text/plain": [
       "Epoch 55/100 [Eval]:   0%|          | 0/40 [00:00<?, ?it/s]"
      ]
     },
     "metadata": {},
     "output_type": "display_data"
    },
    {
     "data": {
      "application/vnd.jupyter.widget-view+json": {
       "model_id": "857bf18a7f1a40f1a343013b13d58dfe",
       "version_major": 2,
       "version_minor": 0
      },
      "text/plain": [
       "Epoch 55/100 [Eval]:   0%|          | 0/40 [00:00<?, ?it/s]"
      ]
     },
     "metadata": {},
     "output_type": "display_data"
    },
    {
     "name": "stdout",
     "output_type": "stream",
     "text": [
      "EMA Eval Accuracy: 0.5396\n",
      "Epoch 55/100 completed in 6.94s\n",
      "  Train Loss: 1.5419, Train Accuracy: 0.5554\n",
      "  Eval Loss: 1.2639, Eval Accuracy: 0.6533\n",
      "  Best Accuracy: 0.6533 at epoch 55\n"
     ]
    },
    {
     "data": {
      "application/vnd.jupyter.widget-view+json": {
       "model_id": "bead79ff15b745eda4adc955387ee6de",
       "version_major": 2,
       "version_minor": 0
      },
      "text/plain": [
       "Epoch 56/100 [Train]:   0%|          | 0/195 [00:00<?, ?it/s]"
      ]
     },
     "metadata": {},
     "output_type": "display_data"
    },
    {
     "data": {
      "application/vnd.jupyter.widget-view+json": {
       "model_id": "5a1402cfb4924976b3e5055341982493",
       "version_major": 2,
       "version_minor": 0
      },
      "text/plain": [
       "Epoch 56/100 [Eval]:   0%|          | 0/40 [00:00<?, ?it/s]"
      ]
     },
     "metadata": {},
     "output_type": "display_data"
    },
    {
     "data": {
      "application/vnd.jupyter.widget-view+json": {
       "model_id": "fcb4ff9d5f2e4bbd9ae5d7e79d4ce1d0",
       "version_major": 2,
       "version_minor": 0
      },
      "text/plain": [
       "Epoch 56/100 [Eval]:   0%|          | 0/40 [00:00<?, ?it/s]"
      ]
     },
     "metadata": {},
     "output_type": "display_data"
    },
    {
     "name": "stdout",
     "output_type": "stream",
     "text": [
      "EMA Eval Accuracy: 0.5431\n",
      "Epoch 56/100 completed in 6.74s\n",
      "  Train Loss: 1.5337, Train Accuracy: 0.5627\n",
      "  Eval Loss: 1.2768, Eval Accuracy: 0.6468\n",
      "  Best Accuracy: 0.6533 at epoch 55\n"
     ]
    },
    {
     "data": {
      "application/vnd.jupyter.widget-view+json": {
       "model_id": "6b8efb28dca74466b4d4d8af4fda7d36",
       "version_major": 2,
       "version_minor": 0
      },
      "text/plain": [
       "Epoch 57/100 [Train]:   0%|          | 0/195 [00:00<?, ?it/s]"
      ]
     },
     "metadata": {},
     "output_type": "display_data"
    },
    {
     "data": {
      "application/vnd.jupyter.widget-view+json": {
       "model_id": "9744172f00a04fc492e4b9f5f190aa5a",
       "version_major": 2,
       "version_minor": 0
      },
      "text/plain": [
       "Epoch 57/100 [Eval]:   0%|          | 0/40 [00:00<?, ?it/s]"
      ]
     },
     "metadata": {},
     "output_type": "display_data"
    },
    {
     "data": {
      "application/vnd.jupyter.widget-view+json": {
       "model_id": "b09708f667744521a1695a9f222862a0",
       "version_major": 2,
       "version_minor": 0
      },
      "text/plain": [
       "Epoch 57/100 [Eval]:   0%|          | 0/40 [00:00<?, ?it/s]"
      ]
     },
     "metadata": {},
     "output_type": "display_data"
    },
    {
     "name": "stdout",
     "output_type": "stream",
     "text": [
      "EMA Eval Accuracy: 0.5474\n",
      "Epoch 57/100 completed in 6.55s\n",
      "  Train Loss: 1.5297, Train Accuracy: 0.5580\n",
      "  Eval Loss: 1.2756, Eval Accuracy: 0.6513\n",
      "  Best Accuracy: 0.6533 at epoch 55\n"
     ]
    },
    {
     "data": {
      "application/vnd.jupyter.widget-view+json": {
       "model_id": "f23259a291f949949b199924f6be69a5",
       "version_major": 2,
       "version_minor": 0
      },
      "text/plain": [
       "Epoch 58/100 [Train]:   0%|          | 0/195 [00:00<?, ?it/s]"
      ]
     },
     "metadata": {},
     "output_type": "display_data"
    },
    {
     "data": {
      "application/vnd.jupyter.widget-view+json": {
       "model_id": "0cefbcfe08fe4ba3a2cf92322f7e6649",
       "version_major": 2,
       "version_minor": 0
      },
      "text/plain": [
       "Epoch 58/100 [Eval]:   0%|          | 0/40 [00:00<?, ?it/s]"
      ]
     },
     "metadata": {},
     "output_type": "display_data"
    },
    {
     "data": {
      "application/vnd.jupyter.widget-view+json": {
       "model_id": "96400de90fe442e6925963f33d027cd0",
       "version_major": 2,
       "version_minor": 0
      },
      "text/plain": [
       "Epoch 58/100 [Eval]:   0%|          | 0/40 [00:00<?, ?it/s]"
      ]
     },
     "metadata": {},
     "output_type": "display_data"
    },
    {
     "name": "stdout",
     "output_type": "stream",
     "text": [
      "EMA Eval Accuracy: 0.5524\n",
      "Epoch 58/100 completed in 6.70s\n",
      "  Train Loss: 1.5263, Train Accuracy: 0.5662\n",
      "  Eval Loss: 1.2722, Eval Accuracy: 0.6490\n",
      "  Best Accuracy: 0.6533 at epoch 55\n"
     ]
    },
    {
     "data": {
      "application/vnd.jupyter.widget-view+json": {
       "model_id": "7e9c8ecea89340e28f49798415cf2e8e",
       "version_major": 2,
       "version_minor": 0
      },
      "text/plain": [
       "Epoch 59/100 [Train]:   0%|          | 0/195 [00:00<?, ?it/s]"
      ]
     },
     "metadata": {},
     "output_type": "display_data"
    },
    {
     "data": {
      "application/vnd.jupyter.widget-view+json": {
       "model_id": "26771a9fae45496f97820c99a09cef28",
       "version_major": 2,
       "version_minor": 0
      },
      "text/plain": [
       "Epoch 59/100 [Eval]:   0%|          | 0/40 [00:00<?, ?it/s]"
      ]
     },
     "metadata": {},
     "output_type": "display_data"
    },
    {
     "data": {
      "application/vnd.jupyter.widget-view+json": {
       "model_id": "ee13bdd2fd664ee49540d328525eb850",
       "version_major": 2,
       "version_minor": 0
      },
      "text/plain": [
       "Epoch 59/100 [Eval]:   0%|          | 0/40 [00:00<?, ?it/s]"
      ]
     },
     "metadata": {},
     "output_type": "display_data"
    },
    {
     "name": "stdout",
     "output_type": "stream",
     "text": [
      "EMA Eval Accuracy: 0.5581\n",
      "Epoch 59/100 completed in 6.65s\n",
      "  Train Loss: 1.5443, Train Accuracy: 0.5570\n",
      "  Eval Loss: 1.2739, Eval Accuracy: 0.6517\n",
      "  Best Accuracy: 0.6533 at epoch 55\n"
     ]
    },
    {
     "data": {
      "application/vnd.jupyter.widget-view+json": {
       "model_id": "7bf702fe1bee4f849ea0b816498041bd",
       "version_major": 2,
       "version_minor": 0
      },
      "text/plain": [
       "Epoch 60/100 [Train]:   0%|          | 0/195 [00:00<?, ?it/s]"
      ]
     },
     "metadata": {},
     "output_type": "display_data"
    },
    {
     "data": {
      "application/vnd.jupyter.widget-view+json": {
       "model_id": "e3f80558f593422687e1cb7af41b0188",
       "version_major": 2,
       "version_minor": 0
      },
      "text/plain": [
       "Epoch 60/100 [Eval]:   0%|          | 0/40 [00:00<?, ?it/s]"
      ]
     },
     "metadata": {},
     "output_type": "display_data"
    },
    {
     "data": {
      "application/vnd.jupyter.widget-view+json": {
       "model_id": "d50caf1313584044b5cb4458af279dd3",
       "version_major": 2,
       "version_minor": 0
      },
      "text/plain": [
       "Epoch 60/100 [Eval]:   0%|          | 0/40 [00:00<?, ?it/s]"
      ]
     },
     "metadata": {},
     "output_type": "display_data"
    },
    {
     "name": "stdout",
     "output_type": "stream",
     "text": [
      "EMA Eval Accuracy: 0.5636\n",
      "Epoch 60/100 completed in 6.81s\n",
      "  Train Loss: 1.5557, Train Accuracy: 0.5601\n",
      "  Eval Loss: 1.2652, Eval Accuracy: 0.6530\n",
      "  Best Accuracy: 0.6533 at epoch 55\n"
     ]
    },
    {
     "data": {
      "application/vnd.jupyter.widget-view+json": {
       "model_id": "1b402e13f8b4454a98c518b37aac16e4",
       "version_major": 2,
       "version_minor": 0
      },
      "text/plain": [
       "Epoch 61/100 [Train]:   0%|          | 0/195 [00:00<?, ?it/s]"
      ]
     },
     "metadata": {},
     "output_type": "display_data"
    },
    {
     "data": {
      "application/vnd.jupyter.widget-view+json": {
       "model_id": "1a37c93610504351bfb9596dee8a515a",
       "version_major": 2,
       "version_minor": 0
      },
      "text/plain": [
       "Epoch 61/100 [Eval]:   0%|          | 0/40 [00:00<?, ?it/s]"
      ]
     },
     "metadata": {},
     "output_type": "display_data"
    },
    {
     "data": {
      "application/vnd.jupyter.widget-view+json": {
       "model_id": "b75856e2b2254f23996c34bfbc0501c4",
       "version_major": 2,
       "version_minor": 0
      },
      "text/plain": [
       "Epoch 61/100 [Eval]:   0%|          | 0/40 [00:00<?, ?it/s]"
      ]
     },
     "metadata": {},
     "output_type": "display_data"
    },
    {
     "name": "stdout",
     "output_type": "stream",
     "text": [
      "EMA Eval Accuracy: 0.5675\n",
      "Epoch 61/100 completed in 6.82s\n",
      "  Train Loss: 1.5329, Train Accuracy: 0.5612\n",
      "  Eval Loss: 1.2698, Eval Accuracy: 0.6576\n",
      "  Best Accuracy: 0.6576 at epoch 61\n"
     ]
    },
    {
     "data": {
      "application/vnd.jupyter.widget-view+json": {
       "model_id": "43d4f82ccabf4a2f88667819f2350076",
       "version_major": 2,
       "version_minor": 0
      },
      "text/plain": [
       "Epoch 62/100 [Train]:   0%|          | 0/195 [00:00<?, ?it/s]"
      ]
     },
     "metadata": {},
     "output_type": "display_data"
    },
    {
     "data": {
      "application/vnd.jupyter.widget-view+json": {
       "model_id": "dcf47807bc7c47cc82f9e661371c89e6",
       "version_major": 2,
       "version_minor": 0
      },
      "text/plain": [
       "Epoch 62/100 [Eval]:   0%|          | 0/40 [00:00<?, ?it/s]"
      ]
     },
     "metadata": {},
     "output_type": "display_data"
    },
    {
     "data": {
      "application/vnd.jupyter.widget-view+json": {
       "model_id": "cc7cf0e5a4d64d678cb34eed8fb06b12",
       "version_major": 2,
       "version_minor": 0
      },
      "text/plain": [
       "Epoch 62/100 [Eval]:   0%|          | 0/40 [00:00<?, ?it/s]"
      ]
     },
     "metadata": {},
     "output_type": "display_data"
    },
    {
     "name": "stdout",
     "output_type": "stream",
     "text": [
      "EMA Eval Accuracy: 0.5710\n",
      "Epoch 62/100 completed in 6.88s\n",
      "  Train Loss: 1.4820, Train Accuracy: 0.5818\n",
      "  Eval Loss: 1.2614, Eval Accuracy: 0.6644\n",
      "  Best Accuracy: 0.6644 at epoch 62\n"
     ]
    },
    {
     "data": {
      "application/vnd.jupyter.widget-view+json": {
       "model_id": "75bda8f359844840b428d9c6d28ea935",
       "version_major": 2,
       "version_minor": 0
      },
      "text/plain": [
       "Epoch 63/100 [Train]:   0%|          | 0/195 [00:00<?, ?it/s]"
      ]
     },
     "metadata": {},
     "output_type": "display_data"
    },
    {
     "data": {
      "application/vnd.jupyter.widget-view+json": {
       "model_id": "fb9c6786be094e7eb3f71ea2b2f16083",
       "version_major": 2,
       "version_minor": 0
      },
      "text/plain": [
       "Epoch 63/100 [Eval]:   0%|          | 0/40 [00:00<?, ?it/s]"
      ]
     },
     "metadata": {},
     "output_type": "display_data"
    },
    {
     "data": {
      "application/vnd.jupyter.widget-view+json": {
       "model_id": "860db936efa24cef96064aca0738a10a",
       "version_major": 2,
       "version_minor": 0
      },
      "text/plain": [
       "Epoch 63/100 [Eval]:   0%|          | 0/40 [00:00<?, ?it/s]"
      ]
     },
     "metadata": {},
     "output_type": "display_data"
    },
    {
     "name": "stdout",
     "output_type": "stream",
     "text": [
      "EMA Eval Accuracy: 0.5747\n",
      "Epoch 63/100 completed in 6.68s\n",
      "  Train Loss: 1.4737, Train Accuracy: 0.5812\n",
      "  Eval Loss: 1.2848, Eval Accuracy: 0.6515\n",
      "  Best Accuracy: 0.6644 at epoch 62\n"
     ]
    },
    {
     "data": {
      "application/vnd.jupyter.widget-view+json": {
       "model_id": "9eed02b35b8341fca927e87f521d9b07",
       "version_major": 2,
       "version_minor": 0
      },
      "text/plain": [
       "Epoch 64/100 [Train]:   0%|          | 0/195 [00:00<?, ?it/s]"
      ]
     },
     "metadata": {},
     "output_type": "display_data"
    },
    {
     "data": {
      "application/vnd.jupyter.widget-view+json": {
       "model_id": "2d97c4f72ed94dc9a22140cfcf5d78b7",
       "version_major": 2,
       "version_minor": 0
      },
      "text/plain": [
       "Epoch 64/100 [Eval]:   0%|          | 0/40 [00:00<?, ?it/s]"
      ]
     },
     "metadata": {},
     "output_type": "display_data"
    },
    {
     "data": {
      "application/vnd.jupyter.widget-view+json": {
       "model_id": "072cd374620b43d2b5ec0245f0e4d4f5",
       "version_major": 2,
       "version_minor": 0
      },
      "text/plain": [
       "Epoch 64/100 [Eval]:   0%|          | 0/40 [00:00<?, ?it/s]"
      ]
     },
     "metadata": {},
     "output_type": "display_data"
    },
    {
     "name": "stdout",
     "output_type": "stream",
     "text": [
      "EMA Eval Accuracy: 0.5777\n",
      "Epoch 64/100 completed in 6.84s\n",
      "  Train Loss: 1.4871, Train Accuracy: 0.5792\n",
      "  Eval Loss: 1.2705, Eval Accuracy: 0.6561\n",
      "  Best Accuracy: 0.6644 at epoch 62\n"
     ]
    },
    {
     "data": {
      "application/vnd.jupyter.widget-view+json": {
       "model_id": "3ea05b5b40144e1cba74ff95f0816327",
       "version_major": 2,
       "version_minor": 0
      },
      "text/plain": [
       "Epoch 65/100 [Train]:   0%|          | 0/195 [00:00<?, ?it/s]"
      ]
     },
     "metadata": {},
     "output_type": "display_data"
    },
    {
     "data": {
      "application/vnd.jupyter.widget-view+json": {
       "model_id": "5b6b4a60bd4c414abe0674bac792a9ee",
       "version_major": 2,
       "version_minor": 0
      },
      "text/plain": [
       "Epoch 65/100 [Eval]:   0%|          | 0/40 [00:00<?, ?it/s]"
      ]
     },
     "metadata": {},
     "output_type": "display_data"
    },
    {
     "data": {
      "application/vnd.jupyter.widget-view+json": {
       "model_id": "792eae1393294913be0b60875a15e6dc",
       "version_major": 2,
       "version_minor": 0
      },
      "text/plain": [
       "Epoch 65/100 [Eval]:   0%|          | 0/40 [00:00<?, ?it/s]"
      ]
     },
     "metadata": {},
     "output_type": "display_data"
    },
    {
     "name": "stdout",
     "output_type": "stream",
     "text": [
      "EMA Eval Accuracy: 0.5819\n",
      "Epoch 65/100 completed in 6.72s\n",
      "  Train Loss: 1.5336, Train Accuracy: 0.5629\n",
      "  Eval Loss: 1.2722, Eval Accuracy: 0.6640\n",
      "  Best Accuracy: 0.6644 at epoch 62\n"
     ]
    },
    {
     "data": {
      "application/vnd.jupyter.widget-view+json": {
       "model_id": "accb88bde9014b0880658c3b979a30a7",
       "version_major": 2,
       "version_minor": 0
      },
      "text/plain": [
       "Epoch 66/100 [Train]:   0%|          | 0/195 [00:00<?, ?it/s]"
      ]
     },
     "metadata": {},
     "output_type": "display_data"
    },
    {
     "data": {
      "application/vnd.jupyter.widget-view+json": {
       "model_id": "b3db4ec63b00401cbc5825f8cf75cb3e",
       "version_major": 2,
       "version_minor": 0
      },
      "text/plain": [
       "Epoch 66/100 [Eval]:   0%|          | 0/40 [00:00<?, ?it/s]"
      ]
     },
     "metadata": {},
     "output_type": "display_data"
    },
    {
     "data": {
      "application/vnd.jupyter.widget-view+json": {
       "model_id": "2bab3a854ac34da9ad5a625b884988b2",
       "version_major": 2,
       "version_minor": 0
      },
      "text/plain": [
       "Epoch 66/100 [Eval]:   0%|          | 0/40 [00:00<?, ?it/s]"
      ]
     },
     "metadata": {},
     "output_type": "display_data"
    },
    {
     "name": "stdout",
     "output_type": "stream",
     "text": [
      "EMA Eval Accuracy: 0.5855\n",
      "Epoch 66/100 completed in 6.71s\n",
      "  Train Loss: 1.5153, Train Accuracy: 0.5734\n",
      "  Eval Loss: 1.2762, Eval Accuracy: 0.6600\n",
      "  Best Accuracy: 0.6644 at epoch 62\n"
     ]
    },
    {
     "data": {
      "application/vnd.jupyter.widget-view+json": {
       "model_id": "6371f3d4df5d410bafaeed6899740190",
       "version_major": 2,
       "version_minor": 0
      },
      "text/plain": [
       "Epoch 67/100 [Train]:   0%|          | 0/195 [00:00<?, ?it/s]"
      ]
     },
     "metadata": {},
     "output_type": "display_data"
    },
    {
     "data": {
      "application/vnd.jupyter.widget-view+json": {
       "model_id": "465d436cee734e9982f48a4f93a74b67",
       "version_major": 2,
       "version_minor": 0
      },
      "text/plain": [
       "Epoch 67/100 [Eval]:   0%|          | 0/40 [00:00<?, ?it/s]"
      ]
     },
     "metadata": {},
     "output_type": "display_data"
    },
    {
     "data": {
      "application/vnd.jupyter.widget-view+json": {
       "model_id": "2563733ab457411e901fe09e7b93ed78",
       "version_major": 2,
       "version_minor": 0
      },
      "text/plain": [
       "Epoch 67/100 [Eval]:   0%|          | 0/40 [00:00<?, ?it/s]"
      ]
     },
     "metadata": {},
     "output_type": "display_data"
    },
    {
     "name": "stdout",
     "output_type": "stream",
     "text": [
      "EMA Eval Accuracy: 0.5898\n",
      "Epoch 67/100 completed in 6.74s\n",
      "  Train Loss: 1.4995, Train Accuracy: 0.5777\n",
      "  Eval Loss: 1.2736, Eval Accuracy: 0.6608\n",
      "  Best Accuracy: 0.6644 at epoch 62\n"
     ]
    },
    {
     "data": {
      "application/vnd.jupyter.widget-view+json": {
       "model_id": "108cb69fc64d49bfb103694390b2ad0e",
       "version_major": 2,
       "version_minor": 0
      },
      "text/plain": [
       "Epoch 68/100 [Train]:   0%|          | 0/195 [00:00<?, ?it/s]"
      ]
     },
     "metadata": {},
     "output_type": "display_data"
    },
    {
     "data": {
      "application/vnd.jupyter.widget-view+json": {
       "model_id": "e1c623035537493fb11ad04d15343e26",
       "version_major": 2,
       "version_minor": 0
      },
      "text/plain": [
       "Epoch 68/100 [Eval]:   0%|          | 0/40 [00:00<?, ?it/s]"
      ]
     },
     "metadata": {},
     "output_type": "display_data"
    },
    {
     "data": {
      "application/vnd.jupyter.widget-view+json": {
       "model_id": "623bc74e726749c3801b80218ffa35a5",
       "version_major": 2,
       "version_minor": 0
      },
      "text/plain": [
       "Epoch 68/100 [Eval]:   0%|          | 0/40 [00:00<?, ?it/s]"
      ]
     },
     "metadata": {},
     "output_type": "display_data"
    },
    {
     "name": "stdout",
     "output_type": "stream",
     "text": [
      "EMA Eval Accuracy: 0.5942\n",
      "Epoch 68/100 completed in 6.73s\n",
      "  Train Loss: 1.5425, Train Accuracy: 0.5651\n",
      "  Eval Loss: 1.2641, Eval Accuracy: 0.6610\n",
      "  Best Accuracy: 0.6644 at epoch 62\n"
     ]
    },
    {
     "data": {
      "application/vnd.jupyter.widget-view+json": {
       "model_id": "357a0510c477401ab8bb60336150024c",
       "version_major": 2,
       "version_minor": 0
      },
      "text/plain": [
       "Epoch 69/100 [Train]:   0%|          | 0/195 [00:00<?, ?it/s]"
      ]
     },
     "metadata": {},
     "output_type": "display_data"
    },
    {
     "data": {
      "application/vnd.jupyter.widget-view+json": {
       "model_id": "13b2bf958b3e4e9e9e7bab2fe5ce8cb5",
       "version_major": 2,
       "version_minor": 0
      },
      "text/plain": [
       "Epoch 69/100 [Eval]:   0%|          | 0/40 [00:00<?, ?it/s]"
      ]
     },
     "metadata": {},
     "output_type": "display_data"
    },
    {
     "data": {
      "application/vnd.jupyter.widget-view+json": {
       "model_id": "9143cf1ed2ec41408330d72db9ff0baf",
       "version_major": 2,
       "version_minor": 0
      },
      "text/plain": [
       "Epoch 69/100 [Eval]:   0%|          | 0/40 [00:00<?, ?it/s]"
      ]
     },
     "metadata": {},
     "output_type": "display_data"
    },
    {
     "name": "stdout",
     "output_type": "stream",
     "text": [
      "EMA Eval Accuracy: 0.5946\n",
      "Epoch 69/100 completed in 6.85s\n",
      "  Train Loss: 1.4722, Train Accuracy: 0.5839\n",
      "  Eval Loss: 1.2739, Eval Accuracy: 0.6645\n",
      "  Best Accuracy: 0.6645 at epoch 69\n"
     ]
    },
    {
     "data": {
      "application/vnd.jupyter.widget-view+json": {
       "model_id": "d4401520c0c944dc9a5aa5c9e378188a",
       "version_major": 2,
       "version_minor": 0
      },
      "text/plain": [
       "Epoch 70/100 [Train]:   0%|          | 0/195 [00:00<?, ?it/s]"
      ]
     },
     "metadata": {},
     "output_type": "display_data"
    },
    {
     "data": {
      "application/vnd.jupyter.widget-view+json": {
       "model_id": "2367108ccf6b4d12af7e4908d9728b6a",
       "version_major": 2,
       "version_minor": 0
      },
      "text/plain": [
       "Epoch 70/100 [Eval]:   0%|          | 0/40 [00:00<?, ?it/s]"
      ]
     },
     "metadata": {},
     "output_type": "display_data"
    },
    {
     "data": {
      "application/vnd.jupyter.widget-view+json": {
       "model_id": "4520a8ead73b467b9ee63cafe35e2cec",
       "version_major": 2,
       "version_minor": 0
      },
      "text/plain": [
       "Epoch 70/100 [Eval]:   0%|          | 0/40 [00:00<?, ?it/s]"
      ]
     },
     "metadata": {},
     "output_type": "display_data"
    },
    {
     "name": "stdout",
     "output_type": "stream",
     "text": [
      "EMA Eval Accuracy: 0.5967\n",
      "Epoch 70/100 completed in 6.88s\n",
      "  Train Loss: 1.4638, Train Accuracy: 0.5874\n",
      "  Eval Loss: 1.2721, Eval Accuracy: 0.6661\n",
      "  Best Accuracy: 0.6661 at epoch 70\n"
     ]
    },
    {
     "data": {
      "application/vnd.jupyter.widget-view+json": {
       "model_id": "0cae5cb58e4946a1923fcea1a1c8d80e",
       "version_major": 2,
       "version_minor": 0
      },
      "text/plain": [
       "Epoch 71/100 [Train]:   0%|          | 0/195 [00:00<?, ?it/s]"
      ]
     },
     "metadata": {},
     "output_type": "display_data"
    },
    {
     "data": {
      "application/vnd.jupyter.widget-view+json": {
       "model_id": "20f8294fdbc04f5680e5f20593875556",
       "version_major": 2,
       "version_minor": 0
      },
      "text/plain": [
       "Epoch 71/100 [Eval]:   0%|          | 0/40 [00:00<?, ?it/s]"
      ]
     },
     "metadata": {},
     "output_type": "display_data"
    },
    {
     "data": {
      "application/vnd.jupyter.widget-view+json": {
       "model_id": "20beb559162b4ed3b872ac847c84dff7",
       "version_major": 2,
       "version_minor": 0
      },
      "text/plain": [
       "Epoch 71/100 [Eval]:   0%|          | 0/40 [00:00<?, ?it/s]"
      ]
     },
     "metadata": {},
     "output_type": "display_data"
    },
    {
     "name": "stdout",
     "output_type": "stream",
     "text": [
      "EMA Eval Accuracy: 0.5981\n",
      "Epoch 71/100 completed in 6.71s\n",
      "  Train Loss: 1.4646, Train Accuracy: 0.5890\n",
      "  Eval Loss: 1.2777, Eval Accuracy: 0.6647\n",
      "  Best Accuracy: 0.6661 at epoch 70\n"
     ]
    },
    {
     "data": {
      "application/vnd.jupyter.widget-view+json": {
       "model_id": "4dcde90ac42d4041b53a429da4ce6ce1",
       "version_major": 2,
       "version_minor": 0
      },
      "text/plain": [
       "Epoch 72/100 [Train]:   0%|          | 0/195 [00:00<?, ?it/s]"
      ]
     },
     "metadata": {},
     "output_type": "display_data"
    },
    {
     "data": {
      "application/vnd.jupyter.widget-view+json": {
       "model_id": "86d0f414a4d64239af9251297328b122",
       "version_major": 2,
       "version_minor": 0
      },
      "text/plain": [
       "Epoch 72/100 [Eval]:   0%|          | 0/40 [00:00<?, ?it/s]"
      ]
     },
     "metadata": {},
     "output_type": "display_data"
    },
    {
     "data": {
      "application/vnd.jupyter.widget-view+json": {
       "model_id": "e743b36064ae48a9a5c37c460a4d9e9f",
       "version_major": 2,
       "version_minor": 0
      },
      "text/plain": [
       "Epoch 72/100 [Eval]:   0%|          | 0/40 [00:00<?, ?it/s]"
      ]
     },
     "metadata": {},
     "output_type": "display_data"
    },
    {
     "name": "stdout",
     "output_type": "stream",
     "text": [
      "EMA Eval Accuracy: 0.6003\n",
      "Epoch 72/100 completed in 6.60s\n",
      "  Train Loss: 1.4886, Train Accuracy: 0.5831\n",
      "  Eval Loss: 1.2720, Eval Accuracy: 0.6650\n",
      "  Best Accuracy: 0.6661 at epoch 70\n"
     ]
    },
    {
     "data": {
      "application/vnd.jupyter.widget-view+json": {
       "model_id": "7a84ed450a15491b9a784d3ab383be01",
       "version_major": 2,
       "version_minor": 0
      },
      "text/plain": [
       "Epoch 73/100 [Train]:   0%|          | 0/195 [00:00<?, ?it/s]"
      ]
     },
     "metadata": {},
     "output_type": "display_data"
    },
    {
     "data": {
      "application/vnd.jupyter.widget-view+json": {
       "model_id": "86c29f8de5bc44ce8f1edd3da633a0e3",
       "version_major": 2,
       "version_minor": 0
      },
      "text/plain": [
       "Epoch 73/100 [Eval]:   0%|          | 0/40 [00:00<?, ?it/s]"
      ]
     },
     "metadata": {},
     "output_type": "display_data"
    },
    {
     "data": {
      "application/vnd.jupyter.widget-view+json": {
       "model_id": "396a7f4abace43ab862b6fe039d7747d",
       "version_major": 2,
       "version_minor": 0
      },
      "text/plain": [
       "Epoch 73/100 [Eval]:   0%|          | 0/40 [00:00<?, ?it/s]"
      ]
     },
     "metadata": {},
     "output_type": "display_data"
    },
    {
     "name": "stdout",
     "output_type": "stream",
     "text": [
      "EMA Eval Accuracy: 0.6028\n",
      "Epoch 73/100 completed in 6.66s\n",
      "  Train Loss: 1.5054, Train Accuracy: 0.5701\n",
      "  Eval Loss: 1.2804, Eval Accuracy: 0.6656\n",
      "  Best Accuracy: 0.6661 at epoch 70\n"
     ]
    },
    {
     "data": {
      "application/vnd.jupyter.widget-view+json": {
       "model_id": "5d833de1a28c4a5983a4c6b11bc69b61",
       "version_major": 2,
       "version_minor": 0
      },
      "text/plain": [
       "Epoch 74/100 [Train]:   0%|          | 0/195 [00:00<?, ?it/s]"
      ]
     },
     "metadata": {},
     "output_type": "display_data"
    },
    {
     "data": {
      "application/vnd.jupyter.widget-view+json": {
       "model_id": "76fed4ce7fe845f9bef01c03bf5e4e7e",
       "version_major": 2,
       "version_minor": 0
      },
      "text/plain": [
       "Epoch 74/100 [Eval]:   0%|          | 0/40 [00:00<?, ?it/s]"
      ]
     },
     "metadata": {},
     "output_type": "display_data"
    },
    {
     "data": {
      "application/vnd.jupyter.widget-view+json": {
       "model_id": "980bf1e6efd844909de53e592ec0ab87",
       "version_major": 2,
       "version_minor": 0
      },
      "text/plain": [
       "Epoch 74/100 [Eval]:   0%|          | 0/40 [00:00<?, ?it/s]"
      ]
     },
     "metadata": {},
     "output_type": "display_data"
    },
    {
     "name": "stdout",
     "output_type": "stream",
     "text": [
      "EMA Eval Accuracy: 0.6049\n",
      "Epoch 74/100 completed in 6.76s\n",
      "  Train Loss: 1.4913, Train Accuracy: 0.5881\n",
      "  Eval Loss: 1.2824, Eval Accuracy: 0.6648\n",
      "  Best Accuracy: 0.6661 at epoch 70\n"
     ]
    },
    {
     "data": {
      "application/vnd.jupyter.widget-view+json": {
       "model_id": "c656df37c27f4cd08f59ee39ce995f40",
       "version_major": 2,
       "version_minor": 0
      },
      "text/plain": [
       "Epoch 75/100 [Train]:   0%|          | 0/195 [00:00<?, ?it/s]"
      ]
     },
     "metadata": {},
     "output_type": "display_data"
    },
    {
     "data": {
      "application/vnd.jupyter.widget-view+json": {
       "model_id": "ce4f2b5a49a64e4fa7e6456817deeb25",
       "version_major": 2,
       "version_minor": 0
      },
      "text/plain": [
       "Epoch 75/100 [Eval]:   0%|          | 0/40 [00:00<?, ?it/s]"
      ]
     },
     "metadata": {},
     "output_type": "display_data"
    },
    {
     "data": {
      "application/vnd.jupyter.widget-view+json": {
       "model_id": "5c080bbe17084d85835fa889cc9e7bc5",
       "version_major": 2,
       "version_minor": 0
      },
      "text/plain": [
       "Epoch 75/100 [Eval]:   0%|          | 0/40 [00:00<?, ?it/s]"
      ]
     },
     "metadata": {},
     "output_type": "display_data"
    },
    {
     "name": "stdout",
     "output_type": "stream",
     "text": [
      "EMA Eval Accuracy: 0.6078\n",
      "Epoch 75/100 completed in 6.62s\n",
      "  Train Loss: 1.4887, Train Accuracy: 0.5830\n",
      "  Eval Loss: 1.2814, Eval Accuracy: 0.6623\n",
      "  Best Accuracy: 0.6661 at epoch 70\n"
     ]
    },
    {
     "data": {
      "application/vnd.jupyter.widget-view+json": {
       "model_id": "b096c96aa60b48db94d8bd82617dc9f7",
       "version_major": 2,
       "version_minor": 0
      },
      "text/plain": [
       "Epoch 76/100 [Train]:   0%|          | 0/195 [00:00<?, ?it/s]"
      ]
     },
     "metadata": {},
     "output_type": "display_data"
    },
    {
     "data": {
      "application/vnd.jupyter.widget-view+json": {
       "model_id": "70e1d77dd9db47218b27d3b8de77a16c",
       "version_major": 2,
       "version_minor": 0
      },
      "text/plain": [
       "Epoch 76/100 [Eval]:   0%|          | 0/40 [00:00<?, ?it/s]"
      ]
     },
     "metadata": {},
     "output_type": "display_data"
    },
    {
     "data": {
      "application/vnd.jupyter.widget-view+json": {
       "model_id": "456507a764044cd6a242ddfdcf92189b",
       "version_major": 2,
       "version_minor": 0
      },
      "text/plain": [
       "Epoch 76/100 [Eval]:   0%|          | 0/40 [00:00<?, ?it/s]"
      ]
     },
     "metadata": {},
     "output_type": "display_data"
    },
    {
     "name": "stdout",
     "output_type": "stream",
     "text": [
      "EMA Eval Accuracy: 0.6105\n",
      "Epoch 76/100 completed in 6.69s\n",
      "  Train Loss: 1.4565, Train Accuracy: 0.5902\n",
      "  Eval Loss: 1.2784, Eval Accuracy: 0.6637\n",
      "  Best Accuracy: 0.6661 at epoch 70\n"
     ]
    },
    {
     "data": {
      "application/vnd.jupyter.widget-view+json": {
       "model_id": "0382c4f1d4464f18a2671a45fcecb95d",
       "version_major": 2,
       "version_minor": 0
      },
      "text/plain": [
       "Epoch 77/100 [Train]:   0%|          | 0/195 [00:00<?, ?it/s]"
      ]
     },
     "metadata": {},
     "output_type": "display_data"
    },
    {
     "data": {
      "application/vnd.jupyter.widget-view+json": {
       "model_id": "fe07b209f053400cbad4eb44e40c45bf",
       "version_major": 2,
       "version_minor": 0
      },
      "text/plain": [
       "Epoch 77/100 [Eval]:   0%|          | 0/40 [00:00<?, ?it/s]"
      ]
     },
     "metadata": {},
     "output_type": "display_data"
    },
    {
     "data": {
      "application/vnd.jupyter.widget-view+json": {
       "model_id": "bd931181a3f446cbb5f4d877b8dbaf87",
       "version_major": 2,
       "version_minor": 0
      },
      "text/plain": [
       "Epoch 77/100 [Eval]:   0%|          | 0/40 [00:00<?, ?it/s]"
      ]
     },
     "metadata": {},
     "output_type": "display_data"
    },
    {
     "name": "stdout",
     "output_type": "stream",
     "text": [
      "EMA Eval Accuracy: 0.6139\n",
      "Epoch 77/100 completed in 6.86s\n",
      "  Train Loss: 1.4660, Train Accuracy: 0.5943\n",
      "  Eval Loss: 1.2831, Eval Accuracy: 0.6667\n",
      "  Best Accuracy: 0.6667 at epoch 77\n"
     ]
    },
    {
     "data": {
      "application/vnd.jupyter.widget-view+json": {
       "model_id": "74cb9595a28e4d62a8045ef6172280ff",
       "version_major": 2,
       "version_minor": 0
      },
      "text/plain": [
       "Epoch 78/100 [Train]:   0%|          | 0/195 [00:00<?, ?it/s]"
      ]
     },
     "metadata": {},
     "output_type": "display_data"
    },
    {
     "data": {
      "application/vnd.jupyter.widget-view+json": {
       "model_id": "1f62cf4c51664dbabe73192b8a5e21ef",
       "version_major": 2,
       "version_minor": 0
      },
      "text/plain": [
       "Epoch 78/100 [Eval]:   0%|          | 0/40 [00:00<?, ?it/s]"
      ]
     },
     "metadata": {},
     "output_type": "display_data"
    },
    {
     "data": {
      "application/vnd.jupyter.widget-view+json": {
       "model_id": "a3228c3baaf746d1bce0efcfbd5196a2",
       "version_major": 2,
       "version_minor": 0
      },
      "text/plain": [
       "Epoch 78/100 [Eval]:   0%|          | 0/40 [00:00<?, ?it/s]"
      ]
     },
     "metadata": {},
     "output_type": "display_data"
    },
    {
     "name": "stdout",
     "output_type": "stream",
     "text": [
      "EMA Eval Accuracy: 0.6161\n",
      "Epoch 78/100 completed in 6.85s\n",
      "  Train Loss: 1.4372, Train Accuracy: 0.6007\n",
      "  Eval Loss: 1.2788, Eval Accuracy: 0.6692\n",
      "  Best Accuracy: 0.6692 at epoch 78\n"
     ]
    },
    {
     "data": {
      "application/vnd.jupyter.widget-view+json": {
       "model_id": "3751b1d8baad43a7b4d1b4d0080c9e0c",
       "version_major": 2,
       "version_minor": 0
      },
      "text/plain": [
       "Epoch 79/100 [Train]:   0%|          | 0/195 [00:00<?, ?it/s]"
      ]
     },
     "metadata": {},
     "output_type": "display_data"
    },
    {
     "data": {
      "application/vnd.jupyter.widget-view+json": {
       "model_id": "257af5ed9b284778933877d8fec6f9bc",
       "version_major": 2,
       "version_minor": 0
      },
      "text/plain": [
       "Epoch 79/100 [Eval]:   0%|          | 0/40 [00:00<?, ?it/s]"
      ]
     },
     "metadata": {},
     "output_type": "display_data"
    },
    {
     "data": {
      "application/vnd.jupyter.widget-view+json": {
       "model_id": "465f9b0a16614d57b2b0c15ad73b9559",
       "version_major": 2,
       "version_minor": 0
      },
      "text/plain": [
       "Epoch 79/100 [Eval]:   0%|          | 0/40 [00:00<?, ?it/s]"
      ]
     },
     "metadata": {},
     "output_type": "display_data"
    },
    {
     "name": "stdout",
     "output_type": "stream",
     "text": [
      "EMA Eval Accuracy: 0.6174\n",
      "Epoch 79/100 completed in 6.75s\n",
      "  Train Loss: 1.4883, Train Accuracy: 0.5821\n",
      "  Eval Loss: 1.2758, Eval Accuracy: 0.6685\n",
      "  Best Accuracy: 0.6692 at epoch 78\n"
     ]
    },
    {
     "data": {
      "application/vnd.jupyter.widget-view+json": {
       "model_id": "c42360476129476e9517efa33f045482",
       "version_major": 2,
       "version_minor": 0
      },
      "text/plain": [
       "Epoch 80/100 [Train]:   0%|          | 0/195 [00:00<?, ?it/s]"
      ]
     },
     "metadata": {},
     "output_type": "display_data"
    },
    {
     "data": {
      "application/vnd.jupyter.widget-view+json": {
       "model_id": "76ebda14ec0648e29fc21426657b03c3",
       "version_major": 2,
       "version_minor": 0
      },
      "text/plain": [
       "Epoch 80/100 [Eval]:   0%|          | 0/40 [00:00<?, ?it/s]"
      ]
     },
     "metadata": {},
     "output_type": "display_data"
    },
    {
     "data": {
      "application/vnd.jupyter.widget-view+json": {
       "model_id": "9c1788e9e8ef4ab09708121e9a18fd11",
       "version_major": 2,
       "version_minor": 0
      },
      "text/plain": [
       "Epoch 80/100 [Eval]:   0%|          | 0/40 [00:00<?, ?it/s]"
      ]
     },
     "metadata": {},
     "output_type": "display_data"
    },
    {
     "name": "stdout",
     "output_type": "stream",
     "text": [
      "EMA Eval Accuracy: 0.6184\n",
      "Epoch 80/100 completed in 6.77s\n",
      "  Train Loss: 1.4824, Train Accuracy: 0.5880\n",
      "  Eval Loss: 1.2817, Eval Accuracy: 0.6646\n",
      "  Best Accuracy: 0.6692 at epoch 78\n"
     ]
    },
    {
     "data": {
      "application/vnd.jupyter.widget-view+json": {
       "model_id": "7ba493fd48f4429090fb24c7274c72f7",
       "version_major": 2,
       "version_minor": 0
      },
      "text/plain": [
       "Epoch 81/100 [Train]:   0%|          | 0/195 [00:00<?, ?it/s]"
      ]
     },
     "metadata": {},
     "output_type": "display_data"
    },
    {
     "data": {
      "application/vnd.jupyter.widget-view+json": {
       "model_id": "6af06af289a2417bb7208b9e05539156",
       "version_major": 2,
       "version_minor": 0
      },
      "text/plain": [
       "Epoch 81/100 [Eval]:   0%|          | 0/40 [00:00<?, ?it/s]"
      ]
     },
     "metadata": {},
     "output_type": "display_data"
    },
    {
     "data": {
      "application/vnd.jupyter.widget-view+json": {
       "model_id": "b100bd7441024cab9fdde362280a1925",
       "version_major": 2,
       "version_minor": 0
      },
      "text/plain": [
       "Epoch 81/100 [Eval]:   0%|          | 0/40 [00:00<?, ?it/s]"
      ]
     },
     "metadata": {},
     "output_type": "display_data"
    },
    {
     "name": "stdout",
     "output_type": "stream",
     "text": [
      "EMA Eval Accuracy: 0.6205\n",
      "Epoch 81/100 completed in 6.93s\n",
      "  Train Loss: 1.4482, Train Accuracy: 0.5959\n",
      "  Eval Loss: 1.2828, Eval Accuracy: 0.6709\n",
      "  Best Accuracy: 0.6709 at epoch 81\n"
     ]
    },
    {
     "data": {
      "application/vnd.jupyter.widget-view+json": {
       "model_id": "0e99ba56151948acb8f84d73eadfb202",
       "version_major": 2,
       "version_minor": 0
      },
      "text/plain": [
       "Epoch 82/100 [Train]:   0%|          | 0/195 [00:00<?, ?it/s]"
      ]
     },
     "metadata": {},
     "output_type": "display_data"
    },
    {
     "data": {
      "application/vnd.jupyter.widget-view+json": {
       "model_id": "52b6ffb5fdba464597dcc03ae8fe056c",
       "version_major": 2,
       "version_minor": 0
      },
      "text/plain": [
       "Epoch 82/100 [Eval]:   0%|          | 0/40 [00:00<?, ?it/s]"
      ]
     },
     "metadata": {},
     "output_type": "display_data"
    },
    {
     "data": {
      "application/vnd.jupyter.widget-view+json": {
       "model_id": "5096d181179c49858b4f8098a783f377",
       "version_major": 2,
       "version_minor": 0
      },
      "text/plain": [
       "Epoch 82/100 [Eval]:   0%|          | 0/40 [00:00<?, ?it/s]"
      ]
     },
     "metadata": {},
     "output_type": "display_data"
    },
    {
     "name": "stdout",
     "output_type": "stream",
     "text": [
      "EMA Eval Accuracy: 0.6219\n",
      "Epoch 82/100 completed in 6.66s\n",
      "  Train Loss: 1.4959, Train Accuracy: 0.5886\n",
      "  Eval Loss: 1.2846, Eval Accuracy: 0.6672\n",
      "  Best Accuracy: 0.6709 at epoch 81\n"
     ]
    },
    {
     "data": {
      "application/vnd.jupyter.widget-view+json": {
       "model_id": "eff29c78f6ee4791921dc34502aa9243",
       "version_major": 2,
       "version_minor": 0
      },
      "text/plain": [
       "Epoch 83/100 [Train]:   0%|          | 0/195 [00:00<?, ?it/s]"
      ]
     },
     "metadata": {},
     "output_type": "display_data"
    },
    {
     "data": {
      "application/vnd.jupyter.widget-view+json": {
       "model_id": "45e1babc3a3149019508bc96eaf0ef99",
       "version_major": 2,
       "version_minor": 0
      },
      "text/plain": [
       "Epoch 83/100 [Eval]:   0%|          | 0/40 [00:00<?, ?it/s]"
      ]
     },
     "metadata": {},
     "output_type": "display_data"
    },
    {
     "data": {
      "application/vnd.jupyter.widget-view+json": {
       "model_id": "4430457a563846588d6a492d2fc30272",
       "version_major": 2,
       "version_minor": 0
      },
      "text/plain": [
       "Epoch 83/100 [Eval]:   0%|          | 0/40 [00:00<?, ?it/s]"
      ]
     },
     "metadata": {},
     "output_type": "display_data"
    },
    {
     "name": "stdout",
     "output_type": "stream",
     "text": [
      "EMA Eval Accuracy: 0.6231\n",
      "Epoch 83/100 completed in 6.62s\n",
      "  Train Loss: 1.4832, Train Accuracy: 0.5899\n",
      "  Eval Loss: 1.2796, Eval Accuracy: 0.6673\n",
      "  Best Accuracy: 0.6709 at epoch 81\n"
     ]
    },
    {
     "data": {
      "application/vnd.jupyter.widget-view+json": {
       "model_id": "e08e35fcc77949799138822d4848867d",
       "version_major": 2,
       "version_minor": 0
      },
      "text/plain": [
       "Epoch 84/100 [Train]:   0%|          | 0/195 [00:00<?, ?it/s]"
      ]
     },
     "metadata": {},
     "output_type": "display_data"
    },
    {
     "data": {
      "application/vnd.jupyter.widget-view+json": {
       "model_id": "97a9b2ccfa004127902af7dd3be7138c",
       "version_major": 2,
       "version_minor": 0
      },
      "text/plain": [
       "Epoch 84/100 [Eval]:   0%|          | 0/40 [00:00<?, ?it/s]"
      ]
     },
     "metadata": {},
     "output_type": "display_data"
    },
    {
     "data": {
      "application/vnd.jupyter.widget-view+json": {
       "model_id": "2a9a3ec70f744bccb8da25e3f5da5034",
       "version_major": 2,
       "version_minor": 0
      },
      "text/plain": [
       "Epoch 84/100 [Eval]:   0%|          | 0/40 [00:00<?, ?it/s]"
      ]
     },
     "metadata": {},
     "output_type": "display_data"
    },
    {
     "name": "stdout",
     "output_type": "stream",
     "text": [
      "EMA Eval Accuracy: 0.6246\n",
      "Epoch 84/100 completed in 6.66s\n",
      "  Train Loss: 1.4782, Train Accuracy: 0.5827\n",
      "  Eval Loss: 1.2771, Eval Accuracy: 0.6699\n",
      "  Best Accuracy: 0.6709 at epoch 81\n"
     ]
    },
    {
     "data": {
      "application/vnd.jupyter.widget-view+json": {
       "model_id": "62123a03517f4b1ab1f6ee3ab1c2bfbc",
       "version_major": 2,
       "version_minor": 0
      },
      "text/plain": [
       "Epoch 85/100 [Train]:   0%|          | 0/195 [00:00<?, ?it/s]"
      ]
     },
     "metadata": {},
     "output_type": "display_data"
    },
    {
     "data": {
      "application/vnd.jupyter.widget-view+json": {
       "model_id": "e016d683b8d647d9ba27307a5b61b61d",
       "version_major": 2,
       "version_minor": 0
      },
      "text/plain": [
       "Epoch 85/100 [Eval]:   0%|          | 0/40 [00:00<?, ?it/s]"
      ]
     },
     "metadata": {},
     "output_type": "display_data"
    },
    {
     "data": {
      "application/vnd.jupyter.widget-view+json": {
       "model_id": "ca43c979bb23449288db4974e6fe8ea7",
       "version_major": 2,
       "version_minor": 0
      },
      "text/plain": [
       "Epoch 85/100 [Eval]:   0%|          | 0/40 [00:00<?, ?it/s]"
      ]
     },
     "metadata": {},
     "output_type": "display_data"
    },
    {
     "name": "stdout",
     "output_type": "stream",
     "text": [
      "EMA Eval Accuracy: 0.6252\n",
      "Epoch 85/100 completed in 6.62s\n",
      "  Train Loss: 1.4724, Train Accuracy: 0.5915\n",
      "  Eval Loss: 1.2788, Eval Accuracy: 0.6668\n",
      "  Best Accuracy: 0.6709 at epoch 81\n"
     ]
    },
    {
     "data": {
      "application/vnd.jupyter.widget-view+json": {
       "model_id": "29e7de0c772f49c2b6d1d1e39a10190b",
       "version_major": 2,
       "version_minor": 0
      },
      "text/plain": [
       "Epoch 86/100 [Train]:   0%|          | 0/195 [00:00<?, ?it/s]"
      ]
     },
     "metadata": {},
     "output_type": "display_data"
    },
    {
     "data": {
      "application/vnd.jupyter.widget-view+json": {
       "model_id": "802ee66f0b0e4a0eae17ec2e09d61128",
       "version_major": 2,
       "version_minor": 0
      },
      "text/plain": [
       "Epoch 86/100 [Eval]:   0%|          | 0/40 [00:00<?, ?it/s]"
      ]
     },
     "metadata": {},
     "output_type": "display_data"
    },
    {
     "data": {
      "application/vnd.jupyter.widget-view+json": {
       "model_id": "dc646a7860c847f49d416e8c8687ab0c",
       "version_major": 2,
       "version_minor": 0
      },
      "text/plain": [
       "Epoch 86/100 [Eval]:   0%|          | 0/40 [00:00<?, ?it/s]"
      ]
     },
     "metadata": {},
     "output_type": "display_data"
    },
    {
     "name": "stdout",
     "output_type": "stream",
     "text": [
      "EMA Eval Accuracy: 0.6264\n",
      "Epoch 86/100 completed in 6.99s\n",
      "  Train Loss: 1.4679, Train Accuracy: 0.5912\n",
      "  Eval Loss: 1.2807, Eval Accuracy: 0.6715\n",
      "  Best Accuracy: 0.6715 at epoch 86\n"
     ]
    },
    {
     "data": {
      "application/vnd.jupyter.widget-view+json": {
       "model_id": "703f93ac1a1b440092f229f1ac186871",
       "version_major": 2,
       "version_minor": 0
      },
      "text/plain": [
       "Epoch 87/100 [Train]:   0%|          | 0/195 [00:00<?, ?it/s]"
      ]
     },
     "metadata": {},
     "output_type": "display_data"
    },
    {
     "data": {
      "application/vnd.jupyter.widget-view+json": {
       "model_id": "27d72cc7574e4a24910ac2a19ac5bb7b",
       "version_major": 2,
       "version_minor": 0
      },
      "text/plain": [
       "Epoch 87/100 [Eval]:   0%|          | 0/40 [00:00<?, ?it/s]"
      ]
     },
     "metadata": {},
     "output_type": "display_data"
    },
    {
     "data": {
      "application/vnd.jupyter.widget-view+json": {
       "model_id": "792f3dfd67ca4eeaa5ecf7d595d377a9",
       "version_major": 2,
       "version_minor": 0
      },
      "text/plain": [
       "Epoch 87/100 [Eval]:   0%|          | 0/40 [00:00<?, ?it/s]"
      ]
     },
     "metadata": {},
     "output_type": "display_data"
    },
    {
     "name": "stdout",
     "output_type": "stream",
     "text": [
      "EMA Eval Accuracy: 0.6288\n",
      "Epoch 87/100 completed in 6.73s\n",
      "  Train Loss: 1.4447, Train Accuracy: 0.5931\n",
      "  Eval Loss: 1.2824, Eval Accuracy: 0.6693\n",
      "  Best Accuracy: 0.6715 at epoch 86\n"
     ]
    },
    {
     "data": {
      "application/vnd.jupyter.widget-view+json": {
       "model_id": "63c59a622d874df9a159821f06f097a9",
       "version_major": 2,
       "version_minor": 0
      },
      "text/plain": [
       "Epoch 88/100 [Train]:   0%|          | 0/195 [00:00<?, ?it/s]"
      ]
     },
     "metadata": {},
     "output_type": "display_data"
    },
    {
     "data": {
      "application/vnd.jupyter.widget-view+json": {
       "model_id": "430904d92767419881a3d11e3e7237da",
       "version_major": 2,
       "version_minor": 0
      },
      "text/plain": [
       "Epoch 88/100 [Eval]:   0%|          | 0/40 [00:00<?, ?it/s]"
      ]
     },
     "metadata": {},
     "output_type": "display_data"
    },
    {
     "data": {
      "application/vnd.jupyter.widget-view+json": {
       "model_id": "645e067d992c47b7b3fa0f71d03919b2",
       "version_major": 2,
       "version_minor": 0
      },
      "text/plain": [
       "Epoch 88/100 [Eval]:   0%|          | 0/40 [00:00<?, ?it/s]"
      ]
     },
     "metadata": {},
     "output_type": "display_data"
    },
    {
     "name": "stdout",
     "output_type": "stream",
     "text": [
      "EMA Eval Accuracy: 0.6305\n",
      "Epoch 88/100 completed in 6.68s\n",
      "  Train Loss: 1.4665, Train Accuracy: 0.5905\n",
      "  Eval Loss: 1.2803, Eval Accuracy: 0.6670\n",
      "  Best Accuracy: 0.6715 at epoch 86\n"
     ]
    },
    {
     "data": {
      "application/vnd.jupyter.widget-view+json": {
       "model_id": "569e5f0906d940f4b804631473046ae2",
       "version_major": 2,
       "version_minor": 0
      },
      "text/plain": [
       "Epoch 89/100 [Train]:   0%|          | 0/195 [00:00<?, ?it/s]"
      ]
     },
     "metadata": {},
     "output_type": "display_data"
    },
    {
     "data": {
      "application/vnd.jupyter.widget-view+json": {
       "model_id": "cca76ca3274246eea4e07e806195b465",
       "version_major": 2,
       "version_minor": 0
      },
      "text/plain": [
       "Epoch 89/100 [Eval]:   0%|          | 0/40 [00:00<?, ?it/s]"
      ]
     },
     "metadata": {},
     "output_type": "display_data"
    },
    {
     "data": {
      "application/vnd.jupyter.widget-view+json": {
       "model_id": "263f255c771f4076a40a2bed01062302",
       "version_major": 2,
       "version_minor": 0
      },
      "text/plain": [
       "Epoch 89/100 [Eval]:   0%|          | 0/40 [00:00<?, ?it/s]"
      ]
     },
     "metadata": {},
     "output_type": "display_data"
    },
    {
     "name": "stdout",
     "output_type": "stream",
     "text": [
      "EMA Eval Accuracy: 0.6315\n",
      "Epoch 89/100 completed in 6.69s\n",
      "  Train Loss: 1.4942, Train Accuracy: 0.5834\n",
      "  Eval Loss: 1.2828, Eval Accuracy: 0.6696\n",
      "  Best Accuracy: 0.6715 at epoch 86\n"
     ]
    },
    {
     "data": {
      "application/vnd.jupyter.widget-view+json": {
       "model_id": "64dc1981e75546ac8829e928e5b9cbd0",
       "version_major": 2,
       "version_minor": 0
      },
      "text/plain": [
       "Epoch 90/100 [Train]:   0%|          | 0/195 [00:00<?, ?it/s]"
      ]
     },
     "metadata": {},
     "output_type": "display_data"
    },
    {
     "data": {
      "application/vnd.jupyter.widget-view+json": {
       "model_id": "1303e523699f403f8db45721eb9362fe",
       "version_major": 2,
       "version_minor": 0
      },
      "text/plain": [
       "Epoch 90/100 [Eval]:   0%|          | 0/40 [00:00<?, ?it/s]"
      ]
     },
     "metadata": {},
     "output_type": "display_data"
    },
    {
     "data": {
      "application/vnd.jupyter.widget-view+json": {
       "model_id": "530fd983560a4594872febebf45e88d8",
       "version_major": 2,
       "version_minor": 0
      },
      "text/plain": [
       "Epoch 90/100 [Eval]:   0%|          | 0/40 [00:00<?, ?it/s]"
      ]
     },
     "metadata": {},
     "output_type": "display_data"
    },
    {
     "name": "stdout",
     "output_type": "stream",
     "text": [
      "EMA Eval Accuracy: 0.6350\n",
      "Epoch 90/100 completed in 6.79s\n",
      "  Train Loss: 1.4733, Train Accuracy: 0.5899\n",
      "  Eval Loss: 1.2814, Eval Accuracy: 0.6708\n",
      "  Best Accuracy: 0.6715 at epoch 86\n"
     ]
    },
    {
     "data": {
      "application/vnd.jupyter.widget-view+json": {
       "model_id": "cbbcb03abe834350ac974781023fbadb",
       "version_major": 2,
       "version_minor": 0
      },
      "text/plain": [
       "Epoch 91/100 [Train]:   0%|          | 0/195 [00:00<?, ?it/s]"
      ]
     },
     "metadata": {},
     "output_type": "display_data"
    },
    {
     "data": {
      "application/vnd.jupyter.widget-view+json": {
       "model_id": "4d75d02ce08f4b6b9325bbf244b327d8",
       "version_major": 2,
       "version_minor": 0
      },
      "text/plain": [
       "Epoch 91/100 [Eval]:   0%|          | 0/40 [00:00<?, ?it/s]"
      ]
     },
     "metadata": {},
     "output_type": "display_data"
    },
    {
     "data": {
      "application/vnd.jupyter.widget-view+json": {
       "model_id": "7c89863cc4a24f67964e585230b74df4",
       "version_major": 2,
       "version_minor": 0
      },
      "text/plain": [
       "Epoch 91/100 [Eval]:   0%|          | 0/40 [00:00<?, ?it/s]"
      ]
     },
     "metadata": {},
     "output_type": "display_data"
    },
    {
     "name": "stdout",
     "output_type": "stream",
     "text": [
      "EMA Eval Accuracy: 0.6358\n",
      "Epoch 91/100 completed in 6.71s\n",
      "  Train Loss: 1.4825, Train Accuracy: 0.5845\n",
      "  Eval Loss: 1.2817, Eval Accuracy: 0.6699\n",
      "  Best Accuracy: 0.6715 at epoch 86\n"
     ]
    },
    {
     "data": {
      "application/vnd.jupyter.widget-view+json": {
       "model_id": "cd793edbfee64fe8bdd05a4ecc476239",
       "version_major": 2,
       "version_minor": 0
      },
      "text/plain": [
       "Epoch 92/100 [Train]:   0%|          | 0/195 [00:00<?, ?it/s]"
      ]
     },
     "metadata": {},
     "output_type": "display_data"
    },
    {
     "data": {
      "application/vnd.jupyter.widget-view+json": {
       "model_id": "b1787392ac5d43a18962a430b66a4f44",
       "version_major": 2,
       "version_minor": 0
      },
      "text/plain": [
       "Epoch 92/100 [Eval]:   0%|          | 0/40 [00:00<?, ?it/s]"
      ]
     },
     "metadata": {},
     "output_type": "display_data"
    },
    {
     "data": {
      "application/vnd.jupyter.widget-view+json": {
       "model_id": "ad606ae244c746aab6ab439bdeccb746",
       "version_major": 2,
       "version_minor": 0
      },
      "text/plain": [
       "Epoch 92/100 [Eval]:   0%|          | 0/40 [00:00<?, ?it/s]"
      ]
     },
     "metadata": {},
     "output_type": "display_data"
    },
    {
     "name": "stdout",
     "output_type": "stream",
     "text": [
      "EMA Eval Accuracy: 0.6375\n",
      "Epoch 92/100 completed in 6.67s\n",
      "  Train Loss: 1.4367, Train Accuracy: 0.6008\n",
      "  Eval Loss: 1.2834, Eval Accuracy: 0.6688\n",
      "  Best Accuracy: 0.6715 at epoch 86\n"
     ]
    },
    {
     "data": {
      "application/vnd.jupyter.widget-view+json": {
       "model_id": "c4f1dfe048e049718ae98315d04bde24",
       "version_major": 2,
       "version_minor": 0
      },
      "text/plain": [
       "Epoch 93/100 [Train]:   0%|          | 0/195 [00:00<?, ?it/s]"
      ]
     },
     "metadata": {},
     "output_type": "display_data"
    },
    {
     "data": {
      "application/vnd.jupyter.widget-view+json": {
       "model_id": "d7c6eb46eb2a42a783b251dcb0d4e13e",
       "version_major": 2,
       "version_minor": 0
      },
      "text/plain": [
       "Epoch 93/100 [Eval]:   0%|          | 0/40 [00:00<?, ?it/s]"
      ]
     },
     "metadata": {},
     "output_type": "display_data"
    },
    {
     "data": {
      "application/vnd.jupyter.widget-view+json": {
       "model_id": "766ca9ac9b4e4002a8d083bcf785791c",
       "version_major": 2,
       "version_minor": 0
      },
      "text/plain": [
       "Epoch 93/100 [Eval]:   0%|          | 0/40 [00:00<?, ?it/s]"
      ]
     },
     "metadata": {},
     "output_type": "display_data"
    },
    {
     "name": "stdout",
     "output_type": "stream",
     "text": [
      "EMA Eval Accuracy: 0.6384\n",
      "Epoch 93/100 completed in 6.53s\n",
      "  Train Loss: 1.4374, Train Accuracy: 0.6024\n",
      "  Eval Loss: 1.2850, Eval Accuracy: 0.6687\n",
      "  Best Accuracy: 0.6715 at epoch 86\n"
     ]
    },
    {
     "data": {
      "application/vnd.jupyter.widget-view+json": {
       "model_id": "e59e43b9a49941c4a62585ec385fd737",
       "version_major": 2,
       "version_minor": 0
      },
      "text/plain": [
       "Epoch 94/100 [Train]:   0%|          | 0/195 [00:00<?, ?it/s]"
      ]
     },
     "metadata": {},
     "output_type": "display_data"
    },
    {
     "data": {
      "application/vnd.jupyter.widget-view+json": {
       "model_id": "2e6cd94bdee447449940f58b0190521a",
       "version_major": 2,
       "version_minor": 0
      },
      "text/plain": [
       "Epoch 94/100 [Eval]:   0%|          | 0/40 [00:00<?, ?it/s]"
      ]
     },
     "metadata": {},
     "output_type": "display_data"
    },
    {
     "data": {
      "application/vnd.jupyter.widget-view+json": {
       "model_id": "b35e967ea5734a51add48f2ed1caeabf",
       "version_major": 2,
       "version_minor": 0
      },
      "text/plain": [
       "Epoch 94/100 [Eval]:   0%|          | 0/40 [00:00<?, ?it/s]"
      ]
     },
     "metadata": {},
     "output_type": "display_data"
    },
    {
     "name": "stdout",
     "output_type": "stream",
     "text": [
      "EMA Eval Accuracy: 0.6394\n",
      "Epoch 94/100 completed in 6.57s\n",
      "  Train Loss: 1.4436, Train Accuracy: 0.6067\n",
      "  Eval Loss: 1.2840, Eval Accuracy: 0.6684\n",
      "  Best Accuracy: 0.6715 at epoch 86\n"
     ]
    },
    {
     "data": {
      "application/vnd.jupyter.widget-view+json": {
       "model_id": "83ff1812545d43e8b86040db8f4e308f",
       "version_major": 2,
       "version_minor": 0
      },
      "text/plain": [
       "Epoch 95/100 [Train]:   0%|          | 0/195 [00:00<?, ?it/s]"
      ]
     },
     "metadata": {},
     "output_type": "display_data"
    },
    {
     "data": {
      "application/vnd.jupyter.widget-view+json": {
       "model_id": "e7597d69a3834d07a541ff6764203804",
       "version_major": 2,
       "version_minor": 0
      },
      "text/plain": [
       "Epoch 95/100 [Eval]:   0%|          | 0/40 [00:00<?, ?it/s]"
      ]
     },
     "metadata": {},
     "output_type": "display_data"
    },
    {
     "data": {
      "application/vnd.jupyter.widget-view+json": {
       "model_id": "77b530b17c304625bcd699bc52f373a4",
       "version_major": 2,
       "version_minor": 0
      },
      "text/plain": [
       "Epoch 95/100 [Eval]:   0%|          | 0/40 [00:00<?, ?it/s]"
      ]
     },
     "metadata": {},
     "output_type": "display_data"
    },
    {
     "name": "stdout",
     "output_type": "stream",
     "text": [
      "EMA Eval Accuracy: 0.6402\n",
      "Epoch 95/100 completed in 6.47s\n",
      "  Train Loss: 1.4744, Train Accuracy: 0.5971\n",
      "  Eval Loss: 1.2829, Eval Accuracy: 0.6701\n",
      "  Best Accuracy: 0.6715 at epoch 86\n"
     ]
    },
    {
     "data": {
      "application/vnd.jupyter.widget-view+json": {
       "model_id": "8dce8e74e50a41e9b4e1e9ee5acfbc3d",
       "version_major": 2,
       "version_minor": 0
      },
      "text/plain": [
       "Epoch 96/100 [Train]:   0%|          | 0/195 [00:00<?, ?it/s]"
      ]
     },
     "metadata": {},
     "output_type": "display_data"
    },
    {
     "data": {
      "application/vnd.jupyter.widget-view+json": {
       "model_id": "1370d006f20a4f7094d3470a3c322bdc",
       "version_major": 2,
       "version_minor": 0
      },
      "text/plain": [
       "Epoch 96/100 [Eval]:   0%|          | 0/40 [00:00<?, ?it/s]"
      ]
     },
     "metadata": {},
     "output_type": "display_data"
    },
    {
     "data": {
      "application/vnd.jupyter.widget-view+json": {
       "model_id": "a06faacabf2540628af2b5ed0b6efbc8",
       "version_major": 2,
       "version_minor": 0
      },
      "text/plain": [
       "Epoch 96/100 [Eval]:   0%|          | 0/40 [00:00<?, ?it/s]"
      ]
     },
     "metadata": {},
     "output_type": "display_data"
    },
    {
     "name": "stdout",
     "output_type": "stream",
     "text": [
      "EMA Eval Accuracy: 0.6421\n",
      "Epoch 96/100 completed in 6.50s\n",
      "  Train Loss: 1.4592, Train Accuracy: 0.5984\n",
      "  Eval Loss: 1.2826, Eval Accuracy: 0.6684\n",
      "  Best Accuracy: 0.6715 at epoch 86\n",
      "Early stopping triggered at epoch 96\n",
      "Running final evaluation with EMA parameters...\n"
     ]
    },
    {
     "data": {
      "application/vnd.jupyter.widget-view+json": {
       "model_id": "0007cffc53e84934be6a5514779a346c",
       "version_major": 2,
       "version_minor": 0
      },
      "text/plain": [
       "Final EMA Evaluation:   0%|          | 0/40 [00:00<?, ?it/s]"
      ]
     },
     "metadata": {},
     "output_type": "display_data"
    },
    {
     "name": "stdout",
     "output_type": "stream",
     "text": [
      "\n",
      "================================================================================\n",
      "ENHANCED TRAINING COMPLETED SUCCESSFULLY!\n",
      "================================================================================\n",
      "Total time: 00:15:50\n",
      "Best accuracy: 0.6715\n",
      "Final F1 score: 0.6403\n",
      "Results in: enhanced_vit_results/run_20250507_053823\n",
      "================================================================================\n",
      "\n",
      "Generated files:\n",
      "  Visualizations:\n",
      "    - training_metrics.png - Learning curves\n",
      "    - lr_schedule.png - Learning rate schedule\n",
      "    - confusion_matrix.png - Confusion matrix\n",
      "    - ema_confusion_matrix.png - EMA Confusion matrix\n",
      "    - precision_recall_f1.png - Classification metrics\n",
      "    - tsne_visualization.png - t-SNE feature visualization\n",
      "    - pca_visualization.png - PCA feature visualization\n",
      "    - umap_visualization.png - UMAP feature visualization\n",
      "    - sample_predictions.png - Sample predictions\n",
      "  Model Files:\n",
      "    - best_model.pkl - Best model checkpoint\n",
      "    - checkpoint_epoch_*.pkl - Periodic checkpoints\n",
      "  Text files:\n",
      "    - enhanced_config.txt - Training configuration\n",
      "    - training_summary.txt - Final results summary\n",
      "    - hardware_summary.txt - Hardware information\n",
      "\n",
      "\n"
     ]
    }
   ],
   "source": [
    "# ===============================================\n",
    "# ENHANCED VISION TRANSFORMER WITH REGULARIZATION\n",
    "# ===============================================\n",
    "\n",
    "import jax\n",
    "import jax.numpy as jnp\n",
    "from jax import random, grad, jit, vmap\n",
    "import numpy as np\n",
    "from functools import partial\n",
    "import time\n",
    "import os\n",
    "import urllib.request\n",
    "import tarfile\n",
    "import pickle\n",
    "from datetime import datetime\n",
    "from tqdm.auto import tqdm\n",
    "from dataclasses import dataclass, field\n",
    "from typing import Dict, Tuple, List, Any, NamedTuple\n",
    "\n",
    "# For visualization and metrics\n",
    "import matplotlib.pyplot as plt\n",
    "import seaborn as sns\n",
    "import pandas as pd\n",
    "from sklearn.metrics import confusion_matrix, precision_recall_fscore_support\n",
    "from sklearn.manifold import TSNE\n",
    "from sklearn.decomposition import PCA\n",
    "import umap\n",
    "\n",
    "# ==============================\n",
    "# 1. ENHANCED CONFIGURATION \n",
    "# ==============================\n",
    "\n",
    "@dataclass\n",
    "class ViTConfig:\n",
    "    \"\"\"Enhanced Configuration for Vision Transformer with Regularization\"\"\"\n",
    "    # Image processing\n",
    "    img_size: int = 32\n",
    "    patch_size: int = 4\n",
    "    \n",
    "    # Model architecture\n",
    "    num_classes: int = 10\n",
    "    num_heads: int = 8\n",
    "    num_layers: int = 6\n",
    "    hidden_dim: int = 384\n",
    "    mlp_dim: int = 1536\n",
    "    \n",
    "    # Enhanced Dropout Configuration\n",
    "    dropout_rate: float = 0.2\n",
    "    attention_dropout_rate: float = 0.3\n",
    "    projection_dropout_rate: float = 0.3\n",
    "    path_dropout_rate: float = 0.2  # For DroidOut/StochasticDepth\n",
    "    \n",
    "    # Batch Normalization\n",
    "    use_batch_norm: bool = True\n",
    "    bn_momentum: float = 0.9\n",
    "    bn_eps: float = 1e-5\n",
    "    \n",
    "    # Data Augmentation\n",
    "    use_data_augmentation: bool = True\n",
    "    augment_prob: float = 0.4\n",
    "    mixup_alpha: float = 0.8\n",
    "    cutmix_alpha: float = 1.0\n",
    "    cutout_size: int = 8\n",
    "\n",
    "    # enable_random_flip: bool = True\n",
    "    # enable_color_jitter: bool = True\n",
    "    # enable_gaussian_noise: bool = True\n",
    "    # enable_mixup: bool = True\n",
    "    # enable_cutout: bool = True\n",
    "    \n",
    "    # Label Smoothing\n",
    "    label_smoothing: float = 0.1\n",
    "    \n",
    "    # Weight Decay\n",
    "    weight_decay: float = 0.05  # Increased for better regularization\n",
    "    \n",
    "    # Training parameters\n",
    "    batch_size: int = 128\n",
    "    num_epochs: int = 50  # Increased for better convergence\n",
    "    learning_rate: float = 5e-4\n",
    "    warmup_steps: int = 1000\n",
    "    early_stopping_patience: int = 5 \n",
    "    \n",
    "    # Optimizer parameters\n",
    "    beta1: float = 0.9\n",
    "    beta2: float = 0.999\n",
    "    eps: float = 1e-8\n",
    "    \n",
    "    # EMA (Exponential Moving Average)\n",
    "    use_ema: bool = True\n",
    "    ema_decay: float = 0.9999\n",
    "    \n",
    "    # Other settings\n",
    "    seed: int = 42\n",
    "    initializer_range: float = 0.02\n",
    "    \n",
    "    @property\n",
    "    def num_patches(self) -> int:\n",
    "        \"\"\"Calculate the number of patches based on image and patch size\"\"\"\n",
    "        return (self.img_size // self.patch_size) ** 2\n",
    "\n",
    "\n",
    "@dataclass\n",
    "class TrainingState:\n",
    "    \"\"\"State for tracking training progress\"\"\"\n",
    "    params: Any\n",
    "    opt_state: Any\n",
    "    train_losses: List[float] = field(default_factory=list)\n",
    "    train_accs: List[float] = field(default_factory=list)\n",
    "    eval_losses: List[float] = field(default_factory=list)\n",
    "    eval_accs: List[float] = field(default_factory=list)\n",
    "    step: int = 0\n",
    "    epoch: int = 0\n",
    "    best_accuracy: float = 0.0\n",
    "    best_epoch: int = 0\n",
    "\n",
    "\n",
    "# ===================================\n",
    "# 2. UTILITY CLASSES (from original)\n",
    "# ===================================\n",
    "class Utils:\n",
    "    \"\"\"Utility functions for the Vision Transformer\"\"\"\n",
    "    \n",
    "    @staticmethod\n",
    "    def to_device(x):\n",
    "        \"\"\"Helper function to move data to the selected device\"\"\"\n",
    "        device = jax.devices()[0]\n",
    "        return jax.device_put(x, device)\n",
    "    \n",
    "    @staticmethod\n",
    "    def get_initializer(scale: float = 0.02):\n",
    "        \"\"\"Get weight initializer function\"\"\"\n",
    "        return lambda key, shape, dtype=jnp.float32: random.normal(key, shape, dtype) * scale\n",
    "\n",
    "\n",
    "class Metrics:\n",
    "    \"\"\"Class for computing and tracking metrics\"\"\"\n",
    "    \n",
    "    @staticmethod\n",
    "    def cross_entropy_loss(logits: jnp.ndarray, labels: jnp.ndarray) -> float:\n",
    "        \"\"\"Compute cross-entropy loss\"\"\"\n",
    "        one_hot_labels = jax.nn.one_hot(labels, 10)  # CIFAR-10 has 10 classes\n",
    "        softmax_logits = jax.nn.log_softmax(logits)\n",
    "        loss = -jnp.sum(one_hot_labels * softmax_logits) / labels.shape[0]\n",
    "        return loss\n",
    "    \n",
    "    @staticmethod\n",
    "    def accuracy(logits: jnp.ndarray, labels: jnp.ndarray) -> float:\n",
    "        \"\"\"Compute accuracy\"\"\"\n",
    "        preds = jnp.argmax(logits, axis=-1)\n",
    "        return jnp.mean(preds == labels)\n",
    "    \n",
    "    @staticmethod\n",
    "    def get_predictions(logits: jnp.ndarray) -> jnp.ndarray:\n",
    "        \"\"\"Get class predictions from logits\"\"\"\n",
    "        return jnp.argmax(logits, axis=-1)\n",
    "    \n",
    "    @staticmethod\n",
    "    def compute_detailed_metrics(y_true: np.ndarray, y_pred: np.ndarray) -> Dict:\n",
    "        \"\"\"Compute detailed metrics including confusion matrix\"\"\"\n",
    "        # Compute confusion matrix\n",
    "        cm = confusion_matrix(y_true, y_pred)\n",
    "        \n",
    "        # Compute precision, recall, and F1 score for each class\n",
    "        precision, recall, f1, _ = precision_recall_fscore_support(y_true, y_pred, average=None)\n",
    "        \n",
    "        # Compute macro-averaged metrics\n",
    "        macro_precision, macro_recall, macro_f1, _ = precision_recall_fscore_support(\n",
    "            y_true, y_pred, average='macro'\n",
    "        )\n",
    "        \n",
    "        return {\n",
    "            'confusion_matrix': cm,\n",
    "            'precision': precision,\n",
    "            'recall': recall,\n",
    "            'f1': f1,\n",
    "            'macro_precision': macro_precision,\n",
    "            'macro_recall': macro_recall,\n",
    "            'macro_f1': macro_f1\n",
    "        }\n",
    "\n",
    "\n",
    "# ==============================\n",
    "# 3. DATA AUGMENTATION MODULE\n",
    "# ==============================\n",
    "class DataAugmentation:\n",
    "    \"\"\"Comprehensive data augmentation techniques\"\"\"\n",
    "    \n",
    "    def __init__(self, config: ViTConfig):\n",
    "        self.config = config\n",
    "        \n",
    "    def random_rotation(self, key: jnp.ndarray, images: jnp.ndarray, max_angle=15) -> jnp.ndarray:\n",
    "        \"\"\"Simple random rotation using static angles\"\"\"\n",
    "        batch_size = images.shape[0]\n",
    "        \n",
    "        # Pre-define static rotation angles\n",
    "        angles = jnp.array([-15, -10, -5, 0, 5, 10, 15]) * jnp.pi / 180\n",
    "        \n",
    "        # Select random angles for each image\n",
    "        angle_indices = random.randint(key, (batch_size,), 0, len(angles))\n",
    "        selected_angles = angles[angle_indices]\n",
    "        \n",
    "        def rotate_single(args):\n",
    "            image, angle = args\n",
    "            # Simple rotation matrix\n",
    "            cos_angle = jnp.cos(angle)\n",
    "            sin_angle = jnp.sin(angle)\n",
    "            \n",
    "            # Create rotation matrix\n",
    "            rotation_matrix = jnp.array([[cos_angle, -sin_angle],\n",
    "                                       [sin_angle, cos_angle]])\n",
    "            \n",
    "            # Apply rotation using a simple coordinate transformation\n",
    "            # Note: This is a simplified rotation that works with JAX\n",
    "            return image  # Placeholder - actual rotation would be more complex\n",
    "        \n",
    "        return vmap(rotate_single)((images, selected_angles))\n",
    "    \n",
    "    def apply_augmentation(self, key: jnp.ndarray, images: jnp.ndarray, labels: jnp.ndarray) -> Tuple[jnp.ndarray, jnp.ndarray]:\n",
    "        \"\"\"Apply all augmentation techniques\"\"\"\n",
    "        if not self.config.use_data_augmentation:\n",
    "            return images, labels\n",
    "            \n",
    "        key, subkey = random.split(key)\n",
    "        \n",
    "        # Apply basic augmentations that work with JAX\n",
    "        images = self.random_flip(subkey, images)\n",
    "        \n",
    "        key, subkey = random.split(key)\n",
    "        images = self.color_jitter(subkey, images)\n",
    "        \n",
    "        # Apply Gaussian noise as an alternative to cutout\n",
    "        key, subkey = random.split(key)\n",
    "        noise = random.normal(subkey, images.shape) * 0.1\n",
    "        images = jnp.clip(images + noise, 0, 1)\n",
    "        \n",
    "        # Apply Mixup\n",
    "        if self.config.mixup_alpha > 0:\n",
    "            key, subkey = random.split(key)\n",
    "            images, labels = self.mixup(subkey, images, labels)\n",
    "        \n",
    "        return images, labels\n",
    "    \n",
    "    def random_flip(self, key: jnp.ndarray, images: jnp.ndarray) -> jnp.ndarray:\n",
    "        \"\"\"Random horizontal flip\"\"\"\n",
    "        def flip_image(image, flip):\n",
    "            return jnp.where(flip, jnp.fliplr(image), image)\n",
    "        \n",
    "        flips = random.bernoulli(key, 0.5, (images.shape[0],))\n",
    "        return vmap(flip_image)(images, flips)\n",
    "    \n",
    "    def random_crop_and_resize(self, key: jnp.ndarray, images: jnp.ndarray, scale=(0.8, 1.0)) -> jnp.ndarray:\n",
    "        \"\"\"Random crop and resize using masked operations\"\"\"\n",
    "        batch_size, height, width, channels = images.shape\n",
    "        \n",
    "        keys = random.split(key, batch_size)\n",
    "        \n",
    "        def crop_and_resize_single(image, key_single):\n",
    "            # Sample random scale\n",
    "            scale_value = random.uniform(key_single, (), minval=scale[0], maxval=scale[1])\n",
    "            \n",
    "            # Calculate crop size\n",
    "            crop_height = jnp.round(height * scale_value).astype(jnp.int32)\n",
    "            crop_width = jnp.round(width * scale_value).astype(jnp.int32)\n",
    "            \n",
    "            # Random crop position\n",
    "            key_single, subkey = random.split(key_single)\n",
    "            max_h = jnp.maximum(1, height - crop_height + 1)\n",
    "            max_w = jnp.maximum(1, width - crop_width + 1)\n",
    "            start_h = random.randint(subkey, (), 0, max_h)\n",
    "            key_single, subkey = random.split(key_single)\n",
    "            start_w = random.randint(subkey, (), 0, max_w)\n",
    "            \n",
    "            # Create a mask for the crop region\n",
    "            y_indices = jnp.arange(height)[:, None]\n",
    "            x_indices = jnp.arange(width)[None, :]\n",
    "            mask = ((y_indices >= start_h) & (y_indices < start_h + crop_height) &\n",
    "                   (x_indices >= start_w) & (x_indices < start_w + crop_width))\n",
    "            \n",
    "            # Create cropped image by masking\n",
    "            masked_image = jnp.where(mask[:, :, None], image, 0)\n",
    "            \n",
    "            # For simplicity, we can just resize the entire image with the mask\n",
    "            return jax.image.resize(masked_image, (height, width, channels), method='bilinear')\n",
    "        \n",
    "        # Apply to each image in the batch\n",
    "        return vmap(crop_and_resize_single)(images, keys)\n",
    "    \n",
    "    def color_jitter(self, key: jnp.ndarray, images: jnp.ndarray, \n",
    "                    brightness=0.4, contrast=0.4, saturation=0.4) -> jnp.ndarray:\n",
    "        \"\"\"Apply color jittering\"\"\"\n",
    "        batch_size = images.shape[0]\n",
    "        \n",
    "        # Generate random factors\n",
    "        key, b_key = random.split(key)\n",
    "        key, c_key = random.split(key)\n",
    "        key, s_key = random.split(key)\n",
    "        \n",
    "        brightness_factor = random.uniform(b_key, (batch_size,), \n",
    "                                         minval=1-brightness, maxval=1+brightness)\n",
    "        contrast_factor = random.uniform(c_key, (batch_size,), \n",
    "                                       minval=1-contrast, maxval=1+contrast)\n",
    "        saturation_factor = random.uniform(s_key, (batch_size,), \n",
    "                                         minval=1-saturation, maxval=1+saturation)\n",
    "        \n",
    "        def jitter_single(image, b_factor, c_factor, s_factor):\n",
    "            # Brightness\n",
    "            image = jnp.clip(image * b_factor, 0, 1)\n",
    "            \n",
    "            # Contrast\n",
    "            mean = jnp.mean(image)\n",
    "            image = jnp.clip((image - mean) * c_factor + mean, 0, 1)\n",
    "            \n",
    "            # Saturation (convert to grayscale then blend)\n",
    "            gray = jnp.mean(image, axis=2, keepdims=True)\n",
    "            image = jnp.clip(gray + (image - gray) * s_factor, 0, 1)\n",
    "            \n",
    "            return image\n",
    "        \n",
    "        return vmap(jitter_single)(images, brightness_factor, contrast_factor, saturation_factor)\n",
    "    \n",
    "    def cutout(self, key: jnp.ndarray, images: jnp.ndarray) -> jnp.ndarray:\n",
    "        \"\"\"Apply Cutout augmentation\"\"\"\n",
    "        batch_size, height, width, channels = images.shape\n",
    "        \n",
    "        def apply_cutout_single(args):\n",
    "            image, key_single = args\n",
    "            # Random position ensuring we don't go out of bounds\n",
    "            max_x = jnp.maximum(1, width - self.config.cutout_size)\n",
    "            max_y = jnp.maximum(1, height - self.config.cutout_size)\n",
    "            \n",
    "            key_single, subkey = random.split(key_single)\n",
    "            x = random.randint(subkey, (), 0, max_x)\n",
    "            key_single, subkey = random.split(key_single)\n",
    "            y = random.randint(subkey, (), 0, max_y)\n",
    "            \n",
    "            # Create mask\n",
    "            mask = jnp.ones_like(image)\n",
    "            # Use a safe cutout size that doesn't exceed image boundaries\n",
    "            safe_size = jnp.minimum(self.config.cutout_size, jnp.minimum(width - x, height - y))\n",
    "            mask = mask.at[y:y+safe_size, x:x+safe_size].set(0)\n",
    "            \n",
    "            return image * mask\n",
    "        \n",
    "        # Split keys for each image\n",
    "        keys = random.split(key, batch_size)\n",
    "        return vmap(apply_cutout_single)((images, keys))\n",
    "    \n",
    "    def mixup(self, key: jnp.ndarray, images: jnp.ndarray, labels: jnp.ndarray) -> Tuple[jnp.ndarray, jnp.ndarray]:\n",
    "        \"\"\"Apply Mixup augmentation\"\"\"\n",
    "        batch_size = images.shape[0]\n",
    "        \n",
    "        # Sample mixing ratio\n",
    "        lam = random.beta(key, self.config.mixup_alpha, self.config.mixup_alpha)\n",
    "        \n",
    "        # Shuffle indices\n",
    "        key, subkey = random.split(key)\n",
    "        indices = random.permutation(subkey, batch_size)\n",
    "        \n",
    "        # Mix images and labels\n",
    "        mixed_images = lam * images + (1 - lam) * images[indices]\n",
    "        mixed_labels = lam * labels + (1 - lam) * labels[indices]\n",
    "        \n",
    "        return mixed_images, mixed_labels\n",
    "\n",
    "\n",
    "# ==============================\n",
    "# 4. ENHANCED MODEL LAYERS\n",
    "# ==============================\n",
    "class EnhancedModelLayers:\n",
    "    \"\"\"Enhanced neural network layers with regularization\"\"\"\n",
    "    \n",
    "    @staticmethod\n",
    "    def linear(x: jnp.ndarray, w: jnp.ndarray, b: jnp.ndarray) -> jnp.ndarray:\n",
    "        \"\"\"Linear layer\"\"\"\n",
    "        return jnp.dot(x, w) + b\n",
    "    \n",
    "    @staticmethod\n",
    "    def layer_norm(x: jnp.ndarray, scale: jnp.ndarray, bias: jnp.ndarray, eps: float = 1e-6) -> jnp.ndarray:\n",
    "        \"\"\"Layer normalization\"\"\"\n",
    "        mean = jnp.mean(x, axis=-1, keepdims=True)\n",
    "        var = jnp.var(x, axis=-1, keepdims=True)\n",
    "        return scale * (x - mean) / jnp.sqrt(var + eps) + bias\n",
    "    \n",
    "    @staticmethod\n",
    "    def batch_norm(x: jnp.ndarray, scale: jnp.ndarray, bias: jnp.ndarray, \n",
    "                   running_mean: jnp.ndarray, running_var: jnp.ndarray,\n",
    "                   momentum: float = 0.9, eps: float = 1e-5, training: bool = True) -> Tuple[jnp.ndarray, jnp.ndarray, jnp.ndarray]:\n",
    "        \"\"\"Batch normalization\"\"\"\n",
    "        if training:\n",
    "            # Compute batch statistics\n",
    "            mean = jnp.mean(x, axis=(0, 1), keepdims=True)\n",
    "            var = jnp.var(x, axis=(0, 1), keepdims=True)\n",
    "            \n",
    "            # Update running statistics\n",
    "            new_running_mean = momentum * running_mean + (1 - momentum) * mean\n",
    "            new_running_var = momentum * running_var + (1 - momentum) * var\n",
    "        else:\n",
    "            # Use running statistics\n",
    "            mean = running_mean\n",
    "            var = running_var\n",
    "            new_running_mean = running_mean\n",
    "            new_running_var = running_var\n",
    "        \n",
    "        # Normalize\n",
    "        normalized = (x - mean) / jnp.sqrt(var + eps)\n",
    "        scaled = scale * normalized + bias\n",
    "        \n",
    "        return scaled, new_running_mean.squeeze(), new_running_var.squeeze()\n",
    "    \n",
    "    @staticmethod\n",
    "    def gelu(x: jnp.ndarray) -> jnp.ndarray:\n",
    "        \"\"\"GELU activation function\"\"\"\n",
    "        return 0.5 * x * (1 + jnp.tanh(jnp.sqrt(2 / jnp.pi) * (x + 0.044715 * x**3)))\n",
    "    \n",
    "    @staticmethod\n",
    "    def dropout(key: jnp.ndarray, x: jnp.ndarray, rate: float) -> jnp.ndarray:\n",
    "        \"\"\"Apply dropout\"\"\"\n",
    "        if rate == 0.0:\n",
    "            return x\n",
    "        keep_prob = 1.0 - rate\n",
    "        mask = random.bernoulli(key, keep_prob, x.shape)\n",
    "        return x * mask / keep_prob\n",
    "\n",
    "\n",
    "# ===============================\n",
    "# 5. ENHANCED TRANSFORMER BLOCKS\n",
    "# ===============================\n",
    "class EnhancedTransformerBlocks:\n",
    "    \"\"\"Transformer blocks with advanced regularization\"\"\"\n",
    "    \n",
    "    def __init__(self, config: ViTConfig):\n",
    "        self.config = config\n",
    "        self.layers = EnhancedModelLayers()\n",
    "    \n",
    "    def multi_head_attention(\n",
    "        self, \n",
    "        x: jnp.ndarray, \n",
    "        params: Dict, \n",
    "        key: jnp.ndarray, \n",
    "        training: bool = True\n",
    "    ) -> jnp.ndarray:\n",
    "        \"\"\"Enhanced multi-head self-attention with stronger dropout\"\"\"\n",
    "        batch_size, seq_len, hidden_dim = x.shape\n",
    "        head_dim = hidden_dim // self.config.num_heads\n",
    "        \n",
    "        # Project queries, keys, and values\n",
    "        qkv = self.layers.linear(x, params['qkv_w'], params['qkv_b'])\n",
    "        qkv = qkv.reshape(batch_size, seq_len, 3, self.config.num_heads, head_dim)\n",
    "        qkv = jnp.transpose(qkv, (2, 0, 3, 1, 4))\n",
    "        q, k, v = qkv[0], qkv[1], qkv[2]\n",
    "        \n",
    "        # Scaled dot-product attention\n",
    "        scale = jnp.sqrt(head_dim)\n",
    "        attention_scores = jnp.matmul(q, jnp.swapaxes(k, -2, -1)) / scale\n",
    "        attention_probs = jax.nn.softmax(attention_scores)\n",
    "        \n",
    "        # Apply stronger attention dropout\n",
    "        if training and self.config.attention_dropout_rate > 0:\n",
    "            attention_key = random.split(key, num=1)[0]\n",
    "            attention_probs = self.layers.dropout(attention_key, attention_probs, self.config.attention_dropout_rate)\n",
    "        \n",
    "        context = jnp.matmul(attention_probs, v)\n",
    "        context = jnp.transpose(context, (0, 2, 1, 3))\n",
    "        context = context.reshape(batch_size, seq_len, hidden_dim)\n",
    "        \n",
    "        # Output projection with separate dropout\n",
    "        output = self.layers.linear(context, params['out_w'], params['out_b'])\n",
    "        \n",
    "        if training and self.config.projection_dropout_rate > 0:\n",
    "            output_key = random.split(key, num=1)[0]\n",
    "            output = self.layers.dropout(output_key, output, self.config.projection_dropout_rate)\n",
    "        \n",
    "        return output\n",
    "    \n",
    "    def mlp_block(\n",
    "        self, \n",
    "        x: jnp.ndarray, \n",
    "        params: Dict, \n",
    "        key: jnp.ndarray, \n",
    "        training: bool = True\n",
    "    ) -> jnp.ndarray:\n",
    "        \"\"\"Enhanced MLP block with better regularization\"\"\"\n",
    "        # First dense layer\n",
    "        x = self.layers.linear(x, params['mlp1_w'], params['mlp1_b'])\n",
    "        x = self.layers.gelu(x)\n",
    "        \n",
    "        # Dropout after first layer\n",
    "        if training and self.config.dropout_rate > 0:\n",
    "            mlp1_key = random.split(key, num=1)[0]\n",
    "            x = self.layers.dropout(mlp1_key, x, self.config.dropout_rate)\n",
    "        \n",
    "        # Second dense layer\n",
    "        x = self.layers.linear(x, params['mlp2_w'], params['mlp2_b'])\n",
    "        \n",
    "        # Dropout after second layer\n",
    "        if training and self.config.dropout_rate > 0:\n",
    "            mlp2_key = random.split(key, num=1)[0]\n",
    "            x = self.layers.dropout(mlp2_key, x, self.config.dropout_rate)\n",
    "        \n",
    "        return x\n",
    "    \n",
    "    def encoder_block(\n",
    "        self, \n",
    "        x: jnp.ndarray, \n",
    "        params: Dict, \n",
    "        key: jnp.ndarray, \n",
    "        layer_id: int,\n",
    "        training: bool = True\n",
    "    ) -> jnp.ndarray:\n",
    "        \"\"\"Enhanced encoder block with improved regularization\"\"\"\n",
    "        \n",
    "        # Pre-normalization architecture\n",
    "        norm1 = self.layers.layer_norm(x, params['ln1_scale'], params['ln1_bias'])\n",
    "        \n",
    "        # Multi-head attention with residual\n",
    "        key, attn_key = random.split(key)\n",
    "        attn_output = self.multi_head_attention(norm1, params, attn_key, training)\n",
    "        x = x + attn_output\n",
    "        \n",
    "        # Apply stateless batch norm if enabled\n",
    "        if self.config.use_batch_norm and 'bn1_scale' in params:\n",
    "            mean = jnp.mean(x, axis=(0,), keepdims=True)\n",
    "            var = jnp.var(x, axis=(0,), keepdims=True)\n",
    "            normalized = (x - mean) / jnp.sqrt(var + self.config.bn_eps)\n",
    "            x = params['bn1_scale'] * normalized + params['bn1_bias']\n",
    "        \n",
    "        # Second normalization\n",
    "        norm2 = self.layers.layer_norm(x, params['ln2_scale'], params['ln2_bias'])\n",
    "        \n",
    "        # MLP block with residual\n",
    "        key, mlp_key = random.split(key)\n",
    "        mlp_output = self.mlp_block(norm2, params, mlp_key, training)\n",
    "        x = x + mlp_output\n",
    "        \n",
    "        # Apply stateless batch norm if enabled\n",
    "        if self.config.use_batch_norm and 'bn2_scale' in params:\n",
    "            mean = jnp.mean(x, axis=(0,), keepdims=True)\n",
    "            var = jnp.var(x, axis=(0,), keepdims=True)\n",
    "            normalized = (x - mean) / jnp.sqrt(var + self.config.bn_eps)\n",
    "            x = params['bn2_scale'] * normalized + params['bn2_bias']\n",
    "        \n",
    "        # DropPath (Stochastic Depth) - Fixed implementation\n",
    "        if training and self.config.path_dropout_rate > 0:\n",
    "            # Calculate survival probability\n",
    "            survival_prob = 1.0 - self.config.path_dropout_rate * (layer_id / self.config.num_layers)\n",
    "            \n",
    "            # Path dropout decision\n",
    "            key, path_key = random.split(key)\n",
    "            keep_prob = random.bernoulli(path_key, survival_prob)\n",
    "            \n",
    "            # Apply DropPath using jnp.where (JAX-compatible)\n",
    "            # If keep_prob is False, return the input unchanged; otherwise return the transformed output\n",
    "            x = jnp.where(keep_prob, x, x - (x - x))  # This effectively returns x when keep_prob is False\n",
    "            \n",
    "            # Better approach: scale the output by survival probability\n",
    "            x = x / survival_prob * jnp.where(keep_prob, 1.0, survival_prob)\n",
    "        \n",
    "        return x\n",
    "\n",
    "\n",
    "# ==============================\n",
    "# 6. ENHANCED VISION TRANSFORMER\n",
    "# ==============================\n",
    "class EnhancedVisionTransformer:\n",
    "    \"\"\"Enhanced Vision Transformer with comprehensive regularization\"\"\"\n",
    "    \n",
    "    def __init__(self, config: ViTConfig):\n",
    "        self.config = config\n",
    "        self.layers = EnhancedModelLayers()\n",
    "        self.transformer = EnhancedTransformerBlocks(config)\n",
    "        self.augmenter = DataAugmentation(config)\n",
    "    \n",
    "    def __call__(\n",
    "        self, \n",
    "        params: Dict,\n",
    "        images: jnp.ndarray, \n",
    "        key: jnp.ndarray, \n",
    "        training: bool = True,\n",
    "        return_features: bool = False\n",
    "    ) -> Any:\n",
    "        \"\"\"Enhanced forward pass with data augmentation\"\"\"\n",
    "        batch_size, height, width, channels = images.shape\n",
    "        \n",
    "        # Reshape images into patches\n",
    "        patches = jnp.reshape(\n",
    "            images, \n",
    "            (batch_size, height // self.config.patch_size, self.config.patch_size, \n",
    "             width // self.config.patch_size, self.config.patch_size, channels)\n",
    "        )\n",
    "        patches = jnp.transpose(patches, (0, 1, 3, 2, 4, 5))\n",
    "        patches = jnp.reshape(\n",
    "            patches, \n",
    "            (batch_size, self.config.num_patches, self.config.patch_size * self.config.patch_size * channels)\n",
    "        )\n",
    "        \n",
    "        # Linear projection with dropout\n",
    "        patch_embeddings = self.layers.linear(\n",
    "            patches, \n",
    "            params['patch_projection_w'], \n",
    "            params['patch_projection_b']\n",
    "        )\n",
    "        \n",
    "        if training and self.config.projection_dropout_rate > 0:\n",
    "            key, proj_key = random.split(key)\n",
    "            patch_embeddings = self.layers.dropout(proj_key, patch_embeddings, self.config.projection_dropout_rate)\n",
    "        \n",
    "        # Add class token\n",
    "        cls_tokens = jnp.broadcast_to(\n",
    "            params['cls_token'], \n",
    "            (batch_size, 1, self.config.hidden_dim)\n",
    "        )\n",
    "        x = jnp.concatenate([cls_tokens, patch_embeddings], axis=1)\n",
    "        \n",
    "        # Add position embeddings\n",
    "        x = x + params['pos_embedding']\n",
    "        \n",
    "        # Embedding dropout\n",
    "        if training and self.config.dropout_rate > 0:\n",
    "            key, embed_key = random.split(key)\n",
    "            x = self.layers.dropout(embed_key, x, self.config.dropout_rate)\n",
    "        \n",
    "        # Apply transformer encoder blocks\n",
    "        for i, block_params in enumerate(params['encoder_blocks']):\n",
    "            key, block_key = random.split(key)\n",
    "            x = self.transformer.encoder_block(x, block_params, block_key, i, training)\n",
    "        \n",
    "        # Final layer norm\n",
    "        x = self.layers.layer_norm(x, params['ln_final_scale'], params['ln_final_bias'])\n",
    "        \n",
    "        # Use [CLS] token representation\n",
    "        cls_representation = x[:, 0]\n",
    "        \n",
    "        # Pre-head dropout\n",
    "        if training and self.config.dropout_rate > 0:\n",
    "            key, head_key = random.split(key)\n",
    "            cls_representation = self.layers.dropout(head_key, cls_representation, self.config.dropout_rate)\n",
    "        \n",
    "        # Classification head\n",
    "        logits = self.layers.linear(cls_representation, params['head_w'], params['head_b'])\n",
    "        \n",
    "        if return_features:\n",
    "            return logits, cls_representation\n",
    "        else:\n",
    "            return logits\n",
    "\n",
    "\n",
    "# ==============================\n",
    "# 7. ENHANCED PARAMETER INITIALIZATION\n",
    "# ==============================\n",
    "class EnhancedParameterInitializer:\n",
    "    \"\"\"Enhanced parameter initialization with batch norm parameters\"\"\"\n",
    "    \n",
    "    def __init__(self, config: ViTConfig):\n",
    "        self.config = config\n",
    "        self.device = jax.devices()[0]\n",
    "    \n",
    "    def init_transformer_params(self, key: jnp.ndarray) -> Dict:\n",
    "        \"\"\"Initialize all enhanced transformer parameters\"\"\"\n",
    "        keys_needed = self.config.num_layers * (6 if self.config.use_batch_norm else 4) + 5\n",
    "        keys = random.split(key, num=keys_needed)\n",
    "        key_idx = 0\n",
    "        \n",
    "        # Projection layer\n",
    "        patch_projection_w, patch_projection_b = self.init_linear_params(\n",
    "            keys[key_idx], \n",
    "            self.config.patch_size * self.config.patch_size * 3, \n",
    "            self.config.hidden_dim\n",
    "        )\n",
    "        key_idx += 1\n",
    "        \n",
    "        # Class token and position embeddings with proper scaling\n",
    "        cls_token = random.normal(keys[key_idx], (1, self.config.hidden_dim)) * (self.config.hidden_dim ** -0.5)\n",
    "        key_idx += 1\n",
    "        pos_embedding = random.normal(\n",
    "            keys[key_idx], \n",
    "            (1, self.config.num_patches + 1, self.config.hidden_dim)\n",
    "        ) * (self.config.hidden_dim ** -0.5)\n",
    "        key_idx += 1\n",
    "        \n",
    "        # Initialize transformer blocks\n",
    "        encoder_blocks = []\n",
    "        for _ in range(self.config.num_layers):\n",
    "            block_size = 6 if self.config.use_batch_norm else 4\n",
    "            block = self._init_transformer_block(keys[key_idx:key_idx+block_size])\n",
    "            encoder_blocks.append(block)\n",
    "            key_idx += block_size\n",
    "        \n",
    "        # Final layer norm and classification head\n",
    "        ln_final_scale, ln_final_bias = self.init_layer_norm_params(self.config.hidden_dim)\n",
    "        head_w, head_b = self.init_linear_params(keys[key_idx], self.config.hidden_dim, self.config.num_classes)\n",
    "        \n",
    "        # Use Xavier initialization for final layer\n",
    "        head_w = head_w * jnp.sqrt(2.0 / self.config.hidden_dim)\n",
    "        \n",
    "        params = {\n",
    "            'patch_projection_w': patch_projection_w,\n",
    "            'patch_projection_b': patch_projection_b,\n",
    "            'cls_token': cls_token,\n",
    "            'pos_embedding': pos_embedding,\n",
    "            'encoder_blocks': encoder_blocks,\n",
    "            'ln_final_scale': ln_final_scale,\n",
    "            'ln_final_bias': ln_final_bias,\n",
    "            'head_w': head_w,\n",
    "            'head_b': head_b,\n",
    "        }\n",
    "        \n",
    "        return jax.tree_util.tree_map(lambda x: jax.device_put(x, self.device), params)\n",
    "    \n",
    "    def _init_transformer_block(self, keys: List[jnp.ndarray]) -> Dict:\n",
    "        \"\"\"Initialize a single enhanced transformer block\"\"\"\n",
    "        block_params = {}\n",
    "        key_idx = 0\n",
    "        \n",
    "        # Layer norm 1\n",
    "        block_params['ln1_scale'], block_params['ln1_bias'] = self.init_layer_norm_params(self.config.hidden_dim)\n",
    "        \n",
    "        # Multi-head attention with proper scaling\n",
    "        qkv_w, qkv_b = self.init_linear_params(keys[key_idx], self.config.hidden_dim, 3 * self.config.hidden_dim)\n",
    "        qkv_w = qkv_w * (self.config.hidden_dim ** -0.5)  # Proper attention weight scaling\n",
    "        key_idx += 1\n",
    "        \n",
    "        out_w, out_b = self.init_linear_params(keys[key_idx], self.config.hidden_dim, self.config.hidden_dim)\n",
    "        key_idx += 1\n",
    "        \n",
    "        block_params.update({\n",
    "            'qkv_w': qkv_w,\n",
    "            'qkv_b': qkv_b,\n",
    "            'out_w': out_w,\n",
    "            'out_b': out_b,\n",
    "        })\n",
    "        \n",
    "        # Batch norm after attention\n",
    "        if self.config.use_batch_norm:\n",
    "            block_params['bn1_scale'], block_params['bn1_bias'] = self.init_batch_norm_params(self.config.hidden_dim)\n",
    "            block_params['bn1_running_mean'] = jnp.zeros(self.config.hidden_dim)\n",
    "            block_params['bn1_running_var'] = jnp.ones(self.config.hidden_dim)\n",
    "        \n",
    "        # Layer norm 2\n",
    "        block_params['ln2_scale'], block_params['ln2_bias'] = self.init_layer_norm_params(self.config.hidden_dim)\n",
    "        \n",
    "        # MLP with He initialization\n",
    "        mlp1_w, mlp1_b = self.init_linear_params(keys[key_idx], self.config.hidden_dim, self.config.mlp_dim)\n",
    "        mlp1_w = mlp1_w * jnp.sqrt(2.0 / self.config.hidden_dim)  # He initialization for GELU\n",
    "        key_idx += 1\n",
    "        \n",
    "        mlp2_w, mlp2_b = self.init_linear_params(keys[key_idx], self.config.mlp_dim, self.config.hidden_dim)\n",
    "        key_idx += 1\n",
    "        \n",
    "        block_params.update({\n",
    "            'mlp1_w': mlp1_w,\n",
    "            'mlp1_b': mlp1_b,\n",
    "            'mlp2_w': mlp2_w,\n",
    "            'mlp2_b': mlp2_b,\n",
    "        })\n",
    "        \n",
    "        # Batch norm after MLP\n",
    "        if self.config.use_batch_norm:\n",
    "            block_params['bn2_scale'], block_params['bn2_bias'] = self.init_batch_norm_params(self.config.hidden_dim)\n",
    "            block_params['bn2_running_mean'] = jnp.zeros(self.config.hidden_dim)\n",
    "            block_params['bn2_running_var'] = jnp.ones(self.config.hidden_dim)\n",
    "        \n",
    "        return block_params\n",
    "    \n",
    "    def init_linear_params(self, key: jnp.ndarray, in_dim: int, out_dim: int) -> Tuple[jnp.ndarray, jnp.ndarray]:\n",
    "        \"\"\"Initialize linear layer parameters with Xavier initialization\"\"\"\n",
    "        k1, k2 = random.split(key)\n",
    "        scale = jnp.sqrt(2.0 / (in_dim + out_dim))\n",
    "        weight = random.normal(k1, (in_dim, out_dim)) * scale\n",
    "        bias = jnp.zeros((out_dim,))\n",
    "        return weight, bias\n",
    "    \n",
    "    def init_layer_norm_params(self, dim: int) -> Tuple[jnp.ndarray, jnp.ndarray]:\n",
    "        \"\"\"Initialize layer normalization parameters\"\"\"\n",
    "        scale = jnp.ones((dim,))\n",
    "        bias = jnp.zeros((dim,))\n",
    "        return scale, bias\n",
    "    \n",
    "    def init_batch_norm_params(self, dim: int) -> Tuple[jnp.ndarray, jnp.ndarray]:\n",
    "        \"\"\"Initialize batch normalization parameters\"\"\"\n",
    "        scale = jnp.ones((dim,))\n",
    "        bias = jnp.zeros((dim,))\n",
    "        return scale, bias\n",
    "\n",
    "\n",
    "# ==============================\n",
    "# 8. EXPONENTIAL MOVING AVERAGE\n",
    "# ==============================\n",
    "class ExponentialMovingAverage:\n",
    "    \"\"\"Exponential Moving Average for model parameters\"\"\"\n",
    "    \n",
    "    def __init__(self, decay: float = 0.9999):\n",
    "        self.decay = decay\n",
    "        self.ema_params = None\n",
    "    \n",
    "    def init(self, params: Dict) -> None:\n",
    "        \"\"\"Initialize EMA parameters\"\"\"\n",
    "        self.ema_params = jax.tree_util.tree_map(lambda x: x.copy(), params)\n",
    "    \n",
    "    def update(self, params: Dict) -> None:\n",
    "        \"\"\"Update EMA parameters\"\"\"\n",
    "        if self.ema_params is None:\n",
    "            self.init(params)\n",
    "        else:\n",
    "            def update_param(ema_param, param):\n",
    "                return self.decay * ema_param + (1 - self.decay) * param\n",
    "            \n",
    "            self.ema_params = jax.tree_util.tree_map(update_param, self.ema_params, params)\n",
    "    \n",
    "    def get_params(self) -> Dict:\n",
    "        \"\"\"Get EMA parameters\"\"\"\n",
    "        return self.ema_params\n",
    "\n",
    "\n",
    "# ==============================\n",
    "# 9. LABEL SMOOTHING LOSS\n",
    "# ==============================\n",
    "class LabelSmoothingCrossEntropy:\n",
    "    \"\"\"Cross-entropy loss with label smoothing\"\"\"\n",
    "    \n",
    "    def __init__(self, smoothing: float = 0.1):\n",
    "        self.smoothing = smoothing\n",
    "    \n",
    "    def __call__(self, logits: jnp.ndarray, labels: jnp.ndarray) -> float:\n",
    "        \"\"\"Compute label smoothing cross-entropy loss\"\"\"\n",
    "        num_classes = logits.shape[-1]\n",
    "        \n",
    "        # One-hot encode labels\n",
    "        one_hot_labels = jax.nn.one_hot(labels, num_classes)\n",
    "        \n",
    "        # Apply label smoothing\n",
    "        smoothed_labels = one_hot_labels * (1 - self.smoothing) + self.smoothing / num_classes\n",
    "        \n",
    "        # Compute loss\n",
    "        log_probs = jax.nn.log_softmax(logits)\n",
    "        loss = -jnp.sum(smoothed_labels * log_probs) / labels.shape[0]\n",
    "        \n",
    "        return loss\n",
    "\n",
    "\n",
    "# ==============================\n",
    "# 10. ENHANCED OPTIMIZER & SCHEDULER (from original)\n",
    "# ==============================\n",
    "class AdamWOptimizer:\n",
    "    \"\"\"AdamW optimizer implementation\"\"\"\n",
    "    \n",
    "    def __init__(self, config: ViTConfig):\n",
    "        self.config = config\n",
    "        \n",
    "    def init_state(self, params: Dict) -> Dict:\n",
    "        \"\"\"Initialize optimizer state\"\"\"\n",
    "        # Initialize first and second moments to zeros\n",
    "        m = jax.tree_util.tree_map(jnp.zeros_like, params)\n",
    "        v = jax.tree_util.tree_map(jnp.zeros_like, params)\n",
    "        \n",
    "        return {\n",
    "            'm': m,\n",
    "            'v': v,\n",
    "            't': 0,\n",
    "        }\n",
    "    \n",
    "    def update(\n",
    "        self, \n",
    "        grads: Dict, \n",
    "        opt_state: Dict, \n",
    "        params: Dict, \n",
    "        learning_rate: float\n",
    "    ) -> Tuple[Dict, Dict]:\n",
    "        \"\"\"Apply AdamW update step\"\"\"\n",
    "        # Extract optimizer state\n",
    "        m, v, t = opt_state['m'], opt_state['v'], opt_state['t']\n",
    "        \n",
    "        # Increment step\n",
    "        t = t + 1\n",
    "        \n",
    "        # Compute bias correction terms\n",
    "        bias_correction1 = 1 - self.config.beta1 ** t\n",
    "        bias_correction2 = 1 - self.config.beta2 ** t\n",
    "        \n",
    "        # Define update function for a single parameter pair\n",
    "        def update_momentum(m_param, grad):\n",
    "            return self.config.beta1 * m_param + (1 - self.config.beta1) * grad\n",
    "        \n",
    "        def update_velocity(v_param, grad):\n",
    "            return self.config.beta2 * v_param + (1 - self.config.beta2) * jnp.square(grad)\n",
    "        \n",
    "        def update_param(param, m_param, v_param):\n",
    "            # Compute bias-corrected moment estimates\n",
    "            m_hat = m_param / bias_correction1\n",
    "            v_hat = v_param / bias_correction2\n",
    "            \n",
    "            # Apply weight decay\n",
    "            param_with_decay = param - learning_rate * self.config.weight_decay * param\n",
    "            \n",
    "            # Update parameter\n",
    "            return param_with_decay - learning_rate * m_hat / (jnp.sqrt(v_hat) + self.config.eps)\n",
    "        \n",
    "        # Update momentum terms\n",
    "        new_m = jax.tree_util.tree_map(update_momentum, m, grads)\n",
    "        \n",
    "        # Update velocity terms  \n",
    "        new_v = jax.tree_util.tree_map(update_velocity, v, grads)\n",
    "        \n",
    "        # Update parameters\n",
    "        new_params = jax.tree_util.tree_map(update_param, params, new_m, new_v)\n",
    "        \n",
    "        # Update optimizer state\n",
    "        new_opt_state = {\n",
    "            'm': new_m,\n",
    "            'v': new_v,\n",
    "            't': t,\n",
    "        }\n",
    "        \n",
    "        return new_params, new_opt_state\n",
    "\n",
    "\n",
    "class LearningRateScheduler:\n",
    "    \"\"\"Learning rate scheduler with warmup and cosine decay\"\"\"\n",
    "    \n",
    "    def __init__(self, config: ViTConfig, total_steps: int):\n",
    "        self.config = config\n",
    "        self.total_steps = total_steps\n",
    "        self.warmup_steps = config.warmup_steps\n",
    "        self.peak_lr = config.learning_rate\n",
    "        self.end_lr = 0.0\n",
    "        \n",
    "    def __call__(self, step: int) -> float:\n",
    "        \"\"\"Get learning rate for the current step\"\"\"\n",
    "        # Linear warmup\n",
    "        warmup_lr = self.peak_lr * jnp.minimum(1.0, step / self.warmup_steps)\n",
    "        \n",
    "        # Cosine decay\n",
    "        decay_steps = self.total_steps - self.warmup_steps\n",
    "        decay_factor = 0.5 * (1 + jnp.cos(\n",
    "            jnp.pi * jnp.minimum(step - self.warmup_steps, decay_steps) / decay_steps\n",
    "        ))\n",
    "        cosine_lr = self.end_lr + (self.peak_lr - self.end_lr) * decay_factor\n",
    "        \n",
    "        # Use warmup for steps < warmup_steps, cosine decay afterward\n",
    "        lr = jnp.where(step < self.warmup_steps, warmup_lr, cosine_lr)\n",
    "        \n",
    "        return lr\n",
    "\n",
    "\n",
    "# class LearningRateScheduler:\n",
    "#     \"\"\"Learning rate scheduler with warmup and logarithmic decay\"\"\"\n",
    "    \n",
    "#     def __init__(self, config, total_steps: int):\n",
    "#         self.config = config\n",
    "#         self.total_steps = total_steps\n",
    "#         self.warmup_steps = config.warmup_steps\n",
    "#         self.peak_lr = config.learning_rate\n",
    "#         self.epsilon = 1e-8  # To avoid division by log(0)\n",
    "\n",
    "#     def __call__(self, step: int) -> float:\n",
    "#         \"\"\"Get learning rate for the current step\"\"\"\n",
    "#         # Linear warmup\n",
    "#         warmup_lr = self.peak_lr * jnp.minimum(1.0, step / self.warmup_steps)\n",
    "\n",
    "#         # Logarithmic decay\n",
    "#         decay_step = jnp.maximum(step - self.warmup_steps, 1)  # Ensure > 0 for log\n",
    "#         decay_steps = jnp.maximum(self.total_steps - self.warmup_steps, 1)\n",
    "#         log_lr = self.peak_lr / (1.0 + jnp.log1p(decay_step))  # log1p = log(1 + x)\n",
    "\n",
    "#         # Use warmup for steps < warmup_steps, log decay afterward\n",
    "#         lr = jnp.where(step < self.warmup_steps, warmup_lr, log_lr)\n",
    "\n",
    "#         return lr\n",
    "\n",
    "\n",
    "# class LearningRateScheduler:\n",
    "#     \"\"\"Learning rate scheduler with warmup and step decay\"\"\"\n",
    "    \n",
    "#     def __init__(self, config, total_steps: int):\n",
    "#         self.config = config\n",
    "#         self.total_steps = total_steps\n",
    "#         self.warmup_steps = config.warmup_steps\n",
    "#         self.peak_lr = config.learning_rate\n",
    "#         self.drop_rate = getattr(config, \"drop_rate\", 0.5)         # Default: halve the LR each drop\n",
    "#         self.drop_every = getattr(config, \"drop_every\", 1000)      # Default: drop every 1000 steps\n",
    "\n",
    "#     def __call__(self, step: int) -> float:\n",
    "#         \"\"\"Get learning rate for the current step\"\"\"\n",
    "#         # Linear warmup\n",
    "#         warmup_lr = self.peak_lr * jnp.minimum(1.0, step / self.warmup_steps)\n",
    "\n",
    "#         # Step decay\n",
    "#         step_after_warmup = jnp.maximum(step - self.warmup_steps, 0)\n",
    "#         num_drops = jnp.floor(step_after_warmup / self.drop_every)\n",
    "#         step_lr = self.peak_lr * (self.drop_rate ** num_drops)\n",
    "\n",
    "#         # Use warmup for steps < warmup_steps, step decay afterward\n",
    "#         lr = jnp.where(step < self.warmup_steps, warmup_lr, step_lr)\n",
    "\n",
    "#         return lr\n",
    "\n",
    "\n",
    "\n",
    "\n",
    "# ==============================\n",
    "# 11. DATA LOADER (from original)\n",
    "# ==============================\n",
    "class DataLoader:\n",
    "    \"\"\"Handles data loading for CIFAR-10\"\"\"\n",
    "    \n",
    "    CIFAR10_CLASSES = ['airplane', 'automobile', 'bird', 'cat', 'deer', \n",
    "                       'dog', 'frog', 'horse', 'ship', 'truck']\n",
    "    \n",
    "    def __init__(self, data_dir: str = \"cifar10_data\"):\n",
    "        self.data_dir = data_dir\n",
    "        self.url = \"https://www.cs.toronto.edu/~kriz/cifar-10-python.tar.gz\"\n",
    "        \n",
    "    def load_datasets(self) -> Tuple[np.ndarray, np.ndarray, np.ndarray, np.ndarray]:\n",
    "        \"\"\"Load CIFAR-10 dataset\"\"\"\n",
    "        # Create data directory\n",
    "        os.makedirs(self.data_dir, exist_ok=True)\n",
    "        \n",
    "        # Download if necessary\n",
    "        tar_file_path = os.path.join(self.data_dir, \"cifar-10-python.tar.gz\")\n",
    "        if not os.path.exists(tar_file_path):\n",
    "            print(f\"Downloading CIFAR-10 dataset from {self.url}\")\n",
    "            self._download_dataset(tar_file_path)\n",
    "        \n",
    "        # Extract if necessary\n",
    "        extract_dir = os.path.join(self.data_dir, \"cifar-10-batches-py\")\n",
    "        if not os.path.exists(extract_dir):\n",
    "            print(f\"Extracting dataset to {extract_dir}\")\n",
    "            self._extract_dataset(tar_file_path, self.data_dir)\n",
    "        \n",
    "        # Load training and test data\n",
    "        train_data, train_labels = self._load_training_data(extract_dir)\n",
    "        test_data, test_labels = self._load_test_data(extract_dir)\n",
    "        \n",
    "        # Preprocess data\n",
    "        train_data = self._preprocess_data(train_data)\n",
    "        test_data = self._preprocess_data(test_data)\n",
    "        \n",
    "        print(f\"Loaded {len(train_data)} training samples and {len(test_data)} test samples\")\n",
    "        \n",
    "        return train_data, train_labels, test_data, test_labels\n",
    "    \n",
    "    def _download_dataset(self, file_path: str):\n",
    "        \"\"\"Download CIFAR-10 dataset\"\"\"\n",
    "        urllib.request.urlretrieve(self.url, file_path)\n",
    "        print(f\"Dataset downloaded to {file_path}\")\n",
    "    \n",
    "    def _extract_dataset(self, tar_file_path: str, extract_to: str):\n",
    "        \"\"\"Extract CIFAR-10 dataset\"\"\"\n",
    "        with tarfile.open(tar_file_path, 'r:gz') as tar:\n",
    "            tar.extractall(path=extract_to)\n",
    "        print(\"Dataset extracted\")\n",
    "    \n",
    "    def _load_training_data(self, extract_dir: str) -> Tuple[np.ndarray, np.ndarray]:\n",
    "        \"\"\"Load training data from multiple batch files\"\"\"\n",
    "        train_data = []\n",
    "        train_labels = []\n",
    "        \n",
    "        # Load training batches\n",
    "        for i in range(1, 6):\n",
    "            batch_file = os.path.join(extract_dir, f'data_batch_{i}')\n",
    "            with open(batch_file, 'rb') as f:\n",
    "                batch_data = pickle.load(f, encoding='bytes')\n",
    "                train_data.append(batch_data[b'data'])\n",
    "                train_labels.extend(batch_data[b'labels'])\n",
    "        \n",
    "        # Concatenate all training data\n",
    "        train_data = np.vstack(train_data)\n",
    "        train_labels = np.array(train_labels)\n",
    "        \n",
    "        return train_data, train_labels\n",
    "    \n",
    "    def _load_test_data(self, extract_dir: str) -> Tuple[np.ndarray, np.ndarray]:\n",
    "        \"\"\"Load test data\"\"\"\n",
    "        test_file = os.path.join(extract_dir, 'test_batch')\n",
    "        with open(test_file, 'rb') as f:\n",
    "            test_batch = pickle.load(f, encoding='bytes')\n",
    "            test_data = test_batch[b'data']\n",
    "            test_labels = np.array(test_batch[b'labels'])\n",
    "        \n",
    "        return test_data, test_labels\n",
    "    \n",
    "    def _preprocess_data(self, data: np.ndarray) -> np.ndarray:\n",
    "        \"\"\"Preprocess CIFAR-10 data\"\"\"\n",
    "        # Reshape and normalize the data\n",
    "        # CIFAR-10 data layout: [N, 3072] where 3072 = 3 x 32 x 32\n",
    "        # We reshape to [N, 32, 32, 3] for image processing\n",
    "        data = data.reshape(-1, 3, 32, 32)\n",
    "        data = data.transpose(0, 2, 3, 1)\n",
    "        data = data.astype(np.float32) / 255.0\n",
    "        \n",
    "        return data\n",
    "\n",
    "\n",
    "# ==============================\n",
    "# 12. VISUALIZER (from original)\n",
    "# ==============================\n",
    "class Visualizer:\n",
    "    \"\"\"Handles all visualization tasks\"\"\"\n",
    "    \n",
    "    def __init__(self, results_dir: str):\n",
    "        self.results_dir = results_dir\n",
    "        self.cifar10_classes = ['airplane', 'automobile', 'bird', 'cat', 'deer', \n",
    "                               'dog', 'frog', 'horse', 'ship', 'truck']\n",
    "    \n",
    "    def plot_training_metrics(self, state: TrainingState):\n",
    "        \"\"\"Plot training and validation metrics over epochs\"\"\"\n",
    "        epochs = range(1, len(state.train_losses) + 1)\n",
    "        \n",
    "        fig, (ax1, ax2) = plt.subplots(1, 2, figsize=(12, 5))\n",
    "        \n",
    "        # Loss plot\n",
    "        ax1.plot(epochs, state.train_losses, 'b-', label='Training Loss')\n",
    "        ax1.plot(epochs, state.eval_losses, 'r-', label='Validation Loss')\n",
    "        ax1.set_title('Training and Validation Loss')\n",
    "        ax1.set_xlabel('Epochs')\n",
    "        ax1.set_ylabel('Loss')\n",
    "        ax1.legend()\n",
    "        ax1.grid(True)\n",
    "        \n",
    "        # Accuracy plot\n",
    "        ax2.plot(epochs, state.train_accs, 'b-', label='Training Accuracy')\n",
    "        ax2.plot(epochs, state.eval_accs, 'r-', label='Validation Accuracy')\n",
    "        ax2.set_title('Training and Validation Accuracy')\n",
    "        ax2.set_xlabel('Epochs')\n",
    "        ax2.set_ylabel('Accuracy')\n",
    "        ax2.legend()\n",
    "        ax2.grid(True)\n",
    "        \n",
    "        plt.tight_layout()\n",
    "        plt.savefig(os.path.join(self.results_dir, 'training_metrics.png'), dpi=300, bbox_inches='tight')\n",
    "        plt.close()\n",
    "    \n",
    "    def plot_learning_rate_schedule(self, lr_scheduler, total_steps: int):\n",
    "        \"\"\"Plot the learning rate schedule\"\"\"\n",
    "        steps = range(total_steps)\n",
    "        lrs = [float(lr_scheduler(step)) for step in steps]\n",
    "        \n",
    "        plt.figure(figsize=(10, 6))\n",
    "        plt.plot(steps, lrs)\n",
    "        plt.title('Learning Rate Schedule')\n",
    "        plt.xlabel('Step')\n",
    "        plt.ylabel('Learning Rate')\n",
    "        plt.grid(True)\n",
    "        plt.savefig(os.path.join(self.results_dir, 'lr_schedule.png'), dpi=300, bbox_inches='tight')\n",
    "        plt.close()\n",
    "    \n",
    "    def plot_confusion_matrix(self, cm: np.ndarray):\n",
    "        \"\"\"Plot confusion matrix\"\"\"\n",
    "        plt.figure(figsize=(10, 8))\n",
    "        sns.heatmap(cm, annot=True, fmt='d', cmap='Blues', \n",
    "                    xticklabels=self.cifar10_classes, \n",
    "                    yticklabels=self.cifar10_classes)\n",
    "        plt.xlabel('Predicted')\n",
    "        plt.ylabel('True')\n",
    "        plt.title('Confusion Matrix')\n",
    "        plt.tight_layout()\n",
    "        plt.savefig(os.path.join(self.results_dir, 'confusion_matrix.png'), dpi=300, bbox_inches='tight')\n",
    "        plt.close()\n",
    "    \n",
    "    def plot_classification_metrics(self, metrics: Dict):\n",
    "        \"\"\"Plot precision, recall, and F1 scores\"\"\"\n",
    "        metrics_df = pd.DataFrame({\n",
    "            'Precision': metrics['precision'],\n",
    "            'Recall': metrics['recall'],\n",
    "            'F1 Score': metrics['f1']\n",
    "        }, index=self.cifar10_classes)\n",
    "        \n",
    "        plt.figure(figsize=(12, 6))\n",
    "        metrics_df.plot(kind='bar', figsize=(12, 6))\n",
    "        plt.title('Precision, Recall, and F1 Score by Class')\n",
    "        plt.xlabel('Class')\n",
    "        plt.ylabel('Score')\n",
    "        plt.xticks(rotation=45)\n",
    "        plt.ylim(0, 1.0)\n",
    "        plt.tight_layout()\n",
    "        plt.legend(loc='best')\n",
    "        plt.savefig(os.path.join(self.results_dir, 'precision_recall_f1.png'), dpi=300, bbox_inches='tight')\n",
    "        plt.close()\n",
    "    \n",
    "    def plot_feature_space(self, features: np.ndarray, labels: np.ndarray, subset_size: int = 2000):\n",
    "        \"\"\"Visualize feature space using t-SNE, PCA, and UMAP\"\"\"\n",
    "        # Use subset if needed\n",
    "        if len(features) > subset_size:\n",
    "            subset_indices = np.random.choice(len(features), subset_size, replace=False)\n",
    "            features = features[subset_indices]\n",
    "            labels = labels[subset_indices]\n",
    "        \n",
    "        # t-SNE visualization\n",
    "        print(\"Computing t-SNE projection...\")\n",
    "        tsne = TSNE(n_components=2, random_state=42, n_jobs=-1)\n",
    "        tsne_result = tsne.fit_transform(features)\n",
    "        \n",
    "        self._plot_2d_embedding(tsne_result, labels, 't-SNE Visualization of Feature Space', 'tsne_visualization.png')\n",
    "        \n",
    "        # PCA visualization\n",
    "        print(\"Computing PCA projection...\")\n",
    "        pca = PCA(n_components=2, random_state=42)\n",
    "        pca_result = pca.fit_transform(features)\n",
    "        \n",
    "        self._plot_2d_embedding(pca_result, labels, 'PCA Visualization of Feature Space', 'pca_visualization.png')\n",
    "        \n",
    "        # UMAP visualization\n",
    "        print(\"Computing UMAP projection...\")\n",
    "        umap_model = umap.UMAP(n_components=2, random_state=42)\n",
    "        umap_result = umap_model.fit_transform(features)\n",
    "        \n",
    "        self._plot_2d_embedding(umap_result, labels, 'UMAP Visualization of Feature Space', 'umap_visualization.png')\n",
    "    \n",
    "    def _plot_2d_embedding(self, embedding: np.ndarray, labels: np.ndarray, title: str, filename: str):\n",
    "        \"\"\"Plot 2D embedding with class colors\"\"\"\n",
    "        plt.figure(figsize=(10, 8))\n",
    "        \n",
    "        # Create scatter plot for each class\n",
    "        for i, class_name in enumerate(self.cifar10_classes):\n",
    "            indices = labels == i\n",
    "            plt.scatter(embedding[indices, 0], embedding[indices, 1], \n",
    "                       label=class_name, alpha=0.7, s=20)\n",
    "        \n",
    "        plt.title(title)\n",
    "        plt.legend(bbox_to_anchor=(1.05, 1), loc='upper left')\n",
    "        plt.tight_layout()\n",
    "        plt.savefig(os.path.join(self.results_dir, filename), dpi=300, bbox_inches='tight')\n",
    "        plt.close()\n",
    "    \n",
    "    def plot_sample_predictions(\n",
    "        self, \n",
    "        vit: EnhancedVisionTransformer,\n",
    "        params: Dict,\n",
    "        test_data: np.ndarray,\n",
    "        test_labels: np.ndarray,\n",
    "        num_samples: int = 10\n",
    "    ):\n",
    "        \"\"\"Visualize sample predictions\"\"\"\n",
    "        # Get random subset of test samples\n",
    "        indices = np.random.choice(len(test_data), num_samples, replace=False)\n",
    "        images = test_data[indices]\n",
    "        labels = test_labels[indices]\n",
    "        \n",
    "        # Move to device and get predictions\n",
    "        device = jax.devices()[0]\n",
    "        images_device = jax.device_put(images, device)\n",
    "        labels_device = jax.device_put(labels, device)\n",
    "        \n",
    "        # Get predictions\n",
    "        eval_key = jax.device_put(random.PRNGKey(0), device)\n",
    "        logits = vit(params, images_device, eval_key, training=False)\n",
    "        preds = Metrics.get_predictions(logits)\n",
    "        \n",
    "        # Move back to CPU for visualization\n",
    "        images_cpu = np.array(images)\n",
    "        preds_cpu = np.array(preds)\n",
    "        labels_cpu = np.array(labels)\n",
    "        \n",
    "        # Create figure\n",
    "        fig, axes = plt.subplots(2, 5, figsize=(15, 8))\n",
    "        axes = axes.flatten()\n",
    "        \n",
    "        for i, (image, label, pred) in enumerate(zip(images_cpu, labels_cpu, preds_cpu)):\n",
    "            ax = axes[i]\n",
    "            ax.imshow(image)\n",
    "            ax.set_title(f\"True: {self.cifar10_classes[label]}\\nPred: {self.cifar10_classes[pred]}\")\n",
    "            ax.axis('off')\n",
    "            \n",
    "            # Highlight correct/incorrect predictions\n",
    "            if label == pred:\n",
    "                # Green border for correct predictions\n",
    "                for spine in ax.spines.values():\n",
    "                    spine.set_edgecolor('green')\n",
    "                    spine.set_linewidth(3)\n",
    "                    spine.set_visible(True)\n",
    "            else:\n",
    "                # Red border for incorrect predictions\n",
    "                for spine in ax.spines.values():\n",
    "                    spine.set_edgecolor('red')\n",
    "                    spine.set_linewidth(3)\n",
    "                    spine.set_visible(True)\n",
    "        \n",
    "        plt.tight_layout()\n",
    "        plt.savefig(os.path.join(self.results_dir, 'sample_predictions.png'), dpi=300, bbox_inches='tight')\n",
    "        plt.close()\n",
    "\n",
    "\n",
    "# ==============================\n",
    "# 13. ENHANCED TRAINER CLASS\n",
    "# ==============================\n",
    "class EnhancedTrainer:\n",
    "    \"\"\"Enhanced trainer with all regularization techniques\"\"\"\n",
    "    \n",
    "    def __init__(self, config: ViTConfig, results_dir: str = \"enhanced_vit_results\"):\n",
    "        self.config = config\n",
    "        self.results_dir = results_dir\n",
    "        self.device = jax.devices()[0]\n",
    "        \n",
    "        # Initialize components\n",
    "        self.vit = EnhancedVisionTransformer(config)\n",
    "        self.optimizer = AdamWOptimizer(config)\n",
    "        self.initializer = EnhancedParameterInitializer(config)\n",
    "        self.augmenter = DataAugmentation(config)\n",
    "        \n",
    "        # Initialize loss function with label smoothing\n",
    "        self.loss_fn = LabelSmoothingCrossEntropy(config.label_smoothing)\n",
    "        \n",
    "        # Set up JAX key\n",
    "        self.key = jax.device_put(random.PRNGKey(config.seed), self.device)\n",
    "        \n",
    "        # Initialize model and optimizer\n",
    "        init_key, self.key = random.split(self.key)\n",
    "        self.params = self.initializer.init_transformer_params(init_key)\n",
    "        self.opt_state = self.optimizer.init_state(self.params)\n",
    "        \n",
    "        # Initialize EMA\n",
    "        self.ema = ExponentialMovingAverage(config.ema_decay) if config.use_ema else None\n",
    "        if self.ema:\n",
    "            self.ema.init(self.params)\n",
    "        \n",
    "        # Initialize training state\n",
    "        self.state = TrainingState(\n",
    "            params=self.params,\n",
    "            opt_state=self.opt_state\n",
    "        )\n",
    "        \n",
    "        # Initialize learning rate scheduler early - we need it for visualization\n",
    "        # We'll use a placeholder total_steps value that will be updated in train()\n",
    "        placeholder_steps = config.num_epochs * 391  # Approximate steps for CIFAR-10\n",
    "        self.lr_scheduler = LearningRateScheduler(config, placeholder_steps)\n",
    "        \n",
    "        # Compile functions\n",
    "        self._compile_functions()\n",
    "    \n",
    "    def _compile_functions(self):\n",
    "        \"\"\"Compile JAX functions for better performance\"\"\"\n",
    "        self.jit_train_step = jax.jit(self._train_step)\n",
    "        self.jit_eval_step = jax.jit(self._eval_step)\n",
    "    \n",
    "    def _train_step(\n",
    "        self, \n",
    "        params: Dict, \n",
    "        batch: Tuple[jnp.ndarray, jnp.ndarray], \n",
    "        keys: Dict[str, jnp.ndarray],\n",
    "        opt_state: Dict, \n",
    "        learning_rate: float\n",
    "    ) -> Tuple[Dict, float, float, Dict]:\n",
    "        \"\"\"Enhanced training step with augmentation\"\"\"\n",
    "        images, labels = batch\n",
    "        \n",
    "        # Apply augmentation\n",
    "        aug_key = keys['augmentation']\n",
    "        if self.config.use_data_augmentation:\n",
    "            # Create one-hot labels for mixup\n",
    "            one_hot_labels = jax.nn.one_hot(labels, self.config.num_classes)\n",
    "            augmented_images, augmented_labels = self.augmenter.apply_augmentation(aug_key, images, one_hot_labels)\n",
    "        else:\n",
    "            augmented_images = images\n",
    "            augmented_labels = labels\n",
    "        \n",
    "        def loss_fn(params_weights):\n",
    "            logits = self.vit(params_weights, augmented_images, keys['model'], training=True)\n",
    "            \n",
    "            # Handle soft labels from mixup\n",
    "            if augmented_labels.ndim > 1:\n",
    "                # Soft labels - use label smoothing loss with pre-smoothed labels\n",
    "                log_probs = jax.nn.log_softmax(logits)\n",
    "                loss = -jnp.mean(jnp.sum(augmented_labels * log_probs, axis=-1))\n",
    "            else:\n",
    "                # Hard labels - use standard label smoothing\n",
    "                loss = self.loss_fn(logits, augmented_labels)\n",
    "            \n",
    "            return loss, logits\n",
    "        \n",
    "        (loss, logits), grads = jax.value_and_grad(loss_fn, has_aux=True)(params)\n",
    "        \n",
    "        # Apply gradient clipping\n",
    "        grads = self._clip_gradients(grads, max_norm=1.0)\n",
    "        \n",
    "        # Apply optimizer\n",
    "        new_params, new_opt_state = self.optimizer.update(\n",
    "            grads, opt_state, params, learning_rate\n",
    "        )\n",
    "        \n",
    "        # # Update EMA\n",
    "        # if self.ema:\n",
    "        #     self.ema.update(new_params)\n",
    "        \n",
    "        # Compute accuracy (using original labels)\n",
    "        if augmented_labels.ndim > 1:\n",
    "            # For mixup, use argmax of soft labels\n",
    "            hard_labels = jnp.argmax(augmented_labels, axis=-1)\n",
    "        else:\n",
    "            hard_labels = augmented_labels\n",
    "        \n",
    "        acc = Metrics.accuracy(logits, hard_labels)\n",
    "        \n",
    "        return new_params, loss, acc, new_opt_state\n",
    "    \n",
    "    def _clip_gradients(self, grads: Dict, max_norm: float = 1.0) -> Dict:\n",
    "        \"\"\"Apply gradient clipping\"\"\"\n",
    "        def clip_param_grad(grad):\n",
    "            return jnp.clip(grad, -max_norm, max_norm)\n",
    "        \n",
    "        return jax.tree_util.tree_map(clip_param_grad, grads)\n",
    "    \n",
    "    def _eval_step(\n",
    "        self, \n",
    "        params: Dict, \n",
    "        batch: Tuple[jnp.ndarray, jnp.ndarray], \n",
    "        return_features: bool = False\n",
    "    ) -> Any:\n",
    "        \"\"\"Evaluation step\"\"\"\n",
    "        images, labels = batch\n",
    "        \n",
    "        # No dropout during evaluation\n",
    "        eval_key = jax.device_put(random.PRNGKey(0), self.device)\n",
    "        \n",
    "        if return_features:\n",
    "            logits, features = self.vit(params, images, eval_key, training=False, return_features=True)\n",
    "        else:\n",
    "            logits = self.vit(params, images, eval_key, training=False)\n",
    "        \n",
    "        loss = self.loss_fn(logits, labels)\n",
    "        acc = Metrics.accuracy(logits, labels)\n",
    "        preds = Metrics.get_predictions(logits)\n",
    "        \n",
    "        if return_features:\n",
    "            return loss, acc, preds, features\n",
    "        else:\n",
    "            return loss, acc, preds\n",
    "    \n",
    "    def train(\n",
    "        self, \n",
    "        train_data: np.ndarray, \n",
    "        train_labels: np.ndarray, \n",
    "        test_data: np.ndarray, \n",
    "        test_labels: np.ndarray\n",
    "    ) -> Dict:\n",
    "        \"\"\"Enhanced training loop\"\"\"\n",
    "        # Initialize learning rate scheduler with actual total steps\n",
    "        total_steps = self.config.num_epochs * (len(train_data) // self.config.batch_size)\n",
    "        self.lr_scheduler = LearningRateScheduler(self.config, total_steps)  # Reinitialize with correct steps\n",
    "        \n",
    "        # Create results directory\n",
    "        os.makedirs(self.results_dir, exist_ok=True)\n",
    "        \n",
    "        print(f\"Starting enhanced training on {self.device}\")\n",
    "        print(f\"Total steps: {total_steps}\")\n",
    "        print(f\"Regularization: Dropout={self.config.dropout_rate}, BatchNorm={self.config.use_batch_norm}\")\n",
    "        print(f\"Data Augmentation: Enabled={self.config.use_data_augmentation}\")\n",
    "        print(f\"Label Smoothing: {self.config.label_smoothing}\")\n",
    "        \n",
    "        # Training loop\n",
    "        best_val_accuracy = 0.0\n",
    "        patience_counter = 0\n",
    "        patience = self.config.early_stopping_patience  # Early stopping patience\n",
    "        \n",
    "        for epoch in range(self.config.num_epochs):\n",
    "            self.state.epoch = epoch\n",
    "            epoch_start_time = time.time()\n",
    "            \n",
    "            # Training epoch\n",
    "            self._train_epoch(train_data, train_labels)\n",
    "            \n",
    "            # Evaluation with both current and EMA parameters\n",
    "            eval_metrics = self._eval_epoch(test_data, test_labels)\n",
    "            \n",
    "            if self.ema:\n",
    "                ema_metrics = self._eval_with_ema(test_data, test_labels)\n",
    "                print(f\"EMA Eval Accuracy: {ema_metrics['accuracy']:.4f}\")\n",
    "            \n",
    "            # Update state\n",
    "            self.state.train_losses.append(np.mean(self.epoch_train_losses))\n",
    "            self.state.train_accs.append(np.mean(self.epoch_train_accs))\n",
    "            self.state.eval_losses.append(eval_metrics['loss'])\n",
    "            self.state.eval_accs.append(eval_metrics['accuracy'])\n",
    "            \n",
    "            # Check for best model\n",
    "            current_accuracy = eval_metrics['accuracy']\n",
    "            if self.ema and ema_metrics['accuracy'] > current_accuracy:\n",
    "                current_accuracy = ema_metrics['accuracy']\n",
    "            \n",
    "            if current_accuracy > self.state.best_accuracy:\n",
    "                self.state.best_accuracy = current_accuracy\n",
    "                self.state.best_epoch = epoch\n",
    "                patience_counter = 0\n",
    "                \n",
    "                # Save best model\n",
    "                self._save_checkpoint('best_model.pkl')\n",
    "            else:\n",
    "                patience_counter += 1\n",
    "            \n",
    "            epoch_time = time.time() - epoch_start_time\n",
    "            \n",
    "            print(f\"Epoch {epoch+1}/{self.config.num_epochs} completed in {epoch_time:.2f}s\")\n",
    "            print(f\"  Train Loss: {self.state.train_losses[-1]:.4f}, Train Accuracy: {self.state.train_accs[-1]:.4f}\")\n",
    "            print(f\"  Eval Loss: {self.state.eval_losses[-1]:.4f}, Eval Accuracy: {self.state.eval_accs[-1]:.4f}\")\n",
    "            print(f\"  Best Accuracy: {self.state.best_accuracy:.4f} at epoch {self.state.best_epoch+1}\")\n",
    "            \n",
    "            # Early stopping\n",
    "            if patience_counter >= patience:\n",
    "                print(f\"Early stopping triggered at epoch {epoch+1}\")\n",
    "                break\n",
    "            \n",
    "            # Save periodic checkpoint\n",
    "            if (epoch + 1) % 10 == 0:\n",
    "                self._save_checkpoint(f'checkpoint_epoch_{epoch+1}.pkl')\n",
    "            \n",
    "            # Plot progress periodically\n",
    "            if (epoch + 1) % 5 == 0 or epoch == self.config.num_epochs - 1:\n",
    "                viz = Visualizer(self.results_dir)\n",
    "                viz.plot_training_metrics(self.state)\n",
    "        \n",
    "        # Final evaluation with EMA parameters if available\n",
    "        if self.ema:\n",
    "            final_metrics = self._final_evaluation_with_ema(test_data, test_labels)\n",
    "        else:\n",
    "            final_metrics = self._final_evaluation(test_data, test_labels)\n",
    "        \n",
    "        return final_metrics\n",
    "    \n",
    "    def _final_evaluation(self, test_data: np.ndarray, test_labels: np.ndarray) -> Dict:\n",
    "        \"\"\"Final comprehensive evaluation\"\"\"\n",
    "        print(\"Running final evaluation with feature extraction...\")\n",
    "        \n",
    "        all_features = []\n",
    "        all_preds = []\n",
    "        all_labels = []\n",
    "        \n",
    "        num_test_batches = len(test_data) // self.config.batch_size\n",
    "        if len(test_data) % self.config.batch_size != 0:\n",
    "            num_test_batches += 1\n",
    "            \n",
    "        batches = self._iterate_batches(test_data, test_labels, shuffle=False)\n",
    "        progress_bar = tqdm(batches, total=num_test_batches, \n",
    "                           desc=\"Final Evaluation\",\n",
    "                           leave=True)\n",
    "        \n",
    "        for batch in progress_bar:\n",
    "            loss, acc, preds, features = self._eval_step(self.state.params, batch, return_features=True)\n",
    "            all_features.append(np.array(features))\n",
    "            all_preds.append(np.array(preds))\n",
    "            all_labels.append(np.array(batch[1]))\n",
    "            \n",
    "            progress_bar.set_postfix({\n",
    "                'loss': f\"{float(loss):.4f}\",\n",
    "                'acc': f\"{float(acc):.4f}\"\n",
    "            })\n",
    "        \n",
    "        # Concatenate results\n",
    "        features = np.concatenate(all_features)\n",
    "        predictions = np.concatenate(all_preds)\n",
    "        labels = np.concatenate(all_labels)\n",
    "        \n",
    "        # Compute detailed metrics\n",
    "        metrics = Metrics.compute_detailed_metrics(labels, predictions)\n",
    "        \n",
    "        # Generate visualizations\n",
    "        viz = Visualizer(self.results_dir)\n",
    "        viz.plot_confusion_matrix(metrics['confusion_matrix'])\n",
    "        viz.plot_classification_metrics(metrics)\n",
    "        viz.plot_feature_space(features, labels, subset_size=2000)\n",
    "        viz.plot_sample_predictions(self.vit, self.state.params, test_data, test_labels)\n",
    "        \n",
    "        return {\n",
    "            'metrics': metrics,\n",
    "            'features': features,\n",
    "            'predictions': predictions,\n",
    "            'labels': labels\n",
    "        }\n",
    "    \n",
    "    def _final_evaluation_with_ema(self, test_data: np.ndarray, test_labels: np.ndarray) -> Dict:\n",
    "        \"\"\"Final evaluation with EMA parameters\"\"\"\n",
    "        print(\"Running final evaluation with EMA parameters...\")\n",
    "        ema_params = self.ema.get_params()\n",
    "        \n",
    "        all_features = []\n",
    "        all_preds = []\n",
    "        all_labels = []\n",
    "        \n",
    "        num_test_batches = len(test_data) // self.config.batch_size\n",
    "        if len(test_data) % self.config.batch_size != 0:\n",
    "            num_test_batches += 1\n",
    "            \n",
    "        batches = self._iterate_batches(test_data, test_labels, shuffle=False)\n",
    "        progress_bar = tqdm(batches, total=num_test_batches, \n",
    "                           desc=\"Final EMA Evaluation\",\n",
    "                           leave=True)\n",
    "        \n",
    "        for batch in progress_bar:\n",
    "            loss, acc, preds, features = self._eval_step(ema_params, batch, return_features=True)\n",
    "            all_features.append(np.array(features))\n",
    "            all_preds.append(np.array(preds))\n",
    "            all_labels.append(np.array(batch[1]))\n",
    "            \n",
    "            progress_bar.set_postfix({\n",
    "                'loss': f\"{float(loss):.4f}\",\n",
    "                'acc': f\"{float(acc):.4f}\"\n",
    "            })\n",
    "        \n",
    "        # Concatenate results\n",
    "        features = np.concatenate(all_features)\n",
    "        predictions = np.concatenate(all_preds)\n",
    "        labels = np.concatenate(all_labels)\n",
    "        \n",
    "        # Compute detailed metrics\n",
    "        metrics = Metrics.compute_detailed_metrics(labels, predictions)\n",
    "        \n",
    "        # Generate visualizations with \"ema_\" prefix\n",
    "        viz = Visualizer(self.results_dir)\n",
    "        \n",
    "        # Save confusion matrix with EMA prefix\n",
    "        orig_results_dir = viz.results_dir\n",
    "        viz.results_dir = orig_results_dir\n",
    "        cm_filename = 'ema_confusion_matrix.png'\n",
    "        plt.figure(figsize=(10, 8))\n",
    "        sns.heatmap(metrics['confusion_matrix'], annot=True, fmt='d', cmap='Blues', \n",
    "                    xticklabels=viz.cifar10_classes, \n",
    "                    yticklabels=viz.cifar10_classes)\n",
    "        plt.xlabel('Predicted')\n",
    "        plt.ylabel('True')\n",
    "        plt.title('EMA Confusion Matrix')\n",
    "        plt.tight_layout()\n",
    "        plt.savefig(os.path.join(orig_results_dir, cm_filename), dpi=300, bbox_inches='tight')\n",
    "        plt.close()\n",
    "        \n",
    "        return {\n",
    "            'metrics': metrics,\n",
    "            'features': features,\n",
    "            'predictions': predictions,\n",
    "            'labels': labels\n",
    "        }\n",
    "    \n",
    "    def _eval_with_ema(self, test_data: np.ndarray, test_labels: np.ndarray) -> Dict:\n",
    "        \"\"\"Evaluate using EMA parameters\"\"\"\n",
    "        if not self.ema:\n",
    "            return {'accuracy': 0.0, 'loss': float('inf')}\n",
    "        \n",
    "        ema_params = self.ema.get_params()\n",
    "        return self._eval_epoch(test_data, test_labels, params=ema_params)\n",
    "    \n",
    "    def _save_checkpoint(self, filename: str):\n",
    "        \"\"\"Save model checkpoint\"\"\"\n",
    "        checkpoint = {\n",
    "            'params': self.state.params,\n",
    "            'opt_state': self.state.opt_state,\n",
    "            'epoch': self.state.epoch,\n",
    "            'best_accuracy': self.state.best_accuracy,\n",
    "            'config': self.config\n",
    "        }\n",
    "        \n",
    "        if self.ema:\n",
    "            checkpoint['ema_params'] = self.ema.get_params()\n",
    "        \n",
    "        filepath = os.path.join(self.results_dir, filename)\n",
    "        with open(filepath, 'wb') as f:\n",
    "            pickle.dump(checkpoint, f)\n",
    "    \n",
    "    def load_checkpoint(self, filepath: str):\n",
    "        \"\"\"Load model checkpoint\"\"\"\n",
    "        with open(filepath, 'rb') as f:\n",
    "            checkpoint = pickle.load(f)\n",
    "        \n",
    "        self.state.params = checkpoint['params']\n",
    "        self.state.opt_state = checkpoint['opt_state']\n",
    "        self.state.epoch = checkpoint['epoch']\n",
    "        self.state.best_accuracy = checkpoint['best_accuracy']\n",
    "        \n",
    "        if 'ema_params' in checkpoint and self.ema:\n",
    "            self.ema.ema_params = checkpoint['ema_params']\n",
    "    \n",
    "    def _train_epoch(self, train_data: np.ndarray, train_labels: np.ndarray):\n",
    "        \"\"\"Enhanced training epoch\"\"\"\n",
    "        self.epoch_train_losses = []\n",
    "        self.epoch_train_accs = []\n",
    "        \n",
    "        num_batches = len(train_data) // self.config.batch_size\n",
    "        batches = self._iterate_batches(train_data, train_labels, shuffle=True)\n",
    "        progress_bar = tqdm(batches, total=num_batches, \n",
    "                           desc=f\"Epoch {self.state.epoch+1}/{self.config.num_epochs} [Train]\",\n",
    "                           leave=True)\n",
    "        \n",
    "        for batch_idx, batch in enumerate(progress_bar):\n",
    "            # Generate keys for different random operations\n",
    "            self.key, *sub_keys = random.split(self.key, 4)\n",
    "            keys = {\n",
    "                'model': sub_keys[0],\n",
    "                'augmentation': sub_keys[1],\n",
    "                'optimizer': sub_keys[2]\n",
    "            }\n",
    "            \n",
    "            # Get current learning rate\n",
    "            current_lr = float(self.lr_scheduler(self.state.step))\n",
    "            \n",
    "            # Update parameters\n",
    "            self.state.params, loss, acc, self.state.opt_state = self.jit_train_step(\n",
    "                self.state.params, batch, keys, self.state.opt_state, current_lr\n",
    "            )\n",
    "\n",
    "\n",
    "            if self.ema:\n",
    "                self.ema.update(self.state.params)\n",
    "            \n",
    "            self.epoch_train_losses.append(float(loss))\n",
    "            self.epoch_train_accs.append(float(acc))\n",
    "            \n",
    "            # Update progress bar\n",
    "            progress_bar.set_postfix({\n",
    "                'loss': f\"{float(loss):.4f}\",\n",
    "                'acc': f\"{float(acc):.4f}\",\n",
    "                'lr': f\"{current_lr:.6f}\"\n",
    "            })\n",
    "            \n",
    "            self.state.step += 1\n",
    "    \n",
    "    def _eval_epoch(self, test_data: np.ndarray, test_labels: np.ndarray, params: Dict = None) -> Dict:\n",
    "        \"\"\"Enhanced evaluation epoch\"\"\"\n",
    "        if params is None:\n",
    "            params = self.state.params\n",
    "        \n",
    "        epoch_eval_losses = []\n",
    "        epoch_eval_accs = []\n",
    "        all_preds = []\n",
    "        all_labels = []\n",
    "        \n",
    "        num_test_batches = len(test_data) // self.config.batch_size\n",
    "        if len(test_data) % self.config.batch_size != 0:\n",
    "            num_test_batches += 1\n",
    "            \n",
    "        batches = self._iterate_batches(test_data, test_labels, shuffle=False)\n",
    "        progress_bar = tqdm(batches, total=num_test_batches, \n",
    "                           desc=f\"Epoch {self.state.epoch+1}/{self.config.num_epochs} [Eval]\",\n",
    "                           leave=True)\n",
    "        \n",
    "        for batch in progress_bar:\n",
    "            loss, acc, preds = self.jit_eval_step(params, batch)\n",
    "            epoch_eval_losses.append(float(loss))\n",
    "            epoch_eval_accs.append(float(acc))\n",
    "            \n",
    "            all_preds.append(np.array(preds))\n",
    "            all_labels.append(batch[1])\n",
    "            \n",
    "            progress_bar.set_postfix({\n",
    "                'loss': f\"{float(loss):.4f}\",\n",
    "                'acc': f\"{float(acc):.4f}\"\n",
    "            })\n",
    "        \n",
    "        return {\n",
    "            'loss': np.mean(epoch_eval_losses),\n",
    "            'accuracy': np.mean(epoch_eval_accs),\n",
    "            'predictions': np.concatenate(all_preds),\n",
    "            'labels': np.concatenate(all_labels)\n",
    "        }\n",
    "    \n",
    "    def _iterate_batches(\n",
    "        self, \n",
    "        images: np.ndarray, \n",
    "        labels: np.ndarray, \n",
    "        shuffle: bool = False\n",
    "    ):\n",
    "        \"\"\"Iterator for creating batches\"\"\"\n",
    "        num_samples = len(images)\n",
    "        indices = np.arange(num_samples)\n",
    "        \n",
    "        if shuffle:\n",
    "            np.random.shuffle(indices)\n",
    "        \n",
    "        for start_idx in range(0, num_samples, self.config.batch_size):\n",
    "            end_idx = min(start_idx + self.config.batch_size, num_samples)\n",
    "            batch_indices = indices[start_idx:end_idx]\n",
    "            yield images[batch_indices], labels[batch_indices]\n",
    "\n",
    "\n",
    "# ==============================\n",
    "# 14. ENHANCED MAIN FUNCTION\n",
    "# ==============================\n",
    "def main():\n",
    "    \"\"\"Enhanced main entry point with all regularization techniques\"\"\"\n",
    "    \n",
    "    # Enhanced configuration\n",
    "    config = ViTConfig(\n",
    "        # Model architecture\n",
    "        img_size=32,\n",
    "        patch_size=4,\n",
    "        num_classes=10,\n",
    "        num_heads=3,\n",
    "        num_layers=2,\n",
    "        hidden_dim=384,\n",
    "        mlp_dim=1536,\n",
    "        \n",
    "        # Enhanced dropout configuration\n",
    "        dropout_rate = 0.1,\n",
    "        attention_dropout_rate = 0.1,\n",
    "        projection_dropout_rate = 0.1,\n",
    "        path_dropout_rate = 0.1,\n",
    "        \n",
    "        # Batch normalization\n",
    "        use_batch_norm=True,\n",
    "        bn_momentum=0.9,\n",
    "        \n",
    "        # Data augmentation\n",
    "        # use_data_augmentation=True,\n",
    "        # mixup_alpha=0.8,\n",
    "        # cutmix_alpha=1.0,\n",
    "        # cutout_size=8,\n",
    "\n",
    "        use_data_augmentation = True,\n",
    "        augment_prob = 0.3,\n",
    "        mixup_alpha = 0.8,\n",
    "        cutmix_alpha = 1.0,\n",
    "        cutout_size = 8,\n",
    "        \n",
    "        # Label smoothing\n",
    "        label_smoothing=0.1,\n",
    "        \n",
    "        # Training parameters\n",
    "        batch_size=256,\n",
    "        num_epochs=100,  # Increased for better convergence\n",
    "        learning_rate=3e-4,\n",
    "        weight_decay=0.05,\n",
    "        warmup_steps=1000,\n",
    "        early_stopping_patience=10,\n",
    "        \n",
    "        # EMA\n",
    "        use_ema=True,\n",
    "        ema_decay=0.9999,\n",
    "        \n",
    "        # Other settings\n",
    "        seed=42\n",
    "    )\n",
    "    \n",
    "    # Create unique results directory\n",
    "    timestamp = datetime.now().strftime(\"%Y%m%d_%H%M%S\")\n",
    "    results_dir = os.path.join(\"enhanced_vit_results\", f\"run_{timestamp}\")\n",
    "    os.makedirs(results_dir, exist_ok=True)\n",
    "    \n",
    "    # Print startup information\n",
    "    print(\"\\n\" + \"=\"*80)\n",
    "    print(\"ENHANCED VISION TRANSFORMER WITH ADVANCED REGULARIZATION\")\n",
    "    print(\"=\"*80)\n",
    "    print(\"Configuration:\")\n",
    "    print(f\"  Architecture: {config.num_layers} layers × {config.hidden_dim} dim\")\n",
    "    print(f\"  Regularization Techniques:\")\n",
    "    print(f\"    - Dropout: {config.dropout_rate} (attention: {config.attention_dropout_rate})\")\n",
    "    print(f\"    - DropPath: {config.path_dropout_rate}\")\n",
    "    print(f\"    - Batch Normalization: {config.use_batch_norm}\")\n",
    "    print(f\"    - Data Augmentation: {config.use_data_augmentation}\")\n",
    "    print(f\"    - Label Smoothing: {config.label_smoothing}\")\n",
    "    print(f\"    - EMA: {config.use_ema} (decay: {config.ema_decay})\")\n",
    "    print(f\"    - Weight Decay: {config.weight_decay}\")\n",
    "    print(f\"  Training: {config.num_epochs} epochs × {config.batch_size} batch size\")\n",
    "    print(f\"  Learning rate: {config.learning_rate} (warmup: {config.warmup_steps} steps)\")\n",
    "    print(f\"  Device: {jax.devices()[0]}\")\n",
    "    print(f\"  Results: {results_dir}\")\n",
    "    print(\"=\"*80 + \"\\n\")\n",
    "    \n",
    "    # Initialize components\n",
    "    data_loader = DataLoader(data_dir=\"cifar10_data\")\n",
    "    trainer = EnhancedTrainer(config, results_dir)\n",
    "    visualizer = Visualizer(results_dir)\n",
    "    \n",
    "    # Save configuration\n",
    "    config_path = os.path.join(results_dir, 'enhanced_config.txt')\n",
    "    with open(config_path, 'w') as f:\n",
    "        f.write(\"Enhanced Vision Transformer Configuration\\n\")\n",
    "        f.write(\"=\"*60 + \"\\n\\n\")\n",
    "        for key, value in config.__dict__.items():\n",
    "            f.write(f\"{key}: {value}\\n\")\n",
    "    \n",
    "    try:\n",
    "        # Load data\n",
    "        print(\"Loading CIFAR-10 dataset...\")\n",
    "        train_data, train_labels, test_data, test_labels = data_loader.load_datasets()\n",
    "        \n",
    "        # Create visualizations\n",
    "        print(\"Creating initial visualizations...\")\n",
    "        total_steps = config.num_epochs * (len(train_data) // config.batch_size)\n",
    "        visualizer.plot_learning_rate_schedule(trainer.lr_scheduler or \n",
    "                                             LearningRateScheduler(config, total_steps), \n",
    "                                             total_steps)\n",
    "        \n",
    "        # Run enhanced training\n",
    "        print(\"\\nStarting enhanced training with regularization...\")\n",
    "        start_time = time.time()\n",
    "        \n",
    "        final_metrics = trainer.train(train_data, train_labels, test_data, test_labels)\n",
    "        \n",
    "        # Calculate total time\n",
    "        total_time = time.time() - start_time\n",
    "        hours = int(total_time // 3600)\n",
    "        minutes = int((total_time % 3600) // 60)\n",
    "        seconds = int(total_time % 60)\n",
    "        \n",
    "        # Save final results summary\n",
    "        summary_path = os.path.join(results_dir, 'training_summary.txt')\n",
    "        with open(summary_path, 'w') as f:\n",
    "            f.write(\"Enhanced Vision Transformer Training Summary\\n\")\n",
    "            f.write(\"=\"*60 + \"\\n\\n\")\n",
    "            f.write(f\"Training Time: {hours:02d}:{minutes:02d}:{seconds:02d}\\n\")\n",
    "            f.write(f\"Best Validation Accuracy: {trainer.state.best_accuracy:.4f}\\n\")\n",
    "            f.write(f\"Best Epoch: {trainer.state.best_epoch + 1}\\n\")\n",
    "            f.write(f\"Final Macro F1 Score: {final_metrics['metrics']['macro_f1']:.4f}\\n\")\n",
    "            f.write(f\"Final Macro Precision: {final_metrics['metrics']['macro_precision']:.4f}\\n\")\n",
    "            f.write(f\"Final Macro Recall: {final_metrics['metrics']['macro_recall']:.4f}\\n\")\n",
    "            f.write(f\"\\nRegularization Techniques Used:\\n\")\n",
    "            f.write(f\"  - Dropout: {config.dropout_rate}\\n\")\n",
    "            f.write(f\"  - Attention Dropout: {config.attention_dropout_rate}\\n\")\n",
    "            f.write(f\"  - DropPath: {config.path_dropout_rate}\\n\")\n",
    "            f.write(f\"  - Batch Normalization: {config.use_batch_norm}\\n\")\n",
    "            f.write(f\"  - Data Augmentation: {config.use_data_augmentation}\\n\")\n",
    "            f.write(f\"  - Label Smoothing: {config.label_smoothing}\\n\")\n",
    "            f.write(f\"  - EMA: {config.use_ema}\\n\")\n",
    "            f.write(f\"  - Weight Decay: {config.weight_decay}\\n\")\n",
    "            f.write(f\"\\nResults Directory: {results_dir}\\n\")\n",
    "        \n",
    "        # Save hardware summary\n",
    "        hardware_summary_path = os.path.join(results_dir, 'hardware_summary.txt')\n",
    "        with open(hardware_summary_path, 'w') as f:\n",
    "            f.write(\"Hardware Summary\\n\")\n",
    "            f.write(\"=\"*50 + \"\\n\\n\")\n",
    "            f.write(f\"JAX version: {jax.__version__}\\n\")\n",
    "            f.write(f\"Device used: {jax.devices()[0]}\\n\")\n",
    "            f.write(f\"Number of devices: {jax.device_count()}\\n\")\n",
    "            try:\n",
    "                f.write(f\"Device type: {jax.devices()[0].device_kind}\\n\")\n",
    "            except:\n",
    "                f.write(\"Device type: Unknown\\n\")\n",
    "        \n",
    "        # Print summary\n",
    "        print(\"\\n\" + \"=\"*80)\n",
    "        print(\"ENHANCED TRAINING COMPLETED SUCCESSFULLY!\")\n",
    "        print(\"=\"*80)\n",
    "        print(f\"Total time: {hours:02d}:{minutes:02d}:{seconds:02d}\")\n",
    "        print(f\"Best accuracy: {trainer.state.best_accuracy:.4f}\")\n",
    "        print(f\"Final F1 score: {final_metrics['metrics']['macro_f1']:.4f}\")\n",
    "        print(f\"Results in: {results_dir}\")\n",
    "        print(\"=\"*80)\n",
    "        \n",
    "        # List generated files\n",
    "        print(\"\\nGenerated files:\")\n",
    "        print(\"  Visualizations:\")\n",
    "        print(\"    - training_metrics.png - Learning curves\")\n",
    "        print(\"    - lr_schedule.png - Learning rate schedule\")\n",
    "        print(\"    - confusion_matrix.png - Confusion matrix\")\n",
    "        print(\"    - ema_confusion_matrix.png - EMA Confusion matrix\")\n",
    "        print(\"    - precision_recall_f1.png - Classification metrics\")\n",
    "        print(\"    - tsne_visualization.png - t-SNE feature visualization\")\n",
    "        print(\"    - pca_visualization.png - PCA feature visualization\")\n",
    "        print(\"    - umap_visualization.png - UMAP feature visualization\")\n",
    "        print(\"    - sample_predictions.png - Sample predictions\")\n",
    "        print(\"  Model Files:\")\n",
    "        print(\"    - best_model.pkl - Best model checkpoint\")\n",
    "        print(\"    - checkpoint_epoch_*.pkl - Periodic checkpoints\")\n",
    "        print(\"  Text files:\")\n",
    "        print(\"    - enhanced_config.txt - Training configuration\")\n",
    "        print(\"    - training_summary.txt - Final results summary\")\n",
    "        print(\"    - hardware_summary.txt - Hardware information\")\n",
    "        print(\"\\n\")\n",
    "        \n",
    "    except Exception as e:\n",
    "        print(f\"\\nTraining failed with error: {e}\")\n",
    "        print(f\"Partial results saved to: {results_dir}\")\n",
    "        import traceback\n",
    "        traceback.print_exc()\n",
    "        return 1\n",
    "    \n",
    "    return 0\n",
    "\n",
    "\n",
    "if __name__ == \"__main__\":\n",
    "    exit_code = main()\n",
    "    # exit(exit_code)"
   ]
  },
  {
   "cell_type": "code",
   "execution_count": null,
   "id": "2f6e36d2-9558-407d-b10f-f4f8768763c1",
   "metadata": {},
   "outputs": [],
   "source": []
  }
 ],
 "metadata": {
  "kernelspec": {
   "display_name": "Python 3 (ipykernel)",
   "language": "python",
   "name": "python3"
  },
  "language_info": {
   "codemirror_mode": {
    "name": "ipython",
    "version": 3
   },
   "file_extension": ".py",
   "mimetype": "text/x-python",
   "name": "python",
   "nbconvert_exporter": "python",
   "pygments_lexer": "ipython3",
   "version": "3.11.9"
  }
 },
 "nbformat": 4,
 "nbformat_minor": 5
}
