{
 "cells": [
  {
   "cell_type": "code",
   "execution_count": 1,
   "id": "19c37190-0b00-4d19-a540-1d1dff14cabc",
   "metadata": {},
   "outputs": [],
   "source": [
    "import jax\n",
    "import jax.numpy as jnp\n",
    "import numpy as np\n",
    "import matplotlib.pyplot as plt\n",
    "import pickle\n",
    "import functools\n",
    "import time\n",
    "import os\n",
    "from datasets import load_dataset\n",
    "from collections import Counter\n",
    "from tqdm.auto import tqdm\n",
    "from sklearn.model_selection import train_test_split\n",
    "import random"
   ]
  },
  {
   "cell_type": "code",
   "execution_count": 2,
   "id": "e7a2002c-cfeb-4e5d-8419-e19b6105ab80",
   "metadata": {},
   "outputs": [],
   "source": [
    "# Training Configuration\n",
    "EPOCHS = 30              # Number of training epochs\n",
    "BATCH_SIZE = 64          # Batch size\n",
    "NUM_HEADS = 6            # Number of attention heads\n",
    "NUM_LAYERS = 6           # Number of transformer layers\n",
    "D_MODEL = 384            # Model dimensionality (multiple of NUM_HEADS)\n",
    "D_FF = 1024              # Feed-forward network dimension\n",
    "DROPOUT = 0.25           # Increased dropout rate (was 0.1)\n",
    "LEARNING_RATE = 3e-4     # Base learning rate\n",
    "MAX_LEN = 256            # Maximum sequence length\n",
    "VOCAB_SIZE = 20000       # Vocabulary size\n",
    "TRAIN_SPLIT = 0.7        # Percentage of data used for training\n",
    "WEIGHT_DECAY = 1e-4      # Weight decay for regularization\n",
    "MAX_GRAD_NORM = 1.0      # Gradient clipping norm\n",
    "PATIENCE = 5            # Patience for early stopping\n",
    "WARMUP_STEPS = 1000      # Steps for learning rate warmup\n",
    "DATA_AUGMENTATION = True # Whether to use data augmentation\n",
    "AUG_RATIO = 0.3          # Ratio of augmented data to add\n",
    "SEED = 42  "
   ]
  },
  {
   "cell_type": "code",
   "execution_count": 3,
   "id": "7007edb7-67cb-4759-9f0d-783ef9391575",
   "metadata": {},
   "outputs": [],
   "source": [
    "# Set random seeds for reproducibility\n",
    "def set_seed(seed=42):\n",
    "    random.seed(seed)\n",
    "    np.random.seed(seed)\n",
    "    os.environ['PYTHONHASHSEED'] = str(seed)\n",
    "    \n",
    "set_seed(SEED)"
   ]
  },
  {
   "cell_type": "code",
   "execution_count": 4,
   "id": "b354f020-0e3f-4805-b3f4-31e03f6e6d61",
   "metadata": {},
   "outputs": [
    {
     "name": "stdout",
     "output_type": "stream",
     "text": [
      "Using device: cuda:0\n"
     ]
    }
   ],
   "source": [
    "device = jax.devices()[0]\n",
    "print(f\"Using device: {device}\")\n",
    "\n",
    "def to_device(x):\n",
    "    return jax.device_put(x, device)"
   ]
  },
  {
   "cell_type": "code",
   "execution_count": 5,
   "id": "588c5239-3560-46fc-b113-60160409ee2b",
   "metadata": {},
   "outputs": [],
   "source": [
    "def augment_text(text, p=0.15):\n",
    "    \"\"\"\n",
    "    Simple text augmentation with word deletion, swapping, and duplication.\n",
    "    \n",
    "    Parameters:\n",
    "    - text: original text string\n",
    "    - p: probability of applying each transformation\n",
    "    \n",
    "    Returns:\n",
    "    - augmented text string\n",
    "    \"\"\"\n",
    "    tokens = text.lower().split()\n",
    "    if len(tokens) <= 1:\n",
    "        return text\n",
    "    \n",
    "    # Randomly drop words (with higher probability for stop words)\n",
    "    stop_words = {'the', 'a', 'an', 'and', 'or', 'but', 'is', 'are', 'was', 'were', 'to', 'of', 'in', 'for', 'with'}\n",
    "    tokens = [t for t in tokens if (t in stop_words and np.random.random() > p*1.5) or \n",
    "                                   (t not in stop_words and np.random.random() > p)]\n",
    "    \n",
    "    # Randomly swap adjacent words\n",
    "    for i in range(len(tokens) - 1):\n",
    "        if np.random.random() < p:\n",
    "            tokens[i], tokens[i+1] = tokens[i+1], tokens[i]\n",
    "    \n",
    "    # Randomly duplicate words (less frequently)\n",
    "    if len(tokens) > 3:\n",
    "        for i in range(len(tokens)):\n",
    "            if np.random.random() < p/3 and len(tokens[i]) > 2:  # Only duplicate non-trivial words\n",
    "                tokens.insert(i, tokens[i])\n",
    "    \n",
    "    return \" \".join(tokens)"
   ]
  },
  {
   "cell_type": "code",
   "execution_count": 6,
   "id": "d3ea4256-41e0-4517-b509-4effbf9ad55f",
   "metadata": {},
   "outputs": [],
   "source": [
    "def load_full_imdb_dataset(vocab_size=VOCAB_SIZE, max_len=MAX_LEN, train_split=TRAIN_SPLIT, \n",
    "                          augment=DATA_AUGMENTATION, aug_ratio=AUG_RATIO):\n",
    "    \"\"\"\n",
    "    Load the IMDB dataset, apply a custom train/validation split, and augment data if requested.\n",
    "    \n",
    "    Parameters:\n",
    "    - vocab_size: size of the vocabulary\n",
    "    - max_len: maximum sequence length\n",
    "    - train_split: portion of data used for training (e.g., 0.7 for 70%)\n",
    "    - augment: whether to apply data augmentation\n",
    "    - aug_ratio: ratio of augmented data to add\n",
    "    \n",
    "    Returns:\n",
    "    - (train_inputs, train_labels): training data\n",
    "    - (val_inputs, val_labels): validation data\n",
    "    - vocab: vocabulary dictionary\n",
    "    \"\"\"\n",
    "    print(\"Loading IMDB dataset...\")\n",
    "    dataset = load_dataset(\"imdb\")\n",
    "    \n",
    "    # Combine train and test sets to resplit them\n",
    "    all_texts = dataset['train']['text'] + dataset['test']['text']\n",
    "    all_labels = dataset['train']['label'] + dataset['test']['label']\n",
    "    \n",
    "    # Create vocabulary based on all texts\n",
    "    counter = Counter()\n",
    "    for text in all_texts:\n",
    "        counter.update(text.lower().split())\n",
    "\n",
    "    most_common = counter.most_common(vocab_size - 2)\n",
    "    vocab = {word: idx + 2 for idx, (word, _) in enumerate(most_common)}\n",
    "    vocab['<pad>'] = 0\n",
    "    vocab['<unk>'] = 1\n",
    "\n",
    "    def encode(text):\n",
    "        tokens = text.lower().split()\n",
    "        ids = [vocab.get(token, vocab['<unk>']) for token in tokens]\n",
    "        return ids[:max_len] + [0] * (max_len - len(ids)) if len(ids) < max_len else ids[:max_len]\n",
    "    \n",
    "    # Split the data into training and validation sets (before augmentation)\n",
    "    train_texts, val_texts, train_labels, val_labels = train_test_split(\n",
    "        all_texts, all_labels, train_size=train_split, random_state=SEED, stratify=all_labels\n",
    "    )\n",
    "    \n",
    "    # Apply data augmentation to training set if requested\n",
    "    if augment:\n",
    "        print(f\"Applying data augmentation to {aug_ratio*100:.0f}% of training data...\")\n",
    "        n_to_augment = int(len(train_texts) * aug_ratio)\n",
    "        indices_to_augment = np.random.choice(len(train_texts), n_to_augment, replace=False)\n",
    "        \n",
    "        augmented_texts = []\n",
    "        augmented_labels = []\n",
    "        \n",
    "        for i in indices_to_augment:\n",
    "            augmented_texts.append(augment_text(train_texts[i]))\n",
    "            augmented_labels.append(train_labels[i])\n",
    "        \n",
    "        train_texts = train_texts + augmented_texts\n",
    "        train_labels = train_labels + augmented_labels\n",
    "        \n",
    "        print(f\"Training data expanded from {len(train_texts)-len(augmented_texts)} to {len(train_texts)} examples with augmentation\")\n",
    "    \n",
    "    # Encode all texts\n",
    "    print(\"Encoding texts...\")\n",
    "    train_inputs = np.array([encode(t) for t in train_texts])\n",
    "    train_labels = np.array(train_labels)\n",
    "    val_inputs = np.array([encode(t) for t in val_texts])\n",
    "    val_labels = np.array(val_labels)\n",
    "    \n",
    "    return (train_inputs, train_labels), (val_inputs, val_labels), vocab\n",
    "\n",
    "def data_loader(inputs, labels, batch_size, shuffle=True, rng=None):\n",
    "    n = len(inputs)\n",
    "    idxs = np.arange(n)\n",
    "    if shuffle:\n",
    "        rng = np.random.default_rng(rng) if rng else np.random\n",
    "        rng.shuffle(idxs)\n",
    "    for i in range(0, n, batch_size):\n",
    "        batch_idxs = idxs[i:min(i+batch_size, n)]\n",
    "        yield inputs[batch_idxs], labels[batch_idxs]"
   ]
  },
  {
   "cell_type": "code",
   "execution_count": 7,
   "id": "1551dd69-71cb-4ec2-903e-b72d41e9949f",
   "metadata": {},
   "outputs": [],
   "source": [
    "# Learning rate schedule\n",
    "def create_learning_rate_schedule(initial_lr=LEARNING_RATE, warmup_steps=WARMUP_STEPS, decay_rate=0.1, decay_steps=5000):\n",
    "    \"\"\"\n",
    "    Create a learning rate schedule with warmup and decay.\n",
    "    \n",
    "    Parameters:\n",
    "    - initial_lr: peak learning rate after warmup\n",
    "    - warmup_steps: number of steps for linear warmup\n",
    "    - decay_rate: factor by which to decay the learning rate\n",
    "    - decay_steps: number of steps between decay applications\n",
    "    \n",
    "    Returns:\n",
    "    - schedule function that takes a step and returns the learning rate\n",
    "    \"\"\"\n",
    "    def schedule(step):\n",
    "        # Linear warmup phase\n",
    "        if step < warmup_steps:\n",
    "            return initial_lr * (step / warmup_steps)\n",
    "        \n",
    "        # Decay phase\n",
    "        decay_factor = decay_rate ** ((step - warmup_steps) / decay_steps)\n",
    "        return initial_lr * decay_factor\n",
    "    \n",
    "    return schedule"
   ]
  },
  {
   "cell_type": "code",
   "execution_count": 8,
   "id": "dab60df4-2533-4b46-8f3b-a89f847056e8",
   "metadata": {},
   "outputs": [],
   "source": [
    "# Model components\n",
    "def init_token_embedding(vocab_size, d_model, key):\n",
    "    return jax.random.normal(key, (vocab_size, d_model)) * 0.01\n",
    "\n",
    "def get_positional_encoding(max_len, d_model):\n",
    "    position = jnp.arange(max_len)[:, None]\n",
    "    div_term = jnp.exp(jnp.arange(0, d_model, 2) * -(jnp.log(10000.0) / d_model))\n",
    "    pe = jnp.zeros((max_len, d_model))\n",
    "    pe = pe.at[:, 0::2].set(jnp.sin(position * div_term))\n",
    "    pe = pe.at[:, 1::2].set(jnp.cos(position * div_term))\n",
    "    return pe\n",
    "\n",
    "def embed(inputs, token_embedding, positional_encoding):\n",
    "    token_embeds = token_embedding[inputs]\n",
    "    pos_embeds = positional_encoding[:inputs.shape[1]]\n",
    "    pos_embeds = jnp.expand_dims(pos_embeds, 0)\n",
    "    return token_embeds + pos_embeds\n",
    "\n",
    "def create_padding_mask(inputs, pad_token=0):\n",
    "    mask = (inputs == pad_token).astype(jnp.float32)\n",
    "    return mask[:, None, None, :]\n",
    "\n",
    "def dropout(x, dropout_rate, key, is_training=True):\n",
    "    if not is_training or dropout_rate == 0.0:\n",
    "        return x\n",
    "    keep_prob = 1.0 - dropout_rate\n",
    "    mask = jax.random.bernoulli(key, p=keep_prob, shape=x.shape)\n",
    "    return (x * mask) / keep_prob\n",
    "\n"
   ]
  },
  {
   "cell_type": "code",
   "execution_count": 9,
   "id": "42541b77-2af6-488b-8266-405e94a97b1f",
   "metadata": {},
   "outputs": [],
   "source": [
    "def init_multihead_attention_params(d_model, num_heads, key):\n",
    "    keys = jax.random.split(key, 4)\n",
    "    return {\n",
    "        'W_q': jax.random.normal(keys[0], (d_model, d_model)) * 0.01,\n",
    "        'W_k': jax.random.normal(keys[1], (d_model, d_model)) * 0.01,\n",
    "        'W_v': jax.random.normal(keys[2], (d_model, d_model)) * 0.01,\n",
    "        'W_o': jax.random.normal(keys[3], (d_model, d_model)) * 0.01,\n",
    "    }\n",
    "\n",
    "def multihead_attention(x, params, num_heads, mask=None, key=None, dropout_rate=DROPOUT, is_training=True):\n",
    "    \"\"\"\n",
    "    Implementation of multi-head attention with increased dropout.\n",
    "    \"\"\"\n",
    "    batch_size, seq_len, d_model = x.shape\n",
    "    d_k = d_model // num_heads\n",
    "    \n",
    "    # Generate dropout keys if needed\n",
    "    if key is not None and is_training:\n",
    "        query_key, attn_key, output_key = jax.random.split(key, 3)\n",
    "    else:\n",
    "        query_key = attn_key = output_key = None\n",
    "    \n",
    "    # Linear projections with dropout\n",
    "    Q = jnp.matmul(x, params['W_q'])\n",
    "    K = jnp.matmul(x, params['W_k'])\n",
    "    V = jnp.matmul(x, params['W_v'])\n",
    "    \n",
    "    # Apply input dropout (increased for regularization)\n",
    "    if is_training and dropout_rate > 0 and query_key is not None:\n",
    "        Q = dropout(Q, dropout_rate * 0.8, query_key, is_training)\n",
    "    \n",
    "    # Reshape to separate heads\n",
    "    Q = Q.reshape(batch_size, seq_len, num_heads, d_k)\n",
    "    K = K.reshape(batch_size, seq_len, num_heads, d_k)\n",
    "    V = V.reshape(batch_size, seq_len, num_heads, d_k)\n",
    "    \n",
    "    # Transpose to (batch_size, num_heads, seq_len, d_k)\n",
    "    Q = jnp.transpose(Q, (0, 2, 1, 3))\n",
    "    K = jnp.transpose(K, (0, 2, 1, 3))\n",
    "    V = jnp.transpose(V, (0, 2, 1, 3))\n",
    "    \n",
    "    # Calculate attention scores\n",
    "    scores = jnp.matmul(Q, jnp.transpose(K, (0, 1, 3, 2))) / jnp.sqrt(d_k)\n",
    "    \n",
    "    # Apply mask if provided\n",
    "    if mask is not None:\n",
    "        expanded_mask = jnp.broadcast_to(mask, (batch_size, 1, seq_len, seq_len))\n",
    "        expanded_mask = jnp.broadcast_to(expanded_mask, (batch_size, num_heads, seq_len, seq_len))\n",
    "        scores = scores + (expanded_mask * -1e9)\n",
    "    \n",
    "    # Apply softmax to get attention weights\n",
    "    attention_weights = jax.nn.softmax(scores, axis=-1)\n",
    "    \n",
    "    # Apply attention dropout (important for regularization)\n",
    "    if is_training and dropout_rate > 0 and attn_key is not None:\n",
    "        attention_weights = dropout(attention_weights, dropout_rate, attn_key, is_training)\n",
    "    \n",
    "    # Apply attention weights to values\n",
    "    attention_output = jnp.matmul(attention_weights, V)\n",
    "    \n",
    "    # Transpose and reshape back to original dimensions\n",
    "    attention_output = jnp.transpose(attention_output, (0, 2, 1, 3))\n",
    "    attention_output = attention_output.reshape(batch_size, seq_len, d_model)\n",
    "    \n",
    "    # Final linear projection with dropout\n",
    "    output = jnp.matmul(attention_output, params['W_o'])\n",
    "    if is_training and dropout_rate > 0 and output_key is not None:\n",
    "        output = dropout(output, dropout_rate, output_key, is_training)\n",
    "    \n",
    "    return output"
   ]
  },
  {
   "cell_type": "code",
   "execution_count": 10,
   "id": "0a49614f-935c-46d7-b0bf-ddf4028282dd",
   "metadata": {},
   "outputs": [],
   "source": [
    "# Transformer encoder layer\n",
    "def init_transformer_encoder_layer_params(d_model, num_heads, d_ff, key):\n",
    "    keys = jax.random.split(key, 6)\n",
    "    return {\n",
    "        'mha': init_multihead_attention_params(d_model, num_heads, keys[0]),\n",
    "        'ffn_W1': jax.random.normal(keys[1], (d_model, d_ff)) * 0.01,\n",
    "        'ffn_b1': jnp.zeros((d_ff,)),\n",
    "        'ffn_W2': jax.random.normal(keys[2], (d_ff, d_model)) * 0.01,\n",
    "        'ffn_b2': jnp.zeros((d_model,)),\n",
    "        'norm1_scale': jnp.ones((d_model,)),\n",
    "        'norm1_bias': jnp.zeros((d_model,)),\n",
    "        'norm2_scale': jnp.ones((d_model,)),\n",
    "        'norm2_bias': jnp.zeros((d_model,)),\n",
    "    }\n",
    "\n",
    "def layer_norm(x, scale, bias, eps=1e-6):\n",
    "    mean = jnp.mean(x, axis=-1, keepdims=True)\n",
    "    variance = jnp.var(x, axis=-1, keepdims=True)\n",
    "    normalized = (x - mean) / jnp.sqrt(variance + eps)\n",
    "    return scale * normalized + bias\n",
    "\n",
    "def feed_forward(x, params):\n",
    "    x = jnp.matmul(x, params['ffn_W1']) + params['ffn_b1']\n",
    "    x = jax.nn.relu(x)\n",
    "    x = jnp.matmul(x, params['ffn_W2']) + params['ffn_b2']\n",
    "    return x\n",
    "\n",
    "def transformer_encoder_layer(x, params, num_heads, mask=None, key=None, dropout_rate=DROPOUT, is_training=True):\n",
    "    \"\"\"\n",
    "    Enhanced transformer encoder layer with increased regularization.\n",
    "    \"\"\"\n",
    "    if key is not None:\n",
    "        attn_key, ffn_key, drop1_key, drop2_key = jax.random.split(key, 4)\n",
    "    else:\n",
    "        attn_key = ffn_key = drop1_key = drop2_key = None\n",
    "\n",
    "    # Attention sublayer with residual connection\n",
    "    attn_output = multihead_attention(x, params['mha'], num_heads, mask, attn_key, dropout_rate, is_training)\n",
    "    # Important: Add dropout to the residual path as well\n",
    "    if is_training and dropout_rate > 0 and drop1_key is not None:\n",
    "        x = dropout(x, dropout_rate * 0.5, drop1_key, is_training)  # Lower dropout on residual\n",
    "    attn_output = layer_norm(x + attn_output, params['norm1_scale'], params['norm1_bias'])\n",
    "\n",
    "    # Feed-forward sublayer with residual connection\n",
    "    ffn_output = feed_forward(attn_output, params)\n",
    "    if is_training and dropout_rate > 0 and ffn_key is not None:\n",
    "        ffn_output = dropout(ffn_output, dropout_rate, ffn_key, is_training)\n",
    "    # Also add dropout to this residual path\n",
    "    if is_training and dropout_rate > 0 and drop2_key is not None:\n",
    "        attn_output = dropout(attn_output, dropout_rate * 0.5, drop2_key, is_training)\n",
    "    output = layer_norm(attn_output + ffn_output, params['norm2_scale'], params['norm2_bias'])\n",
    "\n",
    "    return output\n"
   ]
  },
  {
   "cell_type": "code",
   "execution_count": 11,
   "id": "b28a4ca2-40c9-479d-9054-f01e84006a3d",
   "metadata": {},
   "outputs": [],
   "source": [
    "# Model\n",
    "def init_transformer_model_params(vocab_size, max_len, d_model, num_heads, d_ff, num_layers, num_classes, key):\n",
    "    keys = jax.random.split(key, num_layers + 3)\n",
    "    return {\n",
    "        'token_embedding': init_token_embedding(vocab_size, d_model, keys[0]),\n",
    "        'positional_encoding': get_positional_encoding(max_len, d_model),\n",
    "        'encoder_layers': [init_transformer_encoder_layer_params(d_model, num_heads, d_ff, keys[i+1]) \n",
    "                          for i in range(num_layers)],\n",
    "        'classifier_W': jax.random.normal(keys[-2], (d_model, num_classes)) * 0.01,\n",
    "        'classifier_b': jnp.zeros((num_classes,))\n",
    "    }\n",
    "\n",
    "def transformer_model(inputs, params, num_heads, mask=None, key=None, dropout_rate=DROPOUT, is_training=True):\n",
    "    \"\"\"\n",
    "    Transformer model with enhanced regularization.\n",
    "    \"\"\"\n",
    "    if key is not None:\n",
    "        embed_key, encoder_key, final_key = jax.random.split(key, 3)\n",
    "        encoder_keys = jax.random.split(encoder_key, len(params['encoder_layers']))\n",
    "    else:\n",
    "        embed_key = final_key = None\n",
    "        encoder_keys = [None] * len(params['encoder_layers'])\n",
    "\n",
    "    # Embedding layer with dropout\n",
    "    x = embed(inputs, params['token_embedding'], params['positional_encoding'])\n",
    "    if is_training and dropout_rate > 0 and embed_key is not None:\n",
    "        x = dropout(x, dropout_rate, embed_key, is_training)\n",
    "\n",
    "    # Apply encoder layers\n",
    "    for idx, encoder_params in enumerate(params['encoder_layers']):\n",
    "        x = transformer_encoder_layer(x, encoder_params, num_heads, mask, encoder_keys[idx], dropout_rate, is_training)\n",
    "\n",
    "    # Global average pooling with dropout\n",
    "    x = jnp.mean(x, axis=1)\n",
    "    if is_training and dropout_rate > 0 and final_key is not None:\n",
    "        x = dropout(x, dropout_rate, final_key, is_training)\n",
    "    \n",
    "    # Classification layer\n",
    "    logits = jnp.matmul(x, params['classifier_W']) + params['classifier_b']\n",
    "    return logits\n"
   ]
  },
  {
   "cell_type": "code",
   "execution_count": 12,
   "id": "cca1f871-1558-42cf-8de4-042b3f68e9b1",
   "metadata": {},
   "outputs": [],
   "source": [
    "# Loss and metrics\n",
    "def cross_entropy_loss(logits, labels):\n",
    "    one_hot = jax.nn.one_hot(labels, logits.shape[-1])\n",
    "    log_probs = jax.nn.log_softmax(logits)\n",
    "    loss = -jnp.sum(one_hot * log_probs, axis=-1)\n",
    "    return jnp.mean(loss)\n",
    "\n",
    "def accuracy_fn(logits, labels):\n",
    "    preds = jnp.argmax(logits, axis=-1)\n",
    "    return jnp.mean(preds == labels)\n",
    "\n",
    "def precision_recall_f1(logits, labels):\n",
    "    preds = jnp.argmax(logits, axis=-1)\n",
    "    tp = jnp.sum((preds == 1) & (labels == 1))\n",
    "    fp = jnp.sum((preds == 1) & (labels == 0))\n",
    "    fn = jnp.sum((preds == 0) & (labels == 1))\n",
    "    precision = tp / (tp + fp + 1e-8)\n",
    "    recall = tp / (tp + fn + 1e-8)\n",
    "    f1 = 2 * precision * recall / (precision + recall + 1e-8)\n",
    "    return precision, recall, f1"
   ]
  },
  {
   "cell_type": "code",
   "execution_count": 13,
   "id": "406d5128-9b7c-430b-b3cf-6baa7e34ef5e",
   "metadata": {},
   "outputs": [],
   "source": [
    "# Enhanced Adam optimizer with weight decay\n",
    "def init_adam_optimizer(params, learning_rate=LEARNING_RATE, beta1=0.9, beta2=0.999, \n",
    "                        eps=1e-8, weight_decay=WEIGHT_DECAY):\n",
    "    m = jax.tree_util.tree_map(lambda p: jnp.zeros_like(p), params)\n",
    "    v = jax.tree_util.tree_map(lambda p: jnp.zeros_like(p), params)\n",
    "    return {\n",
    "        'm': m, \n",
    "        'v': v, \n",
    "        't': 0, \n",
    "        'lr': learning_rate, \n",
    "        'beta1': beta1, \n",
    "        'beta2': beta2, \n",
    "        'eps': eps,\n",
    "        'weight_decay': weight_decay\n",
    "    }\n",
    "\n",
    "def adam_update(params, grads, opt_state, max_grad_norm=MAX_GRAD_NORM):\n",
    "    \"\"\"\n",
    "    Adam optimizer update with weight decay and gradient clipping.\n",
    "    Fixed to work with JAX JIT compilation.\n",
    "    \"\"\"\n",
    "    # Gradient clipping - always apply but scale by max_grad_norm\n",
    "    # Compute global gradient norm\n",
    "    grad_norm = jnp.sqrt(\n",
    "        sum(jnp.sum(g**2) for g in jax.tree_util.tree_leaves(grads))\n",
    "    )\n",
    "    # Clip gradients\n",
    "    grads = jax.tree_util.tree_map(\n",
    "        lambda g: g * jnp.minimum(1.0, max_grad_norm / (grad_norm + 1e-6)), \n",
    "        grads\n",
    "    )\n",
    "    \n",
    "    # Apply weight decay - apply unconditionally but scale by weight_decay factor\n",
    "    # This avoids the conditional that causes JIT issues\n",
    "    weight_decay = opt_state['weight_decay']\n",
    "    def apply_decay(p, g):\n",
    "        # Only apply to weight matrices, not biases/vectors\n",
    "        # is_matrix = jnp.size(p) > jnp.size(p.shape)  # Check if it's a matrix\n",
    "        is_matrix = len(p.shape) > 1\n",
    "        decay_factor = jnp.where(is_matrix, weight_decay, 0.0)\n",
    "        return g + decay_factor * p\n",
    "        \n",
    "    grads = jax.tree_util.tree_map(apply_decay, params, grads)\n",
    "    \n",
    "    # Standard Adam update\n",
    "    m, v, t = opt_state['m'], opt_state['v'], opt_state['t'] + 1\n",
    "    beta1, beta2, lr, eps = opt_state['beta1'], opt_state['beta2'], opt_state['lr'], opt_state['eps']\n",
    "\n",
    "    new_m = jax.tree_util.tree_map(lambda m, g: beta1 * m + (1 - beta1) * g, m, grads)\n",
    "    new_v = jax.tree_util.tree_map(lambda v, g: beta2 * v + (1 - beta2) * (g ** 2), v, grads)\n",
    "\n",
    "    m_hat = jax.tree_util.tree_map(lambda m: m / (1 - beta1 ** t), new_m)\n",
    "    v_hat = jax.tree_util.tree_map(lambda v: v / (1 - beta2 ** t), new_v)\n",
    "\n",
    "    new_params = jax.tree_util.tree_map(lambda p, m_h, v_h: p - lr * m_h / (jnp.sqrt(v_h) + eps), \n",
    "                                       params, m_hat, v_hat)\n",
    "    \n",
    "    return new_params, {\n",
    "        'm': new_m, \n",
    "        'v': new_v, \n",
    "        't': t, \n",
    "        'lr': lr, \n",
    "        'beta1': beta1, \n",
    "        'beta2': beta2, \n",
    "        'eps': eps,\n",
    "        'weight_decay': weight_decay\n",
    "    }"
   ]
  },
  {
   "cell_type": "code",
   "execution_count": 14,
   "id": "b8ea238a-18dd-427e-b303-c1dc5c62db5d",
   "metadata": {},
   "outputs": [],
   "source": [
    "# Training Step (JIT compiled)\n",
    "@functools.partial(jax.jit, static_argnums=(3, 4))\n",
    "def train_step(params, opt_state, batch, num_heads=NUM_HEADS, max_grad_norm=MAX_GRAD_NORM):\n",
    "    \"\"\"\n",
    "    Training step with gradient clipping and additional regularization.\n",
    "    \"\"\"\n",
    "    inputs, labels = batch\n",
    "    key = jax.random.PRNGKey(0)  # Deterministic for JIT\n",
    "\n",
    "    def loss_fn(p):\n",
    "        logits = transformer_model(inputs, p, num_heads, mask=create_padding_mask(inputs), \n",
    "                               key=key, dropout_rate=DROPOUT, is_training=True)\n",
    "        loss = cross_entropy_loss(logits, labels)\n",
    "        return loss\n",
    "\n",
    "    grads = jax.grad(loss_fn)(params)\n",
    "    params, opt_state = adam_update(params, grads, opt_state, max_grad_norm)\n",
    "    loss = loss_fn(params)\n",
    "    \n",
    "    # Calculate accuracy for monitoring\n",
    "    logits = transformer_model(inputs, params, num_heads, mask=create_padding_mask(inputs), \n",
    "                           is_training=False)\n",
    "    accuracy = accuracy_fn(logits, labels)\n",
    "    \n",
    "    return params, opt_state, loss, accuracy\n"
   ]
  },
  {
   "cell_type": "code",
   "execution_count": 15,
   "id": "0558c200-3505-4c7f-9818-97cee7bb1de9",
   "metadata": {},
   "outputs": [],
   "source": [
    "# Save and Load\n",
    "def save_model(params, filepath=\"transformer_params.pkl\"):\n",
    "    params_cpu = jax.device_get(params)\n",
    "    with open(filepath, \"wb\") as f:\n",
    "        pickle.dump(params_cpu, f)\n",
    "\n",
    "def load_model(filepath=\"transformer_params.pkl\"):\n",
    "    with open(filepath, \"rb\") as f:\n",
    "        return pickle.load(f)\n",
    "\n",
    "# Save vocabulary to file\n",
    "def save_vocab(vocab, filepath=\"transformer_vocab.pkl\"):\n",
    "    \"\"\"Save vocabulary dictionary to file for later use in inference.\"\"\"\n",
    "    with open(filepath, \"wb\") as f:\n",
    "        pickle.dump(vocab, f)\n",
    "\n",
    "def load_vocab(filepath=\"transformer_vocab.pkl\"):\n",
    "    \"\"\"Load vocabulary dictionary from file.\"\"\"\n",
    "    with open(filepath, \"rb\") as f:\n",
    "        return pickle.load(f)\n",
    "\n",
    "# Prediction function for inference\n",
    "def predict_sentiment(text, params, vocab, max_len=MAX_LEN, num_heads=NUM_HEADS):\n",
    "    \"\"\"\n",
    "    Predict sentiment for a given text using the trained transformer model.\n",
    "    \n",
    "    Parameters:\n",
    "    - text: input text string\n",
    "    - params: trained model parameters\n",
    "    - vocab: vocabulary dictionary\n",
    "    - max_len: maximum sequence length\n",
    "    - num_heads: number of attention heads in the model\n",
    "    \n",
    "    Returns:\n",
    "    - prediction: 0 for negative, 1 for positive\n",
    "    - confidence: prediction confidence score\n",
    "    - logits: raw model output\n",
    "    \"\"\"\n",
    "    # Tokenize and encode the text\n",
    "    tokens = text.lower().split()\n",
    "    \n",
    "    # Convert tokens to ids\n",
    "    ids = [vocab.get(token, vocab['<unk>']) for token in tokens]\n",
    "    \n",
    "    # Pad or truncate\n",
    "    if len(ids) < max_len:\n",
    "        ids = ids + [vocab['<pad>']] * (max_len - len(ids))\n",
    "    else:\n",
    "        ids = ids[:max_len]\n",
    "    \n",
    "    # Convert to JAX array and send to device\n",
    "    input_array = to_device(jnp.array([ids]))\n",
    "    \n",
    "    # Get prediction\n",
    "    logits = transformer_model(\n",
    "        input_array,\n",
    "        params,\n",
    "        num_heads,\n",
    "        mask=create_padding_mask(input_array),\n",
    "        is_training=False\n",
    "    )\n",
    "    \n",
    "    # Convert to probabilities\n",
    "    probs = jax.nn.softmax(logits)[0]\n",
    "    prediction = int(jnp.argmax(probs))\n",
    "    confidence = float(probs[prediction])\n",
    "    \n",
    "    return prediction, confidence, logits[0]\n",
    "\n",
    "\n",
    "# Plotting function\n",
    "def plot_training_curves(metrics, save_path=\"training_curves.png\"):\n",
    "    \"\"\"\n",
    "    Plot training and validation metrics.\n",
    "    \"\"\"\n",
    "    fig, ((ax1, ax2), (ax3, ax4)) = plt.subplots(2, 2, figsize=(15, 10))\n",
    "    \n",
    "    # Plot losses\n",
    "    ax1.plot(metrics['train_losses'], 'b-', label='Training Loss')\n",
    "    ax1.plot(metrics['val_losses'], 'r-', label='Validation Loss')\n",
    "    ax1.set_title('Loss Curves')\n",
    "    ax1.set_xlabel('Epoch')\n",
    "    ax1.set_ylabel('Loss')\n",
    "    ax1.legend()\n",
    "    ax1.grid(True)\n",
    "    \n",
    "    # Plot accuracies\n",
    "    ax2.plot(metrics['train_accuracies'], 'b-', label='Training Accuracy')\n",
    "    ax2.plot(metrics['val_accuracies'], 'r-', label='Validation Accuracy')\n",
    "    ax2.set_title('Accuracy Curves')\n",
    "    ax2.set_xlabel('Epoch')\n",
    "    ax2.set_ylabel('Accuracy')\n",
    "    ax2.legend()\n",
    "    ax2.grid(True)\n",
    "    \n",
    "    # Plot precision and recall\n",
    "    ax3.plot(metrics['val_precisions'], 'g-', label='Precision')\n",
    "    ax3.plot(metrics['val_recalls'], 'm-', label='Recall')\n",
    "    ax3.plot(metrics['val_f1s'], 'y-', label='F1 Score')\n",
    "    ax3.set_title('Validation Precision-Recall Curves')\n",
    "    ax3.set_xlabel('Epoch')\n",
    "    ax3.set_ylabel('Score')\n",
    "    ax3.legend()\n",
    "    ax3.grid(True)\n",
    "    \n",
    "    # Plot learning rate\n",
    "    if 'learning_rates' in metrics:\n",
    "        ax4.plot(metrics['learning_rates'], 'g-')\n",
    "        ax4.set_title('Learning Rate Schedule')\n",
    "        ax4.set_xlabel('Epoch')\n",
    "        ax4.set_ylabel('Learning Rate')\n",
    "        ax4.set_yscale('log')\n",
    "        ax4.grid(True)\n",
    "    else:\n",
    "        # Plot accuracy zoomed in to show detail\n",
    "        ax4.plot(metrics['train_accuracies'], 'b-', label='Training Accuracy')\n",
    "        ax4.plot(metrics['val_accuracies'], 'r-', label='Validation Accuracy')\n",
    "        ax4.set_title('Accuracy Curves (Zoomed)')\n",
    "        ax4.set_xlabel('Epoch')\n",
    "        ax4.set_ylabel('Accuracy')\n",
    "        if min(metrics['train_accuracies'] + metrics['val_accuracies']) > 0.5:\n",
    "            ax4.set_ylim(0.5, 1.0)  # Zoom in if accuracies are above 0.5\n",
    "        ax4.legend()\n",
    "        ax4.grid(True)\n",
    "    \n",
    "    plt.tight_layout()\n",
    "    plt.savefig(save_path)\n",
    "    plt.show()"
   ]
  },
  {
   "cell_type": "code",
   "execution_count": 16,
   "id": "d43873a4-9cdc-4943-b10c-fe6fb8a8a974",
   "metadata": {},
   "outputs": [],
   "source": [
    "# Full training function with all regularization techniques\n",
    "def train_transformer_on_imdb(num_epochs=EPOCHS, \n",
    "                             batch_size=BATCH_SIZE, \n",
    "                             d_model=D_MODEL, \n",
    "                             num_heads=NUM_HEADS, \n",
    "                             d_ff=D_FF, \n",
    "                             num_layers=NUM_LAYERS, \n",
    "                             base_lr=LEARNING_RATE,\n",
    "                             train_split=TRAIN_SPLIT,\n",
    "                             dropout_rate=DROPOUT,\n",
    "                             weight_decay=WEIGHT_DECAY,\n",
    "                             patience=PATIENCE,\n",
    "                             max_grad_norm=MAX_GRAD_NORM):\n",
    "    \"\"\"\n",
    "    Train a transformer model on the IMDB dataset with comprehensive anti-overfitting techniques.\n",
    "    \n",
    "    Techniques included:\n",
    "    1. Increased dropout throughout the model\n",
    "    2. Weight decay regularization\n",
    "    3. Learning rate scheduling (warmup + decay)\n",
    "    4. Early stopping with model checkpointing\n",
    "    5. Gradient clipping\n",
    "    6. Data augmentation\n",
    "    7. Residual path dropout\n",
    "    \n",
    "    Parameters:\n",
    "    - Standard model parameters plus regularization parameters\n",
    "    \n",
    "    Returns:\n",
    "    - params: trained model parameters\n",
    "    - vocab: vocabulary dictionary\n",
    "    - metrics: various training metrics (losses, accuracies, etc.)\n",
    "    \"\"\"\n",
    "    print(\"\\n\" + \"=\"*80)\n",
    "    print(\"TRANSFORMER TRAINING WITH ANTI-OVERFITTING TECHNIQUES\")\n",
    "    print(\"=\"*80 + \"\\n\")\n",
    "    \n",
    "    # Report configuration\n",
    "    print(\"Model Configuration:\")\n",
    "    print(f\"- Epochs: {num_epochs}\")\n",
    "    print(f\"- Batch size: {batch_size}\")\n",
    "    print(f\"- Model dimension: d_model={d_model}, heads={num_heads}, layers={num_layers}, d_ff={d_ff}\")\n",
    "    print(\"\\nRegularization Techniques:\")\n",
    "    print(f\"- Dropout rate: {dropout_rate}\")\n",
    "    print(f\"- Weight decay: {weight_decay}\")\n",
    "    print(f\"- Early stopping patience: {patience}\")\n",
    "    print(f\"- Gradient clipping norm: {max_grad_norm}\")\n",
    "    print(f\"- Learning rate scheduling: Warmup + Decay (base_lr={base_lr})\")\n",
    "    print(f\"- Data augmentation: {'Enabled' if DATA_AUGMENTATION else 'Disabled'}\")\n",
    "    print(f\"- Training/Validation split: {train_split*100:.0f}%/{(1-train_split)*100:.0f}%\")\n",
    "    \n",
    "    # Load and prepare data\n",
    "    (train_inputs, train_labels), (val_inputs, val_labels), vocab = load_full_imdb_dataset(\n",
    "        vocab_size=VOCAB_SIZE, \n",
    "        max_len=MAX_LEN,\n",
    "        train_split=train_split\n",
    "    )\n",
    "    \n",
    "    print(f\"\\nDataset loaded. Train samples: {len(train_inputs)}, Validation samples: {len(val_inputs)}\")\n",
    "    \n",
    "    vocab_size = len(vocab)\n",
    "    max_len = train_inputs.shape[1]\n",
    "    num_classes = 2\n",
    "    \n",
    "    # Calculate total steps for progress and LR scheduling\n",
    "    steps_per_epoch = len(train_inputs) // batch_size\n",
    "    total_steps = steps_per_epoch * num_epochs\n",
    "    print(f\"Total training steps: {total_steps} ({steps_per_epoch} steps per epoch)\")\n",
    "    \n",
    "    # Create learning rate schedule\n",
    "    lr_schedule = create_learning_rate_schedule(\n",
    "        initial_lr=base_lr,\n",
    "        warmup_steps=WARMUP_STEPS,\n",
    "        decay_rate=0.1,\n",
    "        decay_steps=steps_per_epoch * 5  # Decay every 5 epochs\n",
    "    )\n",
    "    \n",
    "    # Initialize model\n",
    "    print(\"\\nInitializing model...\")\n",
    "    key = jax.random.PRNGKey(SEED)\n",
    "    params = to_device(init_transformer_model_params(vocab_size, max_len, d_model, num_heads, d_ff, num_layers, num_classes, key))\n",
    "    opt_state = init_adam_optimizer(params, learning_rate=base_lr, weight_decay=weight_decay)\n",
    "\n",
    "    # Initialize metrics tracking\n",
    "    train_losses = []\n",
    "    train_accuracies = []\n",
    "    val_losses = []\n",
    "    val_accuracies = []\n",
    "    val_precisions = []\n",
    "    val_recalls = []\n",
    "    val_f1s = []\n",
    "    learning_rates = []\n",
    "    \n",
    "    # Early stopping variables\n",
    "    best_val_loss = float('inf')\n",
    "    best_params = None\n",
    "    patience_counter = 0\n",
    "    \n",
    "    # Setup for tracking training time\n",
    "    total_start_time = time.time()\n",
    "    print(\"\\nStarting training...\")\n",
    "\n",
    "    for epoch in range(1, num_epochs + 1):\n",
    "        epoch_start_time = time.time()\n",
    "        print(f\"\\nEpoch {epoch}/{num_epochs}\")\n",
    "        \n",
    "        # Update learning rate based on schedule\n",
    "        current_step = (epoch - 1) * steps_per_epoch\n",
    "        current_lr = lr_schedule(current_step)\n",
    "        opt_state['lr'] = current_lr\n",
    "        learning_rates.append(current_lr)\n",
    "        \n",
    "        print(f\"Learning rate: {current_lr:.6f}\")\n",
    "        \n",
    "        # Training phase\n",
    "        epoch_loss = 0\n",
    "        epoch_accuracy = 0\n",
    "        n_batches = 0\n",
    "        \n",
    "        # Create data loader with batch indices\n",
    "        batches = list(data_loader(train_inputs, train_labels, batch_size, shuffle=True, rng=epoch))\n",
    "        \n",
    "        # Training loop with progress bar\n",
    "        train_pbar = tqdm(batches, desc=f\"Training\", unit=\"batch\")\n",
    "        for batch_inputs, batch_labels in train_pbar:\n",
    "            # Convert numpy arrays to JAX arrays\n",
    "            batch_inputs = to_device(jnp.array(batch_inputs))\n",
    "            batch_labels = to_device(jnp.array(batch_labels))\n",
    "            \n",
    "            # Train step with JIT compilation\n",
    "            params, opt_state, loss, accuracy = train_step(params, opt_state, (batch_inputs, batch_labels), num_heads, max_grad_norm)\n",
    "            \n",
    "            # Accumulate metrics\n",
    "            epoch_loss += loss\n",
    "            epoch_accuracy += accuracy\n",
    "            n_batches += 1\n",
    "            \n",
    "            # Update progress bar\n",
    "            train_pbar.set_postfix({\"loss\": f\"{loss:.4f}\", \"acc\": f\"{accuracy:.4f}\", \"lr\": f\"{current_lr:.6f}\"})\n",
    "\n",
    "        # Calculate average training metrics\n",
    "        avg_train_loss = epoch_loss / n_batches\n",
    "        avg_train_acc = epoch_accuracy / n_batches\n",
    "        \n",
    "        # Store training metrics\n",
    "        train_losses.append(float(avg_train_loss))\n",
    "        train_accuracies.append(float(avg_train_acc))\n",
    "        \n",
    "        # Evaluation on validation set\n",
    "        print(\"Running validation...\")\n",
    "        val_preds = []\n",
    "        val_losses_list = []\n",
    "        validation_size = len(val_inputs)\n",
    "        \n",
    "        # Process validation data in batches with progress bar\n",
    "        val_steps = (validation_size + batch_size - 1) // batch_size  # Ceiling division\n",
    "        val_pbar = tqdm(range(0, validation_size, batch_size), total=val_steps, desc=\"Validation\", unit=\"batch\")\n",
    "        \n",
    "        for i in val_pbar:\n",
    "            end_idx = min(i + batch_size, validation_size)\n",
    "            batch_inputs = val_inputs[i:end_idx]\n",
    "            batch_labels = val_labels[i:end_idx]\n",
    "            \n",
    "            # Convert to device arrays\n",
    "            batch_inputs = to_device(jnp.array(batch_inputs))\n",
    "            batch_labels = to_device(jnp.array(batch_labels))\n",
    "            \n",
    "            # Get predictions (no dropout during evaluation)\n",
    "            logits = transformer_model(\n",
    "                batch_inputs, \n",
    "                params, \n",
    "                num_heads, \n",
    "                mask=create_padding_mask(batch_inputs),\n",
    "                is_training=False\n",
    "            )\n",
    "            \n",
    "            # Calculate validation loss\n",
    "            val_loss = cross_entropy_loss(logits, batch_labels)\n",
    "            val_losses_list.append(float(val_loss))\n",
    "            \n",
    "            # Move results back to CPU for collection\n",
    "            val_preds.append(jax.device_get(logits))\n",
    "            \n",
    "            # Update validation progress bar\n",
    "            val_pbar.set_postfix({\"loss\": f\"{val_loss:.4f}\"})\n",
    "        \n",
    "        # Calculate average validation loss\n",
    "        avg_val_loss = sum(val_losses_list) / len(val_losses_list)\n",
    "        val_losses.append(avg_val_loss)\n",
    "        \n",
    "        # Combine all predictions\n",
    "        val_logits = np.vstack(val_preds)  # Using numpy's vstack for safety\n",
    "        \n",
    "        # Calculate metrics on CPU\n",
    "        val_logits = jnp.array(val_logits)\n",
    "        val_labels_array = jnp.array(val_labels)\n",
    "        \n",
    "        val_acc = float(accuracy_fn(val_logits, val_labels_array))\n",
    "        precision, recall, f1 = precision_recall_f1(val_logits, val_labels_array)\n",
    "        \n",
    "        # Store metrics\n",
    "        val_accuracies.append(val_acc)\n",
    "        val_precisions.append(float(precision))\n",
    "        val_recalls.append(float(recall))\n",
    "        val_f1s.append(float(f1))\n",
    "        \n",
    "        # Early stopping check\n",
    "        if avg_val_loss < best_val_loss:\n",
    "            best_val_loss = avg_val_loss\n",
    "            best_params = jax.tree_util.tree_map(lambda x: x, params)  # Deep copy\n",
    "            patience_counter = 0\n",
    "            save_model(params, filepath=\"transformer_imdb_best.pkl\")\n",
    "            print(f\"✓ New best model saved (val_loss: {best_val_loss:.4f})\")\n",
    "        else:\n",
    "            patience_counter += 1\n",
    "            print(f\"! Validation loss did not improve. Patience: {patience_counter}/{patience}\")\n",
    "        \n",
    "        # Calculate epoch time\n",
    "        epoch_time = time.time() - epoch_start_time\n",
    "        eta = epoch_time * (num_epochs - epoch)  # Estimated time remaining\n",
    "        \n",
    "        # Print epoch summary with timing information and metrics\n",
    "        print(f\"Epoch {epoch}/{num_epochs} completed in {epoch_time:.1f}s (ETA: {eta/60:.1f}m)\")\n",
    "        print(f\"Train Loss: {avg_train_loss:.4f} | Train Acc: {avg_train_acc:.4f}\")\n",
    "        print(f\"Val Loss: {avg_val_loss:.4f} | Val Acc: {val_acc:.4f} | Precision: {precision:.4f} | Recall: {recall:.4f} | F1: {f1:.4f}\")\n",
    "        \n",
    "        # Check for early stopping\n",
    "        if patience_counter >= patience:\n",
    "            print(f\"\\nEarly stopping triggered after {epoch} epochs\")\n",
    "            break\n",
    "\n",
    "    # Total training time\n",
    "    total_time = time.time() - total_start_time\n",
    "    print(f\"\\nTraining completed in {total_time/60:.2f} minutes\")\n",
    "    \n",
    "    # Use best model from early stopping\n",
    "    if best_params is not None:\n",
    "        params = best_params\n",
    "        print(\"Using best model from early stopping\")\n",
    "    \n",
    "    # Final evaluation\n",
    "    final_logits = []\n",
    "    for i in range(0, validation_size, batch_size):\n",
    "        end_idx = min(i + batch_size, validation_size)\n",
    "        batch_inputs = val_inputs[i:end_idx]\n",
    "        batch_inputs = to_device(jnp.array(batch_inputs))\n",
    "        logits = transformer_model(batch_inputs, params, num_heads, \n",
    "                               mask=create_padding_mask(batch_inputs), is_training=False)\n",
    "        final_logits.append(jax.device_get(logits))\n",
    "    \n",
    "    final_logits = np.vstack(final_logits)\n",
    "    final_accuracy = float(accuracy_fn(jnp.array(final_logits), jnp.array(val_labels)))\n",
    "    precision, recall, f1 = precision_recall_f1(jnp.array(final_logits), jnp.array(val_labels))\n",
    "    \n",
    "    print(f\"\\nFinal Evaluation Metrics:\")\n",
    "    print(f\"Validation Accuracy: {final_accuracy:.4f}\")\n",
    "    print(f\"Precision: {precision:.4f}, Recall: {recall:.4f}, F1 Score: {f1:.4f}\")\n",
    "\n",
    "    # Return all metrics for plotting\n",
    "    metrics = {\n",
    "        'train_losses': train_losses,\n",
    "        'train_accuracies': train_accuracies,\n",
    "        'val_losses': val_losses,\n",
    "        'val_accuracies': val_accuracies,\n",
    "        'val_precisions': val_precisions,\n",
    "        'val_recalls': val_recalls,\n",
    "        'val_f1s': val_f1s,\n",
    "        'learning_rates': learning_rates\n",
    "    }\n",
    "    \n",
    "    return params, vocab, metrics"
   ]
  },
  {
   "cell_type": "code",
   "execution_count": 17,
   "id": "9344d4bf-2e05-4859-ad14-82e749283ca8",
   "metadata": {},
   "outputs": [
    {
     "name": "stdout",
     "output_type": "stream",
     "text": [
      "Starting transformer training with anti-overfitting techniques\n",
      "Configuration:\n",
      "- Epochs: 30\n",
      "- Batch size: 64\n",
      "- Attention heads: 6\n",
      "- Transformer layers: 6\n",
      "- Model dimension: 384\n",
      "- Feed-forward dimension: 1024\n",
      "- Train/Val Split: 70%/30%\n",
      "- Dropout: 0.25\n",
      "- Weight decay: 0.0001\n",
      "\n",
      "================================================================================\n",
      "TRANSFORMER TRAINING WITH ANTI-OVERFITTING TECHNIQUES\n",
      "================================================================================\n",
      "\n",
      "Model Configuration:\n",
      "- Epochs: 30\n",
      "- Batch size: 64\n",
      "- Model dimension: d_model=384, heads=6, layers=6, d_ff=1024\n",
      "\n",
      "Regularization Techniques:\n",
      "- Dropout rate: 0.25\n",
      "- Weight decay: 0.0001\n",
      "- Early stopping patience: 5\n",
      "- Gradient clipping norm: 1.0\n",
      "- Learning rate scheduling: Warmup + Decay (base_lr=0.0003)\n",
      "- Data augmentation: Enabled\n",
      "- Training/Validation split: 70%/30%\n",
      "Loading IMDB dataset...\n",
      "Applying data augmentation to 30% of training data...\n",
      "Training data expanded from 35000 to 45500 examples with augmentation\n",
      "Encoding texts...\n",
      "\n",
      "Dataset loaded. Train samples: 45500, Validation samples: 15000\n",
      "Total training steps: 21300 (710 steps per epoch)\n",
      "\n",
      "Initializing model...\n",
      "\n",
      "Starting training...\n",
      "\n",
      "Epoch 1/30\n",
      "Learning rate: 0.000000\n"
     ]
    },
    {
     "data": {
      "application/vnd.jupyter.widget-view+json": {
       "model_id": "7b2b88086ffd4084819118e86db20ab9",
       "version_major": 2,
       "version_minor": 0
      },
      "text/plain": [
       "Training:   0%|          | 0/711 [00:00<?, ?batch/s]"
      ]
     },
     "metadata": {},
     "output_type": "display_data"
    },
    {
     "name": "stderr",
     "output_type": "stream",
     "text": [
      "/tmp/ipykernel_24728/1430659263.py:38: DeprecationWarning: size requires ndarray or scalar arguments, got <class 'tuple'> at position 0. In a future JAX release this will be an error.\n",
      "  is_matrix = jnp.size(p) > jnp.size(p.shape)  # Check if it's a matrix\n"
     ]
    },
    {
     "name": "stdout",
     "output_type": "stream",
     "text": [
      "Running validation...\n"
     ]
    },
    {
     "data": {
      "application/vnd.jupyter.widget-view+json": {
       "model_id": "3ced7ed5b6054e99b88a3145c6c60d34",
       "version_major": 2,
       "version_minor": 0
      },
      "text/plain": [
       "Validation:   0%|          | 0/235 [00:00<?, ?batch/s]"
      ]
     },
     "metadata": {},
     "output_type": "display_data"
    },
    {
     "name": "stdout",
     "output_type": "stream",
     "text": [
      "✓ New best model saved (val_loss: 0.6976)\n",
      "Epoch 1/30 completed in 456.5s (ETA: 220.6m)\n",
      "Train Loss: 0.6943 | Train Acc: 0.4995\n",
      "Val Loss: 0.6976 | Val Acc: 0.5000 | Precision: 0.5000 | Recall: 1.0000 | F1: 0.6667\n",
      "\n",
      "Epoch 2/30\n",
      "Learning rate: 0.000213\n"
     ]
    },
    {
     "data": {
      "application/vnd.jupyter.widget-view+json": {
       "model_id": "16ec8d5afcbe4313a9e4265b240af58e",
       "version_major": 2,
       "version_minor": 0
      },
      "text/plain": [
       "Training:   0%|          | 0/711 [00:00<?, ?batch/s]"
      ]
     },
     "metadata": {},
     "output_type": "display_data"
    },
    {
     "name": "stdout",
     "output_type": "stream",
     "text": [
      "Running validation...\n"
     ]
    },
    {
     "data": {
      "application/vnd.jupyter.widget-view+json": {
       "model_id": "05ce5c174abf4213961ddffc5412a7fc",
       "version_major": 2,
       "version_minor": 0
      },
      "text/plain": [
       "Validation:   0%|          | 0/235 [00:00<?, ?batch/s]"
      ]
     },
     "metadata": {},
     "output_type": "display_data"
    },
    {
     "name": "stdout",
     "output_type": "stream",
     "text": [
      "✓ New best model saved (val_loss: 0.6928)\n",
      "Epoch 2/30 completed in 80.0s (ETA: 37.4m)\n",
      "Train Loss: 0.6931 | Train Acc: 0.5093\n",
      "Val Loss: 0.6928 | Val Acc: 0.5109 | Precision: 0.5512 | Recall: 0.1169 | F1: 0.1929\n",
      "\n",
      "Epoch 3/30\n",
      "Learning rate: 0.000228\n"
     ]
    },
    {
     "data": {
      "application/vnd.jupyter.widget-view+json": {
       "model_id": "341a0500b4dd4a67bf30ad9146a78052",
       "version_major": 2,
       "version_minor": 0
      },
      "text/plain": [
       "Training:   0%|          | 0/711 [00:00<?, ?batch/s]"
      ]
     },
     "metadata": {},
     "output_type": "display_data"
    },
    {
     "name": "stdout",
     "output_type": "stream",
     "text": [
      "Running validation...\n"
     ]
    },
    {
     "data": {
      "application/vnd.jupyter.widget-view+json": {
       "model_id": "b975b85da1454cc4bec3d1849f895abd",
       "version_major": 2,
       "version_minor": 0
      },
      "text/plain": [
       "Validation:   0%|          | 0/235 [00:00<?, ?batch/s]"
      ]
     },
     "metadata": {},
     "output_type": "display_data"
    },
    {
     "name": "stdout",
     "output_type": "stream",
     "text": [
      "! Validation loss did not improve. Patience: 1/5\n",
      "Epoch 3/30 completed in 84.3s (ETA: 37.9m)\n",
      "Train Loss: 0.6927 | Train Acc: 0.5100\n",
      "Val Loss: 0.6954 | Val Acc: 0.5110 | Precision: 0.5327 | Recall: 0.1792 | F1: 0.2682\n",
      "\n",
      "Epoch 4/30\n",
      "Learning rate: 0.000144\n"
     ]
    },
    {
     "data": {
      "application/vnd.jupyter.widget-view+json": {
       "model_id": "afed05c4ac1a4ac9a0ef4aaf40906eb0",
       "version_major": 2,
       "version_minor": 0
      },
      "text/plain": [
       "Training:   0%|          | 0/711 [00:00<?, ?batch/s]"
      ]
     },
     "metadata": {},
     "output_type": "display_data"
    },
    {
     "name": "stdout",
     "output_type": "stream",
     "text": [
      "Running validation...\n"
     ]
    },
    {
     "data": {
      "application/vnd.jupyter.widget-view+json": {
       "model_id": "ace86656dba94fb19376f215f3f20260",
       "version_major": 2,
       "version_minor": 0
      },
      "text/plain": [
       "Validation:   0%|          | 0/235 [00:00<?, ?batch/s]"
      ]
     },
     "metadata": {},
     "output_type": "display_data"
    },
    {
     "name": "stdout",
     "output_type": "stream",
     "text": [
      "! Validation loss did not improve. Patience: 2/5\n",
      "Epoch 4/30 completed in 79.7s (ETA: 34.5m)\n",
      "Train Loss: 0.6920 | Train Acc: 0.5178\n",
      "Val Loss: 0.7125 | Val Acc: 0.5118 | Precision: 0.5470 | Recall: 0.1373 | F1: 0.2195\n",
      "\n",
      "Epoch 5/30\n",
      "Learning rate: 0.000091\n"
     ]
    },
    {
     "data": {
      "application/vnd.jupyter.widget-view+json": {
       "model_id": "f8ba2a7fa72e40a79cbd5a263158800f",
       "version_major": 2,
       "version_minor": 0
      },
      "text/plain": [
       "Training:   0%|          | 0/711 [00:00<?, ?batch/s]"
      ]
     },
     "metadata": {},
     "output_type": "display_data"
    },
    {
     "name": "stdout",
     "output_type": "stream",
     "text": [
      "Running validation...\n"
     ]
    },
    {
     "data": {
      "application/vnd.jupyter.widget-view+json": {
       "model_id": "4d36a65cd56a4574b061015c9014b961",
       "version_major": 2,
       "version_minor": 0
      },
      "text/plain": [
       "Validation:   0%|          | 0/235 [00:00<?, ?batch/s]"
      ]
     },
     "metadata": {},
     "output_type": "display_data"
    },
    {
     "name": "stdout",
     "output_type": "stream",
     "text": [
      "✓ New best model saved (val_loss: 0.5173)\n",
      "Epoch 5/30 completed in 82.3s (ETA: 34.3m)\n",
      "Train Loss: 0.6347 | Train Acc: 0.6073\n",
      "Val Loss: 0.5173 | Val Acc: 0.8186 | Precision: 0.8212 | Recall: 0.8145 | F1: 0.8179\n",
      "\n",
      "Epoch 6/30\n",
      "Learning rate: 0.000057\n"
     ]
    },
    {
     "data": {
      "application/vnd.jupyter.widget-view+json": {
       "model_id": "d0f043db37ae4ef8aed6966687a49b64",
       "version_major": 2,
       "version_minor": 0
      },
      "text/plain": [
       "Training:   0%|          | 0/711 [00:00<?, ?batch/s]"
      ]
     },
     "metadata": {},
     "output_type": "display_data"
    },
    {
     "name": "stdout",
     "output_type": "stream",
     "text": [
      "Running validation...\n"
     ]
    },
    {
     "data": {
      "application/vnd.jupyter.widget-view+json": {
       "model_id": "63da869072f2484a9714bc02c0ce580b",
       "version_major": 2,
       "version_minor": 0
      },
      "text/plain": [
       "Validation:   0%|          | 0/235 [00:00<?, ?batch/s]"
      ]
     },
     "metadata": {},
     "output_type": "display_data"
    },
    {
     "name": "stdout",
     "output_type": "stream",
     "text": [
      "! Validation loss did not improve. Patience: 1/5\n",
      "Epoch 6/30 completed in 83.6s (ETA: 33.4m)\n",
      "Train Loss: 0.3582 | Train Acc: 0.8448\n",
      "Val Loss: 0.5202 | Val Acc: 0.8341 | Precision: 0.7791 | Recall: 0.9325 | F1: 0.8489\n",
      "\n",
      "Epoch 7/30\n",
      "Learning rate: 0.000036\n"
     ]
    },
    {
     "data": {
      "application/vnd.jupyter.widget-view+json": {
       "model_id": "0e0c6c19f88f45f6887b6717e677e785",
       "version_major": 2,
       "version_minor": 0
      },
      "text/plain": [
       "Training:   0%|          | 0/711 [00:00<?, ?batch/s]"
      ]
     },
     "metadata": {},
     "output_type": "display_data"
    },
    {
     "name": "stdout",
     "output_type": "stream",
     "text": [
      "Running validation...\n"
     ]
    },
    {
     "data": {
      "application/vnd.jupyter.widget-view+json": {
       "model_id": "2a8761229b764a819c03274a6ef04a3b",
       "version_major": 2,
       "version_minor": 0
      },
      "text/plain": [
       "Validation:   0%|          | 0/235 [00:00<?, ?batch/s]"
      ]
     },
     "metadata": {},
     "output_type": "display_data"
    },
    {
     "name": "stdout",
     "output_type": "stream",
     "text": [
      "! Validation loss did not improve. Patience: 2/5\n",
      "Epoch 7/30 completed in 80.2s (ETA: 30.7m)\n",
      "Train Loss: 0.2951 | Train Acc: 0.8769\n",
      "Val Loss: 0.5587 | Val Acc: 0.8433 | Precision: 0.7881 | Recall: 0.9389 | F1: 0.8570\n",
      "\n",
      "Epoch 8/30\n",
      "Learning rate: 0.000023\n"
     ]
    },
    {
     "data": {
      "application/vnd.jupyter.widget-view+json": {
       "model_id": "63febfa612344974a7178458d09be3e6",
       "version_major": 2,
       "version_minor": 0
      },
      "text/plain": [
       "Training:   0%|          | 0/711 [00:00<?, ?batch/s]"
      ]
     },
     "metadata": {},
     "output_type": "display_data"
    },
    {
     "name": "stdout",
     "output_type": "stream",
     "text": [
      "Running validation...\n"
     ]
    },
    {
     "data": {
      "application/vnd.jupyter.widget-view+json": {
       "model_id": "a2e510890bbf4005a730e9848e8112b9",
       "version_major": 2,
       "version_minor": 0
      },
      "text/plain": [
       "Validation:   0%|          | 0/235 [00:00<?, ?batch/s]"
      ]
     },
     "metadata": {},
     "output_type": "display_data"
    },
    {
     "name": "stdout",
     "output_type": "stream",
     "text": [
      "✓ New best model saved (val_loss: 0.4479)\n",
      "Epoch 8/30 completed in 83.4s (ETA: 30.6m)\n",
      "Train Loss: 0.2700 | Train Acc: 0.8906\n",
      "Val Loss: 0.4479 | Val Acc: 0.8644 | Precision: 0.8819 | Recall: 0.8415 | F1: 0.8612\n",
      "\n",
      "Epoch 9/30\n",
      "Learning rate: 0.000014\n"
     ]
    },
    {
     "data": {
      "application/vnd.jupyter.widget-view+json": {
       "model_id": "c77d3d80b8ac4411ad8821a5c2721d1e",
       "version_major": 2,
       "version_minor": 0
      },
      "text/plain": [
       "Training:   0%|          | 0/711 [00:00<?, ?batch/s]"
      ]
     },
     "metadata": {},
     "output_type": "display_data"
    },
    {
     "name": "stdout",
     "output_type": "stream",
     "text": [
      "Running validation...\n"
     ]
    },
    {
     "data": {
      "application/vnd.jupyter.widget-view+json": {
       "model_id": "c069087726604b3c9225fb83381331d7",
       "version_major": 2,
       "version_minor": 0
      },
      "text/plain": [
       "Validation:   0%|          | 0/235 [00:00<?, ?batch/s]"
      ]
     },
     "metadata": {},
     "output_type": "display_data"
    },
    {
     "name": "stdout",
     "output_type": "stream",
     "text": [
      "! Validation loss did not improve. Patience: 1/5\n",
      "Epoch 9/30 completed in 83.5s (ETA: 29.2m)\n",
      "Train Loss: 0.2556 | Train Acc: 0.8980\n",
      "Val Loss: 0.4757 | Val Acc: 0.8683 | Precision: 0.8557 | Recall: 0.8860 | F1: 0.8706\n",
      "\n",
      "Epoch 10/30\n",
      "Learning rate: 0.000009\n"
     ]
    },
    {
     "data": {
      "application/vnd.jupyter.widget-view+json": {
       "model_id": "ec6b2890cdbb4ac8b4e3d264ed9569b7",
       "version_major": 2,
       "version_minor": 0
      },
      "text/plain": [
       "Training:   0%|          | 0/711 [00:00<?, ?batch/s]"
      ]
     },
     "metadata": {},
     "output_type": "display_data"
    },
    {
     "name": "stdout",
     "output_type": "stream",
     "text": [
      "Running validation...\n"
     ]
    },
    {
     "data": {
      "application/vnd.jupyter.widget-view+json": {
       "model_id": "ea011458769d4246b13262088d7225e2",
       "version_major": 2,
       "version_minor": 0
      },
      "text/plain": [
       "Validation:   0%|          | 0/235 [00:00<?, ?batch/s]"
      ]
     },
     "metadata": {},
     "output_type": "display_data"
    },
    {
     "name": "stdout",
     "output_type": "stream",
     "text": [
      "! Validation loss did not improve. Patience: 2/5\n",
      "Epoch 10/30 completed in 78.2s (ETA: 26.1m)\n",
      "Train Loss: 0.2456 | Train Acc: 0.9020\n",
      "Val Loss: 0.4634 | Val Acc: 0.8694 | Precision: 0.8489 | Recall: 0.8988 | F1: 0.8731\n",
      "\n",
      "Epoch 11/30\n",
      "Learning rate: 0.000006\n"
     ]
    },
    {
     "data": {
      "application/vnd.jupyter.widget-view+json": {
       "model_id": "15801cf19c0f4a689711f06978edbc30",
       "version_major": 2,
       "version_minor": 0
      },
      "text/plain": [
       "Training:   0%|          | 0/711 [00:00<?, ?batch/s]"
      ]
     },
     "metadata": {},
     "output_type": "display_data"
    },
    {
     "name": "stdout",
     "output_type": "stream",
     "text": [
      "Running validation...\n"
     ]
    },
    {
     "data": {
      "application/vnd.jupyter.widget-view+json": {
       "model_id": "a8d5ce2d4000494cab99d5c7b8f283bc",
       "version_major": 2,
       "version_minor": 0
      },
      "text/plain": [
       "Validation:   0%|          | 0/235 [00:00<?, ?batch/s]"
      ]
     },
     "metadata": {},
     "output_type": "display_data"
    },
    {
     "name": "stdout",
     "output_type": "stream",
     "text": [
      "! Validation loss did not improve. Patience: 3/5\n",
      "Epoch 11/30 completed in 83.6s (ETA: 26.5m)\n",
      "Train Loss: 0.2403 | Train Acc: 0.9039\n",
      "Val Loss: 0.5133 | Val Acc: 0.8649 | Precision: 0.8302 | Recall: 0.9176 | F1: 0.8717\n",
      "\n",
      "Epoch 12/30\n",
      "Learning rate: 0.000004\n"
     ]
    },
    {
     "data": {
      "application/vnd.jupyter.widget-view+json": {
       "model_id": "492304a5724546d9943de18099297fde",
       "version_major": 2,
       "version_minor": 0
      },
      "text/plain": [
       "Training:   0%|          | 0/711 [00:00<?, ?batch/s]"
      ]
     },
     "metadata": {},
     "output_type": "display_data"
    },
    {
     "name": "stdout",
     "output_type": "stream",
     "text": [
      "Running validation...\n"
     ]
    },
    {
     "data": {
      "application/vnd.jupyter.widget-view+json": {
       "model_id": "9c25df486d634c40bb44ae77469c0e56",
       "version_major": 2,
       "version_minor": 0
      },
      "text/plain": [
       "Validation:   0%|          | 0/235 [00:00<?, ?batch/s]"
      ]
     },
     "metadata": {},
     "output_type": "display_data"
    },
    {
     "name": "stdout",
     "output_type": "stream",
     "text": [
      "! Validation loss did not improve. Patience: 4/5\n",
      "Epoch 12/30 completed in 83.7s (ETA: 25.1m)\n",
      "Train Loss: 0.2370 | Train Acc: 0.9056\n",
      "Val Loss: 0.5006 | Val Acc: 0.8674 | Precision: 0.8376 | Recall: 0.9116 | F1: 0.8730\n",
      "\n",
      "Epoch 13/30\n",
      "Learning rate: 0.000002\n"
     ]
    },
    {
     "data": {
      "application/vnd.jupyter.widget-view+json": {
       "model_id": "4f3c61c1c6374f8584ffdf3b7b24fbc1",
       "version_major": 2,
       "version_minor": 0
      },
      "text/plain": [
       "Training:   0%|          | 0/711 [00:00<?, ?batch/s]"
      ]
     },
     "metadata": {},
     "output_type": "display_data"
    },
    {
     "name": "stdout",
     "output_type": "stream",
     "text": [
      "Running validation...\n"
     ]
    },
    {
     "data": {
      "application/vnd.jupyter.widget-view+json": {
       "model_id": "c273a1cc93b24d82bd0a4631c4a74317",
       "version_major": 2,
       "version_minor": 0
      },
      "text/plain": [
       "Validation:   0%|          | 0/235 [00:00<?, ?batch/s]"
      ]
     },
     "metadata": {},
     "output_type": "display_data"
    },
    {
     "name": "stdout",
     "output_type": "stream",
     "text": [
      "! Validation loss did not improve. Patience: 5/5\n",
      "Epoch 13/30 completed in 79.4s (ETA: 22.5m)\n",
      "Train Loss: 0.2353 | Train Acc: 0.9067\n",
      "Val Loss: 0.5171 | Val Acc: 0.8639 | Precision: 0.8266 | Recall: 0.9209 | F1: 0.8712\n",
      "\n",
      "Early stopping triggered after 13 epochs\n",
      "\n",
      "Training completed in 23.97 minutes\n",
      "Using best model from early stopping\n",
      "\n",
      "Final Evaluation Metrics:\n",
      "Validation Accuracy: 0.8644\n",
      "Precision: 0.8819, Recall: 0.8415, F1 Score: 0.8612\n"
     ]
    }
   ],
   "source": [
    "print(f\"Starting transformer training with anti-overfitting techniques\")\n",
    "print(f\"Configuration:\")\n",
    "print(f\"- Epochs: {EPOCHS}\")\n",
    "print(f\"- Batch size: {BATCH_SIZE}\")\n",
    "print(f\"- Attention heads: {NUM_HEADS}\")\n",
    "print(f\"- Transformer layers: {NUM_LAYERS}\")\n",
    "print(f\"- Model dimension: {D_MODEL}\")\n",
    "print(f\"- Feed-forward dimension: {D_FF}\")\n",
    "print(f\"- Train/Val Split: {TRAIN_SPLIT*100:.0f}%/{(1-TRAIN_SPLIT)*100:.0f}%\")\n",
    "print(f\"- Dropout: {DROPOUT}\")\n",
    "print(f\"- Weight decay: {WEIGHT_DECAY}\")\n",
    "\n",
    "# Train model with specified configuration\n",
    "params, vocab, metrics = train_transformer_on_imdb()"
   ]
  },
  {
   "cell_type": "code",
   "execution_count": 18,
   "id": "292b5274-997b-4246-a455-37669ce4cac2",
   "metadata": {},
   "outputs": [
    {
     "data": {
      "image/png": "[encoded data removed]",
      "text/plain": [
       "<Figure size 1500x1000 with 4 Axes>"
      ]
     },
     "metadata": {},
     "output_type": "display_data"
    }
   ],
   "source": [
    "# Plot results\n",
    "plot_training_curves(metrics, save_path=\"transformer_metrics.png\")"
   ]
  },
  {
   "cell_type": "code",
   "execution_count": 19,
   "id": "0fde7bf4-bac0-4cbe-af8d-5809a4e40fbc",
   "metadata": {},
   "outputs": [],
   "source": [
    "# Save final model and vocabulary\n",
    "save_model(params, filepath=\"transformer_imdb_final.pkl\")\n",
    "save_vocab(vocab, filepath=\"transformer_vocab.pkl\")\n"
   ]
  },
  {
   "cell_type": "code",
   "execution_count": null,
   "id": "d18bc32e-e9c2-49bf-af38-8dd778d39035",
   "metadata": {},
   "outputs": [],
   "source": []
  }
 ],
 "metadata": {
  "kernelspec": {
   "display_name": "Python 3 (ipykernel)",
   "language": "python",
   "name": "python3"
  },
  "language_info": {
   "codemirror_mode": {
    "name": "ipython",
    "version": 3
   },
   "file_extension": ".py",
   "mimetype": "text/x-python",
   "name": "python",
   "nbconvert_exporter": "python",
   "pygments_lexer": "ipython3",
   "version": "3.11.9"
  }
 },
 "nbformat": 4,
 "nbformat_minor": 5
}
