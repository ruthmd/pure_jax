{
 "cells": [
  {
   "cell_type": "code",
   "execution_count": null,
   "id": "78328479-804f-4fbb-bfc0-9873250fc4f6",
   "metadata": {},
   "outputs": [],
   "source": [
    "!pip install \"jax[cuda12]\" -f https://storage.googleapis.com/jax-releases/jax_cuda_releases.html"
   ]
  },
  {
   "cell_type": "code",
   "execution_count": 1,
   "id": "09a1e0d8-7e2b-4d4e-b78d-034595c386e0",
   "metadata": {},
   "outputs": [],
   "source": [
    "import jax\n",
    "import jax.numpy as jnp\n",
    "from jax import random, grad, value_and_grad\n",
    "import jax.nn as nn\n",
    "import numpy as np\n",
    "import matplotlib.pyplot as plt\n",
    "import os\n",
    "import pickle\n",
    "import gzip\n",
    "import struct\n",
    "from urllib import request\n",
    "from tqdm import tqdm\n",
    "from jax.tree_util import tree_map\n",
    "import tarfile\n",
    "import io"
   ]
  },
  {
   "cell_type": "markdown",
   "id": "65e9c8f8-fc35-4ecc-b431-92750c133ed2",
   "metadata": {},
   "source": [
    "# Model Definition"
   ]
  },
  {
   "cell_type": "code",
   "execution_count": 2,
   "id": "2d2be47b-d965-447f-a1f2-8f49ee32e87c",
   "metadata": {},
   "outputs": [],
   "source": [
    "class CNNConfig:\n",
    "    def __init__(self):\n",
    "        self.input_shape = (1, 32, 32, 3)  # (batch_size, height, width, channels) for CIFAR-10\n",
    "        self.conv1_filters = 64\n",
    "        self.conv2_filters = 128\n",
    "        self.conv3_filters = 256\n",
    "        self.kernel_size = 3\n",
    "        self.dense_units = 512\n",
    "        self.output_classes = 10\n",
    "\n",
    "def conv2d(x, w, b, stride=1, padding='SAME'):\n",
    "    \"\"\"Convolutional layer implementation\"\"\"\n",
    "    x = jax.lax.conv_general_dilated(\n",
    "        lhs=x,\n",
    "        rhs=w,\n",
    "        window_strides=(stride, stride),\n",
    "        padding=padding,\n",
    "        dimension_numbers=('NHWC', 'OIHW', 'NHWC')\n",
    "    )\n",
    "    return x + b\n",
    "\n",
    "def relu(x):\n",
    "    \"\"\"ReLU activation function\"\"\"\n",
    "    return jnp.maximum(x, 0)\n",
    "\n",
    "def max_pool(x, pool_size=2, stride=2, padding='VALID'):\n",
    "    \"\"\"Max pooling layer implementation\"\"\"\n",
    "    return jax.lax.reduce_window(\n",
    "        x,\n",
    "        -jnp.inf,\n",
    "        jax.lax.max,\n",
    "        window_dimensions=(1, pool_size, pool_size, 1),\n",
    "        window_strides=(1, stride, stride, 1),\n",
    "        padding=padding\n",
    "    )\n",
    "\n",
    "def dense(x, w, b):\n",
    "    \"\"\"Fully connected layer implementation\"\"\"\n",
    "    return jnp.dot(x, w) + b\n",
    "\n",
    "def initialize_cnn_params(rng, config):\n",
    "    \"\"\"Initialize CNN model parameters with He initialization\"\"\"\n",
    "    params = {}\n",
    "    k1, k2, k3, k4, k5 = random.split(rng, 5)\n",
    "    \n",
    "    # Conv1 layer parameters\n",
    "    params['conv1_w'] = random.normal(k1, (\n",
    "        config.conv1_filters, config.input_shape[-1], \n",
    "        config.kernel_size, \n",
    "        config.kernel_size)\n",
    "    ) * jnp.sqrt(2/(config.kernel_size**2 * config.input_shape[-1]))\n",
    "    params['conv1_b'] = jnp.zeros((config.conv1_filters,))\n",
    "    \n",
    "    # Simulate forward pass to get output shape after conv1 + pool\n",
    "    x = jnp.zeros(config.input_shape)\n",
    "    x = conv2d(x, params['conv1_w'], params['conv1_b'])\n",
    "    x = relu(x)\n",
    "    x = max_pool(x)\n",
    "    \n",
    "    # Conv2 layer parameters\n",
    "    params['conv2_w'] = random.normal(k2, (config.conv2_filters, config.conv1_filters, \n",
    "                                          config.kernel_size, config.kernel_size)) * jnp.sqrt(2/(config.kernel_size**2 * config.conv1_filters))\n",
    "    params['conv2_b'] = jnp.zeros((config.conv2_filters,))\n",
    "    \n",
    "    # Simulate forward pass to get output shape after conv2 + pool\n",
    "    x = conv2d(x, params['conv2_w'], params['conv2_b'])\n",
    "    x = relu(x)\n",
    "    x = max_pool(x)\n",
    "    \n",
    "    # Conv3 layer parameters\n",
    "    params['conv3_w'] = random.normal(k3, (config.conv3_filters, config.conv2_filters, \n",
    "                                          config.kernel_size, config.kernel_size)) * jnp.sqrt(2/(config.kernel_size**2 * config.conv2_filters))\n",
    "    params['conv3_b'] = jnp.zeros((config.conv3_filters,))\n",
    "    \n",
    "    # Simulate forward pass to get output shape after conv3 + pool\n",
    "    x = conv2d(x, params['conv3_w'], params['conv3_b'])\n",
    "    x = relu(x)\n",
    "    x = max_pool(x)\n",
    "    \n",
    "    # Calculate flattened dimensions for dense layer\n",
    "    flatten_dim = x.shape[1] * x.shape[2] * x.shape[3]\n",
    "    \n",
    "    # Dense layers parameters\n",
    "    params['dense1_w'] = random.normal(k4, (flatten_dim, config.dense_units)) * jnp.sqrt(2/flatten_dim)\n",
    "    params['dense1_b'] = jnp.zeros((config.dense_units,))\n",
    "    \n",
    "    params['dense2_w'] = random.normal(k5, (config.dense_units, config.output_classes)) * jnp.sqrt(2/config.dense_units)\n",
    "    params['dense2_b'] = jnp.zeros((config.output_classes,))\n",
    "    \n",
    "    return params\n",
    "\n",
    "    \n",
    "def forward(params, x):\n",
    "    \"\"\"Forward pass through the CNN model\"\"\"\n",
    "    # First conv block\n",
    "    x = conv2d(x, params['conv1_w'], params['conv1_b'])\n",
    "    x = relu(x)\n",
    "    x = max_pool(x)\n",
    "    \n",
    "    # Second conv block\n",
    "    x = conv2d(x, params['conv2_w'], params['conv2_b'])\n",
    "    x = relu(x)\n",
    "    x = max_pool(x)\n",
    "    \n",
    "    # Third conv block\n",
    "    x = conv2d(x, params['conv3_w'], params['conv3_b'])\n",
    "    x = relu(x)\n",
    "    x = max_pool(x)\n",
    "    \n",
    "    # Flatten for dense layer\n",
    "    x = x.reshape((x.shape[0], -1))\n",
    "    \n",
    "    # Dense layers\n",
    "    x = dense(x, params['dense1_w'], params['dense1_b'])\n",
    "    x = relu(x)\n",
    "    x = dense(x, params['dense2_w'], params['dense2_b'])\n",
    "    \n",
    "    return x"
   ]
  },
  {
   "cell_type": "markdown",
   "id": "f805e968-05a4-44cf-b6ae-2f09173c1046",
   "metadata": {},
   "source": [
    "# Optimizers"
   ]
  },
  {
   "cell_type": "code",
   "execution_count": 3,
   "id": "ca25a30b-5a88-4c91-82ff-8a39e5a1521d",
   "metadata": {},
   "outputs": [],
   "source": [
    "class SGDOptimizer:\n",
    "    \"\"\"Stochastic Gradient Descent optimizer implementation\"\"\"\n",
    "    def __init__(self, learning_rate=0.01):\n",
    "        self.learning_rate = learning_rate\n",
    "    \n",
    "    def init(self, params):\n",
    "        \"\"\"Initialize optimizer (no-op for SGD)\"\"\"\n",
    "        # SGD doesn't need to maintain state\n",
    "        pass\n",
    "    \n",
    "    def update(self, params, grads):\n",
    "        \"\"\"Update parameters using gradients\"\"\"\n",
    "        return tree_map(lambda p, g: p - self.learning_rate * g, params, grads)\n",
    "\n",
    "class AdamOptimizer:\n",
    "    \"\"\"Adam optimizer implementation (compatible with JAX transformations)\"\"\"\n",
    "    def __init__(self, learning_rate=0.001, beta1=0.9, beta2=0.999, epsilon=1e-8):\n",
    "        self.learning_rate = learning_rate\n",
    "        self.beta1 = beta1\n",
    "        self.beta2 = beta2\n",
    "        self.epsilon = epsilon\n",
    "    \n",
    "    def init(self, params):\n",
    "        \"\"\"Initialize optimizer state\"\"\"\n",
    "        # Return optimizer state instead of storing it as instance variables\n",
    "        return {\n",
    "            'm': tree_map(jnp.zeros_like, params),\n",
    "            'v': tree_map(jnp.zeros_like, params),\n",
    "            't': 0\n",
    "        }\n",
    "    \n",
    "    def update(self, params, grads, opt_state):\n",
    "        \"\"\"Update parameters using gradients and optimizer state\"\"\"\n",
    "        # Unpack optimizer state\n",
    "        m, v, t = opt_state['m'], opt_state['v'], opt_state['t']\n",
    "        \n",
    "        # Increment timestep\n",
    "        t = t + 1\n",
    "        \n",
    "        # Update biased first moment estimate\n",
    "        m = tree_map(\n",
    "            lambda m_i, g_i: self.beta1 * m_i + (1 - self.beta1) * g_i, \n",
    "            m, grads\n",
    "        )\n",
    "        \n",
    "        # Update biased second raw moment estimate\n",
    "        v = tree_map(\n",
    "            lambda v_i, g_i: self.beta2 * v_i + (1 - self.beta2) * (g_i * g_i), \n",
    "            v, grads\n",
    "        )\n",
    "        \n",
    "        # Compute bias-corrected first moment estimate\n",
    "        m_hat = tree_map(\n",
    "            lambda m_i: m_i / (1 - self.beta1 ** t), \n",
    "            m\n",
    "        )\n",
    "        \n",
    "        # Compute bias-corrected second raw moment estimate\n",
    "        v_hat = tree_map(\n",
    "            lambda v_i: v_i / (1 - self.beta2 ** t), \n",
    "            v\n",
    "        )\n",
    "        \n",
    "        # Update parameters\n",
    "        updated_params = tree_map(\n",
    "            lambda p, m_h, v_h: p - self.learning_rate * m_h / (jnp.sqrt(v_h) + self.epsilon),\n",
    "            params, m_hat, v_hat\n",
    "        )\n",
    "        \n",
    "        # Return updated parameters and optimizer state\n",
    "        updated_opt_state = {'m': m, 'v': v, 't': t}\n",
    "        return updated_params, updated_opt_state"
   ]
  },
  {
   "cell_type": "markdown",
   "id": "ae7d3e9f-e138-4573-a2ed-227d2a436688",
   "metadata": {},
   "source": [
    "# Metrics"
   ]
  },
  {
   "cell_type": "code",
   "execution_count": 4,
   "id": "3fa6906a-e036-4b78-8926-60c9e432070d",
   "metadata": {},
   "outputs": [],
   "source": [
    "def cross_entropy_loss(params, batch_images, batch_labels):\n",
    "    \"\"\"\n",
    "    Compute cross entropy loss for a batch of images\n",
    "    \n",
    "    Args:\n",
    "        params: Model parameters\n",
    "        batch_images: Batch of input images (shape: [batch_size, height, width, channels])\n",
    "        batch_labels: Batch of labels (shape: [batch_size])\n",
    "        \n",
    "    Returns:\n",
    "        Average cross entropy loss for the batch\n",
    "    \"\"\"\n",
    "    # Get model predictions\n",
    "    logits = forward(params, batch_images)\n",
    "    \n",
    "    # Compute log probabilities\n",
    "    log_probs = nn.log_softmax(logits)\n",
    "    \n",
    "    # Convert labels to one-hot encoding\n",
    "    one_hot = jax.nn.one_hot(batch_labels, 10)\n",
    "    \n",
    "    # Compute cross entropy loss (negative log likelihood)\n",
    "    return -jnp.sum(one_hot * log_probs) / batch_images.shape[0]\n",
    "\n",
    "def compute_accuracy(params, batch_images, batch_labels):\n",
    "    \"\"\"\n",
    "    Compute accuracy for a batch of images\n",
    "    \n",
    "    Args:\n",
    "        params: Model parameters\n",
    "        batch_images: Batch of input images\n",
    "        batch_labels: Batch of labels\n",
    "        \n",
    "    Returns:\n",
    "        Accuracy as a value between 0 and 1\n",
    "    \"\"\"\n",
    "    # Get model predictions\n",
    "    logits = forward(params, batch_images)\n",
    "    \n",
    "    # Get predicted class indices\n",
    "    preds = jnp.argmax(logits, axis=-1)\n",
    "    \n",
    "    # Compute accuracy\n",
    "    return jnp.mean(preds == batch_labels)\n",
    "\n",
    "def precision_recall_f1(params, batch_images, batch_labels):\n",
    "    \"\"\"\n",
    "    Compute precision, recall, and F1 score for a batch of images\n",
    "    \n",
    "    Args:\n",
    "        params: Model parameters\n",
    "        batch_images: Batch of input images\n",
    "        batch_labels: Batch of labels\n",
    "        \n",
    "    Returns:\n",
    "        Tuple of (precision, recall, f1) averaged across all classes\n",
    "    \"\"\"\n",
    "    # Get model predictions\n",
    "    logits = forward(params, batch_images)\n",
    "    preds = jnp.argmax(logits, axis=-1)\n",
    "    \n",
    "    # Number of classes (CIFAR-10 has 10 classes)\n",
    "    num_classes = 10\n",
    "    \n",
    "    # Initialize lists for metrics\n",
    "    precision_list, recall_list, f1_list = [], [], []\n",
    "    \n",
    "    # Compute metrics for each class\n",
    "    for cls in range(num_classes):\n",
    "        # True positives, false positives, false negatives\n",
    "        tp = jnp.sum((preds == cls) & (batch_labels == cls))\n",
    "        fp = jnp.sum((preds == cls) & (batch_labels != cls))\n",
    "        fn = jnp.sum((preds != cls) & (batch_labels == cls))\n",
    "        \n",
    "        # Compute precision, recall, and F1 with small epsilon to avoid division by zero\n",
    "        epsilon = 1e-8\n",
    "        precision = tp / (tp + fp + epsilon)\n",
    "        recall = tp / (tp + fn + epsilon)\n",
    "        f1 = 2 * precision * recall / (precision + recall + epsilon)\n",
    "        \n",
    "        precision_list.append(precision)\n",
    "        recall_list.append(recall)\n",
    "        f1_list.append(f1)\n",
    "    \n",
    "    # Return average metrics across all classes\n",
    "    return jnp.mean(jnp.array(precision_list)), jnp.mean(jnp.array(recall_list)), jnp.mean(jnp.array(f1_list))\n"
   ]
  },
  {
   "cell_type": "markdown",
   "id": "2dfc4483-c7c3-4ea5-8e94-358f3a6611f8",
   "metadata": {},
   "source": [
    "# Data Loading and Utilities"
   ]
  },
  {
   "cell_type": "code",
   "execution_count": 5,
   "id": "fcef8b2c-2bca-4946-9c25-0d493a5bb0b6",
   "metadata": {},
   "outputs": [],
   "source": [
    "def download_cifar10(data_dir):\n",
    "    \"\"\"Download CIFAR-10 dataset if it doesn't exist\"\"\"\n",
    "    if not os.path.exists(data_dir):\n",
    "        os.makedirs(data_dir)\n",
    "    \n",
    "    # URLs for CIFAR-10 dataset\n",
    "    base_url = \"https://www.cs.toronto.edu/~kriz/\"\n",
    "    train_file = \"cifar-10-python.tar.gz\"\n",
    "    train_url = base_url + train_file\n",
    "    train_path = os.path.join(data_dir, train_file)\n",
    "    \n",
    "    # Download the dataset if not already present\n",
    "    if not os.path.exists(train_path):\n",
    "        print(f\"Downloading CIFAR-10 dataset from {train_url}...\")\n",
    "        request.urlretrieve(train_url, train_path)\n",
    "        print(\"Download complete.\")\n",
    "    else:\n",
    "        print(\"CIFAR-10 dataset already exists.\")\n",
    "    \n",
    "    return train_path\n",
    "\n",
    "def unpickle(file):\n",
    "    \"\"\"Unpickle CIFAR-10 batch files\"\"\"\n",
    "    with open(file, 'rb') as fo:\n",
    "        dict = pickle.load(fo, encoding='bytes')\n",
    "    return dict\n",
    "\n",
    "def load_cifar10_raw(data_dir):\n",
    "    \"\"\"\n",
    "    Load CIFAR-10 dataset from raw files\n",
    "    \n",
    "    Returns:\n",
    "        Tuple of (train_images, train_labels, test_images, test_labels)\n",
    "    \"\"\"\n",
    "    # Download dataset if needed\n",
    "    cifar_path = download_cifar10(data_dir)\n",
    "    \n",
    "    # Extract files if not already extracted\n",
    "    cifar_dir = os.path.join(data_dir, \"cifar-10-batches-py\")\n",
    "    if not os.path.exists(cifar_dir):\n",
    "        print(\"Extracting CIFAR-10 files...\")\n",
    "        with tarfile.open(cifar_path, 'r:gz') as tar:\n",
    "            tar.extractall(path=data_dir)\n",
    "        print(\"Extraction complete.\")\n",
    "    \n",
    "    # Load training data (batches 1-5)\n",
    "    train_images = []\n",
    "    train_labels = []\n",
    "    for i in range(1, 6):\n",
    "        batch_file = os.path.join(cifar_dir, f\"data_batch_{i}\")\n",
    "        batch_data = unpickle(batch_file)\n",
    "        train_images.append(batch_data[b'data'])\n",
    "        train_labels.extend(batch_data[b'labels'])\n",
    "    \n",
    "    # Reshape training data\n",
    "    train_images = np.vstack(train_images).reshape(-1, 3, 32, 32).transpose(0, 2, 3, 1)\n",
    "    train_labels = np.array(train_labels)\n",
    "\n",
    "\n",
    "    # Load test data\n",
    "    test_batch_file = os.path.join(cifar_dir, \"test_batch\")\n",
    "    test_data = unpickle(test_batch_file)\n",
    "    test_images = test_data[b'data'].reshape(-1, 3, 32, 32).transpose(0, 2, 3, 1)\n",
    "    test_labels = np.array(test_data[b'labels'])\n",
    "    \n",
    "    return train_images, train_labels, test_images, test_labels\n",
    "\n",
    "\n",
    "def create_batches(images, labels, batch_size, shuffle=True):\n",
    "    \"\"\"Create batches of data for training/evaluation\"\"\"\n",
    "    num_examples = len(images)\n",
    "    indices = np.arange(num_examples)\n",
    "    \n",
    "    if shuffle:\n",
    "        np.random.shuffle(indices)\n",
    "    \n",
    "    # Create list of batches\n",
    "    batches = []\n",
    "    for start_idx in range(0, num_examples, batch_size):\n",
    "        end_idx = min(start_idx + batch_size, num_examples)\n",
    "        batch_indices = indices[start_idx:end_idx]\n",
    "        batches.append((images[batch_indices], labels[batch_indices]))\n",
    "    \n",
    "    return batches\n",
    "\n",
    "def load_cifar10(batch_size=128, seed=0):\n",
    "    \"\"\"\n",
    "    Load and preprocess CIFAR-10 dataset\n",
    "    \n",
    "    Args:\n",
    "        batch_size: Batch size for training/evaluation\n",
    "        seed: Random seed for shuffling\n",
    "        \n",
    "    Returns:\n",
    "        Tuple of (train_batches, test_batches)\n",
    "    \"\"\"\n",
    "    # Set random seed for reproducibility\n",
    "    np.random.seed(seed)\n",
    "    \n",
    "    # Check if preprocessed data exists in cache\n",
    "    data_dir = \"cifar10_data\"\n",
    "    cache_file = os.path.join(data_dir, \"cifar10_preprocessed.pkl\")\n",
    "    if os.path.exists(cache_file):\n",
    "        print(\"Loading preprocessed CIFAR-10 data from cache...\")\n",
    "        with open(cache_file, 'rb') as f:\n",
    "            train_images, train_labels, test_images, test_labels = pickle.load(f)\n",
    "    else:\n",
    "        print(\"Loading CIFAR-10 from raw files...\")\n",
    "        # Load raw data\n",
    "        train_images, train_labels, test_images, test_labels = load_cifar10_raw(data_dir)\n",
    "        \n",
    "        # Preprocess images: normalize to [0,1]\n",
    "        train_images = train_images.astype(np.float32) / 255.0\n",
    "        test_images = test_images.astype(np.float32) / 255.0\n",
    "        \n",
    "        # Cache the preprocessed data\n",
    "        os.makedirs(data_dir, exist_ok=True)\n",
    "        with open(cache_file, 'wb') as f:\n",
    "            pickle.dump((train_images, train_labels, test_images, test_labels), f)\n",
    "        print(f\"Saved preprocessed data to {cache_file}\")\n",
    "    \n",
    "    # Data augmentation (add later for improved performance)\n",
    "    # For simplicity, we'll skip data augmentation in this implementation\n",
    "    \n",
    "    # Create training and test batches\n",
    "    train_batches = create_batches(train_images, train_labels, batch_size, shuffle=True)\n",
    "    test_batches = create_batches(test_images, test_labels, batch_size, shuffle=False)\n",
    "    \n",
    "    print(f\"Created {len(train_batches)} training batches and {len(test_batches)} test batches\")\n",
    "    return train_batches, test_batches\n",
    "\n",
    "def plot_training_curves(train_losses, test_losses, train_accuracies, test_accuracies):\n",
    "    \"\"\"Plot training and testing curves for loss and accuracy\"\"\"\n",
    "    plt.figure(figsize=(10, 4))\n",
    "    \n",
    "    # Loss curve\n",
    "    plt.subplot(1, 2, 1)\n",
    "    plt.plot(train_losses, label='Train Loss')\n",
    "    plt.plot(test_losses, label='Test Loss')\n",
    "    plt.xlabel('Epoch')\n",
    "    plt.ylabel('Loss')\n",
    "    plt.legend()\n",
    "    plt.title('Loss Curve')\n",
    "    \n",
    "    # Accuracy curve\n",
    "    plt.subplot(1, 2, 2)\n",
    "    plt.plot(train_accuracies, label='Train Accuracy')\n",
    "    plt.plot(test_accuracies, label='Test Accuracy')\n",
    "    plt.xlabel('Epoch')\n",
    "    plt.ylabel('Accuracy')\n",
    "    plt.legend()\n",
    "    plt.title('Accuracy Curve')\n",
    "    \n",
    "    plt.tight_layout()\n",
    "    plt.savefig('cifar10_training_curves.png')\n",
    "    plt.show()\n",
    "\n",
    "def select_device(device_type=\"auto\"):\n",
    "    \"\"\"\n",
    "    Select appropriate device for training (CPU/GPU/TPU)\n",
    "    \n",
    "    Args:\n",
    "        device_type: 'cpu', 'gpu', or 'auto' to automatically select\n",
    "        \n",
    "    Returns:\n",
    "        Selected JAX device\n",
    "    \"\"\"\n",
    "    if device_type == \"cpu\":\n",
    "        device = jax.devices(\"cpu\")[0]\n",
    "    elif device_type == \"gpu\":\n",
    "        try:\n",
    "            gpus = jax.devices(\"gpu\")\n",
    "            if not gpus:\n",
    "                raise RuntimeError(\"No GPU found, falling back to CPU\")\n",
    "            device = gpus[0]\n",
    "        except RuntimeError:\n",
    "            print(\"Warning: GPU requested but not available. Using CPU instead.\")\n",
    "            device = jax.devices(\"cpu\")[0]\n",
    "    else:  # Auto mode\n",
    "        # Try to use GPU if available, otherwise use CPU\n",
    "        try:\n",
    "            gpus = jax.devices(\"gpu\")\n",
    "            if gpus:\n",
    "                device = gpus[0]\n",
    "                print(\"GPU detected, using GPU for training\")\n",
    "            else:\n",
    "                device = jax.devices(\"cpu\")[0]\n",
    "                print(\"No GPU detected, using CPU for training\")\n",
    "        except:\n",
    "            device = jax.devices(\"cpu\")[0]\n",
    "            print(\"Error detecting GPUs, falling back to CPU\")\n",
    "    \n",
    "    print(f\"✅ Using device: {device}\")\n",
    "    return device\n"
   ]
  },
  {
   "cell_type": "markdown",
   "id": "a198d60e-506c-4846-b94d-44750b3a347d",
   "metadata": {},
   "source": [
    "# Training Functions"
   ]
  },
  {
   "cell_type": "code",
   "execution_count": 6,
   "id": "1f1339dd-32da-4ced-ba06-50c3fc139c95",
   "metadata": {},
   "outputs": [],
   "source": [
    "def save_model(params, path='best_cifar10_model.pkl'):\n",
    "    \"\"\"\n",
    "    Save model parameters to a file\n",
    "    \n",
    "    Args:\n",
    "        params: Model parameters to save\n",
    "        path: File path to save to\n",
    "    \"\"\"\n",
    "    # Create directory if it doesn't exist\n",
    "    os.makedirs(os.path.dirname(path) if os.path.dirname(path) else '.', exist_ok=True)\n",
    "    \n",
    "    with open(path, 'wb') as f:\n",
    "        pickle.dump(params, f)\n",
    "    print(f\"✅ Model saved at {path}\")\n",
    "\n",
    "def load_model(path='best_cifar10_model.pkl'):\n",
    "    \"\"\"\n",
    "    Load model parameters from a file\n",
    "    \n",
    "    Args:\n",
    "        path: File path to load from\n",
    "        \n",
    "    Returns:\n",
    "        Loaded model parameters\n",
    "    \"\"\"\n",
    "    if not os.path.exists(path):\n",
    "        raise FileNotFoundError(f\"Model file not found: {path}\")\n",
    "    \n",
    "    with open(path, 'rb') as f:\n",
    "        params = pickle.load(f)\n",
    "    print(f\"✅ Model loaded from {path}\")\n",
    "    return params\n",
    "\n",
    "def get_learning_rate(initial_lr, epoch, decay_epochs=10, decay_factor=0.5):\n",
    "    \"\"\"\n",
    "    Calculate learning rate with step decay\n",
    "    \n",
    "    Args:\n",
    "        initial_lr: Initial learning rate\n",
    "        epoch: Current epoch (1-based)\n",
    "        decay_epochs: Number of epochs after which to decay the learning rate\n",
    "        decay_factor: Factor by which to decay the learning rate\n",
    "        \n",
    "    Returns:\n",
    "        Decayed learning rate\n",
    "    \"\"\"\n",
    "    return initial_lr * (decay_factor ** (epoch // decay_epochs))\n",
    "\n",
    "def evaluate(params, data_batches, device):\n",
    "    \"\"\"\n",
    "    Evaluate model on a set of batches\n",
    "    \n",
    "    Args:\n",
    "        params: Model parameters\n",
    "        data_batches: List of (images, labels) batches\n",
    "        device: JAX device to use for computation\n",
    "        \n",
    "    Returns:\n",
    "        Dictionary of evaluation metrics\n",
    "    \"\"\"\n",
    "    # Initialize metrics\n",
    "    losses, accs, precs, recs, f1s = [], [], [], [], []\n",
    "    \n",
    "    # Evaluate on each batch\n",
    "    for batch_images, batch_labels in data_batches:\n",
    "        # Convert to JAX arrays and move to device\n",
    "        batch_images = jax.device_put(jnp.array(batch_images), device)\n",
    "        batch_labels = jax.device_put(jnp.array(batch_labels), device)\n",
    "        \n",
    "        # Compute metrics\n",
    "        loss = cross_entropy_loss(params, batch_images, batch_labels)\n",
    "        acc = compute_accuracy(params, batch_images, batch_labels)\n",
    "        precision, recall, f1 = precision_recall_f1(params, batch_images, batch_labels)\n",
    "        \n",
    "        # Collect results\n",
    "        losses.append(loss)\n",
    "        accs.append(acc)\n",
    "        precs.append(precision)\n",
    "        recs.append(recall)\n",
    "        f1s.append(f1)\n",
    "    \n",
    "    # Calculate average metrics\n",
    "    return {\n",
    "        'loss': jnp.mean(jnp.array(losses)),\n",
    "        'accuracy': jnp.mean(jnp.array(accs)),\n",
    "        'precision': jnp.mean(jnp.array(precs)),\n",
    "        'recall': jnp.mean(jnp.array(recs)),\n",
    "        'f1': jnp.mean(jnp.array(f1s)),\n",
    "    }"
   ]
  },
  {
   "cell_type": "markdown",
   "id": "bfd91824-8ff2-4c40-ad42-9e55d4c77848",
   "metadata": {},
   "source": [
    "# Main Training Function"
   ]
  },
  {
   "cell_type": "code",
   "execution_count": 7,
   "id": "6d97770b-0370-4c40-b9d4-9d4afca5abb5",
   "metadata": {},
   "outputs": [],
   "source": [
    "def main():\n",
    "    \"\"\"Main training function\"\"\"\n",
    "    print(\"\\n=== CNN CIFAR-10 Classifier in JAX ===\\n\")\n",
    "    \n",
    "    # --- MODEL CONFIGURATION ---\n",
    "    model_config = CNNConfig()\n",
    "    \n",
    "    # --- TRAINING HYPERPARAMETERS ---\n",
    "    num_epochs = 50  # More epochs for CIFAR-10\n",
    "    batch_size = 128\n",
    "    initial_learning_rate = 0.001\n",
    "    decay_epochs = 15  # Slower decay for CIFAR-10\n",
    "    decay_factor = 0.5\n",
    "    checkpoint_path = 'best_cifar10_model.pkl'\n",
    "    seed = 42\n",
    "    \n",
    "    # --- DEVICE SETUP ---\n",
    "    device = select_device(\"auto\")\n",
    "    \n",
    "    # --- DATA LOADING ---\n",
    "    print(\"\\nLoading CIFAR-10 dataset...\")\n",
    "    train_batches, test_batches = load_cifar10(batch_size=batch_size, seed=seed)\n",
    "    \n",
    "    # --- MODEL INITIALIZATION ---\n",
    "    print(\"\\nInitializing model parameters...\")\n",
    "    rng = random.PRNGKey(seed)\n",
    "    rng = jax.device_put(rng, device)\n",
    "    params = initialize_cnn_params(rng, model_config)\n",
    "    \n",
    "    # --- OPTIMIZER SETUP ---\n",
    "    print(\"Setting up Adam optimizer...\")\n",
    "    optimizer = AdamOptimizer(learning_rate=initial_learning_rate)\n",
    "    opt_state = optimizer.init(params)\n",
    "    \n",
    "    # --- METRICS TRACKING ---\n",
    "    train_losses, train_accuracies = [], []\n",
    "    test_losses, test_accuracies = [], []\n",
    "    best_f1 = 0.0\n",
    "    \n",
    "    # --- UPDATE FUNCTION ---\n",
    "    @jax.jit\n",
    "    def update(params, batch_images, batch_labels, opt_state):\n",
    "        \"\"\"JIT-compiled update function for efficiency\"\"\"\n",
    "        loss_value, grads = value_and_grad(cross_entropy_loss)(params, batch_images, batch_labels)\n",
    "        updated_params, updated_opt_state = optimizer.update(params, grads, opt_state)\n",
    "        return updated_params, updated_opt_state, loss_value\n",
    "    \n",
    "    # --- TRAINING LOOP ---\n",
    "    print(\"\\nStarting training...\\n\")\n",
    "    for epoch in range(1, num_epochs + 1):\n",
    "        epoch_losses = []\n",
    "        \n",
    "        # Update learning rate with decay\n",
    "        current_lr = get_learning_rate(initial_learning_rate, epoch, decay_epochs, decay_factor)\n",
    "        optimizer.learning_rate = current_lr\n",
    "        \n",
    "        print(f\"Epoch {epoch}/{num_epochs} - Learning Rate: {current_lr:.6f}\")\n",
    "        \n",
    "        # Training phase\n",
    "        for batch_idx, (batch_images, batch_labels) in enumerate(tqdm(train_batches, desc=\"Training\")):\n",
    "            # Convert to JAX arrays and put on device\n",
    "            batch_images_jax = jax.device_put(jnp.array(batch_images), device)\n",
    "            batch_labels_jax = jax.device_put(jnp.array(batch_labels), device)\n",
    "            \n",
    "            # Update parameters and optimizer state\n",
    "            params, opt_state, loss = update(params, batch_images_jax, batch_labels_jax, opt_state)\n",
    "            epoch_losses.append(loss)\n",
    "        \n",
    "        # Calculate average training loss for the epoch\n",
    "        train_loss = jnp.mean(jnp.array(epoch_losses))\n",
    "        train_losses.append(train_loss)\n",
    "        \n",
    "        # Evaluate on training set (using subset for efficiency)\n",
    "        print(\"Evaluating on training set...\")\n",
    "        train_eval_batches = train_batches[:len(train_batches)//10]  # Use 10% of training data for evaluation\n",
    "        train_metrics = evaluate(params, train_eval_batches, device)\n",
    "        train_accuracy = train_metrics['accuracy']\n",
    "        train_accuracies.append(train_accuracy)\n",
    "        \n",
    "        # Evaluate on test set\n",
    "        print(\"Evaluating on test set...\")\n",
    "        test_metrics = evaluate(params, test_batches, device)\n",
    "        test_losses.append(test_metrics['loss'])\n",
    "        test_accuracies.append(test_metrics['accuracy'])\n",
    "        \n",
    "        # Save model if improved\n",
    "        if test_metrics['f1'] > best_f1:\n",
    "            best_f1 = test_metrics['f1']\n",
    "            save_model(params, checkpoint_path)\n",
    "            print(f\"✅ New best model saved (F1: {best_f1:.4f})\")\n",
    "        \n",
    "        # Print epoch summary\n",
    "        print(f\"Epoch {epoch:02d} Summary:\")\n",
    "        print(f\"  Train Loss: {train_loss:.4f}, Train Accuracy: {train_accuracy:.4f}\")\n",
    "        print(f\"  Test Loss: {test_metrics['loss']:.4f}, Test Accuracy: {test_metrics['accuracy']:.4f}\")\n",
    "        print(f\"  Test Precision: {test_metrics['precision']:.4f}, Test Recall: {test_metrics['recall']:.4f}, Test F1: {test_metrics['f1']:.4f}\")\n",
    "        print()\n",
    "    \n",
    "    # --- PLOT TRAINING CURVES ---\n",
    "    print(\"\\nPlotting training curves...\")\n",
    "    plot_training_curves(train_losses, test_losses, train_accuracies, test_accuracies)\n",
    "    \n",
    "    # --- FINAL EVALUATION ---\n",
    "    print(\"\\nLoading best model for final evaluation...\")\n",
    "    best_params = load_model(checkpoint_path)\n",
    "    final_metrics = evaluate(best_params, test_batches, device)\n",
    "    \n",
    "    print(\"\\n🏆 FINAL EVALUATION (Best Model):\")\n",
    "    print(f\"  Test Loss: {final_metrics['loss']:.4f}\")\n",
    "    print(f\"  Test Accuracy: {final_metrics['accuracy']:.4f}\")\n",
    "    print(f\"  Test Precision: {final_metrics['precision']:.4f}\")\n",
    "    print(f\"  Test Recall: {final_metrics['recall']:.4f}\")\n",
    "    print(f\"  Test F1: {final_metrics['f1']:.4f}\")\n"
   ]
  },
  {
   "cell_type": "code",
   "execution_count": 8,
   "id": "faeebe59-c183-40f7-8d17-822d885fd974",
   "metadata": {},
   "outputs": [
    {
     "name": "stdout",
     "output_type": "stream",
     "text": [
      "\n",
      "=== CNN CIFAR-10 Classifier in JAX ===\n",
      "\n",
      "GPU detected, using GPU for training\n",
      "✅ Using device: cuda:0\n",
      "\n",
      "Loading CIFAR-10 dataset...\n",
      "Loading preprocessed CIFAR-10 data from cache...\n",
      "Created 391 training batches and 79 test batches\n",
      "\n",
      "Initializing model parameters...\n",
      "Setting up Adam optimizer...\n",
      "\n",
      "Starting training...\n",
      "\n",
      "Epoch 1/50 - Learning Rate: 0.001000\n"
     ]
    },
    {
     "name": "stderr",
     "output_type": "stream",
     "text": [
      "Training: 100%|██████████| 391/391 [00:44<00:00,  8.73it/s]\n"
     ]
    },
    {
     "name": "stdout",
     "output_type": "stream",
     "text": [
      "Evaluating on training set...\n",
      "Evaluating on test set...\n",
      "✅ Model saved at best_cifar10_model.pkl\n",
      "✅ New best model saved (F1: 0.6025)\n",
      "Epoch 01 Summary:\n",
      "  Train Loss: 1.5214, Train Accuracy: 0.6138\n",
      "  Test Loss: 1.0870, Test Accuracy: 0.6203\n",
      "  Test Precision: 0.6140, Test Recall: 0.6147, Test F1: 0.6025\n",
      "\n",
      "Epoch 2/50 - Learning Rate: 0.001000\n"
     ]
    },
    {
     "name": "stderr",
     "output_type": "stream",
     "text": [
      "Training: 100%|██████████| 391/391 [00:00<00:00, 540.66it/s]\n"
     ]
    },
    {
     "name": "stdout",
     "output_type": "stream",
     "text": [
      "Evaluating on training set...\n",
      "Evaluating on test set...\n",
      "✅ Model saved at best_cifar10_model.pkl\n",
      "✅ New best model saved (F1: 0.6391)\n",
      "Epoch 02 Summary:\n",
      "  Train Loss: 0.9944, Train Accuracy: 0.6707\n",
      "  Test Loss: 0.9743, Test Accuracy: 0.6607\n",
      "  Test Precision: 0.6599, Test Recall: 0.6550, Test F1: 0.6391\n",
      "\n",
      "Epoch 3/50 - Learning Rate: 0.001000\n"
     ]
    },
    {
     "name": "stderr",
     "output_type": "stream",
     "text": [
      "Training: 100%|██████████| 391/391 [00:00<00:00, 564.69it/s]\n"
     ]
    },
    {
     "name": "stdout",
     "output_type": "stream",
     "text": [
      "Evaluating on training set...\n",
      "Evaluating on test set...\n",
      "✅ Model saved at best_cifar10_model.pkl\n",
      "✅ New best model saved (F1: 0.6573)\n",
      "Epoch 03 Summary:\n",
      "  Train Loss: 0.8040, Train Accuracy: 0.7129\n",
      "  Test Loss: 0.9427, Test Accuracy: 0.6760\n",
      "  Test Precision: 0.6809, Test Recall: 0.6711, Test F1: 0.6573\n",
      "\n",
      "Epoch 4/50 - Learning Rate: 0.001000\n"
     ]
    },
    {
     "name": "stderr",
     "output_type": "stream",
     "text": [
      "Training: 100%|██████████| 391/391 [00:00<00:00, 537.89it/s]\n"
     ]
    },
    {
     "name": "stdout",
     "output_type": "stream",
     "text": [
      "Evaluating on training set...\n",
      "Evaluating on test set...\n",
      "✅ Model saved at best_cifar10_model.pkl\n",
      "✅ New best model saved (F1: 0.6933)\n",
      "Epoch 04 Summary:\n",
      "  Train Loss: 0.6682, Train Accuracy: 0.7666\n",
      "  Test Loss: 0.8721, Test Accuracy: 0.7052\n",
      "  Test Precision: 0.7136, Test Recall: 0.7005, Test F1: 0.6933\n",
      "\n",
      "Epoch 5/50 - Learning Rate: 0.001000\n"
     ]
    },
    {
     "name": "stderr",
     "output_type": "stream",
     "text": [
      "Training: 100%|██████████| 391/391 [00:00<00:00, 567.93it/s]\n"
     ]
    },
    {
     "name": "stdout",
     "output_type": "stream",
     "text": [
      "Evaluating on training set...\n",
      "Evaluating on test set...\n",
      "✅ Model saved at best_cifar10_model.pkl\n",
      "✅ New best model saved (F1: 0.7023)\n",
      "Epoch 05 Summary:\n",
      "  Train Loss: 0.5547, Train Accuracy: 0.8153\n",
      "  Test Loss: 0.8644, Test Accuracy: 0.7175\n",
      "  Test Precision: 0.7183, Test Recall: 0.7113, Test F1: 0.7023\n",
      "\n",
      "Epoch 6/50 - Learning Rate: 0.001000\n"
     ]
    },
    {
     "name": "stderr",
     "output_type": "stream",
     "text": [
      "Training: 100%|██████████| 391/391 [00:00<00:00, 617.08it/s]\n"
     ]
    },
    {
     "name": "stdout",
     "output_type": "stream",
     "text": [
      "Evaluating on training set...\n",
      "Evaluating on test set...\n",
      "✅ Model saved at best_cifar10_model.pkl\n",
      "✅ New best model saved (F1: 0.7058)\n",
      "Epoch 06 Summary:\n",
      "  Train Loss: 0.4604, Train Accuracy: 0.8307\n",
      "  Test Loss: 0.9245, Test Accuracy: 0.7211\n",
      "  Test Precision: 0.7249, Test Recall: 0.7152, Test F1: 0.7058\n",
      "\n",
      "Epoch 7/50 - Learning Rate: 0.001000\n"
     ]
    },
    {
     "name": "stderr",
     "output_type": "stream",
     "text": [
      "Training: 100%|██████████| 391/391 [00:00<00:00, 585.08it/s]\n"
     ]
    },
    {
     "name": "stdout",
     "output_type": "stream",
     "text": [
      "Evaluating on training set...\n",
      "Evaluating on test set...\n",
      "Epoch 07 Summary:\n",
      "  Train Loss: 0.4009, Train Accuracy: 0.8317\n",
      "  Test Loss: 1.0223, Test Accuracy: 0.7151\n",
      "  Test Precision: 0.7223, Test Recall: 0.7082, Test F1: 0.7006\n",
      "\n",
      "Epoch 8/50 - Learning Rate: 0.001000\n"
     ]
    },
    {
     "name": "stderr",
     "output_type": "stream",
     "text": [
      "Training: 100%|██████████| 391/391 [00:00<00:00, 640.77it/s]\n"
     ]
    },
    {
     "name": "stdout",
     "output_type": "stream",
     "text": [
      "Evaluating on training set...\n",
      "Evaluating on test set...\n",
      "✅ Model saved at best_cifar10_model.pkl\n",
      "✅ New best model saved (F1: 0.7068)\n",
      "Epoch 08 Summary:\n",
      "  Train Loss: 0.3340, Train Accuracy: 0.8600\n",
      "  Test Loss: 1.1049, Test Accuracy: 0.7159\n",
      "  Test Precision: 0.7325, Test Recall: 0.7103, Test F1: 0.7068\n",
      "\n",
      "Epoch 9/50 - Learning Rate: 0.001000\n"
     ]
    },
    {
     "name": "stderr",
     "output_type": "stream",
     "text": [
      "Training: 100%|██████████| 391/391 [00:00<00:00, 639.86it/s]\n"
     ]
    },
    {
     "name": "stdout",
     "output_type": "stream",
     "text": [
      "Evaluating on training set...\n",
      "Evaluating on test set...\n",
      "Epoch 09 Summary:\n",
      "  Train Loss: 0.2751, Train Accuracy: 0.8832\n",
      "  Test Loss: 1.1645, Test Accuracy: 0.7122\n",
      "  Test Precision: 0.7205, Test Recall: 0.7079, Test F1: 0.7013\n",
      "\n",
      "Epoch 10/50 - Learning Rate: 0.001000\n"
     ]
    },
    {
     "name": "stderr",
     "output_type": "stream",
     "text": [
      "Training: 100%|██████████| 391/391 [00:00<00:00, 645.94it/s]\n"
     ]
    },
    {
     "name": "stdout",
     "output_type": "stream",
     "text": [
      "Evaluating on training set...\n",
      "Evaluating on test set...\n",
      "Epoch 10 Summary:\n",
      "  Train Loss: 0.2140, Train Accuracy: 0.8804\n",
      "  Test Loss: 1.3622, Test Accuracy: 0.6898\n",
      "  Test Precision: 0.7153, Test Recall: 0.6850, Test F1: 0.6827\n",
      "\n",
      "Epoch 11/50 - Learning Rate: 0.001000\n"
     ]
    },
    {
     "name": "stderr",
     "output_type": "stream",
     "text": [
      "Training: 100%|██████████| 391/391 [00:00<00:00, 640.65it/s]\n"
     ]
    },
    {
     "name": "stdout",
     "output_type": "stream",
     "text": [
      "Evaluating on training set...\n",
      "Evaluating on test set...\n",
      "Epoch 11 Summary:\n",
      "  Train Loss: 0.1962, Train Accuracy: 0.9175\n",
      "  Test Loss: 1.3436, Test Accuracy: 0.7130\n",
      "  Test Precision: 0.7354, Test Recall: 0.7060, Test F1: 0.7033\n",
      "\n",
      "Epoch 12/50 - Learning Rate: 0.001000\n"
     ]
    },
    {
     "name": "stderr",
     "output_type": "stream",
     "text": [
      "Training: 100%|██████████| 391/391 [00:00<00:00, 640.63it/s]\n"
     ]
    },
    {
     "name": "stdout",
     "output_type": "stream",
     "text": [
      "Evaluating on training set...\n",
      "Evaluating on test set...\n",
      "✅ Model saved at best_cifar10_model.pkl\n",
      "✅ New best model saved (F1: 0.7083)\n",
      "Epoch 12 Summary:\n",
      "  Train Loss: 0.1635, Train Accuracy: 0.9379\n",
      "  Test Loss: 1.4235, Test Accuracy: 0.7223\n",
      "  Test Precision: 0.7264, Test Recall: 0.7177, Test F1: 0.7083\n",
      "\n",
      "Epoch 13/50 - Learning Rate: 0.001000\n"
     ]
    },
    {
     "name": "stderr",
     "output_type": "stream",
     "text": [
      "Training: 100%|██████████| 391/391 [00:00<00:00, 644.99it/s]\n"
     ]
    },
    {
     "name": "stdout",
     "output_type": "stream",
     "text": [
      "Evaluating on training set...\n",
      "Evaluating on test set...\n",
      "✅ Model saved at best_cifar10_model.pkl\n",
      "✅ New best model saved (F1: 0.7130)\n",
      "Epoch 13 Summary:\n",
      "  Train Loss: 0.1269, Train Accuracy: 0.9395\n",
      "  Test Loss: 1.4907, Test Accuracy: 0.7294\n",
      "  Test Precision: 0.7291, Test Recall: 0.7252, Test F1: 0.7130\n",
      "\n",
      "Epoch 14/50 - Learning Rate: 0.001000\n"
     ]
    },
    {
     "name": "stderr",
     "output_type": "stream",
     "text": [
      "Training: 100%|██████████| 391/391 [00:00<00:00, 644.87it/s]\n"
     ]
    },
    {
     "name": "stdout",
     "output_type": "stream",
     "text": [
      "Evaluating on training set...\n",
      "Evaluating on test set...\n",
      "Epoch 14 Summary:\n",
      "  Train Loss: 0.1012, Train Accuracy: 0.9503\n",
      "  Test Loss: 1.5364, Test Accuracy: 0.7263\n",
      "  Test Precision: 0.7233, Test Recall: 0.7212, Test F1: 0.7102\n",
      "\n",
      "Epoch 15/50 - Learning Rate: 0.000500\n"
     ]
    },
    {
     "name": "stderr",
     "output_type": "stream",
     "text": [
      "Training: 100%|██████████| 391/391 [00:00<00:00, 640.88it/s]\n"
     ]
    },
    {
     "name": "stdout",
     "output_type": "stream",
     "text": [
      "Evaluating on training set...\n",
      "Evaluating on test set...\n",
      "✅ Model saved at best_cifar10_model.pkl\n",
      "✅ New best model saved (F1: 0.7157)\n",
      "Epoch 15 Summary:\n",
      "  Train Loss: 0.0876, Train Accuracy: 0.9529\n",
      "  Test Loss: 1.5954, Test Accuracy: 0.7285\n",
      "  Test Precision: 0.7323, Test Recall: 0.7226, Test F1: 0.7157\n",
      "\n",
      "Epoch 16/50 - Learning Rate: 0.000500\n"
     ]
    },
    {
     "name": "stderr",
     "output_type": "stream",
     "text": [
      "Training: 100%|██████████| 391/391 [00:00<00:00, 639.54it/s]\n"
     ]
    },
    {
     "name": "stdout",
     "output_type": "stream",
     "text": [
      "Evaluating on training set...\n",
      "Evaluating on test set...\n",
      "Epoch 16 Summary:\n",
      "  Train Loss: 0.0860, Train Accuracy: 0.9613\n",
      "  Test Loss: 1.6502, Test Accuracy: 0.7169\n",
      "  Test Precision: 0.7246, Test Recall: 0.7123, Test F1: 0.7071\n",
      "\n",
      "Epoch 17/50 - Learning Rate: 0.000500\n"
     ]
    },
    {
     "name": "stderr",
     "output_type": "stream",
     "text": [
      "Training: 100%|██████████| 391/391 [00:00<00:00, 647.08it/s]\n"
     ]
    },
    {
     "name": "stdout",
     "output_type": "stream",
     "text": [
      "Evaluating on training set...\n",
      "Evaluating on test set...\n",
      "Epoch 17 Summary:\n",
      "  Train Loss: 0.0889, Train Accuracy: 0.9589\n",
      "  Test Loss: 1.7122, Test Accuracy: 0.7172\n",
      "  Test Precision: 0.7235, Test Recall: 0.7123, Test F1: 0.7046\n",
      "\n",
      "Epoch 18/50 - Learning Rate: 0.000500\n"
     ]
    },
    {
     "name": "stderr",
     "output_type": "stream",
     "text": [
      "Training: 100%|██████████| 391/391 [00:00<00:00, 615.59it/s]\n"
     ]
    },
    {
     "name": "stdout",
     "output_type": "stream",
     "text": [
      "Evaluating on training set...\n",
      "Evaluating on test set...\n",
      "Epoch 18 Summary:\n",
      "  Train Loss: 0.0841, Train Accuracy: 0.9583\n",
      "  Test Loss: 1.7081, Test Accuracy: 0.7168\n",
      "  Test Precision: 0.7282, Test Recall: 0.7104, Test F1: 0.7066\n",
      "\n",
      "Epoch 19/50 - Learning Rate: 0.000500\n"
     ]
    },
    {
     "name": "stderr",
     "output_type": "stream",
     "text": [
      "Training: 100%|██████████| 391/391 [00:00<00:00, 633.60it/s]\n"
     ]
    },
    {
     "name": "stdout",
     "output_type": "stream",
     "text": [
      "Evaluating on training set...\n",
      "Evaluating on test set...\n",
      "✅ Model saved at best_cifar10_model.pkl\n",
      "✅ New best model saved (F1: 0.7166)\n",
      "Epoch 19 Summary:\n",
      "  Train Loss: 0.0680, Train Accuracy: 0.9643\n",
      "  Test Loss: 1.6726, Test Accuracy: 0.7299\n",
      "  Test Precision: 0.7280, Test Recall: 0.7248, Test F1: 0.7166\n",
      "\n",
      "Epoch 20/50 - Learning Rate: 0.000500\n"
     ]
    },
    {
     "name": "stderr",
     "output_type": "stream",
     "text": [
      "Training: 100%|██████████| 391/391 [00:00<00:00, 609.83it/s]\n"
     ]
    },
    {
     "name": "stdout",
     "output_type": "stream",
     "text": [
      "Evaluating on training set...\n",
      "Evaluating on test set...\n",
      "Epoch 20 Summary:\n",
      "  Train Loss: 0.0670, Train Accuracy: 0.9677\n",
      "  Test Loss: 1.7161, Test Accuracy: 0.7203\n",
      "  Test Precision: 0.7188, Test Recall: 0.7163, Test F1: 0.7073\n",
      "\n",
      "Epoch 21/50 - Learning Rate: 0.000500\n"
     ]
    },
    {
     "name": "stderr",
     "output_type": "stream",
     "text": [
      "Training: 100%|██████████| 391/391 [00:00<00:00, 631.52it/s]\n"
     ]
    },
    {
     "name": "stdout",
     "output_type": "stream",
     "text": [
      "Evaluating on training set...\n",
      "Evaluating on test set...\n",
      "✅ Model saved at best_cifar10_model.pkl\n",
      "✅ New best model saved (F1: 0.7170)\n",
      "Epoch 21 Summary:\n",
      "  Train Loss: 0.0627, Train Accuracy: 0.9762\n",
      "  Test Loss: 1.7262, Test Accuracy: 0.7283\n",
      "  Test Precision: 0.7291, Test Recall: 0.7233, Test F1: 0.7170\n",
      "\n",
      "Epoch 22/50 - Learning Rate: 0.000500\n"
     ]
    },
    {
     "name": "stderr",
     "output_type": "stream",
     "text": [
      "Training: 100%|██████████| 391/391 [00:00<00:00, 632.32it/s]\n"
     ]
    },
    {
     "name": "stdout",
     "output_type": "stream",
     "text": [
      "Evaluating on training set...\n",
      "Evaluating on test set...\n",
      "Epoch 22 Summary:\n",
      "  Train Loss: 0.0503, Train Accuracy: 0.9720\n",
      "  Test Loss: 1.8595, Test Accuracy: 0.7259\n",
      "  Test Precision: 0.7300, Test Recall: 0.7217, Test F1: 0.7155\n",
      "\n",
      "Epoch 23/50 - Learning Rate: 0.000500\n"
     ]
    },
    {
     "name": "stderr",
     "output_type": "stream",
     "text": [
      "Training: 100%|██████████| 391/391 [00:00<00:00, 633.94it/s]\n"
     ]
    },
    {
     "name": "stdout",
     "output_type": "stream",
     "text": [
      "Evaluating on training set...\n",
      "Evaluating on test set...\n",
      "Epoch 23 Summary:\n",
      "  Train Loss: 0.0500, Train Accuracy: 0.9720\n",
      "  Test Loss: 2.0101, Test Accuracy: 0.7250\n",
      "  Test Precision: 0.7254, Test Recall: 0.7210, Test F1: 0.7135\n",
      "\n",
      "Epoch 24/50 - Learning Rate: 0.000500\n"
     ]
    },
    {
     "name": "stderr",
     "output_type": "stream",
     "text": [
      "Training: 100%|██████████| 391/391 [00:00<00:00, 647.48it/s]\n"
     ]
    },
    {
     "name": "stdout",
     "output_type": "stream",
     "text": [
      "Evaluating on training set...\n",
      "Evaluating on test set...\n",
      "Epoch 24 Summary:\n",
      "  Train Loss: 0.0556, Train Accuracy: 0.9681\n",
      "  Test Loss: 1.9547, Test Accuracy: 0.7251\n",
      "  Test Precision: 0.7272, Test Recall: 0.7208, Test F1: 0.7153\n",
      "\n",
      "Epoch 25/50 - Learning Rate: 0.000500\n"
     ]
    },
    {
     "name": "stderr",
     "output_type": "stream",
     "text": [
      "Training: 100%|██████████| 391/391 [00:00<00:00, 633.76it/s]\n"
     ]
    },
    {
     "name": "stdout",
     "output_type": "stream",
     "text": [
      "Evaluating on training set...\n",
      "Evaluating on test set...\n",
      "Epoch 25 Summary:\n",
      "  Train Loss: 0.0532, Train Accuracy: 0.9702\n",
      "  Test Loss: 1.9616, Test Accuracy: 0.7273\n",
      "  Test Precision: 0.7259, Test Recall: 0.7232, Test F1: 0.7152\n",
      "\n",
      "Epoch 26/50 - Learning Rate: 0.000500\n"
     ]
    },
    {
     "name": "stderr",
     "output_type": "stream",
     "text": [
      "Training: 100%|██████████| 391/391 [00:00<00:00, 650.08it/s]\n"
     ]
    },
    {
     "name": "stdout",
     "output_type": "stream",
     "text": [
      "Evaluating on training set...\n",
      "Evaluating on test set...\n",
      "Epoch 26 Summary:\n",
      "  Train Loss: 0.0496, Train Accuracy: 0.9712\n",
      "  Test Loss: 2.0185, Test Accuracy: 0.7266\n",
      "  Test Precision: 0.7320, Test Recall: 0.7216, Test F1: 0.7164\n",
      "\n",
      "Epoch 27/50 - Learning Rate: 0.000500\n"
     ]
    },
    {
     "name": "stderr",
     "output_type": "stream",
     "text": [
      "Training: 100%|██████████| 391/391 [00:00<00:00, 637.55it/s]\n"
     ]
    },
    {
     "name": "stdout",
     "output_type": "stream",
     "text": [
      "Evaluating on training set...\n",
      "Evaluating on test set...\n",
      "Epoch 27 Summary:\n",
      "  Train Loss: 0.0488, Train Accuracy: 0.9728\n",
      "  Test Loss: 2.0750, Test Accuracy: 0.7259\n",
      "  Test Precision: 0.7242, Test Recall: 0.7221, Test F1: 0.7138\n",
      "\n",
      "Epoch 28/50 - Learning Rate: 0.000500\n"
     ]
    },
    {
     "name": "stderr",
     "output_type": "stream",
     "text": [
      "Training: 100%|██████████| 391/391 [00:00<00:00, 638.17it/s]\n"
     ]
    },
    {
     "name": "stdout",
     "output_type": "stream",
     "text": [
      "Evaluating on training set...\n",
      "Evaluating on test set...\n",
      "✅ Model saved at best_cifar10_model.pkl\n",
      "✅ New best model saved (F1: 0.7207)\n",
      "Epoch 28 Summary:\n",
      "  Train Loss: 0.0443, Train Accuracy: 0.9786\n",
      "  Test Loss: 2.1260, Test Accuracy: 0.7323\n",
      "  Test Precision: 0.7316, Test Recall: 0.7266, Test F1: 0.7207\n",
      "\n",
      "Epoch 29/50 - Learning Rate: 0.000500\n"
     ]
    },
    {
     "name": "stderr",
     "output_type": "stream",
     "text": [
      "Training: 100%|██████████| 391/391 [00:00<00:00, 651.18it/s]\n"
     ]
    },
    {
     "name": "stdout",
     "output_type": "stream",
     "text": [
      "Evaluating on training set...\n",
      "Evaluating on test set...\n",
      "✅ Model saved at best_cifar10_model.pkl\n",
      "✅ New best model saved (F1: 0.7260)\n",
      "Epoch 29 Summary:\n",
      "  Train Loss: 0.0449, Train Accuracy: 0.9882\n",
      "  Test Loss: 2.1209, Test Accuracy: 0.7388\n",
      "  Test Precision: 0.7334, Test Recall: 0.7343, Test F1: 0.7260\n",
      "\n",
      "Epoch 30/50 - Learning Rate: 0.000250\n"
     ]
    },
    {
     "name": "stderr",
     "output_type": "stream",
     "text": [
      "Training: 100%|██████████| 391/391 [00:00<00:00, 647.50it/s]\n"
     ]
    },
    {
     "name": "stdout",
     "output_type": "stream",
     "text": [
      "Evaluating on training set...\n",
      "Evaluating on test set...\n",
      "Epoch 30 Summary:\n",
      "  Train Loss: 0.0463, Train Accuracy: 0.9788\n",
      "  Test Loss: 2.1276, Test Accuracy: 0.7256\n",
      "  Test Precision: 0.7243, Test Recall: 0.7224, Test F1: 0.7123\n",
      "\n",
      "Epoch 31/50 - Learning Rate: 0.000250\n"
     ]
    },
    {
     "name": "stderr",
     "output_type": "stream",
     "text": [
      "Training: 100%|██████████| 391/391 [00:00<00:00, 644.71it/s]\n"
     ]
    },
    {
     "name": "stdout",
     "output_type": "stream",
     "text": [
      "Evaluating on training set...\n",
      "Evaluating on test set...\n",
      "Epoch 31 Summary:\n",
      "  Train Loss: 0.0419, Train Accuracy: 0.9820\n",
      "  Test Loss: 2.2639, Test Accuracy: 0.7303\n",
      "  Test Precision: 0.7291, Test Recall: 0.7248, Test F1: 0.7170\n",
      "\n",
      "Epoch 32/50 - Learning Rate: 0.000250\n"
     ]
    },
    {
     "name": "stderr",
     "output_type": "stream",
     "text": [
      "Training: 100%|██████████| 391/391 [00:00<00:00, 645.24it/s]\n"
     ]
    },
    {
     "name": "stdout",
     "output_type": "stream",
     "text": [
      "Evaluating on training set...\n",
      "Evaluating on test set...\n",
      "Epoch 32 Summary:\n",
      "  Train Loss: 0.0420, Train Accuracy: 0.9858\n",
      "  Test Loss: 2.1611, Test Accuracy: 0.7311\n",
      "  Test Precision: 0.7300, Test Recall: 0.7257, Test F1: 0.7199\n",
      "\n",
      "Epoch 33/50 - Learning Rate: 0.000250\n"
     ]
    },
    {
     "name": "stderr",
     "output_type": "stream",
     "text": [
      "Training: 100%|██████████| 391/391 [00:00<00:00, 642.77it/s]\n"
     ]
    },
    {
     "name": "stdout",
     "output_type": "stream",
     "text": [
      "Evaluating on training set...\n",
      "Evaluating on test set...\n",
      "Epoch 33 Summary:\n",
      "  Train Loss: 0.0377, Train Accuracy: 0.9828\n",
      "  Test Loss: 2.1922, Test Accuracy: 0.7337\n",
      "  Test Precision: 0.7300, Test Recall: 0.7291, Test F1: 0.7202\n",
      "\n",
      "Epoch 34/50 - Learning Rate: 0.000250\n"
     ]
    },
    {
     "name": "stderr",
     "output_type": "stream",
     "text": [
      "Training: 100%|██████████| 391/391 [00:00<00:00, 603.97it/s]\n"
     ]
    },
    {
     "name": "stdout",
     "output_type": "stream",
     "text": [
      "Evaluating on training set...\n",
      "Evaluating on test set...\n",
      "Epoch 34 Summary:\n",
      "  Train Loss: 0.0406, Train Accuracy: 0.9754\n",
      "  Test Loss: 2.3459, Test Accuracy: 0.7283\n",
      "  Test Precision: 0.7228, Test Recall: 0.7226, Test F1: 0.7107\n",
      "\n",
      "Epoch 35/50 - Learning Rate: 0.000250\n"
     ]
    },
    {
     "name": "stderr",
     "output_type": "stream",
     "text": [
      "Training: 100%|██████████| 391/391 [00:00<00:00, 649.32it/s]\n"
     ]
    },
    {
     "name": "stdout",
     "output_type": "stream",
     "text": [
      "Evaluating on training set...\n",
      "Evaluating on test set...\n",
      "Epoch 35 Summary:\n",
      "  Train Loss: 0.0397, Train Accuracy: 0.9844\n",
      "  Test Loss: 2.2643, Test Accuracy: 0.7334\n",
      "  Test Precision: 0.7315, Test Recall: 0.7291, Test F1: 0.7218\n",
      "\n",
      "Epoch 36/50 - Learning Rate: 0.000250\n"
     ]
    },
    {
     "name": "stderr",
     "output_type": "stream",
     "text": [
      "Training: 100%|██████████| 391/391 [00:00<00:00, 621.85it/s]\n"
     ]
    },
    {
     "name": "stdout",
     "output_type": "stream",
     "text": [
      "Evaluating on training set...\n",
      "Evaluating on test set...\n",
      "Epoch 36 Summary:\n",
      "  Train Loss: 0.0424, Train Accuracy: 0.9854\n",
      "  Test Loss: 2.3275, Test Accuracy: 0.7283\n",
      "  Test Precision: 0.7270, Test Recall: 0.7241, Test F1: 0.7166\n",
      "\n",
      "Epoch 37/50 - Learning Rate: 0.000250\n"
     ]
    },
    {
     "name": "stderr",
     "output_type": "stream",
     "text": [
      "Training: 100%|██████████| 391/391 [00:00<00:00, 642.97it/s]\n"
     ]
    },
    {
     "name": "stdout",
     "output_type": "stream",
     "text": [
      "Evaluating on training set...\n",
      "Evaluating on test set...\n",
      "Epoch 37 Summary:\n",
      "  Train Loss: 0.0465, Train Accuracy: 0.9792\n",
      "  Test Loss: 2.3858, Test Accuracy: 0.7202\n",
      "  Test Precision: 0.7193, Test Recall: 0.7138, Test F1: 0.7052\n",
      "\n",
      "Epoch 38/50 - Learning Rate: 0.000250\n"
     ]
    },
    {
     "name": "stderr",
     "output_type": "stream",
     "text": [
      "Training: 100%|██████████| 391/391 [00:00<00:00, 615.78it/s]\n"
     ]
    },
    {
     "name": "stdout",
     "output_type": "stream",
     "text": [
      "Evaluating on training set...\n",
      "Evaluating on test set...\n",
      "Epoch 38 Summary:\n",
      "  Train Loss: 0.0372, Train Accuracy: 0.9884\n",
      "  Test Loss: 2.2918, Test Accuracy: 0.7359\n",
      "  Test Precision: 0.7357, Test Recall: 0.7317, Test F1: 0.7249\n",
      "\n",
      "Epoch 39/50 - Learning Rate: 0.000250\n"
     ]
    },
    {
     "name": "stderr",
     "output_type": "stream",
     "text": [
      "Training: 100%|██████████| 391/391 [00:00<00:00, 643.07it/s]\n"
     ]
    },
    {
     "name": "stdout",
     "output_type": "stream",
     "text": [
      "Evaluating on training set...\n",
      "Evaluating on test set...\n",
      "Epoch 39 Summary:\n",
      "  Train Loss: 0.0326, Train Accuracy: 0.9858\n",
      "  Test Loss: 2.5619, Test Accuracy: 0.7233\n",
      "  Test Precision: 0.7228, Test Recall: 0.7173, Test F1: 0.7106\n",
      "\n",
      "Epoch 40/50 - Learning Rate: 0.000250\n"
     ]
    },
    {
     "name": "stderr",
     "output_type": "stream",
     "text": [
      "Training: 100%|██████████| 391/391 [00:00<00:00, 619.70it/s]\n"
     ]
    },
    {
     "name": "stdout",
     "output_type": "stream",
     "text": [
      "Evaluating on training set...\n",
      "Evaluating on test set...\n",
      "Epoch 40 Summary:\n",
      "  Train Loss: 0.0327, Train Accuracy: 0.9834\n",
      "  Test Loss: 2.4532, Test Accuracy: 0.7272\n",
      "  Test Precision: 0.7292, Test Recall: 0.7226, Test F1: 0.7171\n",
      "\n",
      "Epoch 41/50 - Learning Rate: 0.000250\n"
     ]
    },
    {
     "name": "stderr",
     "output_type": "stream",
     "text": [
      "Training: 100%|██████████| 391/391 [00:00<00:00, 647.07it/s]\n"
     ]
    },
    {
     "name": "stdout",
     "output_type": "stream",
     "text": [
      "Evaluating on training set...\n",
      "Evaluating on test set...\n",
      "Epoch 41 Summary:\n",
      "  Train Loss: 0.0321, Train Accuracy: 0.9890\n",
      "  Test Loss: 2.5360, Test Accuracy: 0.7315\n",
      "  Test Precision: 0.7297, Test Recall: 0.7270, Test F1: 0.7199\n",
      "\n",
      "Epoch 42/50 - Learning Rate: 0.000250\n"
     ]
    },
    {
     "name": "stderr",
     "output_type": "stream",
     "text": [
      "Training: 100%|██████████| 391/391 [00:00<00:00, 621.49it/s]\n"
     ]
    },
    {
     "name": "stdout",
     "output_type": "stream",
     "text": [
      "Evaluating on training set...\n",
      "Evaluating on test set...\n",
      "Epoch 42 Summary:\n",
      "  Train Loss: 0.0337, Train Accuracy: 0.9906\n",
      "  Test Loss: 2.4496, Test Accuracy: 0.7309\n",
      "  Test Precision: 0.7264, Test Recall: 0.7255, Test F1: 0.7170\n",
      "\n",
      "Epoch 43/50 - Learning Rate: 0.000250\n"
     ]
    },
    {
     "name": "stderr",
     "output_type": "stream",
     "text": [
      "Training: 100%|██████████| 391/391 [00:00<00:00, 606.57it/s]\n"
     ]
    },
    {
     "name": "stdout",
     "output_type": "stream",
     "text": [
      "Evaluating on training set...\n",
      "Evaluating on test set...\n",
      "Epoch 43 Summary:\n",
      "  Train Loss: 0.0383, Train Accuracy: 0.9882\n",
      "  Test Loss: 2.5235, Test Accuracy: 0.7332\n",
      "  Test Precision: 0.7291, Test Recall: 0.7299, Test F1: 0.7200\n",
      "\n",
      "Epoch 44/50 - Learning Rate: 0.000250\n"
     ]
    },
    {
     "name": "stderr",
     "output_type": "stream",
     "text": [
      "Training: 100%|██████████| 391/391 [00:00<00:00, 622.86it/s]\n"
     ]
    },
    {
     "name": "stdout",
     "output_type": "stream",
     "text": [
      "Evaluating on training set...\n",
      "Evaluating on test set...\n",
      "Epoch 44 Summary:\n",
      "  Train Loss: 0.0350, Train Accuracy: 0.9906\n",
      "  Test Loss: 2.5129, Test Accuracy: 0.7337\n",
      "  Test Precision: 0.7333, Test Recall: 0.7299, Test F1: 0.7224\n",
      "\n",
      "Epoch 45/50 - Learning Rate: 0.000125\n"
     ]
    },
    {
     "name": "stderr",
     "output_type": "stream",
     "text": [
      "Training: 100%|██████████| 391/391 [00:00<00:00, 635.74it/s]\n"
     ]
    },
    {
     "name": "stdout",
     "output_type": "stream",
     "text": [
      "Evaluating on training set...\n",
      "Evaluating on test set...\n",
      "✅ Model saved at best_cifar10_model.pkl\n",
      "✅ New best model saved (F1: 0.7265)\n",
      "Epoch 45 Summary:\n",
      "  Train Loss: 0.0376, Train Accuracy: 0.9898\n",
      "  Test Loss: 2.3795, Test Accuracy: 0.7382\n",
      "  Test Precision: 0.7359, Test Recall: 0.7335, Test F1: 0.7265\n",
      "\n",
      "Epoch 46/50 - Learning Rate: 0.000125\n"
     ]
    },
    {
     "name": "stderr",
     "output_type": "stream",
     "text": [
      "Training: 100%|██████████| 391/391 [00:00<00:00, 579.41it/s]\n"
     ]
    },
    {
     "name": "stdout",
     "output_type": "stream",
     "text": [
      "Evaluating on training set...\n",
      "Evaluating on test set...\n",
      "Epoch 46 Summary:\n",
      "  Train Loss: 0.0379, Train Accuracy: 0.9890\n",
      "  Test Loss: 2.5093, Test Accuracy: 0.7337\n",
      "  Test Precision: 0.7343, Test Recall: 0.7272, Test F1: 0.7211\n",
      "\n",
      "Epoch 47/50 - Learning Rate: 0.000125\n"
     ]
    },
    {
     "name": "stderr",
     "output_type": "stream",
     "text": [
      "Training: 100%|██████████| 391/391 [00:00<00:00, 651.34it/s]\n"
     ]
    },
    {
     "name": "stdout",
     "output_type": "stream",
     "text": [
      "Evaluating on training set...\n",
      "Evaluating on test set...\n",
      "Epoch 47 Summary:\n",
      "  Train Loss: 0.0290, Train Accuracy: 0.9882\n",
      "  Test Loss: 2.6032, Test Accuracy: 0.7314\n",
      "  Test Precision: 0.7323, Test Recall: 0.7270, Test F1: 0.7212\n",
      "\n",
      "Epoch 48/50 - Learning Rate: 0.000125\n"
     ]
    },
    {
     "name": "stderr",
     "output_type": "stream",
     "text": [
      "Training: 100%|██████████| 391/391 [00:00<00:00, 617.16it/s]\n"
     ]
    },
    {
     "name": "stdout",
     "output_type": "stream",
     "text": [
      "Evaluating on training set...\n",
      "Evaluating on test set...\n",
      "Epoch 48 Summary:\n",
      "  Train Loss: 0.0311, Train Accuracy: 0.9874\n",
      "  Test Loss: 2.7014, Test Accuracy: 0.7193\n",
      "  Test Precision: 0.7262, Test Recall: 0.7145, Test F1: 0.7102\n",
      "\n",
      "Epoch 49/50 - Learning Rate: 0.000125\n"
     ]
    },
    {
     "name": "stderr",
     "output_type": "stream",
     "text": [
      "Training: 100%|██████████| 391/391 [00:00<00:00, 633.65it/s]\n"
     ]
    },
    {
     "name": "stdout",
     "output_type": "stream",
     "text": [
      "Evaluating on training set...\n",
      "Evaluating on test set...\n",
      "Epoch 49 Summary:\n",
      "  Train Loss: 0.0341, Train Accuracy: 0.9922\n",
      "  Test Loss: 2.5340, Test Accuracy: 0.7369\n",
      "  Test Precision: 0.7345, Test Recall: 0.7330, Test F1: 0.7254\n",
      "\n",
      "Epoch 50/50 - Learning Rate: 0.000125\n"
     ]
    },
    {
     "name": "stderr",
     "output_type": "stream",
     "text": [
      "Training: 100%|██████████| 391/391 [00:00<00:00, 618.80it/s]\n"
     ]
    },
    {
     "name": "stdout",
     "output_type": "stream",
     "text": [
      "Evaluating on training set...\n",
      "Evaluating on test set...\n",
      "Epoch 50 Summary:\n",
      "  Train Loss: 0.0316, Train Accuracy: 0.9850\n",
      "  Test Loss: 2.6564, Test Accuracy: 0.7296\n",
      "  Test Precision: 0.7242, Test Recall: 0.7229, Test F1: 0.7142\n",
      "\n",
      "\n",
      "Plotting training curves...\n"
     ]
    },
    {
     "data": {
      "image/png": "[encoded data removed]",
      "text/plain": [
       "<Figure size 1000x400 with 2 Axes>"
      ]
     },
     "metadata": {},
     "output_type": "display_data"
    },
    {
     "name": "stdout",
     "output_type": "stream",
     "text": [
      "\n",
      "Loading best model for final evaluation...\n",
      "✅ Model loaded from best_cifar10_model.pkl\n",
      "\n",
      "🏆 FINAL EVALUATION (Best Model):\n",
      "  Test Loss: 2.3795\n",
      "  Test Accuracy: 0.7382\n",
      "  Test Precision: 0.7359\n",
      "  Test Recall: 0.7335\n",
      "  Test F1: 0.7265\n"
     ]
    }
   ],
   "source": [
    "main()"
   ]
  },
  {
   "cell_type": "code",
   "execution_count": null,
   "id": "5ecdd16c-9342-4245-a87b-f0909f212c4e",
   "metadata": {},
   "outputs": [],
   "source": []
  }
 ],
 "metadata": {
  "kernelspec": {
   "display_name": "Python 3 (ipykernel)",
   "language": "python",
   "name": "python3"
  },
  "language_info": {
   "codemirror_mode": {
    "name": "ipython",
    "version": 3
   },
   "file_extension": ".py",
   "mimetype": "text/x-python",
   "name": "python",
   "nbconvert_exporter": "python",
   "pygments_lexer": "ipython3",
   "version": "3.11.9"
  }
 },
 "nbformat": 4,
 "nbformat_minor": 5
}
